{
  "cells": [
    {
      "cell_type": "code",
      "execution_count": 1,
      "metadata": {
        "colab": {
          "base_uri": "https://localhost:8080/"
        },
        "id": "dl01FSkUcxA5",
        "outputId": "8650f23c-f83b-4df6-ade6-d621229c1ff5"
      },
      "outputs": [
        {
          "output_type": "stream",
          "name": "stdout",
          "text": [
            "Requirement already satisfied: spuco in /usr/local/lib/python3.10/dist-packages (2.0.3)\n",
            "Requirement already satisfied: matplotlib>=3.7.1 in /usr/local/lib/python3.10/dist-packages (from spuco) (3.8.0)\n",
            "Requirement already satisfied: numpy>=1.23.5 in /usr/local/lib/python3.10/dist-packages (from spuco) (1.26.4)\n",
            "Requirement already satisfied: setuptools>=61.0 in /usr/local/lib/python3.10/dist-packages (from spuco) (75.1.0)\n",
            "Requirement already satisfied: torch>=2.0.0 in /usr/local/lib/python3.10/dist-packages (from spuco) (2.5.1+cu121)\n",
            "Requirement already satisfied: torchvision>=0.15.1 in /usr/local/lib/python3.10/dist-packages (from spuco) (0.20.1+cu121)\n",
            "Requirement already satisfied: tqdm>=4.65.0 in /usr/local/lib/python3.10/dist-packages (from spuco) (4.66.6)\n",
            "Requirement already satisfied: scikit-learn>=0.20.0 in /usr/local/lib/python3.10/dist-packages (from spuco) (1.5.2)\n",
            "Requirement already satisfied: wilds>=2.0.0 in /usr/local/lib/python3.10/dist-packages (from spuco) (2.0.0)\n",
            "Requirement already satisfied: transformers>=3.5.0 in /usr/local/lib/python3.10/dist-packages (from spuco) (4.46.3)\n",
            "Requirement already satisfied: umap-learn>=0.5.5 in /usr/local/lib/python3.10/dist-packages (from spuco) (0.5.7)\n",
            "Requirement already satisfied: grad-cam>=1.5.0 in /usr/local/lib/python3.10/dist-packages (from spuco) (1.5.4)\n",
            "Requirement already satisfied: Pillow in /usr/local/lib/python3.10/dist-packages (from grad-cam>=1.5.0->spuco) (11.0.0)\n",
            "Requirement already satisfied: ttach in /usr/local/lib/python3.10/dist-packages (from grad-cam>=1.5.0->spuco) (0.0.3)\n",
            "Requirement already satisfied: opencv-python in /usr/local/lib/python3.10/dist-packages (from grad-cam>=1.5.0->spuco) (4.10.0.84)\n",
            "Requirement already satisfied: contourpy>=1.0.1 in /usr/local/lib/python3.10/dist-packages (from matplotlib>=3.7.1->spuco) (1.3.1)\n",
            "Requirement already satisfied: cycler>=0.10 in /usr/local/lib/python3.10/dist-packages (from matplotlib>=3.7.1->spuco) (0.12.1)\n",
            "Requirement already satisfied: fonttools>=4.22.0 in /usr/local/lib/python3.10/dist-packages (from matplotlib>=3.7.1->spuco) (4.55.1)\n",
            "Requirement already satisfied: kiwisolver>=1.0.1 in /usr/local/lib/python3.10/dist-packages (from matplotlib>=3.7.1->spuco) (1.4.7)\n",
            "Requirement already satisfied: packaging>=20.0 in /usr/local/lib/python3.10/dist-packages (from matplotlib>=3.7.1->spuco) (24.2)\n",
            "Requirement already satisfied: pyparsing>=2.3.1 in /usr/local/lib/python3.10/dist-packages (from matplotlib>=3.7.1->spuco) (3.2.0)\n",
            "Requirement already satisfied: python-dateutil>=2.7 in /usr/local/lib/python3.10/dist-packages (from matplotlib>=3.7.1->spuco) (2.8.2)\n",
            "Requirement already satisfied: scipy>=1.6.0 in /usr/local/lib/python3.10/dist-packages (from scikit-learn>=0.20.0->spuco) (1.13.1)\n",
            "Requirement already satisfied: joblib>=1.2.0 in /usr/local/lib/python3.10/dist-packages (from scikit-learn>=0.20.0->spuco) (1.4.2)\n",
            "Requirement already satisfied: threadpoolctl>=3.1.0 in /usr/local/lib/python3.10/dist-packages (from scikit-learn>=0.20.0->spuco) (3.5.0)\n",
            "Requirement already satisfied: filelock in /usr/local/lib/python3.10/dist-packages (from torch>=2.0.0->spuco) (3.16.1)\n",
            "Requirement already satisfied: typing-extensions>=4.8.0 in /usr/local/lib/python3.10/dist-packages (from torch>=2.0.0->spuco) (4.12.2)\n",
            "Requirement already satisfied: networkx in /usr/local/lib/python3.10/dist-packages (from torch>=2.0.0->spuco) (3.4.2)\n",
            "Requirement already satisfied: jinja2 in /usr/local/lib/python3.10/dist-packages (from torch>=2.0.0->spuco) (3.1.4)\n",
            "Requirement already satisfied: fsspec in /usr/local/lib/python3.10/dist-packages (from torch>=2.0.0->spuco) (2024.10.0)\n",
            "Requirement already satisfied: sympy==1.13.1 in /usr/local/lib/python3.10/dist-packages (from torch>=2.0.0->spuco) (1.13.1)\n",
            "Requirement already satisfied: mpmath<1.4,>=1.1.0 in /usr/local/lib/python3.10/dist-packages (from sympy==1.13.1->torch>=2.0.0->spuco) (1.3.0)\n",
            "Requirement already satisfied: huggingface-hub<1.0,>=0.23.2 in /usr/local/lib/python3.10/dist-packages (from transformers>=3.5.0->spuco) (0.26.3)\n",
            "Requirement already satisfied: pyyaml>=5.1 in /usr/local/lib/python3.10/dist-packages (from transformers>=3.5.0->spuco) (6.0.2)\n",
            "Requirement already satisfied: regex!=2019.12.17 in /usr/local/lib/python3.10/dist-packages (from transformers>=3.5.0->spuco) (2024.9.11)\n",
            "Requirement already satisfied: requests in /usr/local/lib/python3.10/dist-packages (from transformers>=3.5.0->spuco) (2.32.3)\n",
            "Requirement already satisfied: tokenizers<0.21,>=0.20 in /usr/local/lib/python3.10/dist-packages (from transformers>=3.5.0->spuco) (0.20.3)\n",
            "Requirement already satisfied: safetensors>=0.4.1 in /usr/local/lib/python3.10/dist-packages (from transformers>=3.5.0->spuco) (0.4.5)\n",
            "Requirement already satisfied: numba>=0.51.2 in /usr/local/lib/python3.10/dist-packages (from umap-learn>=0.5.5->spuco) (0.60.0)\n",
            "Requirement already satisfied: pynndescent>=0.5 in /usr/local/lib/python3.10/dist-packages (from umap-learn>=0.5.5->spuco) (0.5.13)\n",
            "Requirement already satisfied: ogb>=1.2.6 in /usr/local/lib/python3.10/dist-packages (from wilds>=2.0.0->spuco) (1.3.6)\n",
            "Requirement already satisfied: outdated>=0.2.0 in /usr/local/lib/python3.10/dist-packages (from wilds>=2.0.0->spuco) (0.2.2)\n",
            "Requirement already satisfied: pandas>=1.1.0 in /usr/local/lib/python3.10/dist-packages (from wilds>=2.0.0->spuco) (2.2.2)\n",
            "Requirement already satisfied: pytz>=2020.4 in /usr/local/lib/python3.10/dist-packages (from wilds>=2.0.0->spuco) (2024.2)\n",
            "Requirement already satisfied: llvmlite<0.44,>=0.43.0dev0 in /usr/local/lib/python3.10/dist-packages (from numba>=0.51.2->umap-learn>=0.5.5->spuco) (0.43.0)\n",
            "Requirement already satisfied: six>=1.12.0 in /usr/local/lib/python3.10/dist-packages (from ogb>=1.2.6->wilds>=2.0.0->spuco) (1.16.0)\n",
            "Requirement already satisfied: urllib3>=1.24.0 in /usr/local/lib/python3.10/dist-packages (from ogb>=1.2.6->wilds>=2.0.0->spuco) (2.2.3)\n",
            "Requirement already satisfied: littleutils in /usr/local/lib/python3.10/dist-packages (from outdated>=0.2.0->wilds>=2.0.0->spuco) (0.2.4)\n",
            "Requirement already satisfied: tzdata>=2022.7 in /usr/local/lib/python3.10/dist-packages (from pandas>=1.1.0->wilds>=2.0.0->spuco) (2024.2)\n",
            "Requirement already satisfied: MarkupSafe>=2.0 in /usr/local/lib/python3.10/dist-packages (from jinja2->torch>=2.0.0->spuco) (3.0.2)\n",
            "Requirement already satisfied: charset-normalizer<4,>=2 in /usr/local/lib/python3.10/dist-packages (from requests->transformers>=3.5.0->spuco) (3.4.0)\n",
            "Requirement already satisfied: idna<4,>=2.5 in /usr/local/lib/python3.10/dist-packages (from requests->transformers>=3.5.0->spuco) (3.10)\n",
            "Requirement already satisfied: certifi>=2017.4.17 in /usr/local/lib/python3.10/dist-packages (from requests->transformers>=3.5.0->spuco) (2024.8.30)\n"
          ]
        }
      ],
      "source": [
        "%pip install spuco --upgrade"
      ]
    },
    {
      "cell_type": "code",
      "execution_count": 2,
      "metadata": {
        "id": "WN42Jk5ncxA5"
      },
      "outputs": [],
      "source": [
        "import torch\n",
        "\n",
        "device = torch.device(\"cuda\")"
      ]
    },
    {
      "cell_type": "code",
      "execution_count": 3,
      "metadata": {
        "id": "Nd85cHgKcxA5"
      },
      "outputs": [],
      "source": [
        "from spuco.utils import set_seed\n",
        "\n",
        "set_seed(66)"
      ]
    },
    {
      "cell_type": "code",
      "execution_count": 4,
      "metadata": {
        "id": "yqnSGKIOcxA5"
      },
      "outputs": [],
      "source": [
        "from spuco.datasets import SpuCoMNIST, SpuriousFeatureDifficulty\n",
        "\n",
        "classes = [[0, 1], [2, 3], [4, 5], [6, 7], [8, 9]]\n",
        "difficulty = SpuriousFeatureDifficulty.MAGNITUDE_LARGE\n",
        "\n",
        "valset = SpuCoMNIST(\n",
        "    root=\"/data/mnist/\",\n",
        "    spurious_feature_difficulty=difficulty,\n",
        "    classes=classes,\n",
        "    split=\"val\"\n",
        ")\n",
        "valset.initialize()"
      ]
    },
    {
      "cell_type": "code",
      "execution_count": 5,
      "metadata": {
        "id": "KJ9Z2-XocxA6"
      },
      "outputs": [],
      "source": [
        "from spuco.robust_train import ERM\n",
        "from spuco.datasets import SpuCoMNIST, SpuriousFeatureDifficulty\n",
        "import torchvision.transforms as T\n",
        "\n",
        "classes = [[0, 1], [2, 3], [4, 5], [6, 7], [8, 9]]\n",
        "difficulty = SpuriousFeatureDifficulty.MAGNITUDE_LARGE\n",
        "\n",
        "trainset = SpuCoMNIST(\n",
        "    root=\"/data/mnist/\",\n",
        "    spurious_feature_difficulty=difficulty,\n",
        "    spurious_correlation_strength=0.995,\n",
        "    classes=classes,\n",
        "    split=\"train\"\n",
        ")\n",
        "trainset.initialize()\n",
        "\n",
        "testset = SpuCoMNIST(\n",
        "    root=\"/data/mnist/\",\n",
        "    spurious_feature_difficulty=difficulty,\n",
        "    classes=classes,\n",
        "    split=\"test\"\n",
        ")\n",
        "testset.initialize()"
      ]
    },
    {
      "cell_type": "code",
      "execution_count": 6,
      "metadata": {
        "colab": {
          "base_uri": "https://localhost:8080/"
        },
        "id": "3ycKbSwccxA6",
        "outputId": "5e2aedbe-75ab-44f9-d9a9-fe933d3d6e3c"
      },
      "outputs": [
        {
          "output_type": "stream",
          "name": "stdout",
          "text": [
            "11996\n",
            "48004\n",
            "10000\n"
          ]
        }
      ],
      "source": [
        "print(len(valset))\n",
        "print(len(trainset))\n",
        "print(len(testset))"
      ]
    },
    {
      "cell_type": "code",
      "execution_count": 7,
      "metadata": {
        "colab": {
          "base_uri": "https://localhost:8080/",
          "height": 45
        },
        "id": "ilKOYYs7cxA6",
        "outputId": "80d80c68-8426-4335-a43e-66097efc2f69"
      },
      "outputs": [
        {
          "output_type": "execute_result",
          "data": {
            "text/plain": [
              "<PIL.Image.Image image mode=RGB size=28x28>"
            ],
            "image/png": "[encoded data removed]",
            "image/jpeg": "[encoded data removed]"
          },
          "metadata": {},
          "execution_count": 7
        }
      ],
      "source": [
        "T.ToPILImage()(trainset[1000][0]).resize((28,28))"
      ]
    },
    {
      "cell_type": "code",
      "execution_count": 8,
      "metadata": {
        "id": "lVFEAV4XcxA6"
      },
      "outputs": [],
      "source": [
        "from spuco.models import model_factory\n",
        "\n",
        "model = model_factory(\"lenet\", trainset[0][0].shape, trainset.num_classes).to(device)"
      ]
    },
    {
      "cell_type": "code",
      "execution_count": 9,
      "metadata": {
        "colab": {
          "base_uri": "https://localhost:8080/"
        },
        "id": "HO7t1IyVcxA6",
        "outputId": "796822a8-b32b-4011-f007-f86bb8a265e2"
      },
      "outputs": [
        {
          "output_type": "stream",
          "name": "stderr",
          "text": [
            "/usr/local/lib/python3.10/dist-packages/torch/utils/data/dataloader.py:617: UserWarning: This DataLoader will create 4 worker processes in total. Our suggested max number of worker in current system is 2, which is smaller than what this DataLoader is going to create. Please be aware that excessive worker creation might get DataLoader running slow or even freeze, lower the worker number to avoid potential slowness/freeze if necessary.\n",
            "  warnings.warn(\n"
          ]
        }
      ],
      "source": [
        "from torch.optim import SGD\n",
        "\n",
        "erm = ERM(\n",
        "    model=model,\n",
        "    num_epochs=1,\n",
        "    trainset=trainset,\n",
        "    batch_size=64,\n",
        "    optimizer=SGD(model.parameters(), lr=1e-2, momentum=0.9, nesterov=True),\n",
        "    device=device,\n",
        "    verbose=True\n",
        ")"
      ]
    },
    {
      "cell_type": "code",
      "execution_count": 10,
      "metadata": {
        "colab": {
          "base_uri": "https://localhost:8080/"
        },
        "id": "CKU4qmTNcxA6",
        "outputId": "37b592f2-b475-4a6c-d5d8-856e867fe02f"
      },
      "outputs": [
        {
          "output_type": "stream",
          "name": "stderr",
          "text": [
            "Epoch 0:   2%|▏         | 12/751 [00:00<00:40, 18.17batch/s, accuracy=23.4375%, loss=1.55]"
          ]
        },
        {
          "output_type": "stream",
          "name": "stdout",
          "text": [
            "ERM | Epoch 0 | Loss: 1.6306990385055542 | Accuracy: 14.0625%\n",
            "ERM | Epoch 0 | Loss: 1.6058167219161987 | Accuracy: 28.125%\n",
            "ERM | Epoch 0 | Loss: 1.6214951276779175 | Accuracy: 29.6875%\n",
            "ERM | Epoch 0 | Loss: 1.6130287647247314 | Accuracy: 32.8125%\n",
            "ERM | Epoch 0 | Loss: 1.608403205871582 | Accuracy: 28.125%\n",
            "ERM | Epoch 0 | Loss: 1.6043733358383179 | Accuracy: 21.875%\n",
            "ERM | Epoch 0 | Loss: 1.6019660234451294 | Accuracy: 28.125%\n",
            "ERM | Epoch 0 | Loss: 1.604992151260376 | Accuracy: 20.3125%\n",
            "ERM | Epoch 0 | Loss: 1.6078393459320068 | Accuracy: 15.625%\n",
            "ERM | Epoch 0 | Loss: 1.5977414846420288 | Accuracy: 25.0%\n",
            "ERM | Epoch 0 | Loss: 1.6048904657363892 | Accuracy: 21.875%\n",
            "ERM | Epoch 0 | Loss: 1.5965659618377686 | Accuracy: 32.8125%\n",
            "ERM | Epoch 0 | Loss: 1.5819977521896362 | Accuracy: 48.4375%\n",
            "ERM | Epoch 0 | Loss: 1.5861713886260986 | Accuracy: 34.375%\n",
            "ERM | Epoch 0 | Loss: 1.5818891525268555 | Accuracy: 31.25%\n",
            "ERM | Epoch 0 | Loss: 1.590520977973938 | Accuracy: 15.625%\n",
            "ERM | Epoch 0 | Loss: 1.584530234336853 | Accuracy: 23.4375%\n",
            "ERM | Epoch 0 | Loss: 1.572534441947937 | Accuracy: 29.6875%\n",
            "ERM | Epoch 0 | Loss: 1.5861412286758423 | Accuracy: 21.875%\n",
            "ERM | Epoch 0 | Loss: 1.566099762916565 | Accuracy: 31.25%\n",
            "ERM | Epoch 0 | Loss: 1.557539463043213 | Accuracy: 32.8125%\n",
            "ERM | Epoch 0 | Loss: 1.566055417060852 | Accuracy: 23.4375%\n",
            "ERM | Epoch 0 | Loss: 1.5629271268844604 | Accuracy: 20.3125%\n",
            "ERM | Epoch 0 | Loss: 1.542479157447815 | Accuracy: 28.125%\n"
          ]
        },
        {
          "output_type": "stream",
          "name": "stderr",
          "text": [
            "Epoch 0:   5%|▌         | 39/751 [00:01<00:12, 58.05batch/s, accuracy=98.4375%, loss=0.134]"
          ]
        },
        {
          "output_type": "stream",
          "name": "stdout",
          "text": [
            "ERM | Epoch 0 | Loss: 1.547863483428955 | Accuracy: 23.4375%\n",
            "ERM | Epoch 0 | Loss: 1.5631259679794312 | Accuracy: 15.625%\n",
            "ERM | Epoch 0 | Loss: 1.532019853591919 | Accuracy: 21.875%\n",
            "ERM | Epoch 0 | Loss: 1.5111970901489258 | Accuracy: 26.5625%\n",
            "ERM | Epoch 0 | Loss: 1.492505431175232 | Accuracy: 29.6875%\n",
            "ERM | Epoch 0 | Loss: 1.46854829788208 | Accuracy: 37.5%\n",
            "ERM | Epoch 0 | Loss: 1.4501674175262451 | Accuracy: 31.25%\n",
            "ERM | Epoch 0 | Loss: 1.4331750869750977 | Accuracy: 23.4375%\n",
            "ERM | Epoch 0 | Loss: 1.4083259105682373 | Accuracy: 15.625%\n",
            "ERM | Epoch 0 | Loss: 1.3650822639465332 | Accuracy: 25.0%\n",
            "ERM | Epoch 0 | Loss: 1.312597393989563 | Accuracy: 51.5625%\n",
            "ERM | Epoch 0 | Loss: 1.2989158630371094 | Accuracy: 50.0%\n",
            "ERM | Epoch 0 | Loss: 1.2138301134109497 | Accuracy: 65.625%\n",
            "ERM | Epoch 0 | Loss: 1.1631627082824707 | Accuracy: 70.3125%\n",
            "ERM | Epoch 0 | Loss: 1.1481550931930542 | Accuracy: 60.9375%\n",
            "ERM | Epoch 0 | Loss: 1.0139706134796143 | Accuracy: 75.0%\n",
            "ERM | Epoch 0 | Loss: 0.9856565594673157 | Accuracy: 64.0625%\n",
            "ERM | Epoch 0 | Loss: 0.8944992423057556 | Accuracy: 50.0%\n",
            "ERM | Epoch 0 | Loss: 0.7755463123321533 | Accuracy: 71.875%\n",
            "ERM | Epoch 0 | Loss: 0.7390136122703552 | Accuracy: 62.5%\n",
            "ERM | Epoch 0 | Loss: 0.6688601970672607 | Accuracy: 54.6875%\n",
            "ERM | Epoch 0 | Loss: 0.6287177205085754 | Accuracy: 90.625%\n",
            "ERM | Epoch 0 | Loss: 0.5720622539520264 | Accuracy: 92.1875%\n",
            "ERM | Epoch 0 | Loss: 0.46534213423728943 | Accuracy: 96.875%\n",
            "ERM | Epoch 0 | Loss: 0.32999688386917114 | Accuracy: 87.5%\n",
            "ERM | Epoch 0 | Loss: 0.30540794134140015 | Accuracy: 90.625%\n",
            "ERM | Epoch 0 | Loss: 0.19935469329357147 | Accuracy: 100.0%\n",
            "ERM | Epoch 0 | Loss: 0.13370288908481598 | Accuracy: 98.4375%\n"
          ]
        },
        {
          "output_type": "stream",
          "name": "stderr",
          "text": [
            "Epoch 0:   9%|▉         | 67/751 [00:01<00:07, 91.19batch/s, accuracy=100.0%, loss=0.00945]"
          ]
        },
        {
          "output_type": "stream",
          "name": "stdout",
          "text": [
            "ERM | Epoch 0 | Loss: 0.10624273121356964 | Accuracy: 96.875%\n",
            "ERM | Epoch 0 | Loss: 0.22357313334941864 | Accuracy: 98.4375%\n",
            "ERM | Epoch 0 | Loss: 0.07251749187707901 | Accuracy: 98.4375%\n",
            "ERM | Epoch 0 | Loss: 0.2648678719997406 | Accuracy: 95.3125%\n",
            "ERM | Epoch 0 | Loss: 0.011864719912409782 | Accuracy: 100.0%\n",
            "ERM | Epoch 0 | Loss: 0.8589710593223572 | Accuracy: 96.875%\n",
            "ERM | Epoch 0 | Loss: 0.02183951437473297 | Accuracy: 100.0%\n",
            "ERM | Epoch 0 | Loss: 0.010283528827130795 | Accuracy: 100.0%\n",
            "ERM | Epoch 0 | Loss: 0.10165988653898239 | Accuracy: 98.4375%\n",
            "ERM | Epoch 0 | Loss: 0.11754200607538223 | Accuracy: 98.4375%\n",
            "ERM | Epoch 0 | Loss: 0.0114514185115695 | Accuracy: 100.0%\n",
            "ERM | Epoch 0 | Loss: 0.0072333053685724735 | Accuracy: 100.0%\n",
            "ERM | Epoch 0 | Loss: 0.3113996982574463 | Accuracy: 98.4375%\n",
            "ERM | Epoch 0 | Loss: 0.00442159129306674 | Accuracy: 100.0%\n",
            "ERM | Epoch 0 | Loss: 0.23558764159679413 | Accuracy: 98.4375%\n",
            "ERM | Epoch 0 | Loss: 0.007507421541959047 | Accuracy: 100.0%\n",
            "ERM | Epoch 0 | Loss: 0.10809431970119476 | Accuracy: 98.4375%\n",
            "ERM | Epoch 0 | Loss: 0.005699047353118658 | Accuracy: 100.0%\n",
            "ERM | Epoch 0 | Loss: 0.02230801247060299 | Accuracy: 98.4375%\n",
            "ERM | Epoch 0 | Loss: 0.003347305115312338 | Accuracy: 100.0%\n",
            "ERM | Epoch 0 | Loss: 0.015860119834542274 | Accuracy: 100.0%\n",
            "ERM | Epoch 0 | Loss: 0.1883532851934433 | Accuracy: 98.4375%\n",
            "ERM | Epoch 0 | Loss: 0.0017679290613159537 | Accuracy: 100.0%\n",
            "ERM | Epoch 0 | Loss: 0.002371089067310095 | Accuracy: 100.0%\n",
            "ERM | Epoch 0 | Loss: 0.0048353299498558044 | Accuracy: 100.0%\n",
            "ERM | Epoch 0 | Loss: 0.007646471261978149 | Accuracy: 100.0%\n",
            "ERM | Epoch 0 | Loss: 0.009447726421058178 | Accuracy: 100.0%\n"
          ]
        },
        {
          "output_type": "stream",
          "name": "stderr",
          "text": [
            "Epoch 0:  12%|█▏        | 93/751 [00:01<00:06, 104.19batch/s, accuracy=95.3125%, loss=0.762]"
          ]
        },
        {
          "output_type": "stream",
          "name": "stdout",
          "text": [
            "ERM | Epoch 0 | Loss: 0.1290367841720581 | Accuracy: 98.4375%\n",
            "ERM | Epoch 0 | Loss: 0.015252405777573586 | Accuracy: 100.0%\n",
            "ERM | Epoch 0 | Loss: 0.13653713464736938 | Accuracy: 98.4375%\n",
            "ERM | Epoch 0 | Loss: 0.25165289640426636 | Accuracy: 96.875%\n",
            "ERM | Epoch 0 | Loss: 0.004432512912899256 | Accuracy: 100.0%\n",
            "ERM | Epoch 0 | Loss: 0.005227680318057537 | Accuracy: 100.0%\n",
            "ERM | Epoch 0 | Loss: 0.005215161480009556 | Accuracy: 100.0%\n",
            "ERM | Epoch 0 | Loss: 0.2312396615743637 | Accuracy: 98.4375%\n",
            "ERM | Epoch 0 | Loss: 0.13035671412944794 | Accuracy: 98.4375%\n",
            "ERM | Epoch 0 | Loss: 0.1483718901872635 | Accuracy: 98.4375%\n",
            "ERM | Epoch 0 | Loss: 0.012188445776700974 | Accuracy: 100.0%\n",
            "ERM | Epoch 0 | Loss: 0.008257276378571987 | Accuracy: 100.0%\n",
            "ERM | Epoch 0 | Loss: 0.011614424176514149 | Accuracy: 100.0%\n",
            "ERM | Epoch 0 | Loss: 0.009219164028763771 | Accuracy: 100.0%\n",
            "ERM | Epoch 0 | Loss: 0.006671741139143705 | Accuracy: 100.0%\n",
            "ERM | Epoch 0 | Loss: 0.1029198169708252 | Accuracy: 98.4375%\n",
            "ERM | Epoch 0 | Loss: 0.004996060393750668 | Accuracy: 100.0%\n",
            "ERM | Epoch 0 | Loss: 0.535548985004425 | Accuracy: 96.875%\n",
            "ERM | Epoch 0 | Loss: 0.016592904925346375 | Accuracy: 100.0%\n",
            "ERM | Epoch 0 | Loss: 0.016758814454078674 | Accuracy: 100.0%\n",
            "ERM | Epoch 0 | Loss: 0.022136982530355453 | Accuracy: 100.0%\n",
            "ERM | Epoch 0 | Loss: 0.2032223492860794 | Accuracy: 98.4375%\n",
            "ERM | Epoch 0 | Loss: 0.7617645263671875 | Accuracy: 95.3125%\n"
          ]
        },
        {
          "output_type": "stream",
          "name": "stderr",
          "text": [
            "Epoch 0:  16%|█▌        | 118/751 [00:01<00:06, 104.45batch/s, accuracy=100.0%, loss=0.00911]"
          ]
        },
        {
          "output_type": "stream",
          "name": "stdout",
          "text": [
            "ERM | Epoch 0 | Loss: 0.014307137578725815 | Accuracy: 100.0%\n",
            "ERM | Epoch 0 | Loss: 0.013972977176308632 | Accuracy: 100.0%\n",
            "ERM | Epoch 0 | Loss: 0.2818801999092102 | Accuracy: 98.4375%\n",
            "ERM | Epoch 0 | Loss: 0.049790263175964355 | Accuracy: 100.0%\n",
            "ERM | Epoch 0 | Loss: 0.018726728856563568 | Accuracy: 100.0%\n",
            "ERM | Epoch 0 | Loss: 0.017494970932602882 | Accuracy: 100.0%\n",
            "ERM | Epoch 0 | Loss: 0.016041196882724762 | Accuracy: 100.0%\n",
            "ERM | Epoch 0 | Loss: 0.02162335440516472 | Accuracy: 100.0%\n",
            "ERM | Epoch 0 | Loss: 0.01691274531185627 | Accuracy: 100.0%\n",
            "ERM | Epoch 0 | Loss: 0.01787525787949562 | Accuracy: 100.0%\n",
            "ERM | Epoch 0 | Loss: 0.01601358875632286 | Accuracy: 100.0%\n",
            "ERM | Epoch 0 | Loss: 0.014763801358640194 | Accuracy: 100.0%\n",
            "ERM | Epoch 0 | Loss: 0.012948800809681416 | Accuracy: 100.0%\n",
            "ERM | Epoch 0 | Loss: 0.07054005563259125 | Accuracy: 98.4375%\n",
            "ERM | Epoch 0 | Loss: 0.0800342857837677 | Accuracy: 98.4375%\n",
            "ERM | Epoch 0 | Loss: 0.015079344622790813 | Accuracy: 100.0%\n",
            "ERM | Epoch 0 | Loss: 0.01901986077427864 | Accuracy: 100.0%\n",
            "ERM | Epoch 0 | Loss: 0.24652522802352905 | Accuracy: 98.4375%\n",
            "ERM | Epoch 0 | Loss: 0.008416852913796902 | Accuracy: 100.0%\n",
            "ERM | Epoch 0 | Loss: 0.009098649024963379 | Accuracy: 100.0%\n",
            "ERM | Epoch 0 | Loss: 0.009113425388932228 | Accuracy: 100.0%\n"
          ]
        },
        {
          "output_type": "stream",
          "name": "stderr",
          "text": [
            "Epoch 0:  19%|█▉        | 141/751 [00:02<00:06, 93.73batch/s, accuracy=98.4375%, loss=0.108]"
          ]
        },
        {
          "output_type": "stream",
          "name": "stdout",
          "text": [
            "ERM | Epoch 0 | Loss: 0.0907788947224617 | Accuracy: 98.4375%\n",
            "ERM | Epoch 0 | Loss: 0.007676767185330391 | Accuracy: 100.0%\n",
            "ERM | Epoch 0 | Loss: 0.10638386756181717 | Accuracy: 98.4375%\n",
            "ERM | Epoch 0 | Loss: 0.006381444167345762 | Accuracy: 100.0%\n",
            "ERM | Epoch 0 | Loss: 0.005861856043338776 | Accuracy: 100.0%\n",
            "ERM | Epoch 0 | Loss: 0.006147590931504965 | Accuracy: 100.0%\n",
            "ERM | Epoch 0 | Loss: 0.006864460185170174 | Accuracy: 100.0%\n",
            "ERM | Epoch 0 | Loss: 0.005791183561086655 | Accuracy: 100.0%\n",
            "ERM | Epoch 0 | Loss: 0.0052111102268099785 | Accuracy: 100.0%\n",
            "ERM | Epoch 0 | Loss: 0.0047436789609491825 | Accuracy: 100.0%\n",
            "ERM | Epoch 0 | Loss: 0.24661090970039368 | Accuracy: 98.4375%\n",
            "ERM | Epoch 0 | Loss: 0.0034940631594508886 | Accuracy: 100.0%\n",
            "ERM | Epoch 0 | Loss: 0.004013831727206707 | Accuracy: 100.0%\n",
            "ERM | Epoch 0 | Loss: 0.0040856036357581615 | Accuracy: 100.0%\n",
            "ERM | Epoch 0 | Loss: 0.003998353611677885 | Accuracy: 100.0%\n",
            "ERM | Epoch 0 | Loss: 0.004110237117856741 | Accuracy: 100.0%\n",
            "ERM | Epoch 0 | Loss: 0.00383922946639359 | Accuracy: 100.0%\n",
            "ERM | Epoch 0 | Loss: 0.10816747695207596 | Accuracy: 98.4375%\n"
          ]
        },
        {
          "output_type": "stream",
          "name": "stderr",
          "text": [
            "Epoch 0:  20%|██        | 151/751 [00:02<00:06, 91.37batch/s, accuracy=100.0%, loss=0.00406]"
          ]
        },
        {
          "output_type": "stream",
          "name": "stdout",
          "text": [
            "ERM | Epoch 0 | Loss: 0.004207826219499111 | Accuracy: 100.0%\n",
            "ERM | Epoch 0 | Loss: 0.11413054168224335 | Accuracy: 98.4375%\n",
            "ERM | Epoch 0 | Loss: 0.004744241945445538 | Accuracy: 100.0%\n",
            "ERM | Epoch 0 | Loss: 0.0055497693829238415 | Accuracy: 100.0%\n",
            "ERM | Epoch 0 | Loss: 0.11757409572601318 | Accuracy: 98.4375%\n",
            "ERM | Epoch 0 | Loss: 0.16243499517440796 | Accuracy: 98.4375%\n",
            "ERM | Epoch 0 | Loss: 0.01236922200769186 | Accuracy: 100.0%\n",
            "ERM | Epoch 0 | Loss: 0.07352478057146072 | Accuracy: 98.4375%\n",
            "ERM | Epoch 0 | Loss: 0.02272411435842514 | Accuracy: 100.0%\n",
            "ERM | Epoch 0 | Loss: 0.3459682762622833 | Accuracy: 98.4375%\n",
            "ERM | Epoch 0 | Loss: 0.01027759537100792 | Accuracy: 100.0%\n",
            "ERM | Epoch 0 | Loss: 0.011205722577869892 | Accuracy: 100.0%\n",
            "ERM | Epoch 0 | Loss: 0.012107351794838905 | Accuracy: 100.0%\n",
            "ERM | Epoch 0 | Loss: 0.009713368490338326 | Accuracy: 100.0%\n",
            "ERM | Epoch 0 | Loss: 0.007743590511381626 | Accuracy: 100.0%\n",
            "ERM | Epoch 0 | Loss: 0.006003290880471468 | Accuracy: 100.0%\n",
            "ERM | Epoch 0 | Loss: 0.005993535276502371 | Accuracy: 100.0%\n",
            "ERM | Epoch 0 | Loss: 0.004785344935953617 | Accuracy: 100.0%\n",
            "ERM | Epoch 0 | Loss: 0.004057100974023342 | Accuracy: 100.0%\n"
          ]
        },
        {
          "output_type": "stream",
          "name": "stderr",
          "text": [
            "Epoch 0:  23%|██▎       | 171/751 [00:02<00:06, 86.42batch/s, accuracy=100.0%, loss=0.00884]"
          ]
        },
        {
          "output_type": "stream",
          "name": "stdout",
          "text": [
            "ERM | Epoch 0 | Loss: 0.09913332760334015 | Accuracy: 98.4375%\n",
            "ERM | Epoch 0 | Loss: 0.003594520967453718 | Accuracy: 100.0%\n",
            "ERM | Epoch 0 | Loss: 0.14049573242664337 | Accuracy: 96.875%\n",
            "ERM | Epoch 0 | Loss: 0.21923550963401794 | Accuracy: 98.4375%\n",
            "ERM | Epoch 0 | Loss: 0.14777779579162598 | Accuracy: 98.4375%\n",
            "ERM | Epoch 0 | Loss: 0.01793396845459938 | Accuracy: 100.0%\n",
            "ERM | Epoch 0 | Loss: 0.21433638036251068 | Accuracy: 96.875%\n",
            "ERM | Epoch 0 | Loss: 0.008542289026081562 | Accuracy: 100.0%\n",
            "ERM | Epoch 0 | Loss: 0.2777043282985687 | Accuracy: 98.4375%\n",
            "ERM | Epoch 0 | Loss: 0.0119335250928998 | Accuracy: 100.0%\n",
            "ERM | Epoch 0 | Loss: 0.010480030439794064 | Accuracy: 100.0%\n",
            "ERM | Epoch 0 | Loss: 0.012716052122414112 | Accuracy: 100.0%\n",
            "ERM | Epoch 0 | Loss: 0.01091510709375143 | Accuracy: 100.0%\n",
            "ERM | Epoch 0 | Loss: 0.00949037168174982 | Accuracy: 100.0%\n",
            "ERM | Epoch 0 | Loss: 0.009687284007668495 | Accuracy: 100.0%\n",
            "ERM | Epoch 0 | Loss: 0.008839696645736694 | Accuracy: 100.0%\n"
          ]
        },
        {
          "output_type": "stream",
          "name": "stderr",
          "text": [
            "Epoch 0:  25%|██▌       | 189/751 [00:02<00:07, 79.30batch/s, accuracy=98.4375%, loss=0.0998]"
          ]
        },
        {
          "output_type": "stream",
          "name": "stdout",
          "text": [
            "ERM | Epoch 0 | Loss: 0.1760052889585495 | Accuracy: 98.4375%\n",
            "ERM | Epoch 0 | Loss: 0.00919000431895256 | Accuracy: 100.0%\n",
            "ERM | Epoch 0 | Loss: 0.12229182571172714 | Accuracy: 98.4375%\n",
            "ERM | Epoch 0 | Loss: 0.0091604208573699 | Accuracy: 100.0%\n",
            "ERM | Epoch 0 | Loss: 0.19495274126529694 | Accuracy: 98.4375%\n",
            "ERM | Epoch 0 | Loss: 0.009261568076908588 | Accuracy: 100.0%\n",
            "ERM | Epoch 0 | Loss: 0.011761138215661049 | Accuracy: 100.0%\n",
            "ERM | Epoch 0 | Loss: 0.11531554162502289 | Accuracy: 98.4375%\n",
            "ERM | Epoch 0 | Loss: 0.10839774459600449 | Accuracy: 98.4375%\n",
            "ERM | Epoch 0 | Loss: 0.01260464545339346 | Accuracy: 100.0%\n",
            "ERM | Epoch 0 | Loss: 0.012513035908341408 | Accuracy: 100.0%\n",
            "ERM | Epoch 0 | Loss: 0.011640163138508797 | Accuracy: 100.0%\n",
            "ERM | Epoch 0 | Loss: 0.10133328288793564 | Accuracy: 98.4375%\n",
            "ERM | Epoch 0 | Loss: 0.19356392323970795 | Accuracy: 98.4375%\n",
            "ERM | Epoch 0 | Loss: 0.09982205927371979 | Accuracy: 98.4375%\n"
          ]
        },
        {
          "output_type": "stream",
          "name": "stderr",
          "text": [
            "Epoch 0:  28%|██▊       | 207/751 [00:02<00:06, 79.02batch/s, accuracy=100.0%, loss=0.00434]"
          ]
        },
        {
          "output_type": "stream",
          "name": "stdout",
          "text": [
            "ERM | Epoch 0 | Loss: 0.009987656958401203 | Accuracy: 100.0%\n",
            "ERM | Epoch 0 | Loss: 0.010974778793752193 | Accuracy: 100.0%\n",
            "ERM | Epoch 0 | Loss: 0.011088878847658634 | Accuracy: 100.0%\n",
            "ERM | Epoch 0 | Loss: 0.16539211571216583 | Accuracy: 98.4375%\n",
            "ERM | Epoch 0 | Loss: 0.010268967598676682 | Accuracy: 100.0%\n",
            "ERM | Epoch 0 | Loss: 0.0094615388661623 | Accuracy: 100.0%\n",
            "ERM | Epoch 0 | Loss: 0.009359197691082954 | Accuracy: 100.0%\n",
            "ERM | Epoch 0 | Loss: 0.009082737378776073 | Accuracy: 100.0%\n",
            "ERM | Epoch 0 | Loss: 0.008304096758365631 | Accuracy: 100.0%\n",
            "ERM | Epoch 0 | Loss: 0.00943030696362257 | Accuracy: 100.0%\n",
            "ERM | Epoch 0 | Loss: 0.0063870991580188274 | Accuracy: 100.0%\n",
            "ERM | Epoch 0 | Loss: 0.006581970490515232 | Accuracy: 100.0%\n",
            "ERM | Epoch 0 | Loss: 0.005455488339066505 | Accuracy: 100.0%\n",
            "ERM | Epoch 0 | Loss: 0.00512401619926095 | Accuracy: 100.0%\n",
            "ERM | Epoch 0 | Loss: 0.004761669784784317 | Accuracy: 100.0%\n",
            "ERM | Epoch 0 | Loss: 0.00434465566650033 | Accuracy: 100.0%\n"
          ]
        },
        {
          "output_type": "stream",
          "name": "stderr",
          "text": [
            "Epoch 0:  30%|██▉       | 225/751 [00:03<00:06, 82.37batch/s, accuracy=100.0%, loss=0.00215]"
          ]
        },
        {
          "output_type": "stream",
          "name": "stdout",
          "text": [
            "ERM | Epoch 0 | Loss: 0.003732101060450077 | Accuracy: 100.0%\n",
            "ERM | Epoch 0 | Loss: 0.0033294877503067255 | Accuracy: 100.0%\n",
            "ERM | Epoch 0 | Loss: 0.003065095515921712 | Accuracy: 100.0%\n",
            "ERM | Epoch 0 | Loss: 0.003143544076010585 | Accuracy: 100.0%\n",
            "ERM | Epoch 0 | Loss: 0.11500801891088486 | Accuracy: 98.4375%\n",
            "ERM | Epoch 0 | Loss: 0.0032838862389326096 | Accuracy: 100.0%\n",
            "ERM | Epoch 0 | Loss: 0.0073192790150642395 | Accuracy: 100.0%\n",
            "ERM | Epoch 0 | Loss: 0.10665366798639297 | Accuracy: 98.4375%\n",
            "ERM | Epoch 0 | Loss: 0.0051472182385623455 | Accuracy: 100.0%\n",
            "ERM | Epoch 0 | Loss: 0.0050406320951879025 | Accuracy: 100.0%\n",
            "ERM | Epoch 0 | Loss: 0.003953063394874334 | Accuracy: 100.0%\n",
            "ERM | Epoch 0 | Loss: 0.0031599837820976973 | Accuracy: 100.0%\n",
            "ERM | Epoch 0 | Loss: 0.002962517086416483 | Accuracy: 100.0%\n",
            "ERM | Epoch 0 | Loss: 0.0033048756886273623 | Accuracy: 100.0%\n",
            "ERM | Epoch 0 | Loss: 0.0035151345655322075 | Accuracy: 100.0%\n",
            "ERM | Epoch 0 | Loss: 0.002433542860671878 | Accuracy: 100.0%\n",
            "ERM | Epoch 0 | Loss: 0.0022934467997401953 | Accuracy: 100.0%\n",
            "ERM | Epoch 0 | Loss: 0.0021533023100346327 | Accuracy: 100.0%\n"
          ]
        },
        {
          "output_type": "stream",
          "name": "stderr",
          "text": [
            "Epoch 0:  33%|███▎      | 245/751 [00:03<00:05, 88.90batch/s, accuracy=100.0%, loss=0.00507]"
          ]
        },
        {
          "output_type": "stream",
          "name": "stdout",
          "text": [
            "ERM | Epoch 0 | Loss: 0.17016227543354034 | Accuracy: 98.4375%\n",
            "ERM | Epoch 0 | Loss: 0.1077347844839096 | Accuracy: 98.4375%\n",
            "ERM | Epoch 0 | Loss: 0.002700638258829713 | Accuracy: 100.0%\n",
            "ERM | Epoch 0 | Loss: 0.002488828497007489 | Accuracy: 100.0%\n",
            "ERM | Epoch 0 | Loss: 0.0036931317299604416 | Accuracy: 100.0%\n",
            "ERM | Epoch 0 | Loss: 0.16641296446323395 | Accuracy: 98.4375%\n",
            "ERM | Epoch 0 | Loss: 0.16826295852661133 | Accuracy: 98.4375%\n",
            "ERM | Epoch 0 | Loss: 0.0035592070780694485 | Accuracy: 100.0%\n",
            "ERM | Epoch 0 | Loss: 0.004002869129180908 | Accuracy: 100.0%\n",
            "ERM | Epoch 0 | Loss: 0.004792486783117056 | Accuracy: 100.0%\n",
            "ERM | Epoch 0 | Loss: 0.22217708826065063 | Accuracy: 98.4375%\n",
            "ERM | Epoch 0 | Loss: 0.00556287681683898 | Accuracy: 100.0%\n",
            "ERM | Epoch 0 | Loss: 0.0057065156288445 | Accuracy: 100.0%\n",
            "ERM | Epoch 0 | Loss: 0.0053834873251616955 | Accuracy: 100.0%\n",
            "ERM | Epoch 0 | Loss: 0.008495256304740906 | Accuracy: 100.0%\n",
            "ERM | Epoch 0 | Loss: 0.006699338089674711 | Accuracy: 100.0%\n",
            "ERM | Epoch 0 | Loss: 0.005544972140341997 | Accuracy: 100.0%\n",
            "ERM | Epoch 0 | Loss: 0.005618188995867968 | Accuracy: 100.0%\n",
            "ERM | Epoch 0 | Loss: 0.005755361635237932 | Accuracy: 100.0%\n",
            "ERM | Epoch 0 | Loss: 0.005065620876848698 | Accuracy: 100.0%\n"
          ]
        },
        {
          "output_type": "stream",
          "name": "stderr",
          "text": [
            "Epoch 0:  34%|███▍      | 255/751 [00:03<00:05, 90.89batch/s, accuracy=98.4375%, loss=0.0822]"
          ]
        },
        {
          "output_type": "stream",
          "name": "stdout",
          "text": [
            "ERM | Epoch 0 | Loss: 0.004398702643811703 | Accuracy: 100.0%\n",
            "ERM | Epoch 0 | Loss: 0.11807362735271454 | Accuracy: 98.4375%\n",
            "ERM | Epoch 0 | Loss: 0.2102305144071579 | Accuracy: 98.4375%\n",
            "ERM | Epoch 0 | Loss: 0.004812935832887888 | Accuracy: 100.0%\n",
            "ERM | Epoch 0 | Loss: 0.005895378068089485 | Accuracy: 100.0%\n",
            "ERM | Epoch 0 | Loss: 0.006689812988042831 | Accuracy: 100.0%\n",
            "ERM | Epoch 0 | Loss: 0.007827116176486015 | Accuracy: 100.0%\n",
            "ERM | Epoch 0 | Loss: 0.0066061620600521564 | Accuracy: 100.0%\n",
            "ERM | Epoch 0 | Loss: 0.007147853262722492 | Accuracy: 100.0%\n",
            "ERM | Epoch 0 | Loss: 0.16730427742004395 | Accuracy: 98.4375%\n",
            "ERM | Epoch 0 | Loss: 0.006131441332399845 | Accuracy: 100.0%\n",
            "ERM | Epoch 0 | Loss: 0.12273438274860382 | Accuracy: 98.4375%\n",
            "ERM | Epoch 0 | Loss: 0.005117945373058319 | Accuracy: 100.0%\n",
            "ERM | Epoch 0 | Loss: 0.005752671975642443 | Accuracy: 100.0%\n",
            "ERM | Epoch 0 | Loss: 0.18056049942970276 | Accuracy: 98.4375%\n",
            "ERM | Epoch 0 | Loss: 0.005066156852990389 | Accuracy: 100.0%\n",
            "ERM | Epoch 0 | Loss: 0.3012244999408722 | Accuracy: 96.875%\n",
            "ERM | Epoch 0 | Loss: 0.008297068998217583 | Accuracy: 100.0%\n",
            "ERM | Epoch 0 | Loss: 0.27943307161331177 | Accuracy: 96.875%\n",
            "ERM | Epoch 0 | Loss: 0.08215546607971191 | Accuracy: 98.4375%\n"
          ]
        },
        {
          "output_type": "stream",
          "name": "stderr",
          "text": [
            "Epoch 0:  37%|███▋      | 276/751 [00:03<00:05, 89.17batch/s, accuracy=100.0%, loss=0.0111]"
          ]
        },
        {
          "output_type": "stream",
          "name": "stdout",
          "text": [
            "ERM | Epoch 0 | Loss: 0.039344776421785355 | Accuracy: 100.0%\n",
            "ERM | Epoch 0 | Loss: 0.13121886551380157 | Accuracy: 98.4375%\n",
            "ERM | Epoch 0 | Loss: 0.012755142524838448 | Accuracy: 100.0%\n",
            "ERM | Epoch 0 | Loss: 0.18039648234844208 | Accuracy: 98.4375%\n",
            "ERM | Epoch 0 | Loss: 0.012823393568396568 | Accuracy: 100.0%\n",
            "ERM | Epoch 0 | Loss: 0.01366763561964035 | Accuracy: 100.0%\n",
            "ERM | Epoch 0 | Loss: 0.01427238155156374 | Accuracy: 100.0%\n",
            "ERM | Epoch 0 | Loss: 0.01399162970483303 | Accuracy: 100.0%\n",
            "ERM | Epoch 0 | Loss: 0.012756090611219406 | Accuracy: 100.0%\n",
            "ERM | Epoch 0 | Loss: 0.07710080593824387 | Accuracy: 98.4375%\n",
            "ERM | Epoch 0 | Loss: 0.12341231852769852 | Accuracy: 98.4375%\n",
            "ERM | Epoch 0 | Loss: 0.10745178908109665 | Accuracy: 98.4375%\n",
            "ERM | Epoch 0 | Loss: 0.012781658209860325 | Accuracy: 100.0%\n",
            "ERM | Epoch 0 | Loss: 0.013004409149289131 | Accuracy: 100.0%\n",
            "ERM | Epoch 0 | Loss: 0.011753206141293049 | Accuracy: 100.0%\n",
            "ERM | Epoch 0 | Loss: 0.011127538047730923 | Accuracy: 100.0%\n"
          ]
        },
        {
          "output_type": "stream",
          "name": "stderr",
          "text": [
            "Epoch 0:  39%|███▉      | 294/751 [00:03<00:05, 83.50batch/s, accuracy=100.0%, loss=0.00354]"
          ]
        },
        {
          "output_type": "stream",
          "name": "stdout",
          "text": [
            "ERM | Epoch 0 | Loss: 0.008610903285443783 | Accuracy: 100.0%\n",
            "ERM | Epoch 0 | Loss: 0.008890257216989994 | Accuracy: 100.0%\n",
            "ERM | Epoch 0 | Loss: 0.0068860892206430435 | Accuracy: 100.0%\n",
            "ERM | Epoch 0 | Loss: 0.0066891564056277275 | Accuracy: 100.0%\n",
            "ERM | Epoch 0 | Loss: 0.006255622953176498 | Accuracy: 100.0%\n",
            "ERM | Epoch 0 | Loss: 0.004948382265865803 | Accuracy: 100.0%\n",
            "ERM | Epoch 0 | Loss: 0.19559848308563232 | Accuracy: 98.4375%\n",
            "ERM | Epoch 0 | Loss: 0.004935241769999266 | Accuracy: 100.0%\n",
            "ERM | Epoch 0 | Loss: 0.005128295626491308 | Accuracy: 100.0%\n",
            "ERM | Epoch 0 | Loss: 0.06984342634677887 | Accuracy: 98.4375%\n",
            "ERM | Epoch 0 | Loss: 0.0065391999669373035 | Accuracy: 100.0%\n",
            "ERM | Epoch 0 | Loss: 0.07174370437860489 | Accuracy: 98.4375%\n",
            "ERM | Epoch 0 | Loss: 0.009763147681951523 | Accuracy: 100.0%\n",
            "ERM | Epoch 0 | Loss: 0.020394671708345413 | Accuracy: 100.0%\n",
            "ERM | Epoch 0 | Loss: 0.00792541541159153 | Accuracy: 100.0%\n",
            "ERM | Epoch 0 | Loss: 0.00599539652466774 | Accuracy: 100.0%\n",
            "ERM | Epoch 0 | Loss: 0.003543171100318432 | Accuracy: 100.0%\n"
          ]
        },
        {
          "output_type": "stream",
          "name": "stderr",
          "text": [
            "Epoch 0:  42%|████▏     | 312/751 [00:04<00:05, 82.59batch/s, accuracy=98.4375%, loss=0.119]"
          ]
        },
        {
          "output_type": "stream",
          "name": "stdout",
          "text": [
            "ERM | Epoch 0 | Loss: 0.11492214351892471 | Accuracy: 98.4375%\n",
            "ERM | Epoch 0 | Loss: 0.004170453641563654 | Accuracy: 100.0%\n",
            "ERM | Epoch 0 | Loss: 0.11248024553060532 | Accuracy: 98.4375%\n",
            "ERM | Epoch 0 | Loss: 0.003987567499279976 | Accuracy: 100.0%\n",
            "ERM | Epoch 0 | Loss: 0.01152829360216856 | Accuracy: 100.0%\n",
            "ERM | Epoch 0 | Loss: 0.0036994104739278555 | Accuracy: 100.0%\n",
            "ERM | Epoch 0 | Loss: 0.0036449111066758633 | Accuracy: 100.0%\n",
            "ERM | Epoch 0 | Loss: 0.11604917049407959 | Accuracy: 98.4375%\n",
            "ERM | Epoch 0 | Loss: 0.005365374963730574 | Accuracy: 100.0%\n",
            "ERM | Epoch 0 | Loss: 0.24780794978141785 | Accuracy: 98.4375%\n",
            "ERM | Epoch 0 | Loss: 0.003985781688243151 | Accuracy: 100.0%\n",
            "ERM | Epoch 0 | Loss: 0.0036797234788537025 | Accuracy: 100.0%\n",
            "ERM | Epoch 0 | Loss: 0.0035841038916260004 | Accuracy: 100.0%\n",
            "ERM | Epoch 0 | Loss: 0.0030942880548536777 | Accuracy: 100.0%\n",
            "ERM | Epoch 0 | Loss: 0.003846490988507867 | Accuracy: 100.0%\n",
            "ERM | Epoch 0 | Loss: 0.24685479700565338 | Accuracy: 96.875%\n",
            "ERM | Epoch 0 | Loss: 0.1186436116695404 | Accuracy: 98.4375%\n"
          ]
        },
        {
          "output_type": "stream",
          "name": "stderr",
          "text": [
            "Epoch 0:  44%|████▍     | 330/751 [00:04<00:05, 83.97batch/s, accuracy=100.0%, loss=0.00822]"
          ]
        },
        {
          "output_type": "stream",
          "name": "stdout",
          "text": [
            "ERM | Epoch 0 | Loss: 0.0041562942788004875 | Accuracy: 100.0%\n",
            "ERM | Epoch 0 | Loss: 0.004256033338606358 | Accuracy: 100.0%\n",
            "ERM | Epoch 0 | Loss: 0.003997290041297674 | Accuracy: 100.0%\n",
            "ERM | Epoch 0 | Loss: 0.0037562125362455845 | Accuracy: 100.0%\n",
            "ERM | Epoch 0 | Loss: 0.005011291708797216 | Accuracy: 100.0%\n",
            "ERM | Epoch 0 | Loss: 0.15805695950984955 | Accuracy: 98.4375%\n",
            "ERM | Epoch 0 | Loss: 0.006420572753995657 | Accuracy: 100.0%\n",
            "ERM | Epoch 0 | Loss: 0.18967491388320923 | Accuracy: 98.4375%\n",
            "ERM | Epoch 0 | Loss: 0.010275124572217464 | Accuracy: 100.0%\n",
            "ERM | Epoch 0 | Loss: 0.01075858622789383 | Accuracy: 100.0%\n",
            "ERM | Epoch 0 | Loss: 0.007573071867227554 | Accuracy: 100.0%\n",
            "ERM | Epoch 0 | Loss: 0.1534290462732315 | Accuracy: 98.4375%\n",
            "ERM | Epoch 0 | Loss: 0.008531649596989155 | Accuracy: 100.0%\n",
            "ERM | Epoch 0 | Loss: 0.007765125948935747 | Accuracy: 100.0%\n",
            "ERM | Epoch 0 | Loss: 0.00774731021374464 | Accuracy: 100.0%\n",
            "ERM | Epoch 0 | Loss: 0.005875896662473679 | Accuracy: 100.0%\n",
            "ERM | Epoch 0 | Loss: 0.18621335923671722 | Accuracy: 98.4375%\n",
            "ERM | Epoch 0 | Loss: 0.1709771454334259 | Accuracy: 98.4375%\n"
          ]
        },
        {
          "output_type": "stream",
          "name": "stderr",
          "text": [
            "Epoch 0:  46%|████▋     | 348/751 [00:04<00:04, 85.10batch/s, accuracy=100.0%, loss=0.00998]"
          ]
        },
        {
          "output_type": "stream",
          "name": "stdout",
          "text": [
            "ERM | Epoch 0 | Loss: 0.008219186216592789 | Accuracy: 100.0%\n",
            "ERM | Epoch 0 | Loss: 0.010017197579145432 | Accuracy: 100.0%\n",
            "ERM | Epoch 0 | Loss: 0.008085116744041443 | Accuracy: 100.0%\n",
            "ERM | Epoch 0 | Loss: 0.009440938010811806 | Accuracy: 100.0%\n",
            "ERM | Epoch 0 | Loss: 0.009867100976407528 | Accuracy: 100.0%\n",
            "ERM | Epoch 0 | Loss: 0.10089918971061707 | Accuracy: 98.4375%\n",
            "ERM | Epoch 0 | Loss: 0.005995670333504677 | Accuracy: 100.0%\n",
            "ERM | Epoch 0 | Loss: 0.006530924700200558 | Accuracy: 100.0%\n",
            "ERM | Epoch 0 | Loss: 0.005832218565046787 | Accuracy: 100.0%\n",
            "ERM | Epoch 0 | Loss: 0.11062652617692947 | Accuracy: 98.4375%\n",
            "ERM | Epoch 0 | Loss: 0.19558896124362946 | Accuracy: 98.4375%\n",
            "ERM | Epoch 0 | Loss: 0.00526995537802577 | Accuracy: 100.0%\n",
            "ERM | Epoch 0 | Loss: 0.20923733711242676 | Accuracy: 98.4375%\n",
            "ERM | Epoch 0 | Loss: 0.007954468950629234 | Accuracy: 100.0%\n",
            "ERM | Epoch 0 | Loss: 0.15990395843982697 | Accuracy: 98.4375%\n",
            "ERM | Epoch 0 | Loss: 0.19595998525619507 | Accuracy: 96.875%\n",
            "ERM | Epoch 0 | Loss: 0.009710530750453472 | Accuracy: 100.0%\n",
            "ERM | Epoch 0 | Loss: 0.00998375378549099 | Accuracy: 100.0%\n"
          ]
        },
        {
          "output_type": "stream",
          "name": "stderr",
          "text": [
            "Epoch 0:  49%|████▊     | 366/751 [00:04<00:04, 85.08batch/s, accuracy=100.0%, loss=0.016]   "
          ]
        },
        {
          "output_type": "stream",
          "name": "stdout",
          "text": [
            "ERM | Epoch 0 | Loss: 0.09108065813779831 | Accuracy: 98.4375%\n",
            "ERM | Epoch 0 | Loss: 0.012161405757069588 | Accuracy: 100.0%\n",
            "ERM | Epoch 0 | Loss: 0.012276916764676571 | Accuracy: 100.0%\n",
            "ERM | Epoch 0 | Loss: 0.012473385781049728 | Accuracy: 100.0%\n",
            "ERM | Epoch 0 | Loss: 0.011985802091658115 | Accuracy: 100.0%\n",
            "ERM | Epoch 0 | Loss: 0.01126644667237997 | Accuracy: 100.0%\n",
            "ERM | Epoch 0 | Loss: 0.010818247683346272 | Accuracy: 100.0%\n",
            "ERM | Epoch 0 | Loss: 0.2521354854106903 | Accuracy: 96.875%\n",
            "ERM | Epoch 0 | Loss: 0.010966106317937374 | Accuracy: 100.0%\n",
            "ERM | Epoch 0 | Loss: 0.009941717609763145 | Accuracy: 100.0%\n",
            "ERM | Epoch 0 | Loss: 0.010177992284297943 | Accuracy: 100.0%\n",
            "ERM | Epoch 0 | Loss: 0.2004944384098053 | Accuracy: 96.875%\n",
            "ERM | Epoch 0 | Loss: 0.009462803602218628 | Accuracy: 100.0%\n",
            "ERM | Epoch 0 | Loss: 0.010555167682468891 | Accuracy: 100.0%\n",
            "ERM | Epoch 0 | Loss: 0.08577441424131393 | Accuracy: 98.4375%\n",
            "ERM | Epoch 0 | Loss: 0.01603083498775959 | Accuracy: 100.0%\n"
          ]
        },
        {
          "output_type": "stream",
          "name": "stderr",
          "text": [
            "Epoch 0:  51%|█████▏    | 385/751 [00:04<00:04, 88.73batch/s, accuracy=100.0%, loss=0.00903]"
          ]
        },
        {
          "output_type": "stream",
          "name": "stdout",
          "text": [
            "ERM | Epoch 0 | Loss: 0.09976667910814285 | Accuracy: 98.4375%\n",
            "ERM | Epoch 0 | Loss: 0.010048320516943932 | Accuracy: 100.0%\n",
            "ERM | Epoch 0 | Loss: 0.011790106073021889 | Accuracy: 100.0%\n",
            "ERM | Epoch 0 | Loss: 0.16603931784629822 | Accuracy: 98.4375%\n",
            "ERM | Epoch 0 | Loss: 0.00926020834594965 | Accuracy: 100.0%\n",
            "ERM | Epoch 0 | Loss: 0.26625511050224304 | Accuracy: 96.875%\n",
            "ERM | Epoch 0 | Loss: 0.010313832201063633 | Accuracy: 100.0%\n",
            "ERM | Epoch 0 | Loss: 0.010406021028757095 | Accuracy: 100.0%\n",
            "ERM | Epoch 0 | Loss: 0.12153150141239166 | Accuracy: 98.4375%\n",
            "ERM | Epoch 0 | Loss: 0.00985074881464243 | Accuracy: 100.0%\n",
            "ERM | Epoch 0 | Loss: 0.009195112623274326 | Accuracy: 100.0%\n",
            "ERM | Epoch 0 | Loss: 0.009280244819819927 | Accuracy: 100.0%\n",
            "ERM | Epoch 0 | Loss: 0.2778742015361786 | Accuracy: 96.875%\n",
            "ERM | Epoch 0 | Loss: 0.008847123943269253 | Accuracy: 100.0%\n",
            "ERM | Epoch 0 | Loss: 0.010441171936690807 | Accuracy: 100.0%\n",
            "ERM | Epoch 0 | Loss: 0.009513378143310547 | Accuracy: 100.0%\n",
            "ERM | Epoch 0 | Loss: 0.009382070042192936 | Accuracy: 100.0%\n",
            "ERM | Epoch 0 | Loss: 0.1823219358921051 | Accuracy: 98.4375%\n",
            "ERM | Epoch 0 | Loss: 0.011148163117468357 | Accuracy: 100.0%\n"
          ]
        },
        {
          "output_type": "stream",
          "name": "stderr",
          "text": [
            "Epoch 0:  54%|█████▍    | 404/751 [00:05<00:03, 88.79batch/s, accuracy=100.0%, loss=0.0051] "
          ]
        },
        {
          "output_type": "stream",
          "name": "stdout",
          "text": [
            "ERM | Epoch 0 | Loss: 0.00902743823826313 | Accuracy: 100.0%\n",
            "ERM | Epoch 0 | Loss: 0.0075801583006978035 | Accuracy: 100.0%\n",
            "ERM | Epoch 0 | Loss: 0.12888489663600922 | Accuracy: 98.4375%\n",
            "ERM | Epoch 0 | Loss: 0.0075859371572732925 | Accuracy: 100.0%\n",
            "ERM | Epoch 0 | Loss: 0.00726788304746151 | Accuracy: 100.0%\n",
            "ERM | Epoch 0 | Loss: 0.12294311821460724 | Accuracy: 98.4375%\n",
            "ERM | Epoch 0 | Loss: 0.007962319068610668 | Accuracy: 100.0%\n",
            "ERM | Epoch 0 | Loss: 0.007650358136743307 | Accuracy: 100.0%\n",
            "ERM | Epoch 0 | Loss: 0.007308777421712875 | Accuracy: 100.0%\n",
            "ERM | Epoch 0 | Loss: 0.006846229545772076 | Accuracy: 100.0%\n",
            "ERM | Epoch 0 | Loss: 0.006979638710618019 | Accuracy: 100.0%\n",
            "ERM | Epoch 0 | Loss: 0.0059584141708910465 | Accuracy: 100.0%\n",
            "ERM | Epoch 0 | Loss: 0.005932843778282404 | Accuracy: 100.0%\n",
            "ERM | Epoch 0 | Loss: 0.004912237171083689 | Accuracy: 100.0%\n",
            "ERM | Epoch 0 | Loss: 0.004648799542337656 | Accuracy: 100.0%\n",
            "ERM | Epoch 0 | Loss: 0.21699021756649017 | Accuracy: 98.4375%\n",
            "ERM | Epoch 0 | Loss: 0.12706539034843445 | Accuracy: 98.4375%\n",
            "ERM | Epoch 0 | Loss: 0.004311376716941595 | Accuracy: 100.0%\n"
          ]
        },
        {
          "output_type": "stream",
          "name": "stderr",
          "text": [
            "Epoch 0:  56%|█████▋    | 424/751 [00:05<00:03, 93.19batch/s, accuracy=98.4375%, loss=0.0946]"
          ]
        },
        {
          "output_type": "stream",
          "name": "stdout",
          "text": [
            "ERM | Epoch 0 | Loss: 0.00510057620704174 | Accuracy: 100.0%\n",
            "ERM | Epoch 0 | Loss: 0.11097881942987442 | Accuracy: 98.4375%\n",
            "ERM | Epoch 0 | Loss: 0.21724501252174377 | Accuracy: 96.875%\n",
            "ERM | Epoch 0 | Loss: 0.18501542508602142 | Accuracy: 96.875%\n",
            "ERM | Epoch 0 | Loss: 0.009016068652272224 | Accuracy: 100.0%\n",
            "ERM | Epoch 0 | Loss: 0.014681423082947731 | Accuracy: 100.0%\n",
            "ERM | Epoch 0 | Loss: 0.10221126675605774 | Accuracy: 98.4375%\n",
            "ERM | Epoch 0 | Loss: 0.015568507835268974 | Accuracy: 100.0%\n",
            "ERM | Epoch 0 | Loss: 0.009570807218551636 | Accuracy: 100.0%\n",
            "ERM | Epoch 0 | Loss: 0.008560307323932648 | Accuracy: 100.0%\n",
            "ERM | Epoch 0 | Loss: 0.008107385598123074 | Accuracy: 100.0%\n",
            "ERM | Epoch 0 | Loss: 0.10692404210567474 | Accuracy: 98.4375%\n",
            "ERM | Epoch 0 | Loss: 0.008495562709867954 | Accuracy: 100.0%\n",
            "ERM | Epoch 0 | Loss: 0.14846813678741455 | Accuracy: 98.4375%\n",
            "ERM | Epoch 0 | Loss: 0.16321933269500732 | Accuracy: 98.4375%\n",
            "ERM | Epoch 0 | Loss: 0.01039087027311325 | Accuracy: 100.0%\n",
            "ERM | Epoch 0 | Loss: 0.009413966909050941 | Accuracy: 100.0%\n",
            "ERM | Epoch 0 | Loss: 0.008666529320180416 | Accuracy: 100.0%\n",
            "ERM | Epoch 0 | Loss: 0.2833038568496704 | Accuracy: 96.875%\n",
            "ERM | Epoch 0 | Loss: 0.09464389085769653 | Accuracy: 98.4375%\n"
          ]
        },
        {
          "output_type": "stream",
          "name": "stderr",
          "text": [
            "Epoch 0:  58%|█████▊    | 434/751 [00:05<00:03, 94.11batch/s, accuracy=100.0%, loss=0.00662]"
          ]
        },
        {
          "output_type": "stream",
          "name": "stdout",
          "text": [
            "ERM | Epoch 0 | Loss: 0.01350181270390749 | Accuracy: 100.0%\n",
            "ERM | Epoch 0 | Loss: 0.11334734410047531 | Accuracy: 98.4375%\n",
            "ERM | Epoch 0 | Loss: 0.01542870607227087 | Accuracy: 100.0%\n",
            "ERM | Epoch 0 | Loss: 0.014138393104076385 | Accuracy: 100.0%\n",
            "ERM | Epoch 0 | Loss: 0.015621193684637547 | Accuracy: 100.0%\n",
            "ERM | Epoch 0 | Loss: 0.013435515575110912 | Accuracy: 100.0%\n",
            "ERM | Epoch 0 | Loss: 0.011518160812556744 | Accuracy: 100.0%\n",
            "ERM | Epoch 0 | Loss: 0.011631976813077927 | Accuracy: 100.0%\n",
            "ERM | Epoch 0 | Loss: 0.011068505235016346 | Accuracy: 100.0%\n",
            "ERM | Epoch 0 | Loss: 0.007205728907138109 | Accuracy: 100.0%\n",
            "ERM | Epoch 0 | Loss: 0.007241016253829002 | Accuracy: 100.0%\n",
            "ERM | Epoch 0 | Loss: 0.09417153894901276 | Accuracy: 98.4375%\n",
            "ERM | Epoch 0 | Loss: 0.1990615278482437 | Accuracy: 96.875%\n",
            "ERM | Epoch 0 | Loss: 0.006991897709667683 | Accuracy: 100.0%\n",
            "ERM | Epoch 0 | Loss: 0.09475145488977432 | Accuracy: 98.4375%\n",
            "ERM | Epoch 0 | Loss: 0.10132506489753723 | Accuracy: 98.4375%\n",
            "ERM | Epoch 0 | Loss: 0.00655793584883213 | Accuracy: 100.0%\n",
            "ERM | Epoch 0 | Loss: 0.00594887463375926 | Accuracy: 100.0%\n",
            "ERM | Epoch 0 | Loss: 0.006621708627790213 | Accuracy: 100.0%\n"
          ]
        },
        {
          "output_type": "stream",
          "name": "stderr",
          "text": [
            "Epoch 0:  60%|██████    | 454/751 [00:05<00:03, 84.18batch/s, accuracy=100.0%, loss=0.00479]"
          ]
        },
        {
          "output_type": "stream",
          "name": "stdout",
          "text": [
            "ERM | Epoch 0 | Loss: 0.10232174396514893 | Accuracy: 98.4375%\n",
            "ERM | Epoch 0 | Loss: 0.006061068270355463 | Accuracy: 100.0%\n",
            "ERM | Epoch 0 | Loss: 0.006669309921562672 | Accuracy: 100.0%\n",
            "ERM | Epoch 0 | Loss: 0.006531373132020235 | Accuracy: 100.0%\n",
            "ERM | Epoch 0 | Loss: 0.13175520300865173 | Accuracy: 98.4375%\n",
            "ERM | Epoch 0 | Loss: 0.005752190947532654 | Accuracy: 100.0%\n",
            "ERM | Epoch 0 | Loss: 0.0052343811839818954 | Accuracy: 100.0%\n",
            "ERM | Epoch 0 | Loss: 0.005371250212192535 | Accuracy: 100.0%\n",
            "ERM | Epoch 0 | Loss: 0.004591791890561581 | Accuracy: 100.0%\n",
            "ERM | Epoch 0 | Loss: 0.004329228773713112 | Accuracy: 100.0%\n",
            "ERM | Epoch 0 | Loss: 0.12761980295181274 | Accuracy: 98.4375%\n",
            "ERM | Epoch 0 | Loss: 0.0044589564204216 | Accuracy: 100.0%\n",
            "ERM | Epoch 0 | Loss: 0.004440318327397108 | Accuracy: 100.0%\n",
            "ERM | Epoch 0 | Loss: 0.004329641815274954 | Accuracy: 100.0%\n",
            "ERM | Epoch 0 | Loss: 0.004793291911482811 | Accuracy: 100.0%\n"
          ]
        },
        {
          "output_type": "stream",
          "name": "stderr",
          "text": [
            "Epoch 0:  63%|██████▎   | 472/751 [00:05<00:03, 79.22batch/s, accuracy=100.0%, loss=0.00752]"
          ]
        },
        {
          "output_type": "stream",
          "name": "stdout",
          "text": [
            "ERM | Epoch 0 | Loss: 0.003842995036393404 | Accuracy: 100.0%\n",
            "ERM | Epoch 0 | Loss: 0.00508938729763031 | Accuracy: 100.0%\n",
            "ERM | Epoch 0 | Loss: 0.0036205127835273743 | Accuracy: 100.0%\n",
            "ERM | Epoch 0 | Loss: 0.0047351885586977005 | Accuracy: 100.0%\n",
            "ERM | Epoch 0 | Loss: 0.002973401453346014 | Accuracy: 100.0%\n",
            "ERM | Epoch 0 | Loss: 0.0035621491260826588 | Accuracy: 100.0%\n",
            "ERM | Epoch 0 | Loss: 0.22171328961849213 | Accuracy: 96.875%\n",
            "ERM | Epoch 0 | Loss: 0.16100959479808807 | Accuracy: 98.4375%\n",
            "ERM | Epoch 0 | Loss: 0.006377652753144503 | Accuracy: 100.0%\n",
            "ERM | Epoch 0 | Loss: 0.006076771300286055 | Accuracy: 100.0%\n",
            "ERM | Epoch 0 | Loss: 0.006109957583248615 | Accuracy: 100.0%\n",
            "ERM | Epoch 0 | Loss: 0.007103843614459038 | Accuracy: 100.0%\n",
            "ERM | Epoch 0 | Loss: 0.11742103844881058 | Accuracy: 98.4375%\n",
            "ERM | Epoch 0 | Loss: 0.009506802074611187 | Accuracy: 100.0%\n",
            "ERM | Epoch 0 | Loss: 0.008494713343679905 | Accuracy: 100.0%\n",
            "ERM | Epoch 0 | Loss: 0.007523451931774616 | Accuracy: 100.0%\n"
          ]
        },
        {
          "output_type": "stream",
          "name": "stderr",
          "text": [
            "Epoch 0:  65%|██████▌   | 491/751 [00:06<00:03, 84.74batch/s, accuracy=100.0%, loss=0.00326]"
          ]
        },
        {
          "output_type": "stream",
          "name": "stdout",
          "text": [
            "ERM | Epoch 0 | Loss: 0.005242329556494951 | Accuracy: 100.0%\n",
            "ERM | Epoch 0 | Loss: 0.004986829124391079 | Accuracy: 100.0%\n",
            "ERM | Epoch 0 | Loss: 0.004033372271806002 | Accuracy: 100.0%\n",
            "ERM | Epoch 0 | Loss: 0.003953953739255667 | Accuracy: 100.0%\n",
            "ERM | Epoch 0 | Loss: 0.12116042524576187 | Accuracy: 98.4375%\n",
            "ERM | Epoch 0 | Loss: 0.002915517892688513 | Accuracy: 100.0%\n",
            "ERM | Epoch 0 | Loss: 0.002863943809643388 | Accuracy: 100.0%\n",
            "ERM | Epoch 0 | Loss: 0.0030050158966332674 | Accuracy: 100.0%\n",
            "ERM | Epoch 0 | Loss: 0.0027667186222970486 | Accuracy: 100.0%\n",
            "ERM | Epoch 0 | Loss: 0.0032436673063784838 | Accuracy: 100.0%\n",
            "ERM | Epoch 0 | Loss: 0.003161577507853508 | Accuracy: 100.0%\n",
            "ERM | Epoch 0 | Loss: 0.0026578151155263186 | Accuracy: 100.0%\n",
            "ERM | Epoch 0 | Loss: 0.0028454812709242105 | Accuracy: 100.0%\n",
            "ERM | Epoch 0 | Loss: 0.002430360997095704 | Accuracy: 100.0%\n",
            "ERM | Epoch 0 | Loss: 0.0027808535378426313 | Accuracy: 100.0%\n",
            "ERM | Epoch 0 | Loss: 0.11385392397642136 | Accuracy: 98.4375%\n",
            "ERM | Epoch 0 | Loss: 0.002417519688606262 | Accuracy: 100.0%\n",
            "ERM | Epoch 0 | Loss: 0.00404956191778183 | Accuracy: 100.0%\n",
            "ERM | Epoch 0 | Loss: 0.002680670004338026 | Accuracy: 100.0%\n"
          ]
        },
        {
          "output_type": "stream",
          "name": "stderr",
          "text": [
            "Epoch 0:  67%|██████▋   | 500/751 [00:06<00:03, 83.49batch/s, accuracy=100.0%, loss=0.00289]"
          ]
        },
        {
          "output_type": "stream",
          "name": "stdout",
          "text": [
            "ERM | Epoch 0 | Loss: 0.00326266186311841 | Accuracy: 100.0%\n",
            "ERM | Epoch 0 | Loss: 0.0036573708057403564 | Accuracy: 100.0%\n",
            "ERM | Epoch 0 | Loss: 0.10471481084823608 | Accuracy: 98.4375%\n",
            "ERM | Epoch 0 | Loss: 0.003349069505929947 | Accuracy: 100.0%\n",
            "ERM | Epoch 0 | Loss: 0.08746563643217087 | Accuracy: 98.4375%\n",
            "ERM | Epoch 0 | Loss: 0.004563575144857168 | Accuracy: 100.0%\n",
            "ERM | Epoch 0 | Loss: 0.005745158065110445 | Accuracy: 100.0%\n",
            "ERM | Epoch 0 | Loss: 0.007080867420881987 | Accuracy: 100.0%\n",
            "ERM | Epoch 0 | Loss: 0.006411335431039333 | Accuracy: 100.0%\n",
            "ERM | Epoch 0 | Loss: 0.17944034934043884 | Accuracy: 98.4375%\n",
            "ERM | Epoch 0 | Loss: 0.003969854675233364 | Accuracy: 100.0%\n",
            "ERM | Epoch 0 | Loss: 0.004275015089660883 | Accuracy: 100.0%\n",
            "ERM | Epoch 0 | Loss: 0.00406606774777174 | Accuracy: 100.0%\n",
            "ERM | Epoch 0 | Loss: 0.002630100352689624 | Accuracy: 100.0%\n",
            "ERM | Epoch 0 | Loss: 0.0028852520044893026 | Accuracy: 100.0%\n"
          ]
        },
        {
          "output_type": "stream",
          "name": "stderr",
          "text": [
            "Epoch 0:  69%|██████▉   | 518/751 [00:06<00:02, 79.05batch/s, accuracy=100.0%, loss=0.00444] "
          ]
        },
        {
          "output_type": "stream",
          "name": "stdout",
          "text": [
            "ERM | Epoch 0 | Loss: 0.0019197947112843394 | Accuracy: 100.0%\n",
            "ERM | Epoch 0 | Loss: 0.0020264009945094585 | Accuracy: 100.0%\n",
            "ERM | Epoch 0 | Loss: 0.0022543545346707106 | Accuracy: 100.0%\n",
            "ERM | Epoch 0 | Loss: 0.14390376210212708 | Accuracy: 98.4375%\n",
            "ERM | Epoch 0 | Loss: 0.12674173712730408 | Accuracy: 98.4375%\n",
            "ERM | Epoch 0 | Loss: 0.002928834641352296 | Accuracy: 100.0%\n",
            "ERM | Epoch 0 | Loss: 0.002712146146222949 | Accuracy: 100.0%\n",
            "ERM | Epoch 0 | Loss: 0.0031581229995936155 | Accuracy: 100.0%\n",
            "ERM | Epoch 0 | Loss: 0.0039136940613389015 | Accuracy: 100.0%\n",
            "ERM | Epoch 0 | Loss: 0.004981050733476877 | Accuracy: 100.0%\n",
            "ERM | Epoch 0 | Loss: 0.09143520146608353 | Accuracy: 98.4375%\n",
            "ERM | Epoch 0 | Loss: 0.003556265728548169 | Accuracy: 100.0%\n",
            "ERM | Epoch 0 | Loss: 0.11419688165187836 | Accuracy: 98.4375%\n",
            "ERM | Epoch 0 | Loss: 0.004229535348713398 | Accuracy: 100.0%\n",
            "ERM | Epoch 0 | Loss: 0.09966715425252914 | Accuracy: 98.4375%\n",
            "ERM | Epoch 0 | Loss: 0.004439527168869972 | Accuracy: 100.0%\n"
          ]
        },
        {
          "output_type": "stream",
          "name": "stderr",
          "text": [
            "Epoch 0:  72%|███████▏  | 537/751 [00:06<00:02, 85.03batch/s, accuracy=100.0%, loss=0.00589]"
          ]
        },
        {
          "output_type": "stream",
          "name": "stdout",
          "text": [
            "ERM | Epoch 0 | Loss: 0.004710101988166571 | Accuracy: 100.0%\n",
            "ERM | Epoch 0 | Loss: 0.17938345670700073 | Accuracy: 98.4375%\n",
            "ERM | Epoch 0 | Loss: 0.007427401375025511 | Accuracy: 100.0%\n",
            "ERM | Epoch 0 | Loss: 0.2536633312702179 | Accuracy: 96.875%\n",
            "ERM | Epoch 0 | Loss: 0.008333690464496613 | Accuracy: 100.0%\n",
            "ERM | Epoch 0 | Loss: 0.009591526351869106 | Accuracy: 100.0%\n",
            "ERM | Epoch 0 | Loss: 0.007010874804109335 | Accuracy: 100.0%\n",
            "ERM | Epoch 0 | Loss: 0.12328128516674042 | Accuracy: 98.4375%\n",
            "ERM | Epoch 0 | Loss: 0.007455742452293634 | Accuracy: 100.0%\n",
            "ERM | Epoch 0 | Loss: 0.007590321358293295 | Accuracy: 100.0%\n",
            "ERM | Epoch 0 | Loss: 0.11313971132040024 | Accuracy: 98.4375%\n",
            "ERM | Epoch 0 | Loss: 0.0901685580611229 | Accuracy: 98.4375%\n",
            "ERM | Epoch 0 | Loss: 0.00717587023973465 | Accuracy: 100.0%\n",
            "ERM | Epoch 0 | Loss: 0.007599353324621916 | Accuracy: 100.0%\n",
            "ERM | Epoch 0 | Loss: 0.014601782895624638 | Accuracy: 100.0%\n",
            "ERM | Epoch 0 | Loss: 0.007410072721540928 | Accuracy: 100.0%\n",
            "ERM | Epoch 0 | Loss: 0.007276366464793682 | Accuracy: 100.0%\n",
            "ERM | Epoch 0 | Loss: 0.006001607049256563 | Accuracy: 100.0%\n",
            "ERM | Epoch 0 | Loss: 0.006318581290543079 | Accuracy: 100.0%\n",
            "ERM | Epoch 0 | Loss: 0.11526603251695633 | Accuracy: 98.4375%\n"
          ]
        },
        {
          "output_type": "stream",
          "name": "stderr",
          "text": [
            "Epoch 0:  74%|███████▍  | 556/751 [00:06<00:02, 86.78batch/s, accuracy=100.0%, loss=0.0127]"
          ]
        },
        {
          "output_type": "stream",
          "name": "stdout",
          "text": [
            "ERM | Epoch 0 | Loss: 0.005888792686164379 | Accuracy: 100.0%\n",
            "ERM | Epoch 0 | Loss: 0.005423498339951038 | Accuracy: 100.0%\n",
            "ERM | Epoch 0 | Loss: 0.005246164742857218 | Accuracy: 100.0%\n",
            "ERM | Epoch 0 | Loss: 0.13075900077819824 | Accuracy: 98.4375%\n",
            "ERM | Epoch 0 | Loss: 0.005657819099724293 | Accuracy: 100.0%\n",
            "ERM | Epoch 0 | Loss: 0.004733308684080839 | Accuracy: 100.0%\n",
            "ERM | Epoch 0 | Loss: 0.006312110926955938 | Accuracy: 100.0%\n",
            "ERM | Epoch 0 | Loss: 0.006657656282186508 | Accuracy: 100.0%\n",
            "ERM | Epoch 0 | Loss: 0.005271865986287594 | Accuracy: 100.0%\n",
            "ERM | Epoch 0 | Loss: 0.005777406506240368 | Accuracy: 100.0%\n",
            "ERM | Epoch 0 | Loss: 0.12387215346097946 | Accuracy: 98.4375%\n",
            "ERM | Epoch 0 | Loss: 0.005355020985007286 | Accuracy: 100.0%\n",
            "ERM | Epoch 0 | Loss: 0.004841109737753868 | Accuracy: 100.0%\n",
            "ERM | Epoch 0 | Loss: 0.15251053869724274 | Accuracy: 98.4375%\n",
            "ERM | Epoch 0 | Loss: 0.1399952918291092 | Accuracy: 98.4375%\n",
            "ERM | Epoch 0 | Loss: 0.3251482844352722 | Accuracy: 95.3125%\n",
            "ERM | Epoch 0 | Loss: 0.013027316890656948 | Accuracy: 100.0%\n",
            "ERM | Epoch 0 | Loss: 0.012747064232826233 | Accuracy: 100.0%\n"
          ]
        },
        {
          "output_type": "stream",
          "name": "stderr",
          "text": [
            "Epoch 0:  77%|███████▋  | 575/751 [00:07<00:02, 86.97batch/s, accuracy=98.4375%, loss=0.0655]"
          ]
        },
        {
          "output_type": "stream",
          "name": "stdout",
          "text": [
            "ERM | Epoch 0 | Loss: 0.009092314168810844 | Accuracy: 100.0%\n",
            "ERM | Epoch 0 | Loss: 0.008299402892589569 | Accuracy: 100.0%\n",
            "ERM | Epoch 0 | Loss: 0.00672926427796483 | Accuracy: 100.0%\n",
            "ERM | Epoch 0 | Loss: 0.005984417628496885 | Accuracy: 100.0%\n",
            "ERM | Epoch 0 | Loss: 0.0058081005699932575 | Accuracy: 100.0%\n",
            "ERM | Epoch 0 | Loss: 0.006663414184004068 | Accuracy: 100.0%\n",
            "ERM | Epoch 0 | Loss: 0.006228243000805378 | Accuracy: 100.0%\n",
            "ERM | Epoch 0 | Loss: 0.004762256518006325 | Accuracy: 100.0%\n",
            "ERM | Epoch 0 | Loss: 0.005129787605255842 | Accuracy: 100.0%\n",
            "ERM | Epoch 0 | Loss: 0.09688729792833328 | Accuracy: 98.4375%\n",
            "ERM | Epoch 0 | Loss: 0.14993666112422943 | Accuracy: 98.4375%\n",
            "ERM | Epoch 0 | Loss: 0.004723795689642429 | Accuracy: 100.0%\n",
            "ERM | Epoch 0 | Loss: 0.005748003255575895 | Accuracy: 100.0%\n",
            "ERM | Epoch 0 | Loss: 0.12315751612186432 | Accuracy: 98.4375%\n",
            "ERM | Epoch 0 | Loss: 0.005659185349941254 | Accuracy: 100.0%\n",
            "ERM | Epoch 0 | Loss: 0.005174335557967424 | Accuracy: 100.0%\n",
            "ERM | Epoch 0 | Loss: 0.1096397340297699 | Accuracy: 98.4375%\n",
            "ERM | Epoch 0 | Loss: 0.24616080522537231 | Accuracy: 96.875%\n",
            "ERM | Epoch 0 | Loss: 0.06551942229270935 | Accuracy: 98.4375%\n"
          ]
        },
        {
          "output_type": "stream",
          "name": "stderr",
          "text": [
            "Epoch 0:  79%|███████▉  | 596/751 [00:07<00:01, 93.30batch/s, accuracy=100.0%, loss=0.00507]"
          ]
        },
        {
          "output_type": "stream",
          "name": "stdout",
          "text": [
            "ERM | Epoch 0 | Loss: 0.03438003733754158 | Accuracy: 100.0%\n",
            "ERM | Epoch 0 | Loss: 0.022174231708049774 | Accuracy: 100.0%\n",
            "ERM | Epoch 0 | Loss: 0.009335006587207317 | Accuracy: 100.0%\n",
            "ERM | Epoch 0 | Loss: 0.007794943172484636 | Accuracy: 100.0%\n",
            "ERM | Epoch 0 | Loss: 0.23748746514320374 | Accuracy: 96.875%\n",
            "ERM | Epoch 0 | Loss: 0.006609918549656868 | Accuracy: 100.0%\n",
            "ERM | Epoch 0 | Loss: 0.005590739659965038 | Accuracy: 100.0%\n",
            "ERM | Epoch 0 | Loss: 0.0071694073267281055 | Accuracy: 100.0%\n",
            "ERM | Epoch 0 | Loss: 0.007229958660900593 | Accuracy: 100.0%\n",
            "ERM | Epoch 0 | Loss: 0.007014856673777103 | Accuracy: 100.0%\n",
            "ERM | Epoch 0 | Loss: 0.005827225744724274 | Accuracy: 100.0%\n",
            "ERM | Epoch 0 | Loss: 0.09884942322969437 | Accuracy: 98.4375%\n",
            "ERM | Epoch 0 | Loss: 0.007284142542630434 | Accuracy: 100.0%\n",
            "ERM | Epoch 0 | Loss: 0.007624365855008364 | Accuracy: 100.0%\n",
            "ERM | Epoch 0 | Loss: 0.13235321640968323 | Accuracy: 98.4375%\n",
            "ERM | Epoch 0 | Loss: 0.005493983160704374 | Accuracy: 100.0%\n",
            "ERM | Epoch 0 | Loss: 0.006120214704424143 | Accuracy: 100.0%\n",
            "ERM | Epoch 0 | Loss: 0.11708991974592209 | Accuracy: 98.4375%\n",
            "ERM | Epoch 0 | Loss: 0.0048982505686581135 | Accuracy: 100.0%\n",
            "ERM | Epoch 0 | Loss: 0.005407205317169428 | Accuracy: 100.0%\n",
            "ERM | Epoch 0 | Loss: 0.005067445803433657 | Accuracy: 100.0%"
          ]
        },
        {
          "output_type": "stream",
          "name": "stderr",
          "text": [
            "Epoch 0:  82%|████████▏ | 616/751 [00:07<00:01, 93.02batch/s, accuracy=100.0%, loss=0.00371]"
          ]
        },
        {
          "output_type": "stream",
          "name": "stdout",
          "text": [
            "\n",
            "ERM | Epoch 0 | Loss: 0.0046868398785591125 | Accuracy: 100.0%\n",
            "ERM | Epoch 0 | Loss: 0.09442092478275299 | Accuracy: 98.4375%\n",
            "ERM | Epoch 0 | Loss: 0.004241508897393942 | Accuracy: 100.0%\n",
            "ERM | Epoch 0 | Loss: 0.004494051914662123 | Accuracy: 100.0%\n",
            "ERM | Epoch 0 | Loss: 0.0042571560479700565 | Accuracy: 100.0%\n",
            "ERM | Epoch 0 | Loss: 0.16813693940639496 | Accuracy: 98.4375%\n",
            "ERM | Epoch 0 | Loss: 0.004043877590447664 | Accuracy: 100.0%\n",
            "ERM | Epoch 0 | Loss: 0.003987506031990051 | Accuracy: 100.0%\n",
            "ERM | Epoch 0 | Loss: 0.0036554799880832434 | Accuracy: 100.0%\n",
            "ERM | Epoch 0 | Loss: 0.0036245237570255995 | Accuracy: 100.0%\n",
            "ERM | Epoch 0 | Loss: 0.003606559243053198 | Accuracy: 100.0%\n",
            "ERM | Epoch 0 | Loss: 0.0033970982767641544 | Accuracy: 100.0%\n",
            "ERM | Epoch 0 | Loss: 0.11717478930950165 | Accuracy: 98.4375%\n",
            "ERM | Epoch 0 | Loss: 0.003597302595153451 | Accuracy: 100.0%\n",
            "ERM | Epoch 0 | Loss: 0.004242047667503357 | Accuracy: 100.0%\n",
            "ERM | Epoch 0 | Loss: 0.004148140549659729 | Accuracy: 100.0%\n",
            "ERM | Epoch 0 | Loss: 0.003980182111263275 | Accuracy: 100.0%\n"
          ]
        },
        {
          "output_type": "stream",
          "name": "stderr",
          "text": [
            "Epoch 0:  85%|████████▍ | 636/751 [00:07<00:01, 91.80batch/s, accuracy=100.0%, loss=0.00563]"
          ]
        },
        {
          "output_type": "stream",
          "name": "stdout",
          "text": [
            "ERM | Epoch 0 | Loss: 0.003712051548063755 | Accuracy: 100.0%\n",
            "ERM | Epoch 0 | Loss: 0.12647134065628052 | Accuracy: 98.4375%\n",
            "ERM | Epoch 0 | Loss: 0.003632022999227047 | Accuracy: 100.0%\n",
            "ERM | Epoch 0 | Loss: 0.0032444093376398087 | Accuracy: 100.0%\n",
            "ERM | Epoch 0 | Loss: 0.2767353355884552 | Accuracy: 96.875%\n",
            "ERM | Epoch 0 | Loss: 0.003903496079146862 | Accuracy: 100.0%\n",
            "ERM | Epoch 0 | Loss: 0.004391899798065424 | Accuracy: 100.0%\n",
            "ERM | Epoch 0 | Loss: 0.004932848736643791 | Accuracy: 100.0%\n",
            "ERM | Epoch 0 | Loss: 0.004852358251810074 | Accuracy: 100.0%\n",
            "ERM | Epoch 0 | Loss: 0.004841184243559837 | Accuracy: 100.0%\n",
            "ERM | Epoch 0 | Loss: 0.0043010711669921875 | Accuracy: 100.0%\n",
            "ERM | Epoch 0 | Loss: 0.005120460409671068 | Accuracy: 100.0%\n",
            "ERM | Epoch 0 | Loss: 0.004807477351278067 | Accuracy: 100.0%\n",
            "ERM | Epoch 0 | Loss: 0.004417662974447012 | Accuracy: 100.0%\n",
            "ERM | Epoch 0 | Loss: 0.12480781227350235 | Accuracy: 98.4375%\n",
            "ERM | Epoch 0 | Loss: 0.27812620997428894 | Accuracy: 96.875%\n",
            "ERM | Epoch 0 | Loss: 0.0052116564474999905 | Accuracy: 100.0%\n",
            "ERM | Epoch 0 | Loss: 0.1264159232378006 | Accuracy: 98.4375%\n",
            "ERM | Epoch 0 | Loss: 0.0056341225281357765 | Accuracy: 100.0%\n"
          ]
        },
        {
          "output_type": "stream",
          "name": "stderr",
          "text": [
            "Epoch 0:  87%|████████▋ | 656/751 [00:08<00:01, 89.37batch/s, accuracy=100.0%, loss=0.0171]"
          ]
        },
        {
          "output_type": "stream",
          "name": "stdout",
          "text": [
            "ERM | Epoch 0 | Loss: 0.006036616396158934 | Accuracy: 100.0%\n",
            "ERM | Epoch 0 | Loss: 0.00729533052071929 | Accuracy: 100.0%\n",
            "ERM | Epoch 0 | Loss: 0.006201757583767176 | Accuracy: 100.0%\n",
            "ERM | Epoch 0 | Loss: 0.1358831822872162 | Accuracy: 98.4375%\n",
            "ERM | Epoch 0 | Loss: 0.006787302903831005 | Accuracy: 100.0%\n",
            "ERM | Epoch 0 | Loss: 0.00654392596334219 | Accuracy: 100.0%\n",
            "ERM | Epoch 0 | Loss: 0.006471964064985514 | Accuracy: 100.0%\n",
            "ERM | Epoch 0 | Loss: 0.09711955487728119 | Accuracy: 98.4375%\n",
            "ERM | Epoch 0 | Loss: 0.1963154822587967 | Accuracy: 96.875%\n",
            "ERM | Epoch 0 | Loss: 0.007736559957265854 | Accuracy: 100.0%\n",
            "ERM | Epoch 0 | Loss: 0.10251081734895706 | Accuracy: 98.4375%\n",
            "ERM | Epoch 0 | Loss: 0.008529148995876312 | Accuracy: 100.0%\n",
            "ERM | Epoch 0 | Loss: 0.09416943043470383 | Accuracy: 98.4375%\n",
            "ERM | Epoch 0 | Loss: 0.12832476198673248 | Accuracy: 98.4375%\n",
            "ERM | Epoch 0 | Loss: 0.012029597535729408 | Accuracy: 100.0%\n",
            "ERM | Epoch 0 | Loss: 0.19239099323749542 | Accuracy: 96.875%\n",
            "ERM | Epoch 0 | Loss: 0.014758551493287086 | Accuracy: 100.0%\n",
            "ERM | Epoch 0 | Loss: 0.017098307609558105 | Accuracy: 100.0%\n"
          ]
        },
        {
          "output_type": "stream",
          "name": "stderr",
          "text": [
            "Epoch 0:  90%|████████▉ | 674/751 [00:08<00:00, 89.56batch/s, accuracy=100.0%, loss=0.00569]"
          ]
        },
        {
          "output_type": "stream",
          "name": "stdout",
          "text": [
            "ERM | Epoch 0 | Loss: 0.10278195142745972 | Accuracy: 98.4375%\n",
            "ERM | Epoch 0 | Loss: 0.09859319031238556 | Accuracy: 98.4375%\n",
            "ERM | Epoch 0 | Loss: 0.017389334738254547 | Accuracy: 100.0%\n",
            "ERM | Epoch 0 | Loss: 0.014024513773620129 | Accuracy: 100.0%\n",
            "ERM | Epoch 0 | Loss: 0.12409906834363937 | Accuracy: 98.4375%\n",
            "ERM | Epoch 0 | Loss: 0.012136670760810375 | Accuracy: 100.0%\n",
            "ERM | Epoch 0 | Loss: 0.010715002194046974 | Accuracy: 100.0%\n",
            "ERM | Epoch 0 | Loss: 0.10451971739530563 | Accuracy: 98.4375%\n",
            "ERM | Epoch 0 | Loss: 0.008319620974361897 | Accuracy: 100.0%\n",
            "ERM | Epoch 0 | Loss: 0.007377290166914463 | Accuracy: 100.0%\n",
            "ERM | Epoch 0 | Loss: 0.007111396640539169 | Accuracy: 100.0%\n",
            "ERM | Epoch 0 | Loss: 0.005537495017051697 | Accuracy: 100.0%\n",
            "ERM | Epoch 0 | Loss: 0.0051264637149870396 | Accuracy: 100.0%\n",
            "ERM | Epoch 0 | Loss: 0.21478036046028137 | Accuracy: 96.875%\n",
            "ERM | Epoch 0 | Loss: 0.005039326846599579 | Accuracy: 100.0%\n",
            "ERM | Epoch 0 | Loss: 0.10897152125835419 | Accuracy: 98.4375%\n",
            "ERM | Epoch 0 | Loss: 0.005364412907510996 | Accuracy: 100.0%\n",
            "ERM | Epoch 0 | Loss: 0.25457802414894104 | Accuracy: 96.875%\n",
            "ERM | Epoch 0 | Loss: 0.006164880935102701 | Accuracy: 100.0%\n"
          ]
        },
        {
          "output_type": "stream",
          "name": "stderr",
          "text": [
            "Epoch 0:  92%|█████████▏| 694/751 [00:08<00:00, 89.76batch/s, accuracy=100.0%, loss=0.00281]"
          ]
        },
        {
          "output_type": "stream",
          "name": "stdout",
          "text": [
            "ERM | Epoch 0 | Loss: 0.005694250576198101 | Accuracy: 100.0%\n",
            "ERM | Epoch 0 | Loss: 0.005858576390892267 | Accuracy: 100.0%\n",
            "ERM | Epoch 0 | Loss: 0.006664594169706106 | Accuracy: 100.0%\n",
            "ERM | Epoch 0 | Loss: 0.007737195119261742 | Accuracy: 100.0%\n",
            "ERM | Epoch 0 | Loss: 0.006498999893665314 | Accuracy: 100.0%\n",
            "ERM | Epoch 0 | Loss: 0.005293635651469231 | Accuracy: 100.0%\n",
            "ERM | Epoch 0 | Loss: 0.006686144508421421 | Accuracy: 100.0%\n",
            "ERM | Epoch 0 | Loss: 0.006322077009826899 | Accuracy: 100.0%\n",
            "ERM | Epoch 0 | Loss: 0.005354645196348429 | Accuracy: 100.0%\n",
            "ERM | Epoch 0 | Loss: 0.005596949253231287 | Accuracy: 100.0%\n",
            "ERM | Epoch 0 | Loss: 0.004483330063521862 | Accuracy: 100.0%\n",
            "ERM | Epoch 0 | Loss: 0.0038802511990070343 | Accuracy: 100.0%\n",
            "ERM | Epoch 0 | Loss: 0.0040356870740652084 | Accuracy: 100.0%\n",
            "ERM | Epoch 0 | Loss: 0.0033969020005315542 | Accuracy: 100.0%\n",
            "ERM | Epoch 0 | Loss: 0.10940360277891159 | Accuracy: 98.4375%\n",
            "ERM | Epoch 0 | Loss: 0.0038883332163095474 | Accuracy: 100.0%\n",
            "ERM | Epoch 0 | Loss: 0.0029029028955847025 | Accuracy: 100.0%\n",
            "ERM | Epoch 0 | Loss: 0.0026724908966571093 | Accuracy: 100.0%\n",
            "ERM | Epoch 0 | Loss: 0.002807937329635024 | Accuracy: 100.0%\n"
          ]
        },
        {
          "output_type": "stream",
          "name": "stderr",
          "text": [
            "Epoch 0:  94%|█████████▎| 704/751 [00:08<00:00, 91.01batch/s, accuracy=98.4375%, loss=0.158]"
          ]
        },
        {
          "output_type": "stream",
          "name": "stdout",
          "text": [
            "ERM | Epoch 0 | Loss: 0.09776571393013 | Accuracy: 98.4375%\n",
            "ERM | Epoch 0 | Loss: 0.13143286108970642 | Accuracy: 98.4375%\n",
            "ERM | Epoch 0 | Loss: 0.09343716502189636 | Accuracy: 98.4375%\n",
            "ERM | Epoch 0 | Loss: 0.007490897551178932 | Accuracy: 100.0%\n",
            "ERM | Epoch 0 | Loss: 0.00990974623709917 | Accuracy: 100.0%\n",
            "ERM | Epoch 0 | Loss: 0.10850756615400314 | Accuracy: 98.4375%\n",
            "ERM | Epoch 0 | Loss: 0.0150272436439991 | Accuracy: 100.0%\n",
            "ERM | Epoch 0 | Loss: 0.09772477298974991 | Accuracy: 98.4375%\n",
            "ERM | Epoch 0 | Loss: 0.007869022898375988 | Accuracy: 100.0%\n",
            "ERM | Epoch 0 | Loss: 0.0062356204725801945 | Accuracy: 100.0%\n",
            "ERM | Epoch 0 | Loss: 0.004531251732259989 | Accuracy: 100.0%\n",
            "ERM | Epoch 0 | Loss: 0.004661017097532749 | Accuracy: 100.0%\n",
            "ERM | Epoch 0 | Loss: 0.004007525742053986 | Accuracy: 100.0%\n",
            "ERM | Epoch 0 | Loss: 0.11533961445093155 | Accuracy: 98.4375%\n",
            "ERM | Epoch 0 | Loss: 0.00305861234664917 | Accuracy: 100.0%\n",
            "ERM | Epoch 0 | Loss: 0.12425825744867325 | Accuracy: 98.4375%\n",
            "ERM | Epoch 0 | Loss: 0.002726956969127059 | Accuracy: 100.0%\n",
            "ERM | Epoch 0 | Loss: 0.1581178903579712 | Accuracy: 98.4375%\n"
          ]
        },
        {
          "output_type": "stream",
          "name": "stderr",
          "text": [
            "Epoch 0:  96%|█████████▋| 724/751 [00:08<00:00, 87.85batch/s, accuracy=98.4375%, loss=0.112]"
          ]
        },
        {
          "output_type": "stream",
          "name": "stdout",
          "text": [
            "ERM | Epoch 0 | Loss: 0.003940935712307692 | Accuracy: 100.0%\n",
            "ERM | Epoch 0 | Loss: 0.11463820934295654 | Accuracy: 98.4375%\n",
            "ERM | Epoch 0 | Loss: 0.004272067919373512 | Accuracy: 100.0%\n",
            "ERM | Epoch 0 | Loss: 0.0049461922608315945 | Accuracy: 100.0%\n",
            "ERM | Epoch 0 | Loss: 0.006371549796313047 | Accuracy: 100.0%\n",
            "ERM | Epoch 0 | Loss: 0.0064079794101417065 | Accuracy: 100.0%\n",
            "ERM | Epoch 0 | Loss: 0.15293057262897491 | Accuracy: 98.4375%\n",
            "ERM | Epoch 0 | Loss: 0.09661813825368881 | Accuracy: 98.4375%\n",
            "ERM | Epoch 0 | Loss: 0.008279714733362198 | Accuracy: 100.0%\n",
            "ERM | Epoch 0 | Loss: 0.007242925465106964 | Accuracy: 100.0%\n",
            "ERM | Epoch 0 | Loss: 0.007777173072099686 | Accuracy: 100.0%\n",
            "ERM | Epoch 0 | Loss: 0.006934173405170441 | Accuracy: 100.0%\n",
            "ERM | Epoch 0 | Loss: 0.11753113567829132 | Accuracy: 98.4375%\n",
            "ERM | Epoch 0 | Loss: 0.13488809764385223 | Accuracy: 98.4375%\n",
            "ERM | Epoch 0 | Loss: 0.11796435713768005 | Accuracy: 98.4375%\n",
            "ERM | Epoch 0 | Loss: 0.007502274122089148 | Accuracy: 100.0%\n",
            "ERM | Epoch 0 | Loss: 0.007133855484426022 | Accuracy: 100.0%\n",
            "ERM | Epoch 0 | Loss: 0.007060740143060684 | Accuracy: 100.0%\n",
            "ERM | Epoch 0 | Loss: 0.11240182816982269 | Accuracy: 98.4375%\n"
          ]
        },
        {
          "output_type": "stream",
          "name": "stderr",
          "text": [
            "Epoch 0:  99%|█████████▉| 744/751 [00:09<00:00, 90.13batch/s, accuracy=96.875%, loss=0.236] "
          ]
        },
        {
          "output_type": "stream",
          "name": "stdout",
          "text": [
            "ERM | Epoch 0 | Loss: 0.006587021052837372 | Accuracy: 100.0%\n",
            "ERM | Epoch 0 | Loss: 0.09274294227361679 | Accuracy: 98.4375%\n",
            "ERM | Epoch 0 | Loss: 0.008053568191826344 | Accuracy: 100.0%\n",
            "ERM | Epoch 0 | Loss: 0.08441251516342163 | Accuracy: 98.4375%\n",
            "ERM | Epoch 0 | Loss: 0.09768922626972198 | Accuracy: 98.4375%\n",
            "ERM | Epoch 0 | Loss: 0.01086119469255209 | Accuracy: 100.0%\n",
            "ERM | Epoch 0 | Loss: 0.010288486257195473 | Accuracy: 100.0%\n",
            "ERM | Epoch 0 | Loss: 0.11517714709043503 | Accuracy: 98.4375%\n",
            "ERM | Epoch 0 | Loss: 0.009052599780261517 | Accuracy: 100.0%\n",
            "ERM | Epoch 0 | Loss: 0.12704607844352722 | Accuracy: 98.4375%\n",
            "ERM | Epoch 0 | Loss: 0.008474009111523628 | Accuracy: 100.0%\n",
            "ERM | Epoch 0 | Loss: 0.00820381660014391 | Accuracy: 100.0%\n",
            "ERM | Epoch 0 | Loss: 0.008248213678598404 | Accuracy: 100.0%\n",
            "ERM | Epoch 0 | Loss: 0.005875998176634312 | Accuracy: 100.0%\n",
            "ERM | Epoch 0 | Loss: 0.006038709077984095 | Accuracy: 100.0%\n",
            "ERM | Epoch 0 | Loss: 0.0045187692157924175 | Accuracy: 100.0%\n",
            "ERM | Epoch 0 | Loss: 0.0042820279486477375 | Accuracy: 100.0%\n",
            "ERM | Epoch 0 | Loss: 0.0038790926337242126 | Accuracy: 100.0%\n",
            "ERM | Epoch 0 | Loss: 0.23631176352500916 | Accuracy: 96.875%\n"
          ]
        },
        {
          "output_type": "stream",
          "name": "stderr",
          "text": [
            "Epoch 0: 100%|██████████| 751/751 [00:09<00:00, 81.42batch/s, accuracy=100.0%, loss=0.00386]"
          ]
        },
        {
          "output_type": "stream",
          "name": "stdout",
          "text": [
            "ERM | Epoch 0 | Loss: 0.0038605511654168367 | Accuracy: 100.0%\n"
          ]
        },
        {
          "output_type": "stream",
          "name": "stderr",
          "text": [
            "\n"
          ]
        }
      ],
      "source": [
        "erm.train()"
      ]
    },
    {
      "cell_type": "code",
      "execution_count": 11,
      "metadata": {
        "colab": {
          "base_uri": "https://localhost:8080/"
        },
        "id": "T2FsFXtZcxA6",
        "outputId": "1299e222-0f9f-481d-d0fc-d86688e8ce28"
      },
      "outputs": [
        {
          "output_type": "stream",
          "name": "stderr",
          "text": [
            "Evaluating group-wise accuracy:   4%|▍         | 1/25 [00:00<00:07,  3.34it/s]"
          ]
        },
        {
          "output_type": "stream",
          "name": "stdout",
          "text": [
            "Group (0, 0) Accuracy: 100.0\n"
          ]
        },
        {
          "output_type": "stream",
          "name": "stderr",
          "text": [
            "\rEvaluating group-wise accuracy:   8%|▊         | 2/25 [00:00<00:06,  3.31it/s]"
          ]
        },
        {
          "output_type": "stream",
          "name": "stdout",
          "text": [
            "Group (0, 1) Accuracy: 0.0\n"
          ]
        },
        {
          "output_type": "stream",
          "name": "stderr",
          "text": [
            "\rEvaluating group-wise accuracy:  12%|█▏        | 3/25 [00:00<00:06,  3.24it/s]"
          ]
        },
        {
          "output_type": "stream",
          "name": "stdout",
          "text": [
            "Group (0, 2) Accuracy: 0.0\n"
          ]
        },
        {
          "output_type": "stream",
          "name": "stderr",
          "text": [
            "\rEvaluating group-wise accuracy:  16%|█▌        | 4/25 [00:01<00:06,  3.26it/s]"
          ]
        },
        {
          "output_type": "stream",
          "name": "stdout",
          "text": [
            "Group (0, 3) Accuracy: 0.0\n"
          ]
        },
        {
          "output_type": "stream",
          "name": "stderr",
          "text": [
            "\rEvaluating group-wise accuracy:  20%|██        | 5/25 [00:01<00:06,  3.23it/s]"
          ]
        },
        {
          "output_type": "stream",
          "name": "stdout",
          "text": [
            "Group (0, 4) Accuracy: 0.0\n"
          ]
        },
        {
          "output_type": "stream",
          "name": "stderr",
          "text": [
            "\rEvaluating group-wise accuracy:  24%|██▍       | 6/25 [00:01<00:05,  3.26it/s]"
          ]
        },
        {
          "output_type": "stream",
          "name": "stdout",
          "text": [
            "Group (1, 0) Accuracy: 0.0\n"
          ]
        },
        {
          "output_type": "stream",
          "name": "stderr",
          "text": [
            "\rEvaluating group-wise accuracy:  28%|██▊       | 7/25 [00:02<00:05,  3.21it/s]"
          ]
        },
        {
          "output_type": "stream",
          "name": "stdout",
          "text": [
            "Group (1, 1) Accuracy: 100.0\n"
          ]
        },
        {
          "output_type": "stream",
          "name": "stderr",
          "text": [
            "\rEvaluating group-wise accuracy:  32%|███▏      | 8/25 [00:02<00:05,  3.19it/s]"
          ]
        },
        {
          "output_type": "stream",
          "name": "stdout",
          "text": [
            "Group (1, 2) Accuracy: 0.0\n"
          ]
        },
        {
          "output_type": "stream",
          "name": "stderr",
          "text": [
            "\rEvaluating group-wise accuracy:  36%|███▌      | 9/25 [00:02<00:04,  3.24it/s]"
          ]
        },
        {
          "output_type": "stream",
          "name": "stdout",
          "text": [
            "Group (1, 3) Accuracy: 0.0\n"
          ]
        },
        {
          "output_type": "stream",
          "name": "stderr",
          "text": [
            "\rEvaluating group-wise accuracy:  40%|████      | 10/25 [00:03<00:04,  3.24it/s]"
          ]
        },
        {
          "output_type": "stream",
          "name": "stdout",
          "text": [
            "Group (1, 4) Accuracy: 0.0\n"
          ]
        },
        {
          "output_type": "stream",
          "name": "stderr",
          "text": [
            "\rEvaluating group-wise accuracy:  44%|████▍     | 11/25 [00:03<00:04,  3.21it/s]"
          ]
        },
        {
          "output_type": "stream",
          "name": "stdout",
          "text": [
            "Group (2, 0) Accuracy: 0.0\n"
          ]
        },
        {
          "output_type": "stream",
          "name": "stderr",
          "text": [
            "\rEvaluating group-wise accuracy:  48%|████▊     | 12/25 [00:03<00:03,  3.27it/s]"
          ]
        },
        {
          "output_type": "stream",
          "name": "stdout",
          "text": [
            "Group (2, 1) Accuracy: 0.0\n"
          ]
        },
        {
          "output_type": "stream",
          "name": "stderr",
          "text": [
            "\rEvaluating group-wise accuracy:  52%|█████▏    | 13/25 [00:03<00:03,  3.28it/s]"
          ]
        },
        {
          "output_type": "stream",
          "name": "stdout",
          "text": [
            "Group (2, 2) Accuracy: 100.0\n"
          ]
        },
        {
          "output_type": "stream",
          "name": "stderr",
          "text": [
            "\rEvaluating group-wise accuracy:  56%|█████▌    | 14/25 [00:04<00:03,  3.26it/s]"
          ]
        },
        {
          "output_type": "stream",
          "name": "stdout",
          "text": [
            "Group (2, 3) Accuracy: 0.0\n"
          ]
        },
        {
          "output_type": "stream",
          "name": "stderr",
          "text": [
            "\rEvaluating group-wise accuracy:  60%|██████    | 15/25 [00:04<00:03,  3.27it/s]"
          ]
        },
        {
          "output_type": "stream",
          "name": "stdout",
          "text": [
            "Group (2, 4) Accuracy: 0.0\n"
          ]
        },
        {
          "output_type": "stream",
          "name": "stderr",
          "text": [
            "\rEvaluating group-wise accuracy:  64%|██████▍   | 16/25 [00:04<00:02,  3.28it/s]"
          ]
        },
        {
          "output_type": "stream",
          "name": "stdout",
          "text": [
            "Group (3, 0) Accuracy: 0.0\n"
          ]
        },
        {
          "output_type": "stream",
          "name": "stderr",
          "text": [
            "\rEvaluating group-wise accuracy:  68%|██████▊   | 17/25 [00:05<00:02,  3.23it/s]"
          ]
        },
        {
          "output_type": "stream",
          "name": "stdout",
          "text": [
            "Group (3, 1) Accuracy: 0.0\n"
          ]
        },
        {
          "output_type": "stream",
          "name": "stderr",
          "text": [
            "\rEvaluating group-wise accuracy:  72%|███████▏  | 18/25 [00:05<00:02,  3.27it/s]"
          ]
        },
        {
          "output_type": "stream",
          "name": "stdout",
          "text": [
            "Group (3, 2) Accuracy: 0.0\n"
          ]
        },
        {
          "output_type": "stream",
          "name": "stderr",
          "text": [
            "\rEvaluating group-wise accuracy:  76%|███████▌  | 19/25 [00:05<00:01,  3.27it/s]"
          ]
        },
        {
          "output_type": "stream",
          "name": "stdout",
          "text": [
            "Group (3, 3) Accuracy: 100.0\n"
          ]
        },
        {
          "output_type": "stream",
          "name": "stderr",
          "text": [
            "\rEvaluating group-wise accuracy:  80%|████████  | 20/25 [00:06<00:01,  3.24it/s]"
          ]
        },
        {
          "output_type": "stream",
          "name": "stdout",
          "text": [
            "Group (3, 4) Accuracy: 0.0\n"
          ]
        },
        {
          "output_type": "stream",
          "name": "stderr",
          "text": [
            "\rEvaluating group-wise accuracy:  84%|████████▍ | 21/25 [00:06<00:01,  3.28it/s]"
          ]
        },
        {
          "output_type": "stream",
          "name": "stdout",
          "text": [
            "Group (4, 0) Accuracy: 0.0\n"
          ]
        },
        {
          "output_type": "stream",
          "name": "stderr",
          "text": [
            "\rEvaluating group-wise accuracy:  88%|████████▊ | 22/25 [00:06<00:00,  3.33it/s]"
          ]
        },
        {
          "output_type": "stream",
          "name": "stdout",
          "text": [
            "Group (4, 1) Accuracy: 0.0\n"
          ]
        },
        {
          "output_type": "stream",
          "name": "stderr",
          "text": [
            "\rEvaluating group-wise accuracy:  92%|█████████▏| 23/25 [00:07<00:00,  3.34it/s]"
          ]
        },
        {
          "output_type": "stream",
          "name": "stdout",
          "text": [
            "Group (4, 2) Accuracy: 0.0\n"
          ]
        },
        {
          "output_type": "stream",
          "name": "stderr",
          "text": [
            "\rEvaluating group-wise accuracy:  96%|█████████▌| 24/25 [00:07<00:00,  3.26it/s]"
          ]
        },
        {
          "output_type": "stream",
          "name": "stdout",
          "text": [
            "Group (4, 3) Accuracy: 0.0\n"
          ]
        },
        {
          "output_type": "stream",
          "name": "stderr",
          "text": [
            "Evaluating group-wise accuracy: 100%|██████████| 25/25 [00:07<00:00,  3.26it/s]"
          ]
        },
        {
          "output_type": "stream",
          "name": "stdout",
          "text": [
            "Group (4, 4) Accuracy: 100.0\n"
          ]
        },
        {
          "output_type": "stream",
          "name": "stderr",
          "text": [
            "\n"
          ]
        },
        {
          "output_type": "execute_result",
          "data": {
            "text/plain": [
              "{(0, 0): 100.0,\n",
              " (0, 1): 0.0,\n",
              " (0, 2): 0.0,\n",
              " (0, 3): 0.0,\n",
              " (0, 4): 0.0,\n",
              " (1, 0): 0.0,\n",
              " (1, 1): 100.0,\n",
              " (1, 2): 0.0,\n",
              " (1, 3): 0.0,\n",
              " (1, 4): 0.0,\n",
              " (2, 0): 0.0,\n",
              " (2, 1): 0.0,\n",
              " (2, 2): 100.0,\n",
              " (2, 3): 0.0,\n",
              " (2, 4): 0.0,\n",
              " (3, 0): 0.0,\n",
              " (3, 1): 0.0,\n",
              " (3, 2): 0.0,\n",
              " (3, 3): 100.0,\n",
              " (3, 4): 0.0,\n",
              " (4, 0): 0.0,\n",
              " (4, 1): 0.0,\n",
              " (4, 2): 0.0,\n",
              " (4, 3): 0.0,\n",
              " (4, 4): 100.0}"
            ]
          },
          "metadata": {},
          "execution_count": 11
        }
      ],
      "source": [
        "from spuco.evaluate import Evaluator\n",
        "\n",
        "evaluator = Evaluator(\n",
        "    testset=testset,\n",
        "    group_partition=testset.group_partition,\n",
        "    group_weights=trainset.group_weights,\n",
        "    batch_size=64,\n",
        "    model=model,\n",
        "    device=device,\n",
        "    verbose=True\n",
        ")\n",
        "evaluator.evaluate()"
      ]
    },
    {
      "cell_type": "code",
      "source": [
        "evaluator.worst_group_accuracy"
      ],
      "metadata": {
        "colab": {
          "base_uri": "https://localhost:8080/"
        },
        "id": "JJdzOAlSgDyS",
        "outputId": "2d63f0ad-b404-49fa-c67d-ed3dfd853793"
      },
      "execution_count": 12,
      "outputs": [
        {
          "output_type": "execute_result",
          "data": {
            "text/plain": [
              "((0, 1), 0.0)"
            ]
          },
          "metadata": {},
          "execution_count": 12
        }
      ]
    },
    {
      "cell_type": "code",
      "source": [
        "evaluator.average_accuracy"
      ],
      "metadata": {
        "colab": {
          "base_uri": "https://localhost:8080/"
        },
        "id": "JoUE-fqMgFEQ",
        "outputId": "77a00632-21fd-43ab-b7f8-92e43ed2e604"
      },
      "execution_count": 13,
      "outputs": [
        {
          "output_type": "execute_result",
          "data": {
            "text/plain": [
              "99.49379218398467"
            ]
          },
          "metadata": {},
          "execution_count": 13
        }
      ]
    },
    {
      "cell_type": "code",
      "source": [
        "evaluator.evaluate_spurious_attribute_prediction()"
      ],
      "metadata": {
        "colab": {
          "base_uri": "https://localhost:8080/"
        },
        "id": "wh3ODrfEfOta",
        "outputId": "9b483d89-e979-4f97-bc61-ec517e355026"
      },
      "execution_count": 14,
      "outputs": [
        {
          "output_type": "execute_result",
          "data": {
            "text/plain": [
              "20.23"
            ]
          },
          "metadata": {},
          "execution_count": 14
        }
      ]
    },
    {
      "cell_type": "code",
      "execution_count": 15,
      "metadata": {
        "colab": {
          "base_uri": "https://localhost:8080/"
        },
        "id": "YBAbpH9jcxA6",
        "outputId": "4538ce10-cc80-4756-b8d1-60bfd51492ff"
      },
      "outputs": [
        {
          "output_type": "stream",
          "name": "stderr",
          "text": [
            "/usr/local/lib/python3.10/dist-packages/torch/utils/data/dataloader.py:617: UserWarning: This DataLoader will create 4 worker processes in total. Our suggested max number of worker in current system is 2, which is smaller than what this DataLoader is going to create. Please be aware that excessive worker creation might get DataLoader running slow or even freeze, lower the worker number to avoid potential slowness/freeze if necessary.\n",
            "  warnings.warn(\n",
            "Getting model outputs: 100%|██████████| 751/751 [00:02<00:00, 304.10batch/s]\n",
            "Clustering class-wise: 100%|██████████| 5/5 [00:00<00:00, 16.16it/s]\n"
          ]
        }
      ],
      "source": [
        "from spuco.utils.misc import get_model_outputs\n",
        "from spuco.group_inference import Cluster, ClusterAlg\n",
        "\n",
        "logits = get_model_outputs(erm.trainer.model, erm.trainer.trainset, erm.trainer.device, False, erm.trainer.verbose)\n",
        "cluster = Cluster(\n",
        "    Z=logits,\n",
        "    class_labels=trainset.labels,\n",
        "    cluster_alg=ClusterAlg.KMEANS,\n",
        "    num_clusters=2,\n",
        "    device=device,\n",
        "    verbose=True\n",
        ")\n",
        "group_partition = cluster.infer_groups()"
      ]
    },
    {
      "cell_type": "code",
      "execution_count": 16,
      "metadata": {
        "colab": {
          "base_uri": "https://localhost:8080/"
        },
        "id": "vUZKNfHQcxA6",
        "outputId": "1c8c6aa3-c9ae-487d-b3c1-5d6ee783b655"
      },
      "outputs": [
        {
          "output_type": "stream",
          "name": "stdout",
          "text": [
            "(0, 0) 10082\n",
            "(0, 1) 51\n",
            "(1, 0) 9623\n",
            "(1, 1) 49\n",
            "(2, 0) 8965\n",
            "(2, 1) 46\n",
            "(3, 0) 49\n",
            "(3, 1) 9698\n",
            "(4, 0) 9393\n",
            "(4, 1) 48\n"
          ]
        }
      ],
      "source": [
        "for key in sorted(group_partition.keys()):\n",
        "    print(key, len(group_partition[key]))"
      ]
    },
    {
      "cell_type": "code",
      "execution_count": 17,
      "metadata": {
        "colab": {
          "base_uri": "https://localhost:8080/"
        },
        "id": "rmcS9WT2cxA7",
        "outputId": "49b74caa-d4cc-4b73-817b-8787ccb0b007"
      },
      "outputs": [
        {
          "output_type": "stream",
          "name": "stderr",
          "text": [
            "/usr/local/lib/python3.10/dist-packages/torch/utils/data/dataloader.py:617: UserWarning: This DataLoader will create 4 worker processes in total. Our suggested max number of worker in current system is 2, which is smaller than what this DataLoader is going to create. Please be aware that excessive worker creation might get DataLoader running slow or even freeze, lower the worker number to avoid potential slowness/freeze if necessary.\n",
            "  warnings.warn(\n",
            "Evaluating group-wise accuracy:  10%|█         | 1/10 [00:00<00:07,  1.26it/s]"
          ]
        },
        {
          "output_type": "stream",
          "name": "stdout",
          "text": [
            "Group (0, 0) Accuracy: 100.0\n"
          ]
        },
        {
          "output_type": "stream",
          "name": "stderr",
          "text": [
            "\rEvaluating group-wise accuracy:  20%|██        | 2/10 [00:01<00:04,  1.98it/s]"
          ]
        },
        {
          "output_type": "stream",
          "name": "stdout",
          "text": [
            "Group (0, 1) Accuracy: 0.0\n"
          ]
        },
        {
          "output_type": "stream",
          "name": "stderr",
          "text": [
            "\rEvaluating group-wise accuracy:  30%|███       | 3/10 [00:01<00:04,  1.65it/s]"
          ]
        },
        {
          "output_type": "stream",
          "name": "stdout",
          "text": [
            "Group (1, 0) Accuracy: 100.0\n"
          ]
        },
        {
          "output_type": "stream",
          "name": "stderr",
          "text": [
            "\rEvaluating group-wise accuracy:  40%|████      | 4/10 [00:02<00:02,  2.07it/s]"
          ]
        },
        {
          "output_type": "stream",
          "name": "stdout",
          "text": [
            "Group (1, 1) Accuracy: 0.0\n"
          ]
        },
        {
          "output_type": "stream",
          "name": "stderr",
          "text": [
            "\rEvaluating group-wise accuracy:  50%|█████     | 5/10 [00:02<00:02,  1.78it/s]"
          ]
        },
        {
          "output_type": "stream",
          "name": "stdout",
          "text": [
            "Group (2, 0) Accuracy: 100.0\n"
          ]
        },
        {
          "output_type": "stream",
          "name": "stderr",
          "text": [
            "\rEvaluating group-wise accuracy:  60%|██████    | 6/10 [00:03<00:01,  2.11it/s]"
          ]
        },
        {
          "output_type": "stream",
          "name": "stdout",
          "text": [
            "Group (2, 1) Accuracy: 0.0\n"
          ]
        },
        {
          "output_type": "stream",
          "name": "stderr",
          "text": [
            "\rEvaluating group-wise accuracy:  70%|███████   | 7/10 [00:03<00:01,  2.43it/s]"
          ]
        },
        {
          "output_type": "stream",
          "name": "stdout",
          "text": [
            "Group (3, 0) Accuracy: 0.0\n"
          ]
        },
        {
          "output_type": "stream",
          "name": "stderr",
          "text": [
            "\rEvaluating group-wise accuracy:  80%|████████  | 8/10 [00:04<00:01,  1.90it/s]"
          ]
        },
        {
          "output_type": "stream",
          "name": "stdout",
          "text": [
            "Group (3, 1) Accuracy: 100.0\n"
          ]
        },
        {
          "output_type": "stream",
          "name": "stderr",
          "text": [
            "\rEvaluating group-wise accuracy:  90%|█████████ | 9/10 [00:04<00:00,  1.71it/s]"
          ]
        },
        {
          "output_type": "stream",
          "name": "stdout",
          "text": [
            "Group (4, 0) Accuracy: 100.0\n"
          ]
        },
        {
          "output_type": "stream",
          "name": "stderr",
          "text": [
            "Evaluating group-wise accuracy: 100%|██████████| 10/10 [00:05<00:00,  1.93it/s]"
          ]
        },
        {
          "output_type": "stream",
          "name": "stdout",
          "text": [
            "Group (4, 1) Accuracy: 0.0\n"
          ]
        },
        {
          "output_type": "stream",
          "name": "stderr",
          "text": [
            "\n"
          ]
        },
        {
          "output_type": "execute_result",
          "data": {
            "text/plain": [
              "{(0, 0): 100.0,\n",
              " (0, 1): 0.0,\n",
              " (1, 0): 100.0,\n",
              " (1, 1): 0.0,\n",
              " (2, 0): 100.0,\n",
              " (2, 1): 0.0,\n",
              " (3, 0): 0.0,\n",
              " (3, 1): 100.0,\n",
              " (4, 0): 100.0,\n",
              " (4, 1): 0.0}"
            ]
          },
          "metadata": {},
          "execution_count": 17
        }
      ],
      "source": [
        "from spuco.evaluate import Evaluator\n",
        "\n",
        "evaluator = Evaluator(\n",
        "    testset=trainset,\n",
        "    group_partition=group_partition,\n",
        "    group_weights=trainset.group_weights,\n",
        "    batch_size=64,\n",
        "    model=model,\n",
        "    device=device,\n",
        "    verbose=True\n",
        ")\n",
        "evaluator.evaluate()"
      ]
    },
    {
      "cell_type": "code",
      "execution_count": 18,
      "metadata": {
        "colab": {
          "base_uri": "https://localhost:8080/"
        },
        "id": "syMtcthQcxA7",
        "outputId": "ce3eb48a-159e-47fb-9937-bed9b49e3f22"
      },
      "outputs": [
        {
          "output_type": "stream",
          "name": "stderr",
          "text": [
            "Epoch 0:   1%|          | 4/751 [00:00<01:07, 10.99batch/s, accuracy=20.3125%, loss=1.62]"
          ]
        },
        {
          "output_type": "stream",
          "name": "stdout",
          "text": [
            "GB | Epoch 0 | Loss: 1.6005877256393433 | Accuracy: 23.4375%\n",
            "GB | Epoch 0 | Loss: 1.6266798973083496 | Accuracy: 28.125%\n",
            "GB | Epoch 0 | Loss: 1.5997376441955566 | Accuracy: 12.5%\n",
            "GB | Epoch 0 | Loss: 1.6122629642486572 | Accuracy: 25.0%\n",
            "GB | Epoch 0 | Loss: 1.6127345561981201 | Accuracy: 28.125%\n",
            "GB | Epoch 0 | Loss: 1.6093146800994873 | Accuracy: 28.125%\n",
            "GB | Epoch 0 | Loss: 1.618194341659546 | Accuracy: 20.3125%\n"
          ]
        },
        {
          "output_type": "stream",
          "name": "stderr",
          "text": [
            "Epoch 0:   2%|▏         | 14/751 [00:00<00:25, 28.79batch/s, accuracy=10.9375%, loss=1.62]"
          ]
        },
        {
          "output_type": "stream",
          "name": "stdout",
          "text": [
            "GB | Epoch 0 | Loss: 1.6095609664916992 | Accuracy: 18.75%\n",
            "GB | Epoch 0 | Loss: 1.6089539527893066 | Accuracy: 21.875%\n",
            "GB | Epoch 0 | Loss: 1.6146961450576782 | Accuracy: 21.875%\n",
            "GB | Epoch 0 | Loss: 1.6202805042266846 | Accuracy: 14.0625%\n",
            "GB | Epoch 0 | Loss: 1.6135129928588867 | Accuracy: 31.25%\n",
            "GB | Epoch 0 | Loss: 1.6195178031921387 | Accuracy: 20.3125%\n",
            "GB | Epoch 0 | Loss: 1.6012914180755615 | Accuracy: 26.5625%\n",
            "GB | Epoch 0 | Loss: 1.6157077550888062 | Accuracy: 12.5%\n",
            "GB | Epoch 0 | Loss: 1.6092129945755005 | Accuracy: 15.625%\n",
            "GB | Epoch 0 | Loss: 1.6184656620025635 | Accuracy: 10.9375%"
          ]
        },
        {
          "output_type": "stream",
          "name": "stderr",
          "text": [
            "Epoch 0:   3%|▎         | 24/751 [00:00<00:20, 36.09batch/s, accuracy=23.4375%, loss=1.61]"
          ]
        },
        {
          "output_type": "stream",
          "name": "stdout",
          "text": [
            "\n",
            "GB | Epoch 0 | Loss: 1.6092638969421387 | Accuracy: 32.8125%\n",
            "GB | Epoch 0 | Loss: 1.5989326238632202 | Accuracy: 23.4375%\n",
            "GB | Epoch 0 | Loss: 1.6134318113327026 | Accuracy: 20.3125%\n",
            "GB | Epoch 0 | Loss: 1.6126651763916016 | Accuracy: 15.625%\n",
            "GB | Epoch 0 | Loss: 1.6175007820129395 | Accuracy: 25.0%\n",
            "GB | Epoch 0 | Loss: 1.6228060722351074 | Accuracy: 15.625%\n",
            "GB | Epoch 0 | Loss: 1.6165801286697388 | Accuracy: 20.3125%\n",
            "GB | Epoch 0 | Loss: 1.6098576784133911 | Accuracy: 23.4375%\n"
          ]
        },
        {
          "output_type": "stream",
          "name": "stderr",
          "text": [
            "Epoch 0:   4%|▍         | 32/751 [00:01<00:20, 35.31batch/s, accuracy=32.8125%, loss=1.59]"
          ]
        },
        {
          "output_type": "stream",
          "name": "stdout",
          "text": [
            "GB | Epoch 0 | Loss: 1.6121817827224731 | Accuracy: 23.4375%\n",
            "GB | Epoch 0 | Loss: 1.6137559413909912 | Accuracy: 18.75%\n",
            "GB | Epoch 0 | Loss: 1.6081551313400269 | Accuracy: 28.125%\n",
            "GB | Epoch 0 | Loss: 1.6078135967254639 | Accuracy: 28.125%\n",
            "GB | Epoch 0 | Loss: 1.6128684282302856 | Accuracy: 20.3125%\n",
            "GB | Epoch 0 | Loss: 1.61713445186615 | Accuracy: 25.0%\n",
            "GB | Epoch 0 | Loss: 1.609475016593933 | Accuracy: 17.1875%\n",
            "GB | Epoch 0 | Loss: 1.6044948101043701 | Accuracy: 26.5625%\n"
          ]
        },
        {
          "output_type": "stream",
          "name": "stderr",
          "text": [
            "Epoch 0:   6%|▌         | 42/751 [00:01<00:17, 41.09batch/s, accuracy=21.875%, loss=1.62]"
          ]
        },
        {
          "output_type": "stream",
          "name": "stdout",
          "text": [
            "GB | Epoch 0 | Loss: 1.5926697254180908 | Accuracy: 32.8125%\n",
            "GB | Epoch 0 | Loss: 1.6116738319396973 | Accuracy: 25.0%\n",
            "GB | Epoch 0 | Loss: 1.6023931503295898 | Accuracy: 25.0%\n",
            "GB | Epoch 0 | Loss: 1.6247708797454834 | Accuracy: 10.9375%\n",
            "GB | Epoch 0 | Loss: 1.6143587827682495 | Accuracy: 15.625%\n",
            "GB | Epoch 0 | Loss: 1.6053050756454468 | Accuracy: 29.6875%\n",
            "GB | Epoch 0 | Loss: 1.6114203929901123 | Accuracy: 25.0%\n",
            "GB | Epoch 0 | Loss: 1.6125911474227905 | Accuracy: 28.125%\n",
            "GB | Epoch 0 | Loss: 1.6026533842086792 | Accuracy: 23.4375%\n",
            "GB | Epoch 0 | Loss: 1.6162816286087036 | Accuracy: 21.875%\n"
          ]
        },
        {
          "output_type": "stream",
          "name": "stderr",
          "text": [
            "Epoch 0:   6%|▋         | 47/751 [00:01<00:17, 40.42batch/s, accuracy=32.8125%, loss=1.6]"
          ]
        },
        {
          "output_type": "stream",
          "name": "stdout",
          "text": [
            "GB | Epoch 0 | Loss: 1.6118980646133423 | Accuracy: 23.4375%\n",
            "GB | Epoch 0 | Loss: 1.609850287437439 | Accuracy: 18.75%\n",
            "GB | Epoch 0 | Loss: 1.6094908714294434 | Accuracy: 21.875%\n",
            "GB | Epoch 0 | Loss: 1.6247360706329346 | Accuracy: 14.0625%\n",
            "GB | Epoch 0 | Loss: 1.611025094985962 | Accuracy: 31.25%\n",
            "GB | Epoch 0 | Loss: 1.6098395586013794 | Accuracy: 25.0%\n",
            "GB | Epoch 0 | Loss: 1.6021863222122192 | Accuracy: 21.875%\n",
            "GB | Epoch 0 | Loss: 1.6165175437927246 | Accuracy: 18.75%\n",
            "GB | Epoch 0 | Loss: 1.6033648252487183 | Accuracy: 32.8125%\n"
          ]
        },
        {
          "output_type": "stream",
          "name": "stderr",
          "text": [
            "Epoch 0:   8%|▊         | 60/751 [00:01<00:13, 51.31batch/s, accuracy=31.25%, loss=1.61]  "
          ]
        },
        {
          "output_type": "stream",
          "name": "stdout",
          "text": [
            "GB | Epoch 0 | Loss: 1.6100614070892334 | Accuracy: 29.6875%\n",
            "GB | Epoch 0 | Loss: 1.6045632362365723 | Accuracy: 21.875%\n",
            "GB | Epoch 0 | Loss: 1.6095795631408691 | Accuracy: 18.75%\n",
            "GB | Epoch 0 | Loss: 1.6101157665252686 | Accuracy: 25.0%\n",
            "GB | Epoch 0 | Loss: 1.6039226055145264 | Accuracy: 28.125%\n",
            "GB | Epoch 0 | Loss: 1.609861135482788 | Accuracy: 29.6875%\n",
            "GB | Epoch 0 | Loss: 1.6052556037902832 | Accuracy: 31.25%\n",
            "GB | Epoch 0 | Loss: 1.6121904850006104 | Accuracy: 21.875%\n",
            "GB | Epoch 0 | Loss: 1.6019389629364014 | Accuracy: 29.6875%\n",
            "GB | Epoch 0 | Loss: 1.6042585372924805 | Accuracy: 26.5625%\n",
            "GB | Epoch 0 | Loss: 1.5995832681655884 | Accuracy: 18.75%\n",
            "GB | Epoch 0 | Loss: 1.6072359085083008 | Accuracy: 32.8125%\n",
            "GB | Epoch 0 | Loss: 1.5987874269485474 | Accuracy: 37.5%\n",
            "GB | Epoch 0 | Loss: 1.6077882051467896 | Accuracy: 23.4375%\n",
            "GB | Epoch 0 | Loss: 1.6056746244430542 | Accuracy: 31.25%\n"
          ]
        },
        {
          "output_type": "stream",
          "name": "stderr",
          "text": [
            "Epoch 0:  10%|▉         | 74/751 [00:01<00:13, 51.97batch/s, accuracy=31.25%, loss=1.6]"
          ]
        },
        {
          "output_type": "stream",
          "name": "stdout",
          "text": [
            "GB | Epoch 0 | Loss: 1.6163685321807861 | Accuracy: 23.4375%\n",
            "GB | Epoch 0 | Loss: 1.608124852180481 | Accuracy: 32.8125%\n",
            "GB | Epoch 0 | Loss: 1.5998221635818481 | Accuracy: 37.5%\n",
            "GB | Epoch 0 | Loss: 1.6177294254302979 | Accuracy: 20.3125%\n",
            "GB | Epoch 0 | Loss: 1.6015770435333252 | Accuracy: 32.8125%\n",
            "GB | Epoch 0 | Loss: 1.6038509607315063 | Accuracy: 26.5625%\n",
            "GB | Epoch 0 | Loss: 1.6071263551712036 | Accuracy: 25.0%\n",
            "GB | Epoch 0 | Loss: 1.6047115325927734 | Accuracy: 31.25%\n"
          ]
        },
        {
          "output_type": "stream",
          "name": "stderr",
          "text": [
            "Epoch 0:  11%|█▏        | 85/751 [00:02<00:13, 48.86batch/s, accuracy=28.125%, loss=1.62]"
          ]
        },
        {
          "output_type": "stream",
          "name": "stdout",
          "text": [
            "GB | Epoch 0 | Loss: 1.609351396560669 | Accuracy: 23.4375%\n",
            "GB | Epoch 0 | Loss: 1.6072794198989868 | Accuracy: 32.8125%\n",
            "GB | Epoch 0 | Loss: 1.603497862815857 | Accuracy: 35.9375%\n",
            "GB | Epoch 0 | Loss: 1.6134589910507202 | Accuracy: 25.0%\n",
            "GB | Epoch 0 | Loss: 1.6090044975280762 | Accuracy: 28.125%\n",
            "GB | Epoch 0 | Loss: 1.6016877889633179 | Accuracy: 37.5%\n",
            "GB | Epoch 0 | Loss: 1.5928199291229248 | Accuracy: 37.5%\n",
            "GB | Epoch 0 | Loss: 1.6029279232025146 | Accuracy: 28.125%\n",
            "GB | Epoch 0 | Loss: 1.6018595695495605 | Accuracy: 28.125%\n",
            "GB | Epoch 0 | Loss: 1.6153295040130615 | Accuracy: 28.125%\n"
          ]
        },
        {
          "output_type": "stream",
          "name": "stderr",
          "text": [
            "Epoch 0:  12%|█▏        | 90/751 [00:02<00:13, 47.66batch/s, accuracy=34.375%, loss=1.6]"
          ]
        },
        {
          "output_type": "stream",
          "name": "stdout",
          "text": [
            "GB | Epoch 0 | Loss: 1.6117483377456665 | Accuracy: 31.25%\n",
            "GB | Epoch 0 | Loss: 1.6159887313842773 | Accuracy: 23.4375%\n",
            "GB | Epoch 0 | Loss: 1.620679497718811 | Accuracy: 20.3125%\n",
            "GB | Epoch 0 | Loss: 1.6120833158493042 | Accuracy: 26.5625%\n",
            "GB | Epoch 0 | Loss: 1.6001386642456055 | Accuracy: 42.1875%\n",
            "GB | Epoch 0 | Loss: 1.5963612794876099 | Accuracy: 34.375%\n",
            "GB | Epoch 0 | Loss: 1.6008965969085693 | Accuracy: 34.375%\n",
            "GB | Epoch 0 | Loss: 1.6037031412124634 | Accuracy: 34.375%\n"
          ]
        },
        {
          "output_type": "stream",
          "name": "stderr",
          "text": [
            "Epoch 0:  13%|█▎        | 100/751 [00:02<00:17, 36.86batch/s, accuracy=40.625%, loss=1.6]"
          ]
        },
        {
          "output_type": "stream",
          "name": "stdout",
          "text": [
            "GB | Epoch 0 | Loss: 1.6073572635650635 | Accuracy: 25.0%\n",
            "GB | Epoch 0 | Loss: 1.6032302379608154 | Accuracy: 29.6875%\n",
            "GB | Epoch 0 | Loss: 1.6071693897247314 | Accuracy: 23.4375%\n",
            "GB | Epoch 0 | Loss: 1.6135387420654297 | Accuracy: 26.5625%\n",
            "GB | Epoch 0 | Loss: 1.6016172170639038 | Accuracy: 32.8125%\n",
            "GB | Epoch 0 | Loss: 1.6067267656326294 | Accuracy: 28.125%\n",
            "GB | Epoch 0 | Loss: 1.6024518013000488 | Accuracy: 40.625%\n"
          ]
        },
        {
          "output_type": "stream",
          "name": "stderr",
          "text": [
            "Epoch 0:  15%|█▍        | 110/751 [00:02<00:15, 40.68batch/s, accuracy=25.0%, loss=1.61]"
          ]
        },
        {
          "output_type": "stream",
          "name": "stdout",
          "text": [
            "GB | Epoch 0 | Loss: 1.6127644777297974 | Accuracy: 23.4375%\n",
            "GB | Epoch 0 | Loss: 1.6030677556991577 | Accuracy: 39.0625%\n",
            "GB | Epoch 0 | Loss: 1.611812710762024 | Accuracy: 23.4375%\n",
            "GB | Epoch 0 | Loss: 1.6108688116073608 | Accuracy: 20.3125%\n",
            "GB | Epoch 0 | Loss: 1.616623878479004 | Accuracy: 21.875%\n",
            "GB | Epoch 0 | Loss: 1.609283685684204 | Accuracy: 25.0%\n",
            "GB | Epoch 0 | Loss: 1.6075692176818848 | Accuracy: 28.125%\n",
            "GB | Epoch 0 | Loss: 1.6054903268814087 | Accuracy: 26.5625%\n",
            "GB | Epoch 0 | Loss: 1.6088021993637085 | Accuracy: 25.0%\n",
            "GB | Epoch 0 | Loss: 1.6089446544647217 | Accuracy: 25.0%\n"
          ]
        },
        {
          "output_type": "stream",
          "name": "stderr",
          "text": [
            "Epoch 0:  17%|█▋        | 127/751 [00:03<00:10, 60.30batch/s, accuracy=20.3125%, loss=1.6]"
          ]
        },
        {
          "output_type": "stream",
          "name": "stdout",
          "text": [
            "GB | Epoch 0 | Loss: 1.6027060747146606 | Accuracy: 31.25%\n",
            "GB | Epoch 0 | Loss: 1.6105488538742065 | Accuracy: 34.375%\n",
            "GB | Epoch 0 | Loss: 1.6094200611114502 | Accuracy: 25.0%\n",
            "GB | Epoch 0 | Loss: 1.6128009557724 | Accuracy: 29.6875%\n",
            "GB | Epoch 0 | Loss: 1.60103178024292 | Accuracy: 32.8125%\n",
            "GB | Epoch 0 | Loss: 1.603694200515747 | Accuracy: 34.375%\n",
            "GB | Epoch 0 | Loss: 1.6031666994094849 | Accuracy: 35.9375%\n",
            "GB | Epoch 0 | Loss: 1.6037322282791138 | Accuracy: 35.9375%\n",
            "GB | Epoch 0 | Loss: 1.6073094606399536 | Accuracy: 34.375%\n",
            "GB | Epoch 0 | Loss: 1.6100925207138062 | Accuracy: 28.125%\n",
            "GB | Epoch 0 | Loss: 1.609263300895691 | Accuracy: 20.3125%\n",
            "GB | Epoch 0 | Loss: 1.6072020530700684 | Accuracy: 34.375%\n",
            "GB | Epoch 0 | Loss: 1.5996451377868652 | Accuracy: 35.9375%\n",
            "GB | Epoch 0 | Loss: 1.6069480180740356 | Accuracy: 31.25%\n",
            "GB | Epoch 0 | Loss: 1.6001495122909546 | Accuracy: 35.9375%\n",
            "GB | Epoch 0 | Loss: 1.5942564010620117 | Accuracy: 35.9375%\n",
            "GB | Epoch 0 | Loss: 1.6062716245651245 | Accuracy: 26.5625%\n",
            "GB | Epoch 0 | Loss: 1.6059290170669556 | Accuracy: 25.0%\n"
          ]
        },
        {
          "output_type": "stream",
          "name": "stderr",
          "text": [
            "Epoch 0:  19%|█▉        | 146/751 [00:03<00:07, 75.65batch/s, accuracy=28.125%, loss=1.61]"
          ]
        },
        {
          "output_type": "stream",
          "name": "stdout",
          "text": [
            "GB | Epoch 0 | Loss: 1.6010903120040894 | Accuracy: 20.3125%\n",
            "GB | Epoch 0 | Loss: 1.6059118509292603 | Accuracy: 29.6875%\n",
            "GB | Epoch 0 | Loss: 1.6051219701766968 | Accuracy: 25.0%\n",
            "GB | Epoch 0 | Loss: 1.6125980615615845 | Accuracy: 20.3125%\n",
            "GB | Epoch 0 | Loss: 1.604150652885437 | Accuracy: 28.125%\n",
            "GB | Epoch 0 | Loss: 1.6026451587677002 | Accuracy: 31.25%\n",
            "GB | Epoch 0 | Loss: 1.60411536693573 | Accuracy: 34.375%\n",
            "GB | Epoch 0 | Loss: 1.5997012853622437 | Accuracy: 39.0625%\n",
            "GB | Epoch 0 | Loss: 1.6030079126358032 | Accuracy: 42.1875%\n",
            "GB | Epoch 0 | Loss: 1.6010310649871826 | Accuracy: 32.8125%\n",
            "GB | Epoch 0 | Loss: 1.60279381275177 | Accuracy: 39.0625%\n",
            "GB | Epoch 0 | Loss: 1.6038928031921387 | Accuracy: 18.75%\n",
            "GB | Epoch 0 | Loss: 1.6035325527191162 | Accuracy: 31.25%\n",
            "GB | Epoch 0 | Loss: 1.6037746667861938 | Accuracy: 39.0625%\n",
            "GB | Epoch 0 | Loss: 1.594031810760498 | Accuracy: 46.875%\n",
            "GB | Epoch 0 | Loss: 1.6054242849349976 | Accuracy: 32.8125%\n",
            "GB | Epoch 0 | Loss: 1.6079981327056885 | Accuracy: 28.125%\n",
            "GB | Epoch 0 | Loss: 1.6014927625656128 | Accuracy: 35.9375%\n",
            "GB | Epoch 0 | Loss: 1.6067752838134766 | Accuracy: 28.125%\n"
          ]
        },
        {
          "output_type": "stream",
          "name": "stderr",
          "text": [
            "Epoch 0:  21%|██        | 155/751 [00:03<00:07, 77.25batch/s, accuracy=18.75%, loss=1.6] "
          ]
        },
        {
          "output_type": "stream",
          "name": "stdout",
          "text": [
            "GB | Epoch 0 | Loss: 1.597648024559021 | Accuracy: 39.0625%\n",
            "GB | Epoch 0 | Loss: 1.607633113861084 | Accuracy: 28.125%\n",
            "GB | Epoch 0 | Loss: 1.6067969799041748 | Accuracy: 29.6875%\n",
            "GB | Epoch 0 | Loss: 1.6055357456207275 | Accuracy: 25.0%\n",
            "GB | Epoch 0 | Loss: 1.595213770866394 | Accuracy: 26.5625%\n",
            "GB | Epoch 0 | Loss: 1.6072489023208618 | Accuracy: 29.6875%\n",
            "GB | Epoch 0 | Loss: 1.6081550121307373 | Accuracy: 23.4375%\n",
            "GB | Epoch 0 | Loss: 1.6023509502410889 | Accuracy: 37.5%\n",
            "GB | Epoch 0 | Loss: 1.6071302890777588 | Accuracy: 26.5625%\n",
            "GB | Epoch 0 | Loss: 1.6041146516799927 | Accuracy: 21.875%\n",
            "GB | Epoch 0 | Loss: 1.6054706573486328 | Accuracy: 29.6875%\n",
            "GB | Epoch 0 | Loss: 1.6076700687408447 | Accuracy: 17.1875%\n",
            "GB | Epoch 0 | Loss: 1.6052725315093994 | Accuracy: 20.3125%\n",
            "GB | Epoch 0 | Loss: 1.595398187637329 | Accuracy: 32.8125%\n",
            "GB | Epoch 0 | Loss: 1.6035326719284058 | Accuracy: 21.875%\n"
          ]
        },
        {
          "output_type": "stream",
          "name": "stderr",
          "text": [
            "Epoch 0:  23%|██▎       | 172/751 [00:03<00:07, 77.15batch/s, accuracy=43.75%, loss=1.59] "
          ]
        },
        {
          "output_type": "stream",
          "name": "stdout",
          "text": [
            "GB | Epoch 0 | Loss: 1.604338526725769 | Accuracy: 18.75%\n",
            "GB | Epoch 0 | Loss: 1.6073912382125854 | Accuracy: 23.4375%\n",
            "GB | Epoch 0 | Loss: 1.6098110675811768 | Accuracy: 23.4375%\n",
            "GB | Epoch 0 | Loss: 1.5995622873306274 | Accuracy: 31.25%\n",
            "GB | Epoch 0 | Loss: 1.5964773893356323 | Accuracy: 29.6875%\n",
            "GB | Epoch 0 | Loss: 1.60617995262146 | Accuracy: 23.4375%\n",
            "GB | Epoch 0 | Loss: 1.6055244207382202 | Accuracy: 23.4375%\n",
            "GB | Epoch 0 | Loss: 1.606708288192749 | Accuracy: 21.875%\n",
            "GB | Epoch 0 | Loss: 1.6063423156738281 | Accuracy: 26.5625%\n",
            "GB | Epoch 0 | Loss: 1.6050770282745361 | Accuracy: 29.6875%\n",
            "GB | Epoch 0 | Loss: 1.6009635925292969 | Accuracy: 26.5625%\n",
            "GB | Epoch 0 | Loss: 1.604798674583435 | Accuracy: 29.6875%\n",
            "GB | Epoch 0 | Loss: 1.604249119758606 | Accuracy: 21.875%\n",
            "GB | Epoch 0 | Loss: 1.5978891849517822 | Accuracy: 29.6875%\n",
            "GB | Epoch 0 | Loss: 1.5987040996551514 | Accuracy: 32.8125%\n",
            "GB | Epoch 0 | Loss: 1.5989201068878174 | Accuracy: 35.9375%\n",
            "GB | Epoch 0 | Loss: 1.5985727310180664 | Accuracy: 26.5625%\n",
            "GB | Epoch 0 | Loss: 1.5946366786956787 | Accuracy: 43.75%\n"
          ]
        },
        {
          "output_type": "stream",
          "name": "stderr",
          "text": [
            "Epoch 0:  25%|██▌       | 190/751 [00:03<00:07, 80.10batch/s, accuracy=29.6875%, loss=1.6]"
          ]
        },
        {
          "output_type": "stream",
          "name": "stdout",
          "text": [
            "GB | Epoch 0 | Loss: 1.5923413038253784 | Accuracy: 29.6875%\n",
            "GB | Epoch 0 | Loss: 1.598264455795288 | Accuracy: 26.5625%\n",
            "GB | Epoch 0 | Loss: 1.6046119928359985 | Accuracy: 26.5625%\n",
            "GB | Epoch 0 | Loss: 1.6043115854263306 | Accuracy: 32.8125%\n",
            "GB | Epoch 0 | Loss: 1.6029505729675293 | Accuracy: 28.125%\n",
            "GB | Epoch 0 | Loss: 1.6017875671386719 | Accuracy: 25.0%\n",
            "GB | Epoch 0 | Loss: 1.6031755208969116 | Accuracy: 18.75%\n",
            "GB | Epoch 0 | Loss: 1.5978665351867676 | Accuracy: 26.5625%\n",
            "GB | Epoch 0 | Loss: 1.6007555723190308 | Accuracy: 26.5625%\n",
            "GB | Epoch 0 | Loss: 1.5982221364974976 | Accuracy: 31.25%\n",
            "GB | Epoch 0 | Loss: 1.6041710376739502 | Accuracy: 29.6875%\n",
            "GB | Epoch 0 | Loss: 1.6071163415908813 | Accuracy: 18.75%\n",
            "GB | Epoch 0 | Loss: 1.6017096042633057 | Accuracy: 28.125%\n",
            "GB | Epoch 0 | Loss: 1.6031688451766968 | Accuracy: 20.3125%\n",
            "GB | Epoch 0 | Loss: 1.6039618253707886 | Accuracy: 25.0%\n",
            "GB | Epoch 0 | Loss: 1.597078800201416 | Accuracy: 29.6875%\n"
          ]
        },
        {
          "output_type": "stream",
          "name": "stderr",
          "text": [
            "Epoch 0:  28%|██▊       | 207/751 [00:04<00:07, 77.56batch/s, accuracy=21.875%, loss=1.6]"
          ]
        },
        {
          "output_type": "stream",
          "name": "stdout",
          "text": [
            "GB | Epoch 0 | Loss: 1.596232295036316 | Accuracy: 39.0625%\n",
            "GB | Epoch 0 | Loss: 1.5993584394454956 | Accuracy: 25.0%\n",
            "GB | Epoch 0 | Loss: 1.6045387983322144 | Accuracy: 20.3125%\n",
            "GB | Epoch 0 | Loss: 1.6025567054748535 | Accuracy: 23.4375%\n",
            "GB | Epoch 0 | Loss: 1.596886396408081 | Accuracy: 35.9375%\n",
            "GB | Epoch 0 | Loss: 1.6009013652801514 | Accuracy: 31.25%\n",
            "GB | Epoch 0 | Loss: 1.5978633165359497 | Accuracy: 31.25%\n",
            "GB | Epoch 0 | Loss: 1.5956835746765137 | Accuracy: 29.6875%\n",
            "GB | Epoch 0 | Loss: 1.6040376424789429 | Accuracy: 23.4375%\n",
            "GB | Epoch 0 | Loss: 1.5929797887802124 | Accuracy: 29.6875%\n",
            "GB | Epoch 0 | Loss: 1.6060340404510498 | Accuracy: 14.0625%\n",
            "GB | Epoch 0 | Loss: 1.599675178527832 | Accuracy: 35.9375%\n",
            "GB | Epoch 0 | Loss: 1.6040370464324951 | Accuracy: 23.4375%\n",
            "GB | Epoch 0 | Loss: 1.595668911933899 | Accuracy: 29.6875%\n",
            "GB | Epoch 0 | Loss: 1.6051424741744995 | Accuracy: 18.75%\n",
            "GB | Epoch 0 | Loss: 1.6023919582366943 | Accuracy: 21.875%\n"
          ]
        },
        {
          "output_type": "stream",
          "name": "stderr",
          "text": [
            "Epoch 0:  30%|██▉       | 224/751 [00:04<00:06, 79.56batch/s, accuracy=26.5625%, loss=1.6]"
          ]
        },
        {
          "output_type": "stream",
          "name": "stdout",
          "text": [
            "GB | Epoch 0 | Loss: 1.6065400838851929 | Accuracy: 20.3125%\n",
            "GB | Epoch 0 | Loss: 1.6080398559570312 | Accuracy: 23.4375%\n",
            "GB | Epoch 0 | Loss: 1.5941616296768188 | Accuracy: 35.9375%\n",
            "GB | Epoch 0 | Loss: 1.6014447212219238 | Accuracy: 23.4375%\n",
            "GB | Epoch 0 | Loss: 1.5932972431182861 | Accuracy: 35.9375%\n",
            "GB | Epoch 0 | Loss: 1.6025760173797607 | Accuracy: 21.875%\n",
            "GB | Epoch 0 | Loss: 1.600853443145752 | Accuracy: 23.4375%\n",
            "GB | Epoch 0 | Loss: 1.5999953746795654 | Accuracy: 28.125%\n",
            "GB | Epoch 0 | Loss: 1.592532753944397 | Accuracy: 31.25%\n",
            "GB | Epoch 0 | Loss: 1.5930248498916626 | Accuracy: 35.9375%\n",
            "GB | Epoch 0 | Loss: 1.5963373184204102 | Accuracy: 28.125%\n",
            "GB | Epoch 0 | Loss: 1.5995151996612549 | Accuracy: 20.3125%\n",
            "GB | Epoch 0 | Loss: 1.6051682233810425 | Accuracy: 17.1875%\n",
            "GB | Epoch 0 | Loss: 1.5998347997665405 | Accuracy: 23.4375%\n",
            "GB | Epoch 0 | Loss: 1.5954155921936035 | Accuracy: 31.25%\n",
            "GB | Epoch 0 | Loss: 1.6009036302566528 | Accuracy: 21.875%\n",
            "GB | Epoch 0 | Loss: 1.6006617546081543 | Accuracy: 25.0%\n",
            "GB | Epoch 0 | Loss: 1.6024054288864136 | Accuracy: 26.5625%\n"
          ]
        },
        {
          "output_type": "stream",
          "name": "stderr",
          "text": [
            "Epoch 0:  32%|███▏      | 243/751 [00:04<00:06, 84.35batch/s, accuracy=28.125%, loss=1.6]  "
          ]
        },
        {
          "output_type": "stream",
          "name": "stdout",
          "text": [
            "GB | Epoch 0 | Loss: 1.6009150743484497 | Accuracy: 23.4375%\n",
            "GB | Epoch 0 | Loss: 1.5985164642333984 | Accuracy: 28.125%\n",
            "GB | Epoch 0 | Loss: 1.5867723226547241 | Accuracy: 37.5%\n",
            "GB | Epoch 0 | Loss: 1.5936373472213745 | Accuracy: 35.9375%\n",
            "GB | Epoch 0 | Loss: 1.5956039428710938 | Accuracy: 28.125%\n",
            "GB | Epoch 0 | Loss: 1.5987930297851562 | Accuracy: 28.125%\n",
            "GB | Epoch 0 | Loss: 1.5991380214691162 | Accuracy: 32.8125%\n",
            "GB | Epoch 0 | Loss: 1.6067500114440918 | Accuracy: 17.1875%\n",
            "GB | Epoch 0 | Loss: 1.6014596223831177 | Accuracy: 26.5625%\n",
            "GB | Epoch 0 | Loss: 1.592414140701294 | Accuracy: 39.0625%\n",
            "GB | Epoch 0 | Loss: 1.5970038175582886 | Accuracy: 25.0%\n",
            "GB | Epoch 0 | Loss: 1.6042546033859253 | Accuracy: 31.25%\n",
            "GB | Epoch 0 | Loss: 1.5953142642974854 | Accuracy: 29.6875%\n",
            "GB | Epoch 0 | Loss: 1.5933083295822144 | Accuracy: 31.25%\n",
            "GB | Epoch 0 | Loss: 1.5926899909973145 | Accuracy: 35.9375%\n",
            "GB | Epoch 0 | Loss: 1.5949780941009521 | Accuracy: 25.0%\n",
            "GB | Epoch 0 | Loss: 1.595534086227417 | Accuracy: 32.8125%\n",
            "GB | Epoch 0 | Loss: 1.589261531829834 | Accuracy: 42.1875%\n",
            "GB | Epoch 0 | Loss: 1.5997717380523682 | Accuracy: 28.125%\n"
          ]
        },
        {
          "output_type": "stream",
          "name": "stderr",
          "text": [
            "Epoch 0:  35%|███▌      | 263/751 [00:04<00:05, 91.18batch/s, accuracy=26.5625%, loss=1.59]"
          ]
        },
        {
          "output_type": "stream",
          "name": "stdout",
          "text": [
            "GB | Epoch 0 | Loss: 1.600821614265442 | Accuracy: 25.0%\n",
            "GB | Epoch 0 | Loss: 1.594464659690857 | Accuracy: 29.6875%\n",
            "GB | Epoch 0 | Loss: 1.593064785003662 | Accuracy: 35.9375%\n",
            "GB | Epoch 0 | Loss: 1.5913721323013306 | Accuracy: 25.0%\n",
            "GB | Epoch 0 | Loss: 1.5850735902786255 | Accuracy: 35.9375%\n",
            "GB | Epoch 0 | Loss: 1.5897449254989624 | Accuracy: 40.625%\n",
            "GB | Epoch 0 | Loss: 1.5882141590118408 | Accuracy: 31.25%\n",
            "GB | Epoch 0 | Loss: 1.5952191352844238 | Accuracy: 28.125%\n",
            "GB | Epoch 0 | Loss: 1.6022698879241943 | Accuracy: 21.875%\n",
            "GB | Epoch 0 | Loss: 1.5951834917068481 | Accuracy: 26.5625%\n",
            "GB | Epoch 0 | Loss: 1.5877248048782349 | Accuracy: 34.375%\n",
            "GB | Epoch 0 | Loss: 1.5945895910263062 | Accuracy: 29.6875%\n",
            "GB | Epoch 0 | Loss: 1.5912357568740845 | Accuracy: 31.25%\n",
            "GB | Epoch 0 | Loss: 1.599353313446045 | Accuracy: 28.125%\n",
            "GB | Epoch 0 | Loss: 1.5930404663085938 | Accuracy: 29.6875%\n",
            "GB | Epoch 0 | Loss: 1.5982885360717773 | Accuracy: 18.75%\n",
            "GB | Epoch 0 | Loss: 1.593999981880188 | Accuracy: 26.5625%\n",
            "GB | Epoch 0 | Loss: 1.5897951126098633 | Accuracy: 34.375%\n",
            "GB | Epoch 0 | Loss: 1.58367121219635 | Accuracy: 39.0625%\n",
            "GB | Epoch 0 | Loss: 1.5945022106170654 | Accuracy: 26.5625%\n"
          ]
        },
        {
          "output_type": "stream",
          "name": "stderr",
          "text": [
            "Epoch 0:  38%|███▊      | 283/751 [00:04<00:04, 94.50batch/s, accuracy=26.5625%, loss=1.6] "
          ]
        },
        {
          "output_type": "stream",
          "name": "stdout",
          "text": [
            "GB | Epoch 0 | Loss: 1.5909761190414429 | Accuracy: 21.875%\n",
            "GB | Epoch 0 | Loss: 1.5976014137268066 | Accuracy: 28.125%\n",
            "GB | Epoch 0 | Loss: 1.5922690629959106 | Accuracy: 37.5%\n",
            "GB | Epoch 0 | Loss: 1.5794670581817627 | Accuracy: 40.625%\n",
            "GB | Epoch 0 | Loss: 1.5789952278137207 | Accuracy: 37.5%\n",
            "GB | Epoch 0 | Loss: 1.6036282777786255 | Accuracy: 34.375%\n",
            "GB | Epoch 0 | Loss: 1.590828537940979 | Accuracy: 21.875%\n",
            "GB | Epoch 0 | Loss: 1.6009324789047241 | Accuracy: 29.6875%\n",
            "GB | Epoch 0 | Loss: 1.5933767557144165 | Accuracy: 25.0%\n",
            "GB | Epoch 0 | Loss: 1.5988023281097412 | Accuracy: 25.0%\n",
            "GB | Epoch 0 | Loss: 1.5928175449371338 | Accuracy: 34.375%\n",
            "GB | Epoch 0 | Loss: 1.5886503458023071 | Accuracy: 34.375%\n",
            "GB | Epoch 0 | Loss: 1.5808790922164917 | Accuracy: 37.5%\n",
            "GB | Epoch 0 | Loss: 1.5983909368515015 | Accuracy: 42.1875%\n",
            "GB | Epoch 0 | Loss: 1.592624545097351 | Accuracy: 40.625%\n",
            "GB | Epoch 0 | Loss: 1.5875263214111328 | Accuracy: 34.375%\n",
            "GB | Epoch 0 | Loss: 1.5900779962539673 | Accuracy: 34.375%\n",
            "GB | Epoch 0 | Loss: 1.584916591644287 | Accuracy: 31.25%\n",
            "GB | Epoch 0 | Loss: 1.5915921926498413 | Accuracy: 32.8125%\n",
            "GB | Epoch 0 | Loss: 1.5855791568756104 | Accuracy: 45.3125%\n"
          ]
        },
        {
          "output_type": "stream",
          "name": "stderr",
          "text": [
            "Epoch 0:  40%|████      | 303/751 [00:05<00:04, 93.41batch/s, accuracy=50.0%, loss=1.58]  "
          ]
        },
        {
          "output_type": "stream",
          "name": "stdout",
          "text": [
            "GB | Epoch 0 | Loss: 1.598691701889038 | Accuracy: 26.5625%\n",
            "GB | Epoch 0 | Loss: 1.6052460670471191 | Accuracy: 20.3125%\n",
            "GB | Epoch 0 | Loss: 1.588382363319397 | Accuracy: 34.375%\n",
            "GB | Epoch 0 | Loss: 1.5834177732467651 | Accuracy: 45.3125%\n",
            "GB | Epoch 0 | Loss: 1.5880836248397827 | Accuracy: 39.0625%\n",
            "GB | Epoch 0 | Loss: 1.5844531059265137 | Accuracy: 45.3125%\n",
            "GB | Epoch 0 | Loss: 1.5831300020217896 | Accuracy: 53.125%\n",
            "GB | Epoch 0 | Loss: 1.5877206325531006 | Accuracy: 46.875%\n",
            "GB | Epoch 0 | Loss: 1.602909803390503 | Accuracy: 34.375%\n",
            "GB | Epoch 0 | Loss: 1.5951145887374878 | Accuracy: 37.5%\n",
            "GB | Epoch 0 | Loss: 1.599287509918213 | Accuracy: 37.5%\n",
            "GB | Epoch 0 | Loss: 1.5816426277160645 | Accuracy: 46.875%\n",
            "GB | Epoch 0 | Loss: 1.5943081378936768 | Accuracy: 35.9375%\n",
            "GB | Epoch 0 | Loss: 1.5856480598449707 | Accuracy: 39.0625%\n",
            "GB | Epoch 0 | Loss: 1.5790050029754639 | Accuracy: 48.4375%\n",
            "GB | Epoch 0 | Loss: 1.5859538316726685 | Accuracy: 42.1875%\n",
            "GB | Epoch 0 | Loss: 1.5903992652893066 | Accuracy: 46.875%\n",
            "GB | Epoch 0 | Loss: 1.5874642133712769 | Accuracy: 40.625%\n",
            "GB | Epoch 0 | Loss: 1.5828025341033936 | Accuracy: 50.0%\n"
          ]
        },
        {
          "output_type": "stream",
          "name": "stderr",
          "text": [
            "Epoch 0:  43%|████▎     | 323/751 [00:05<00:04, 88.65batch/s, accuracy=40.625%, loss=1.59]"
          ]
        },
        {
          "output_type": "stream",
          "name": "stdout",
          "text": [
            "GB | Epoch 0 | Loss: 1.6042840480804443 | Accuracy: 29.6875%\n",
            "GB | Epoch 0 | Loss: 1.595110297203064 | Accuracy: 31.25%\n",
            "GB | Epoch 0 | Loss: 1.586855173110962 | Accuracy: 45.3125%\n",
            "GB | Epoch 0 | Loss: 1.5846091508865356 | Accuracy: 53.125%\n",
            "GB | Epoch 0 | Loss: 1.595062017440796 | Accuracy: 39.0625%\n",
            "GB | Epoch 0 | Loss: 1.5896413326263428 | Accuracy: 39.0625%\n",
            "GB | Epoch 0 | Loss: 1.581038236618042 | Accuracy: 51.5625%\n",
            "GB | Epoch 0 | Loss: 1.5871326923370361 | Accuracy: 42.1875%\n",
            "GB | Epoch 0 | Loss: 1.5912002325057983 | Accuracy: 42.1875%\n",
            "GB | Epoch 0 | Loss: 1.5857806205749512 | Accuracy: 42.1875%\n",
            "GB | Epoch 0 | Loss: 1.5952931642532349 | Accuracy: 28.125%\n",
            "GB | Epoch 0 | Loss: 1.584114670753479 | Accuracy: 43.75%\n",
            "GB | Epoch 0 | Loss: 1.5955082178115845 | Accuracy: 40.625%\n",
            "GB | Epoch 0 | Loss: 1.5822407007217407 | Accuracy: 46.875%\n",
            "GB | Epoch 0 | Loss: 1.5921164751052856 | Accuracy: 42.1875%\n",
            "GB | Epoch 0 | Loss: 1.5778082609176636 | Accuracy: 50.0%\n",
            "GB | Epoch 0 | Loss: 1.5895427465438843 | Accuracy: 40.625%\n"
          ]
        },
        {
          "output_type": "stream",
          "name": "stderr",
          "text": [
            "Epoch 0:  45%|████▌     | 341/751 [00:05<00:04, 83.87batch/s, accuracy=34.375%, loss=1.59] "
          ]
        },
        {
          "output_type": "stream",
          "name": "stdout",
          "text": [
            "GB | Epoch 0 | Loss: 1.5874528884887695 | Accuracy: 45.3125%\n",
            "GB | Epoch 0 | Loss: 1.5891352891921997 | Accuracy: 35.9375%\n",
            "GB | Epoch 0 | Loss: 1.588404655456543 | Accuracy: 40.625%\n",
            "GB | Epoch 0 | Loss: 1.5807526111602783 | Accuracy: 40.625%\n",
            "GB | Epoch 0 | Loss: 1.5759941339492798 | Accuracy: 50.0%\n",
            "GB | Epoch 0 | Loss: 1.5812653303146362 | Accuracy: 50.0%\n",
            "GB | Epoch 0 | Loss: 1.5873570442199707 | Accuracy: 42.1875%\n",
            "GB | Epoch 0 | Loss: 1.5787216424942017 | Accuracy: 39.0625%\n",
            "GB | Epoch 0 | Loss: 1.5793919563293457 | Accuracy: 45.3125%\n",
            "GB | Epoch 0 | Loss: 1.5929204225540161 | Accuracy: 31.25%\n",
            "GB | Epoch 0 | Loss: 1.6008491516113281 | Accuracy: 29.6875%\n",
            "GB | Epoch 0 | Loss: 1.5788682699203491 | Accuracy: 39.0625%\n",
            "GB | Epoch 0 | Loss: 1.574944257736206 | Accuracy: 43.75%\n",
            "GB | Epoch 0 | Loss: 1.5790516138076782 | Accuracy: 35.9375%\n",
            "GB | Epoch 0 | Loss: 1.5833923816680908 | Accuracy: 34.375%\n",
            "GB | Epoch 0 | Loss: 1.572216510772705 | Accuracy: 45.3125%\n"
          ]
        },
        {
          "output_type": "stream",
          "name": "stderr",
          "text": [
            "Epoch 0:  47%|████▋     | 350/751 [00:05<00:04, 85.00batch/s, accuracy=39.0625%, loss=1.58]"
          ]
        },
        {
          "output_type": "stream",
          "name": "stdout",
          "text": [
            "GB | Epoch 0 | Loss: 1.5914576053619385 | Accuracy: 34.375%\n",
            "GB | Epoch 0 | Loss: 1.5699268579483032 | Accuracy: 45.3125%\n",
            "GB | Epoch 0 | Loss: 1.5821285247802734 | Accuracy: 46.875%\n",
            "GB | Epoch 0 | Loss: 1.5713046789169312 | Accuracy: 43.75%\n",
            "GB | Epoch 0 | Loss: 1.5894142389297485 | Accuracy: 40.625%\n",
            "GB | Epoch 0 | Loss: 1.5810149908065796 | Accuracy: 45.3125%\n",
            "GB | Epoch 0 | Loss: 1.5755888223648071 | Accuracy: 42.1875%\n",
            "GB | Epoch 0 | Loss: 1.5741899013519287 | Accuracy: 46.875%\n",
            "GB | Epoch 0 | Loss: 1.5865010023117065 | Accuracy: 39.0625%\n",
            "GB | Epoch 0 | Loss: 1.586404800415039 | Accuracy: 40.625%\n",
            "GB | Epoch 0 | Loss: 1.5755904912948608 | Accuracy: 42.1875%\n",
            "GB | Epoch 0 | Loss: 1.5942859649658203 | Accuracy: 39.0625%\n",
            "GB | Epoch 0 | Loss: 1.587863802909851 | Accuracy: 26.5625%\n",
            "GB | Epoch 0 | Loss: 1.5836198329925537 | Accuracy: 40.625%\n",
            "GB | Epoch 0 | Loss: 1.5951950550079346 | Accuracy: 35.9375%\n",
            "GB | Epoch 0 | Loss: 1.5744054317474365 | Accuracy: 45.3125%\n",
            "GB | Epoch 0 | Loss: 1.5741392374038696 | Accuracy: 39.0625%\n",
            "GB | Epoch 0 | Loss: 1.562927484512329 | Accuracy: 43.75%\n"
          ]
        },
        {
          "output_type": "stream",
          "name": "stderr",
          "text": [
            "Epoch 0:  49%|████▉     | 369/751 [00:05<00:04, 86.18batch/s, accuracy=43.75%, loss=1.56]  "
          ]
        },
        {
          "output_type": "stream",
          "name": "stdout",
          "text": [
            "GB | Epoch 0 | Loss: 1.5845586061477661 | Accuracy: 39.0625%\n",
            "GB | Epoch 0 | Loss: 1.5716415643692017 | Accuracy: 34.375%\n",
            "GB | Epoch 0 | Loss: 1.5877512693405151 | Accuracy: 35.9375%\n",
            "GB | Epoch 0 | Loss: 1.5729769468307495 | Accuracy: 29.6875%\n",
            "GB | Epoch 0 | Loss: 1.5741736888885498 | Accuracy: 43.75%\n",
            "GB | Epoch 0 | Loss: 1.582317590713501 | Accuracy: 29.6875%\n",
            "GB | Epoch 0 | Loss: 1.5715396404266357 | Accuracy: 50.0%\n",
            "GB | Epoch 0 | Loss: 1.5856187343597412 | Accuracy: 42.1875%\n",
            "GB | Epoch 0 | Loss: 1.5940600633621216 | Accuracy: 39.0625%\n",
            "GB | Epoch 0 | Loss: 1.5818283557891846 | Accuracy: 43.75%\n",
            "GB | Epoch 0 | Loss: 1.5639580488204956 | Accuracy: 35.9375%\n",
            "GB | Epoch 0 | Loss: 1.5541152954101562 | Accuracy: 48.4375%\n",
            "GB | Epoch 0 | Loss: 1.59024178981781 | Accuracy: 25.0%\n",
            "GB | Epoch 0 | Loss: 1.5888564586639404 | Accuracy: 32.8125%\n",
            "GB | Epoch 0 | Loss: 1.5647568702697754 | Accuracy: 39.0625%\n",
            "GB | Epoch 0 | Loss: 1.575490951538086 | Accuracy: 42.1875%\n",
            "GB | Epoch 0 | Loss: 1.5739712715148926 | Accuracy: 39.0625%\n"
          ]
        },
        {
          "output_type": "stream",
          "name": "stderr",
          "text": [
            "Epoch 0:  52%|█████▏    | 387/751 [00:06<00:04, 85.45batch/s, accuracy=28.125%, loss=1.59]"
          ]
        },
        {
          "output_type": "stream",
          "name": "stdout",
          "text": [
            "GB | Epoch 0 | Loss: 1.5640846490859985 | Accuracy: 43.75%\n",
            "GB | Epoch 0 | Loss: 1.5630384683609009 | Accuracy: 43.75%\n",
            "GB | Epoch 0 | Loss: 1.5767664909362793 | Accuracy: 42.1875%\n",
            "GB | Epoch 0 | Loss: 1.5910398960113525 | Accuracy: 32.8125%\n",
            "GB | Epoch 0 | Loss: 1.5621880292892456 | Accuracy: 32.8125%\n",
            "GB | Epoch 0 | Loss: 1.5808814764022827 | Accuracy: 29.6875%\n",
            "GB | Epoch 0 | Loss: 1.5610296726226807 | Accuracy: 42.1875%\n",
            "GB | Epoch 0 | Loss: 1.57198965549469 | Accuracy: 37.5%\n",
            "GB | Epoch 0 | Loss: 1.5658797025680542 | Accuracy: 42.1875%\n",
            "GB | Epoch 0 | Loss: 1.5622987747192383 | Accuracy: 42.1875%\n",
            "GB | Epoch 0 | Loss: 1.5541870594024658 | Accuracy: 43.75%\n",
            "GB | Epoch 0 | Loss: 1.585974097251892 | Accuracy: 34.375%\n",
            "GB | Epoch 0 | Loss: 1.5797487497329712 | Accuracy: 31.25%\n",
            "GB | Epoch 0 | Loss: 1.5590462684631348 | Accuracy: 43.75%\n",
            "GB | Epoch 0 | Loss: 1.560865879058838 | Accuracy: 40.625%\n",
            "GB | Epoch 0 | Loss: 1.5541136264801025 | Accuracy: 45.3125%\n",
            "GB | Epoch 0 | Loss: 1.5455666780471802 | Accuracy: 46.875%\n",
            "GB | Epoch 0 | Loss: 1.5945547819137573 | Accuracy: 28.125%\n"
          ]
        },
        {
          "output_type": "stream",
          "name": "stderr",
          "text": [
            "Epoch 0:  54%|█████▍    | 405/751 [00:06<00:04, 80.63batch/s, accuracy=43.75%, loss=1.56]  "
          ]
        },
        {
          "output_type": "stream",
          "name": "stdout",
          "text": [
            "GB | Epoch 0 | Loss: 1.5744457244873047 | Accuracy: 35.9375%\n",
            "GB | Epoch 0 | Loss: 1.5665092468261719 | Accuracy: 35.9375%\n",
            "GB | Epoch 0 | Loss: 1.597959280014038 | Accuracy: 31.25%\n",
            "GB | Epoch 0 | Loss: 1.5602343082427979 | Accuracy: 48.4375%\n",
            "GB | Epoch 0 | Loss: 1.5811043977737427 | Accuracy: 28.125%\n",
            "GB | Epoch 0 | Loss: 1.5605878829956055 | Accuracy: 45.3125%\n",
            "GB | Epoch 0 | Loss: 1.5746564865112305 | Accuracy: 29.6875%\n",
            "GB | Epoch 0 | Loss: 1.5610121488571167 | Accuracy: 45.3125%\n",
            "GB | Epoch 0 | Loss: 1.5818052291870117 | Accuracy: 43.75%\n",
            "GB | Epoch 0 | Loss: 1.565238118171692 | Accuracy: 35.9375%\n",
            "GB | Epoch 0 | Loss: 1.5669808387756348 | Accuracy: 39.0625%\n",
            "GB | Epoch 0 | Loss: 1.5541106462478638 | Accuracy: 42.1875%\n",
            "GB | Epoch 0 | Loss: 1.545968770980835 | Accuracy: 42.1875%\n",
            "GB | Epoch 0 | Loss: 1.6079277992248535 | Accuracy: 29.6875%\n",
            "GB | Epoch 0 | Loss: 1.5618915557861328 | Accuracy: 43.75%\n"
          ]
        },
        {
          "output_type": "stream",
          "name": "stderr",
          "text": [
            "Epoch 0:  56%|█████▌    | 422/751 [00:06<00:04, 78.45batch/s, accuracy=34.375%, loss=1.58]"
          ]
        },
        {
          "output_type": "stream",
          "name": "stdout",
          "text": [
            "GB | Epoch 0 | Loss: 1.5576517581939697 | Accuracy: 39.0625%\n",
            "GB | Epoch 0 | Loss: 1.5718237161636353 | Accuracy: 34.375%\n",
            "GB | Epoch 0 | Loss: 1.5758031606674194 | Accuracy: 31.25%\n",
            "GB | Epoch 0 | Loss: 1.556490182876587 | Accuracy: 43.75%\n",
            "GB | Epoch 0 | Loss: 1.5931227207183838 | Accuracy: 34.375%\n",
            "GB | Epoch 0 | Loss: 1.5617181062698364 | Accuracy: 40.625%\n",
            "GB | Epoch 0 | Loss: 1.5484322309494019 | Accuracy: 32.8125%\n",
            "GB | Epoch 0 | Loss: 1.563507080078125 | Accuracy: 21.875%\n",
            "GB | Epoch 0 | Loss: 1.5792416334152222 | Accuracy: 39.0625%\n",
            "GB | Epoch 0 | Loss: 1.555188775062561 | Accuracy: 42.1875%\n",
            "GB | Epoch 0 | Loss: 1.5476903915405273 | Accuracy: 34.375%\n",
            "GB | Epoch 0 | Loss: 1.5563604831695557 | Accuracy: 40.625%\n",
            "GB | Epoch 0 | Loss: 1.5591866970062256 | Accuracy: 40.625%\n",
            "GB | Epoch 0 | Loss: 1.5639770030975342 | Accuracy: 42.1875%\n",
            "GB | Epoch 0 | Loss: 1.5580872297286987 | Accuracy: 40.625%\n",
            "GB | Epoch 0 | Loss: 1.5759462118148804 | Accuracy: 34.375%\n"
          ]
        },
        {
          "output_type": "stream",
          "name": "stderr",
          "text": [
            "Epoch 0:  58%|█████▊    | 439/751 [00:06<00:03, 80.42batch/s, accuracy=48.4375%, loss=1.53]"
          ]
        },
        {
          "output_type": "stream",
          "name": "stdout",
          "text": [
            "GB | Epoch 0 | Loss: 1.5745856761932373 | Accuracy: 45.3125%\n",
            "GB | Epoch 0 | Loss: 1.5335057973861694 | Accuracy: 40.625%\n",
            "GB | Epoch 0 | Loss: 1.5729434490203857 | Accuracy: 31.25%\n",
            "GB | Epoch 0 | Loss: 1.5539294481277466 | Accuracy: 40.625%\n",
            "GB | Epoch 0 | Loss: 1.5854237079620361 | Accuracy: 40.625%\n",
            "GB | Epoch 0 | Loss: 1.5575743913650513 | Accuracy: 39.0625%\n",
            "GB | Epoch 0 | Loss: 1.59162437915802 | Accuracy: 35.9375%\n",
            "GB | Epoch 0 | Loss: 1.5624386072158813 | Accuracy: 29.6875%\n",
            "GB | Epoch 0 | Loss: 1.5304787158966064 | Accuracy: 51.5625%\n",
            "GB | Epoch 0 | Loss: 1.5388010740280151 | Accuracy: 45.3125%\n",
            "GB | Epoch 0 | Loss: 1.568871021270752 | Accuracy: 43.75%\n",
            "GB | Epoch 0 | Loss: 1.5489698648452759 | Accuracy: 29.6875%\n",
            "GB | Epoch 0 | Loss: 1.5660277605056763 | Accuracy: 43.75%\n",
            "GB | Epoch 0 | Loss: 1.545915126800537 | Accuracy: 43.75%\n",
            "GB | Epoch 0 | Loss: 1.551609754562378 | Accuracy: 35.9375%\n",
            "GB | Epoch 0 | Loss: 1.554840087890625 | Accuracy: 45.3125%\n",
            "GB | Epoch 0 | Loss: 1.5505844354629517 | Accuracy: 40.625%\n",
            "GB | Epoch 0 | Loss: 1.527005672454834 | Accuracy: 48.4375%"
          ]
        },
        {
          "output_type": "stream",
          "name": "stderr",
          "text": [
            "Epoch 0:  61%|██████    | 457/751 [00:06<00:03, 82.15batch/s, accuracy=57.8125%, loss=1.5] "
          ]
        },
        {
          "output_type": "stream",
          "name": "stdout",
          "text": [
            "\n",
            "GB | Epoch 0 | Loss: 1.5518131256103516 | Accuracy: 31.25%\n",
            "GB | Epoch 0 | Loss: 1.5514637231826782 | Accuracy: 35.9375%\n",
            "GB | Epoch 0 | Loss: 1.5599932670593262 | Accuracy: 45.3125%\n",
            "GB | Epoch 0 | Loss: 1.5650140047073364 | Accuracy: 43.75%\n",
            "GB | Epoch 0 | Loss: 1.535630464553833 | Accuracy: 54.6875%\n",
            "GB | Epoch 0 | Loss: 1.530921220779419 | Accuracy: 48.4375%\n",
            "GB | Epoch 0 | Loss: 1.5387569665908813 | Accuracy: 48.4375%\n",
            "GB | Epoch 0 | Loss: 1.5436855554580688 | Accuracy: 48.4375%\n",
            "GB | Epoch 0 | Loss: 1.5775442123413086 | Accuracy: 34.375%\n",
            "GB | Epoch 0 | Loss: 1.5078006982803345 | Accuracy: 60.9375%\n",
            "GB | Epoch 0 | Loss: 1.5731027126312256 | Accuracy: 45.3125%\n",
            "GB | Epoch 0 | Loss: 1.5525527000427246 | Accuracy: 45.3125%\n",
            "GB | Epoch 0 | Loss: 1.5841429233551025 | Accuracy: 43.75%\n",
            "GB | Epoch 0 | Loss: 1.5255182981491089 | Accuracy: 50.0%\n",
            "GB | Epoch 0 | Loss: 1.5469409227371216 | Accuracy: 53.125%\n",
            "GB | Epoch 0 | Loss: 1.5276012420654297 | Accuracy: 54.6875%\n"
          ]
        },
        {
          "output_type": "stream",
          "name": "stderr",
          "text": [
            "Epoch 0:  63%|██████▎   | 476/751 [00:07<00:03, 86.88batch/s, accuracy=34.375%, loss=1.55]"
          ]
        },
        {
          "output_type": "stream",
          "name": "stdout",
          "text": [
            "GB | Epoch 0 | Loss: 1.5034053325653076 | Accuracy: 57.8125%\n",
            "GB | Epoch 0 | Loss: 1.5122579336166382 | Accuracy: 51.5625%\n",
            "GB | Epoch 0 | Loss: 1.5432108640670776 | Accuracy: 42.1875%\n",
            "GB | Epoch 0 | Loss: 1.5502359867095947 | Accuracy: 43.75%\n",
            "GB | Epoch 0 | Loss: 1.55290687084198 | Accuracy: 46.875%\n",
            "GB | Epoch 0 | Loss: 1.52665114402771 | Accuracy: 57.8125%\n",
            "GB | Epoch 0 | Loss: 1.5734244585037231 | Accuracy: 35.9375%\n",
            "GB | Epoch 0 | Loss: 1.548709750175476 | Accuracy: 45.3125%\n",
            "GB | Epoch 0 | Loss: 1.5145328044891357 | Accuracy: 53.125%\n",
            "GB | Epoch 0 | Loss: 1.52983558177948 | Accuracy: 45.3125%\n",
            "GB | Epoch 0 | Loss: 1.566203236579895 | Accuracy: 35.9375%\n",
            "GB | Epoch 0 | Loss: 1.5741676092147827 | Accuracy: 32.8125%\n",
            "GB | Epoch 0 | Loss: 1.5400148630142212 | Accuracy: 35.9375%\n",
            "GB | Epoch 0 | Loss: 1.5172759294509888 | Accuracy: 46.875%\n",
            "GB | Epoch 0 | Loss: 1.5117499828338623 | Accuracy: 45.3125%\n",
            "GB | Epoch 0 | Loss: 1.5541597604751587 | Accuracy: 35.9375%\n",
            "GB | Epoch 0 | Loss: 1.4993501901626587 | Accuracy: 51.5625%\n",
            "GB | Epoch 0 | Loss: 1.5174798965454102 | Accuracy: 57.8125%\n",
            "GB | Epoch 0 | Loss: 1.5242410898208618 | Accuracy: 40.625%\n"
          ]
        },
        {
          "output_type": "stream",
          "name": "stderr",
          "text": [
            "Epoch 0:  66%|██████▋   | 498/751 [00:07<00:02, 95.79batch/s, accuracy=32.8125%, loss=1.52]"
          ]
        },
        {
          "output_type": "stream",
          "name": "stdout",
          "text": [
            "GB | Epoch 0 | Loss: 1.5544029474258423 | Accuracy: 34.375%\n",
            "GB | Epoch 0 | Loss: 1.5264962911605835 | Accuracy: 37.5%\n",
            "GB | Epoch 0 | Loss: 1.527402400970459 | Accuracy: 40.625%\n",
            "GB | Epoch 0 | Loss: 1.549880027770996 | Accuracy: 40.625%\n",
            "GB | Epoch 0 | Loss: 1.542945384979248 | Accuracy: 32.8125%\n",
            "GB | Epoch 0 | Loss: 1.5187525749206543 | Accuracy: 39.0625%\n",
            "GB | Epoch 0 | Loss: 1.5584043264389038 | Accuracy: 42.1875%\n",
            "GB | Epoch 0 | Loss: 1.5386130809783936 | Accuracy: 45.3125%\n",
            "GB | Epoch 0 | Loss: 1.5278944969177246 | Accuracy: 50.0%\n",
            "GB | Epoch 0 | Loss: 1.5295181274414062 | Accuracy: 39.0625%\n",
            "GB | Epoch 0 | Loss: 1.540013313293457 | Accuracy: 48.4375%\n",
            "GB | Epoch 0 | Loss: 1.4812660217285156 | Accuracy: 40.625%\n",
            "GB | Epoch 0 | Loss: 1.4885789155960083 | Accuracy: 50.0%\n",
            "GB | Epoch 0 | Loss: 1.5597957372665405 | Accuracy: 32.8125%\n",
            "GB | Epoch 0 | Loss: 1.5286704301834106 | Accuracy: 43.75%\n",
            "GB | Epoch 0 | Loss: 1.49728524684906 | Accuracy: 42.1875%\n",
            "GB | Epoch 0 | Loss: 1.5835251808166504 | Accuracy: 31.25%\n",
            "GB | Epoch 0 | Loss: 1.5027414560317993 | Accuracy: 48.4375%\n",
            "GB | Epoch 0 | Loss: 1.513578176498413 | Accuracy: 46.875%\n",
            "GB | Epoch 0 | Loss: 1.5165832042694092 | Accuracy: 45.3125%\n",
            "GB | Epoch 0 | Loss: 1.5788767337799072 | Accuracy: 31.25%\n",
            "GB | Epoch 0 | Loss: 1.520632028579712 | Accuracy: 32.8125%\n"
          ]
        },
        {
          "output_type": "stream",
          "name": "stderr",
          "text": [
            "Epoch 0:  69%|██████▉   | 519/751 [00:07<00:02, 99.03batch/s, accuracy=43.75%, loss=1.5]   "
          ]
        },
        {
          "output_type": "stream",
          "name": "stdout",
          "text": [
            "GB | Epoch 0 | Loss: 1.531821846961975 | Accuracy: 32.8125%\n",
            "GB | Epoch 0 | Loss: 1.531331181526184 | Accuracy: 37.5%\n",
            "GB | Epoch 0 | Loss: 1.476504921913147 | Accuracy: 48.4375%\n",
            "GB | Epoch 0 | Loss: 1.4913164377212524 | Accuracy: 45.3125%\n",
            "GB | Epoch 0 | Loss: 1.5318033695220947 | Accuracy: 39.0625%\n",
            "GB | Epoch 0 | Loss: 1.5437005758285522 | Accuracy: 32.8125%\n",
            "GB | Epoch 0 | Loss: 1.495672583580017 | Accuracy: 45.3125%\n",
            "GB | Epoch 0 | Loss: 1.5200949907302856 | Accuracy: 39.0625%\n",
            "GB | Epoch 0 | Loss: 1.5196895599365234 | Accuracy: 42.1875%\n",
            "GB | Epoch 0 | Loss: 1.5279810428619385 | Accuracy: 40.625%\n",
            "GB | Epoch 0 | Loss: 1.5136953592300415 | Accuracy: 35.9375%\n",
            "GB | Epoch 0 | Loss: 1.5639073848724365 | Accuracy: 28.125%\n",
            "GB | Epoch 0 | Loss: 1.5450154542922974 | Accuracy: 34.375%\n",
            "GB | Epoch 0 | Loss: 1.539162039756775 | Accuracy: 34.375%\n",
            "GB | Epoch 0 | Loss: 1.4900397062301636 | Accuracy: 46.875%\n",
            "GB | Epoch 0 | Loss: 1.5950990915298462 | Accuracy: 26.5625%\n",
            "GB | Epoch 0 | Loss: 1.5120830535888672 | Accuracy: 37.5%\n",
            "GB | Epoch 0 | Loss: 1.49420166015625 | Accuracy: 43.75%\n",
            "GB | Epoch 0 | Loss: 1.5225030183792114 | Accuracy: 35.9375%\n",
            "GB | Epoch 0 | Loss: 1.504058837890625 | Accuracy: 42.1875%\n",
            "GB | Epoch 0 | Loss: 1.5369216203689575 | Accuracy: 29.6875%\n",
            "GB | Epoch 0 | Loss: 1.4970420598983765 | Accuracy: 43.75%\n"
          ]
        },
        {
          "output_type": "stream",
          "name": "stderr",
          "text": [
            "Epoch 0:  72%|███████▏  | 540/751 [00:07<00:02, 99.48batch/s, accuracy=45.3125%, loss=1.5] "
          ]
        },
        {
          "output_type": "stream",
          "name": "stdout",
          "text": [
            "GB | Epoch 0 | Loss: 1.4729405641555786 | Accuracy: 39.0625%\n",
            "GB | Epoch 0 | Loss: 1.5318764448165894 | Accuracy: 45.3125%\n",
            "GB | Epoch 0 | Loss: 1.4745101928710938 | Accuracy: 48.4375%\n",
            "GB | Epoch 0 | Loss: 1.4979145526885986 | Accuracy: 39.0625%\n",
            "GB | Epoch 0 | Loss: 1.492982268333435 | Accuracy: 42.1875%\n",
            "GB | Epoch 0 | Loss: 1.5656471252441406 | Accuracy: 29.6875%\n",
            "GB | Epoch 0 | Loss: 1.598036289215088 | Accuracy: 29.6875%\n",
            "GB | Epoch 0 | Loss: 1.4475314617156982 | Accuracy: 53.125%\n",
            "GB | Epoch 0 | Loss: 1.4927618503570557 | Accuracy: 42.1875%\n",
            "GB | Epoch 0 | Loss: 1.499326229095459 | Accuracy: 39.0625%\n",
            "GB | Epoch 0 | Loss: 1.5016916990280151 | Accuracy: 43.75%\n",
            "GB | Epoch 0 | Loss: 1.5183755159378052 | Accuracy: 43.75%\n",
            "GB | Epoch 0 | Loss: 1.5090895891189575 | Accuracy: 37.5%\n",
            "GB | Epoch 0 | Loss: 1.490163803100586 | Accuracy: 46.875%\n",
            "GB | Epoch 0 | Loss: 1.4696258306503296 | Accuracy: 48.4375%\n",
            "GB | Epoch 0 | Loss: 1.4754117727279663 | Accuracy: 48.4375%\n",
            "GB | Epoch 0 | Loss: 1.4402190446853638 | Accuracy: 40.625%\n",
            "GB | Epoch 0 | Loss: 1.519923210144043 | Accuracy: 31.25%\n",
            "GB | Epoch 0 | Loss: 1.5069594383239746 | Accuracy: 42.1875%\n",
            "GB | Epoch 0 | Loss: 1.4671282768249512 | Accuracy: 45.3125%\n",
            "GB | Epoch 0 | Loss: 1.504849910736084 | Accuracy: 45.3125%\n"
          ]
        },
        {
          "output_type": "stream",
          "name": "stderr",
          "text": [
            "Epoch 0:  75%|███████▌  | 566/751 [00:08<00:01, 110.95batch/s, accuracy=29.6875%, loss=1.53]"
          ]
        },
        {
          "output_type": "stream",
          "name": "stdout",
          "text": [
            "GB | Epoch 0 | Loss: 1.447556495666504 | Accuracy: 39.0625%\n",
            "GB | Epoch 0 | Loss: 1.5204417705535889 | Accuracy: 34.375%\n",
            "GB | Epoch 0 | Loss: 1.5283254384994507 | Accuracy: 31.25%\n",
            "GB | Epoch 0 | Loss: 1.4913214445114136 | Accuracy: 29.6875%\n",
            "GB | Epoch 0 | Loss: 1.515774130821228 | Accuracy: 45.3125%\n",
            "GB | Epoch 0 | Loss: 1.433053970336914 | Accuracy: 46.875%\n",
            "GB | Epoch 0 | Loss: 1.5211029052734375 | Accuracy: 39.0625%\n",
            "GB | Epoch 0 | Loss: 1.5475729703903198 | Accuracy: 37.5%\n",
            "GB | Epoch 0 | Loss: 1.5164549350738525 | Accuracy: 40.625%\n",
            "GB | Epoch 0 | Loss: 1.48301362991333 | Accuracy: 45.3125%\n",
            "GB | Epoch 0 | Loss: 1.4873868227005005 | Accuracy: 46.875%\n",
            "GB | Epoch 0 | Loss: 1.5458393096923828 | Accuracy: 37.5%\n",
            "GB | Epoch 0 | Loss: 1.4804607629776 | Accuracy: 40.625%\n",
            "GB | Epoch 0 | Loss: 1.532821536064148 | Accuracy: 40.625%\n",
            "GB | Epoch 0 | Loss: 1.5243345499038696 | Accuracy: 35.9375%\n",
            "GB | Epoch 0 | Loss: 1.4806362390518188 | Accuracy: 34.375%\n",
            "GB | Epoch 0 | Loss: 1.5180909633636475 | Accuracy: 34.375%\n",
            "GB | Epoch 0 | Loss: 1.5090563297271729 | Accuracy: 39.0625%\n",
            "GB | Epoch 0 | Loss: 1.469171166419983 | Accuracy: 45.3125%\n",
            "GB | Epoch 0 | Loss: 1.4997899532318115 | Accuracy: 32.8125%\n",
            "GB | Epoch 0 | Loss: 1.424869179725647 | Accuracy: 42.1875%\n",
            "GB | Epoch 0 | Loss: 1.4904876947402954 | Accuracy: 45.3125%\n",
            "GB | Epoch 0 | Loss: 1.4762794971466064 | Accuracy: 42.1875%\n",
            "GB | Epoch 0 | Loss: 1.5020310878753662 | Accuracy: 34.375%\n",
            "GB | Epoch 0 | Loss: 1.5311920642852783 | Accuracy: 29.6875%\n"
          ]
        },
        {
          "output_type": "stream",
          "name": "stderr",
          "text": [
            "Epoch 0:  79%|███████▊  | 590/751 [00:08<00:01, 112.51batch/s, accuracy=43.75%, loss=1.46]  "
          ]
        },
        {
          "output_type": "stream",
          "name": "stdout",
          "text": [
            "GB | Epoch 0 | Loss: 1.4809046983718872 | Accuracy: 40.625%\n",
            "GB | Epoch 0 | Loss: 1.463807225227356 | Accuracy: 50.0%\n",
            "GB | Epoch 0 | Loss: 1.5173662900924683 | Accuracy: 34.375%\n",
            "GB | Epoch 0 | Loss: 1.470995545387268 | Accuracy: 42.1875%\n",
            "GB | Epoch 0 | Loss: 1.5908617973327637 | Accuracy: 35.9375%\n",
            "GB | Epoch 0 | Loss: 1.512244701385498 | Accuracy: 43.75%\n",
            "GB | Epoch 0 | Loss: 1.5121122598648071 | Accuracy: 37.5%\n",
            "GB | Epoch 0 | Loss: 1.5323991775512695 | Accuracy: 40.625%\n",
            "GB | Epoch 0 | Loss: 1.552718162536621 | Accuracy: 37.5%\n",
            "GB | Epoch 0 | Loss: 1.5665918588638306 | Accuracy: 40.625%\n",
            "GB | Epoch 0 | Loss: 1.494338870048523 | Accuracy: 42.1875%\n",
            "GB | Epoch 0 | Loss: 1.4799834489822388 | Accuracy: 37.5%\n",
            "GB | Epoch 0 | Loss: 1.5218007564544678 | Accuracy: 46.875%\n",
            "GB | Epoch 0 | Loss: 1.604331612586975 | Accuracy: 34.375%\n",
            "GB | Epoch 0 | Loss: 1.5168708562850952 | Accuracy: 46.875%\n",
            "GB | Epoch 0 | Loss: 1.5651623010635376 | Accuracy: 29.6875%\n",
            "GB | Epoch 0 | Loss: 1.454537272453308 | Accuracy: 39.0625%\n",
            "GB | Epoch 0 | Loss: 1.477033257484436 | Accuracy: 42.1875%\n",
            "GB | Epoch 0 | Loss: 1.4789751768112183 | Accuracy: 39.0625%\n",
            "GB | Epoch 0 | Loss: 1.5101395845413208 | Accuracy: 46.875%\n",
            "GB | Epoch 0 | Loss: 1.4958434104919434 | Accuracy: 50.0%\n",
            "GB | Epoch 0 | Loss: 1.4693834781646729 | Accuracy: 42.1875%\n",
            "GB | Epoch 0 | Loss: 1.4595381021499634 | Accuracy: 43.75%\n"
          ]
        },
        {
          "output_type": "stream",
          "name": "stderr",
          "text": [
            "Epoch 0:  80%|████████  | 602/751 [00:08<00:01, 108.70batch/s, accuracy=46.875%, loss=1.54]"
          ]
        },
        {
          "output_type": "stream",
          "name": "stdout",
          "text": [
            "GB | Epoch 0 | Loss: 1.5209940671920776 | Accuracy: 39.0625%\n",
            "GB | Epoch 0 | Loss: 1.4492470026016235 | Accuracy: 45.3125%\n",
            "GB | Epoch 0 | Loss: 1.4921157360076904 | Accuracy: 39.0625%\n",
            "GB | Epoch 0 | Loss: 1.5387544631958008 | Accuracy: 37.5%\n",
            "GB | Epoch 0 | Loss: 1.4868768453598022 | Accuracy: 40.625%\n",
            "GB | Epoch 0 | Loss: 1.443915605545044 | Accuracy: 46.875%\n",
            "GB | Epoch 0 | Loss: 1.5534491539001465 | Accuracy: 29.6875%\n",
            "GB | Epoch 0 | Loss: 1.485072374343872 | Accuracy: 51.5625%\n",
            "GB | Epoch 0 | Loss: 1.4174126386642456 | Accuracy: 45.3125%\n",
            "GB | Epoch 0 | Loss: 1.445593237876892 | Accuracy: 51.5625%\n",
            "GB | Epoch 0 | Loss: 1.405292272567749 | Accuracy: 50.0%\n",
            "GB | Epoch 0 | Loss: 1.4911237955093384 | Accuracy: 42.1875%\n",
            "GB | Epoch 0 | Loss: 1.4792745113372803 | Accuracy: 40.625%\n",
            "GB | Epoch 0 | Loss: 1.4396471977233887 | Accuracy: 42.1875%\n",
            "GB | Epoch 0 | Loss: 1.4401570558547974 | Accuracy: 48.4375%\n",
            "GB | Epoch 0 | Loss: 1.4697844982147217 | Accuracy: 45.3125%\n",
            "GB | Epoch 0 | Loss: 1.3945125341415405 | Accuracy: 54.6875%\n",
            "GB | Epoch 0 | Loss: 1.415799617767334 | Accuracy: 57.8125%\n",
            "GB | Epoch 0 | Loss: 1.5108516216278076 | Accuracy: 46.875%\n",
            "GB | Epoch 0 | Loss: 1.4893455505371094 | Accuracy: 50.0%\n",
            "GB | Epoch 0 | Loss: 1.54216468334198 | Accuracy: 46.875%\n"
          ]
        },
        {
          "output_type": "stream",
          "name": "stderr",
          "text": [
            "Epoch 0:  83%|████████▎ | 624/751 [00:08<00:01, 104.09batch/s, accuracy=46.875%, loss=1.4] "
          ]
        },
        {
          "output_type": "stream",
          "name": "stdout",
          "text": [
            "GB | Epoch 0 | Loss: 1.4801567792892456 | Accuracy: 51.5625%\n",
            "GB | Epoch 0 | Loss: 1.4520726203918457 | Accuracy: 50.0%\n",
            "GB | Epoch 0 | Loss: 1.435166358947754 | Accuracy: 53.125%\n",
            "GB | Epoch 0 | Loss: 1.4285619258880615 | Accuracy: 59.375%\n",
            "GB | Epoch 0 | Loss: 1.504300832748413 | Accuracy: 50.0%\n",
            "GB | Epoch 0 | Loss: 1.5162956714630127 | Accuracy: 43.75%\n",
            "GB | Epoch 0 | Loss: 1.476921796798706 | Accuracy: 54.6875%\n",
            "GB | Epoch 0 | Loss: 1.3772622346878052 | Accuracy: 50.0%\n",
            "GB | Epoch 0 | Loss: 1.5053753852844238 | Accuracy: 46.875%\n",
            "GB | Epoch 0 | Loss: 1.4225094318389893 | Accuracy: 48.4375%\n",
            "GB | Epoch 0 | Loss: 1.436360478401184 | Accuracy: 51.5625%\n",
            "GB | Epoch 0 | Loss: 1.4564719200134277 | Accuracy: 50.0%\n",
            "GB | Epoch 0 | Loss: 1.5006585121154785 | Accuracy: 45.3125%\n",
            "GB | Epoch 0 | Loss: 1.5143959522247314 | Accuracy: 46.875%\n",
            "GB | Epoch 0 | Loss: 1.4495494365692139 | Accuracy: 53.125%\n",
            "GB | Epoch 0 | Loss: 1.4580984115600586 | Accuracy: 46.875%\n",
            "GB | Epoch 0 | Loss: 1.4826650619506836 | Accuracy: 45.3125%\n",
            "GB | Epoch 0 | Loss: 1.455444574356079 | Accuracy: 46.875%\n",
            "GB | Epoch 0 | Loss: 1.4985722303390503 | Accuracy: 43.75%\n",
            "GB | Epoch 0 | Loss: 1.5495274066925049 | Accuracy: 40.625%\n"
          ]
        },
        {
          "output_type": "stream",
          "name": "stderr",
          "text": [
            "Epoch 0:  86%|████████▌ | 646/751 [00:08<00:01, 102.87batch/s, accuracy=53.125%, loss=1.4]  "
          ]
        },
        {
          "output_type": "stream",
          "name": "stdout",
          "text": [
            "GB | Epoch 0 | Loss: 1.4024436473846436 | Accuracy: 46.875%\n",
            "GB | Epoch 0 | Loss: 1.4379289150238037 | Accuracy: 51.5625%\n",
            "GB | Epoch 0 | Loss: 1.4745665788650513 | Accuracy: 43.75%\n",
            "GB | Epoch 0 | Loss: 1.5154807567596436 | Accuracy: 39.0625%\n",
            "GB | Epoch 0 | Loss: 1.4579802751541138 | Accuracy: 42.1875%\n",
            "GB | Epoch 0 | Loss: 1.4419537782669067 | Accuracy: 51.5625%\n",
            "GB | Epoch 0 | Loss: 1.446916937828064 | Accuracy: 42.1875%\n",
            "GB | Epoch 0 | Loss: 1.576850414276123 | Accuracy: 40.625%\n",
            "GB | Epoch 0 | Loss: 1.4884812831878662 | Accuracy: 40.625%\n",
            "GB | Epoch 0 | Loss: 1.447982668876648 | Accuracy: 43.75%\n",
            "GB | Epoch 0 | Loss: 1.4825372695922852 | Accuracy: 51.5625%\n",
            "GB | Epoch 0 | Loss: 1.4127988815307617 | Accuracy: 53.125%\n",
            "GB | Epoch 0 | Loss: 1.456622838973999 | Accuracy: 50.0%\n",
            "GB | Epoch 0 | Loss: 1.5044680833816528 | Accuracy: 34.375%\n",
            "GB | Epoch 0 | Loss: 1.6107091903686523 | Accuracy: 42.1875%\n",
            "GB | Epoch 0 | Loss: 1.4728469848632812 | Accuracy: 50.0%\n",
            "GB | Epoch 0 | Loss: 1.4937474727630615 | Accuracy: 53.125%\n",
            "GB | Epoch 0 | Loss: 1.511663556098938 | Accuracy: 50.0%\n",
            "GB | Epoch 0 | Loss: 1.4654568433761597 | Accuracy: 46.875%\n",
            "GB | Epoch 0 | Loss: 1.4346649646759033 | Accuracy: 42.1875%\n",
            "GB | Epoch 0 | Loss: 1.3987847566604614 | Accuracy: 53.125%\n"
          ]
        },
        {
          "output_type": "stream",
          "name": "stderr",
          "text": [
            "Epoch 0:  89%|████████▉ | 668/751 [00:09<00:00, 100.98batch/s, accuracy=46.875%, loss=1.5]  "
          ]
        },
        {
          "output_type": "stream",
          "name": "stdout",
          "text": [
            "GB | Epoch 0 | Loss: 1.53359055519104 | Accuracy: 45.3125%\n",
            "GB | Epoch 0 | Loss: 1.4512850046157837 | Accuracy: 53.125%\n",
            "GB | Epoch 0 | Loss: 1.465902328491211 | Accuracy: 46.875%\n",
            "GB | Epoch 0 | Loss: 1.510982632637024 | Accuracy: 40.625%\n",
            "GB | Epoch 0 | Loss: 1.4722702503204346 | Accuracy: 48.4375%\n",
            "GB | Epoch 0 | Loss: 1.463619351387024 | Accuracy: 46.875%\n",
            "GB | Epoch 0 | Loss: 1.5514177083969116 | Accuracy: 43.75%\n",
            "GB | Epoch 0 | Loss: 1.4283392429351807 | Accuracy: 46.875%\n",
            "GB | Epoch 0 | Loss: 1.4357471466064453 | Accuracy: 57.8125%\n",
            "GB | Epoch 0 | Loss: 1.4318190813064575 | Accuracy: 48.4375%\n",
            "GB | Epoch 0 | Loss: 1.504435420036316 | Accuracy: 48.4375%\n",
            "GB | Epoch 0 | Loss: 1.3965293169021606 | Accuracy: 53.125%\n",
            "GB | Epoch 0 | Loss: 1.4592434167861938 | Accuracy: 50.0%\n",
            "GB | Epoch 0 | Loss: 1.5337553024291992 | Accuracy: 39.0625%\n",
            "GB | Epoch 0 | Loss: 1.5363280773162842 | Accuracy: 45.3125%\n",
            "GB | Epoch 0 | Loss: 1.459742784500122 | Accuracy: 53.125%\n",
            "GB | Epoch 0 | Loss: 1.4012935161590576 | Accuracy: 53.125%\n",
            "GB | Epoch 0 | Loss: 1.535476565361023 | Accuracy: 45.3125%\n",
            "GB | Epoch 0 | Loss: 1.4365111589431763 | Accuracy: 50.0%\n",
            "GB | Epoch 0 | Loss: 1.4434263706207275 | Accuracy: 59.375%\n",
            "GB | Epoch 0 | Loss: 1.5076805353164673 | Accuracy: 46.875%\n",
            "GB | Epoch 0 | Loss: 1.4912675619125366 | Accuracy: 42.1875%\n"
          ]
        },
        {
          "output_type": "stream",
          "name": "stderr",
          "text": [
            "Epoch 0:  92%|█████████▏| 694/751 [00:09<00:00, 113.58batch/s, accuracy=50.0%, loss=1.49]   "
          ]
        },
        {
          "output_type": "stream",
          "name": "stdout",
          "text": [
            "GB | Epoch 0 | Loss: 1.5028201341629028 | Accuracy: 46.875%\n",
            "GB | Epoch 0 | Loss: 1.4395442008972168 | Accuracy: 53.125%\n",
            "GB | Epoch 0 | Loss: 1.4608068466186523 | Accuracy: 53.125%\n",
            "GB | Epoch 0 | Loss: 1.5657498836517334 | Accuracy: 40.625%\n",
            "GB | Epoch 0 | Loss: 1.4967966079711914 | Accuracy: 40.625%\n",
            "GB | Epoch 0 | Loss: 1.4944157600402832 | Accuracy: 40.625%\n",
            "GB | Epoch 0 | Loss: 1.4176571369171143 | Accuracy: 57.8125%\n",
            "GB | Epoch 0 | Loss: 1.4558452367782593 | Accuracy: 48.4375%\n",
            "GB | Epoch 0 | Loss: 1.5032106637954712 | Accuracy: 46.875%\n",
            "GB | Epoch 0 | Loss: 1.4608244895935059 | Accuracy: 48.4375%\n",
            "GB | Epoch 0 | Loss: 1.4912607669830322 | Accuracy: 50.0%\n",
            "GB | Epoch 0 | Loss: 1.462054967880249 | Accuracy: 50.0%\n",
            "GB | Epoch 0 | Loss: 1.4497549533843994 | Accuracy: 54.6875%\n",
            "GB | Epoch 0 | Loss: 1.4192711114883423 | Accuracy: 50.0%\n",
            "GB | Epoch 0 | Loss: 1.508055567741394 | Accuracy: 46.875%\n",
            "GB | Epoch 0 | Loss: 1.4963008165359497 | Accuracy: 46.875%\n",
            "GB | Epoch 0 | Loss: 1.4831979274749756 | Accuracy: 53.125%\n",
            "GB | Epoch 0 | Loss: 1.4544705152511597 | Accuracy: 56.25%\n",
            "GB | Epoch 0 | Loss: 1.392349362373352 | Accuracy: 54.6875%\n",
            "GB | Epoch 0 | Loss: 1.5331881046295166 | Accuracy: 35.9375%\n",
            "GB | Epoch 0 | Loss: 1.3354570865631104 | Accuracy: 59.375%\n",
            "GB | Epoch 0 | Loss: 1.477249264717102 | Accuracy: 54.6875%\n",
            "GB | Epoch 0 | Loss: 1.5166369676589966 | Accuracy: 42.1875%\n",
            "GB | Epoch 0 | Loss: 1.4330687522888184 | Accuracy: 51.5625%\n",
            "GB | Epoch 0 | Loss: 1.4943819046020508 | Accuracy: 50.0%\n"
          ]
        },
        {
          "output_type": "stream",
          "name": "stderr",
          "text": [
            "Epoch 0:  96%|█████████▌| 718/751 [00:09<00:00, 105.60batch/s, accuracy=43.75%, loss=1.42]"
          ]
        },
        {
          "output_type": "stream",
          "name": "stdout",
          "text": [
            "GB | Epoch 0 | Loss: 1.541212558746338 | Accuracy: 43.75%\n",
            "GB | Epoch 0 | Loss: 1.4119617938995361 | Accuracy: 50.0%\n",
            "GB | Epoch 0 | Loss: 1.505063772201538 | Accuracy: 53.125%\n",
            "GB | Epoch 0 | Loss: 1.5270137786865234 | Accuracy: 48.4375%\n",
            "GB | Epoch 0 | Loss: 1.5011922121047974 | Accuracy: 43.75%\n",
            "GB | Epoch 0 | Loss: 1.445814847946167 | Accuracy: 46.875%\n",
            "GB | Epoch 0 | Loss: 1.3814773559570312 | Accuracy: 60.9375%\n",
            "GB | Epoch 0 | Loss: 1.4756007194519043 | Accuracy: 46.875%\n",
            "GB | Epoch 0 | Loss: 1.4018700122833252 | Accuracy: 54.6875%\n",
            "GB | Epoch 0 | Loss: 1.4283850193023682 | Accuracy: 48.4375%\n",
            "GB | Epoch 0 | Loss: 1.5200581550598145 | Accuracy: 39.0625%\n",
            "GB | Epoch 0 | Loss: 1.4689393043518066 | Accuracy: 43.75%\n",
            "GB | Epoch 0 | Loss: 1.3998781442642212 | Accuracy: 51.5625%\n",
            "GB | Epoch 0 | Loss: 1.483812928199768 | Accuracy: 48.4375%\n",
            "GB | Epoch 0 | Loss: 1.4216973781585693 | Accuracy: 48.4375%\n",
            "GB | Epoch 0 | Loss: 1.5647919178009033 | Accuracy: 32.8125%\n",
            "GB | Epoch 0 | Loss: 1.454512596130371 | Accuracy: 51.5625%\n",
            "GB | Epoch 0 | Loss: 1.486112117767334 | Accuracy: 46.875%\n",
            "GB | Epoch 0 | Loss: 1.4589306116104126 | Accuracy: 50.0%\n",
            "GB | Epoch 0 | Loss: 1.4199825525283813 | Accuracy: 43.75%\n"
          ]
        },
        {
          "output_type": "stream",
          "name": "stderr",
          "text": [
            "Epoch 0:  99%|█████████▊| 740/751 [00:09<00:00, 101.40batch/s, accuracy=46.875%, loss=1.47]"
          ]
        },
        {
          "output_type": "stream",
          "name": "stdout",
          "text": [
            "GB | Epoch 0 | Loss: 1.425949215888977 | Accuracy: 40.625%\n",
            "GB | Epoch 0 | Loss: 1.4009066820144653 | Accuracy: 50.0%\n",
            "GB | Epoch 0 | Loss: 1.3853583335876465 | Accuracy: 42.1875%\n",
            "GB | Epoch 0 | Loss: 1.4213358163833618 | Accuracy: 46.875%\n",
            "GB | Epoch 0 | Loss: 1.4936730861663818 | Accuracy: 37.5%\n",
            "GB | Epoch 0 | Loss: 1.4982669353485107 | Accuracy: 46.875%\n",
            "GB | Epoch 0 | Loss: 1.5108686685562134 | Accuracy: 39.0625%\n",
            "GB | Epoch 0 | Loss: 1.4540804624557495 | Accuracy: 50.0%\n",
            "GB | Epoch 0 | Loss: 1.4911377429962158 | Accuracy: 45.3125%\n",
            "GB | Epoch 0 | Loss: 1.4013789892196655 | Accuracy: 57.8125%\n",
            "GB | Epoch 0 | Loss: 1.4260857105255127 | Accuracy: 51.5625%\n",
            "GB | Epoch 0 | Loss: 1.4909095764160156 | Accuracy: 45.3125%\n",
            "GB | Epoch 0 | Loss: 1.427307367324829 | Accuracy: 51.5625%\n",
            "GB | Epoch 0 | Loss: 1.4385559558868408 | Accuracy: 56.25%\n",
            "GB | Epoch 0 | Loss: 1.3629525899887085 | Accuracy: 56.25%\n",
            "GB | Epoch 0 | Loss: 1.5378618240356445 | Accuracy: 46.875%\n",
            "GB | Epoch 0 | Loss: 1.4263654947280884 | Accuracy: 54.6875%\n",
            "GB | Epoch 0 | Loss: 1.4431759119033813 | Accuracy: 51.5625%\n",
            "GB | Epoch 0 | Loss: 1.5149751901626587 | Accuracy: 45.3125%\n",
            "GB | Epoch 0 | Loss: 1.3951095342636108 | Accuracy: 54.6875%\n",
            "GB | Epoch 0 | Loss: 1.4732763767242432 | Accuracy: 46.875%"
          ]
        },
        {
          "output_type": "stream",
          "name": "stderr",
          "text": [
            "Epoch 0:  99%|█████████▊| 740/751 [00:09<00:00, 101.40batch/s, accuracy=25.0%, loss=1.64]  "
          ]
        },
        {
          "output_type": "stream",
          "name": "stdout",
          "text": [
            "\n",
            "GB | Epoch 0 | Loss: 1.5138325691223145 | Accuracy: 48.4375%\n",
            "GB | Epoch 0 | Loss: 1.3312915563583374 | Accuracy: 64.0625%\n",
            "GB | Epoch 0 | Loss: 1.4182125329971313 | Accuracy: 54.6875%\n",
            "GB | Epoch 0 | Loss: 1.3633358478546143 | Accuracy: 60.9375%\n",
            "GB | Epoch 0 | Loss: 1.5147960186004639 | Accuracy: 43.75%\n",
            "GB | Epoch 0 | Loss: 1.411761999130249 | Accuracy: 46.875%\n",
            "GB | Epoch 0 | Loss: 1.3768703937530518 | Accuracy: 53.125%\n",
            "GB | Epoch 0 | Loss: 1.4186375141143799 | Accuracy: 51.5625%\n",
            "GB | Epoch 0 | Loss: 1.3552101850509644 | Accuracy: 59.375%\n",
            "GB | Epoch 0 | Loss: 1.6441940069198608 | Accuracy: 25.0%\n"
          ]
        },
        {
          "output_type": "stream",
          "name": "stderr",
          "text": [
            "Epoch 0: 100%|██████████| 751/751 [00:09<00:00, 75.97batch/s, accuracy=25.0%, loss=1.64] \n",
            "Epoch 1:   2%|▏         | 12/751 [00:00<00:16, 44.92batch/s, accuracy=45.3125%, loss=1.44]"
          ]
        },
        {
          "output_type": "stream",
          "name": "stdout",
          "text": [
            "GB | Epoch 1 | Loss: 1.446391224861145 | Accuracy: 53.125%\n",
            "GB | Epoch 1 | Loss: 1.5487257242202759 | Accuracy: 40.625%\n",
            "GB | Epoch 1 | Loss: 1.3854901790618896 | Accuracy: 59.375%\n",
            "GB | Epoch 1 | Loss: 1.448567509651184 | Accuracy: 54.6875%\n",
            "GB | Epoch 1 | Loss: 1.4322491884231567 | Accuracy: 46.875%\n",
            "GB | Epoch 1 | Loss: 1.3897682428359985 | Accuracy: 51.5625%\n",
            "GB | Epoch 1 | Loss: 1.4833728075027466 | Accuracy: 45.3125%\n",
            "GB | Epoch 1 | Loss: 1.427321434020996 | Accuracy: 50.0%\n",
            "GB | Epoch 1 | Loss: 1.4696844816207886 | Accuracy: 40.625%\n",
            "GB | Epoch 1 | Loss: 1.4539921283721924 | Accuracy: 37.5%\n",
            "GB | Epoch 1 | Loss: 1.4735219478607178 | Accuracy: 40.625%\n",
            "GB | Epoch 1 | Loss: 1.5098704099655151 | Accuracy: 37.5%\n",
            "GB | Epoch 1 | Loss: 1.5280306339263916 | Accuracy: 32.8125%\n",
            "GB | Epoch 1 | Loss: 1.3365087509155273 | Accuracy: 48.4375%\n",
            "GB | Epoch 1 | Loss: 1.4197776317596436 | Accuracy: 43.75%\n",
            "GB | Epoch 1 | Loss: 1.5209543704986572 | Accuracy: 39.0625%\n",
            "GB | Epoch 1 | Loss: 1.4841790199279785 | Accuracy: 42.1875%\n",
            "GB | Epoch 1 | Loss: 1.3799068927764893 | Accuracy: 53.125%\n",
            "GB | Epoch 1 | Loss: 1.3352106809616089 | Accuracy: 56.25%\n",
            "GB | Epoch 1 | Loss: 1.5239644050598145 | Accuracy: 45.3125%\n",
            "GB | Epoch 1 | Loss: 1.441559910774231 | Accuracy: 45.3125%\n"
          ]
        },
        {
          "output_type": "stream",
          "name": "stderr",
          "text": [
            "Epoch 1:   4%|▍         | 31/751 [00:00<00:10, 70.93batch/s, accuracy=46.875%, loss=1.4]  "
          ]
        },
        {
          "output_type": "stream",
          "name": "stdout",
          "text": [
            "GB | Epoch 1 | Loss: 1.3811544179916382 | Accuracy: 57.8125%\n",
            "GB | Epoch 1 | Loss: 1.435018539428711 | Accuracy: 45.3125%\n",
            "GB | Epoch 1 | Loss: 1.3679990768432617 | Accuracy: 57.8125%\n",
            "GB | Epoch 1 | Loss: 1.4088510274887085 | Accuracy: 54.6875%\n",
            "GB | Epoch 1 | Loss: 1.3064497709274292 | Accuracy: 56.25%\n",
            "GB | Epoch 1 | Loss: 1.5260893106460571 | Accuracy: 45.3125%\n",
            "GB | Epoch 1 | Loss: 1.3941038846969604 | Accuracy: 50.0%\n",
            "GB | Epoch 1 | Loss: 1.4631545543670654 | Accuracy: 43.75%\n",
            "GB | Epoch 1 | Loss: 1.3968669176101685 | Accuracy: 53.125%\n",
            "GB | Epoch 1 | Loss: 1.4203613996505737 | Accuracy: 46.875%\n",
            "GB | Epoch 1 | Loss: 1.410595417022705 | Accuracy: 48.4375%\n",
            "GB | Epoch 1 | Loss: 1.4421672821044922 | Accuracy: 48.4375%\n",
            "GB | Epoch 1 | Loss: 1.3666460514068604 | Accuracy: 57.8125%\n",
            "GB | Epoch 1 | Loss: 1.4428963661193848 | Accuracy: 48.4375%\n",
            "GB | Epoch 1 | Loss: 1.5114139318466187 | Accuracy: 45.3125%\n",
            "GB | Epoch 1 | Loss: 1.3825336694717407 | Accuracy: 53.125%\n",
            "GB | Epoch 1 | Loss: 1.4510446786880493 | Accuracy: 50.0%\n",
            "GB | Epoch 1 | Loss: 1.3889317512512207 | Accuracy: 48.4375%\n",
            "GB | Epoch 1 | Loss: 1.3986254930496216 | Accuracy: 46.875%\n"
          ]
        },
        {
          "output_type": "stream",
          "name": "stderr",
          "text": [
            "Epoch 1:   7%|▋         | 52/751 [00:00<00:08, 86.47batch/s, accuracy=45.3125%, loss=1.58]"
          ]
        },
        {
          "output_type": "stream",
          "name": "stdout",
          "text": [
            "GB | Epoch 1 | Loss: 1.342397928237915 | Accuracy: 56.25%\n",
            "GB | Epoch 1 | Loss: 1.3743958473205566 | Accuracy: 53.125%\n",
            "GB | Epoch 1 | Loss: 1.437059760093689 | Accuracy: 45.3125%\n",
            "GB | Epoch 1 | Loss: 1.3730292320251465 | Accuracy: 56.25%\n",
            "GB | Epoch 1 | Loss: 1.4560686349868774 | Accuracy: 48.4375%\n",
            "GB | Epoch 1 | Loss: 1.3667042255401611 | Accuracy: 46.875%\n",
            "GB | Epoch 1 | Loss: 1.4604182243347168 | Accuracy: 39.0625%\n",
            "GB | Epoch 1 | Loss: 1.38473641872406 | Accuracy: 56.25%\n",
            "GB | Epoch 1 | Loss: 1.4007850885391235 | Accuracy: 45.3125%\n",
            "GB | Epoch 1 | Loss: 1.4017571210861206 | Accuracy: 43.75%\n",
            "GB | Epoch 1 | Loss: 1.525501012802124 | Accuracy: 39.0625%\n",
            "GB | Epoch 1 | Loss: 1.495943307876587 | Accuracy: 34.375%\n",
            "GB | Epoch 1 | Loss: 1.4958871603012085 | Accuracy: 42.1875%\n",
            "GB | Epoch 1 | Loss: 1.4662339687347412 | Accuracy: 46.875%\n",
            "GB | Epoch 1 | Loss: 1.4910609722137451 | Accuracy: 51.5625%\n",
            "GB | Epoch 1 | Loss: 1.387359380722046 | Accuracy: 57.8125%\n",
            "GB | Epoch 1 | Loss: 1.4953436851501465 | Accuracy: 48.4375%\n",
            "GB | Epoch 1 | Loss: 1.3909757137298584 | Accuracy: 54.6875%\n",
            "GB | Epoch 1 | Loss: 1.5848606824874878 | Accuracy: 37.5%\n",
            "GB | Epoch 1 | Loss: 1.5803226232528687 | Accuracy: 43.75%\n",
            "GB | Epoch 1 | Loss: 1.3975114822387695 | Accuracy: 53.125%\n",
            "GB | Epoch 1 | Loss: 1.412143349647522 | Accuracy: 54.6875%\n",
            "GB | Epoch 1 | Loss: 1.576835036277771 | Accuracy: 45.3125%\n"
          ]
        },
        {
          "output_type": "stream",
          "name": "stderr",
          "text": [
            "Epoch 1:  10%|█         | 78/751 [00:01<00:06, 104.71batch/s, accuracy=54.6875%, loss=1.34]"
          ]
        },
        {
          "output_type": "stream",
          "name": "stdout",
          "text": [
            "GB | Epoch 1 | Loss: 1.3136627674102783 | Accuracy: 60.9375%\n",
            "GB | Epoch 1 | Loss: 1.4596443176269531 | Accuracy: 46.875%\n",
            "GB | Epoch 1 | Loss: 1.290503740310669 | Accuracy: 59.375%\n",
            "GB | Epoch 1 | Loss: 1.3828012943267822 | Accuracy: 50.0%\n",
            "GB | Epoch 1 | Loss: 1.5835081338882446 | Accuracy: 42.1875%\n",
            "GB | Epoch 1 | Loss: 1.3054251670837402 | Accuracy: 59.375%\n",
            "GB | Epoch 1 | Loss: 1.399593472480774 | Accuracy: 48.4375%\n",
            "GB | Epoch 1 | Loss: 1.399148941040039 | Accuracy: 42.1875%\n",
            "GB | Epoch 1 | Loss: 1.45139479637146 | Accuracy: 51.5625%\n",
            "GB | Epoch 1 | Loss: 1.4715003967285156 | Accuracy: 50.0%\n",
            "GB | Epoch 1 | Loss: 1.4429540634155273 | Accuracy: 50.0%\n",
            "GB | Epoch 1 | Loss: 1.3271576166152954 | Accuracy: 59.375%\n",
            "GB | Epoch 1 | Loss: 1.561790108680725 | Accuracy: 40.625%\n",
            "GB | Epoch 1 | Loss: 1.434745192527771 | Accuracy: 51.5625%\n",
            "GB | Epoch 1 | Loss: 1.5119107961654663 | Accuracy: 43.75%\n",
            "GB | Epoch 1 | Loss: 1.3630659580230713 | Accuracy: 54.6875%\n",
            "GB | Epoch 1 | Loss: 1.3876632452011108 | Accuracy: 53.125%\n",
            "GB | Epoch 1 | Loss: 1.5160107612609863 | Accuracy: 42.1875%\n",
            "GB | Epoch 1 | Loss: 1.4366436004638672 | Accuracy: 50.0%\n",
            "GB | Epoch 1 | Loss: 1.4499292373657227 | Accuracy: 45.3125%\n",
            "GB | Epoch 1 | Loss: 1.329516053199768 | Accuracy: 56.25%\n",
            "GB | Epoch 1 | Loss: 1.3893431425094604 | Accuracy: 56.25%\n",
            "GB | Epoch 1 | Loss: 1.3983591794967651 | Accuracy: 50.0%\n",
            "GB | Epoch 1 | Loss: 1.343631386756897 | Accuracy: 54.6875%\n"
          ]
        },
        {
          "output_type": "stream",
          "name": "stderr",
          "text": [
            "Epoch 1:  14%|█▎        | 102/751 [00:01<00:05, 110.61batch/s, accuracy=48.4375%, loss=1.4]"
          ]
        },
        {
          "output_type": "stream",
          "name": "stdout",
          "text": [
            "GB | Epoch 1 | Loss: 1.3924747705459595 | Accuracy: 53.125%\n",
            "GB | Epoch 1 | Loss: 1.4908416271209717 | Accuracy: 43.75%\n",
            "GB | Epoch 1 | Loss: 1.4278135299682617 | Accuracy: 39.0625%\n",
            "GB | Epoch 1 | Loss: 1.3852183818817139 | Accuracy: 54.6875%\n",
            "GB | Epoch 1 | Loss: 1.5784233808517456 | Accuracy: 37.5%\n",
            "GB | Epoch 1 | Loss: 1.4447327852249146 | Accuracy: 46.875%\n",
            "GB | Epoch 1 | Loss: 1.3970611095428467 | Accuracy: 48.4375%\n",
            "GB | Epoch 1 | Loss: 1.4272702932357788 | Accuracy: 46.875%\n",
            "GB | Epoch 1 | Loss: 1.4029078483581543 | Accuracy: 48.4375%\n",
            "GB | Epoch 1 | Loss: 1.4293341636657715 | Accuracy: 45.3125%\n",
            "GB | Epoch 1 | Loss: 1.3814013004302979 | Accuracy: 51.5625%\n",
            "GB | Epoch 1 | Loss: 1.4981062412261963 | Accuracy: 35.9375%\n",
            "GB | Epoch 1 | Loss: 1.5350664854049683 | Accuracy: 35.9375%\n",
            "GB | Epoch 1 | Loss: 1.3612624406814575 | Accuracy: 53.125%\n",
            "GB | Epoch 1 | Loss: 1.4104822874069214 | Accuracy: 53.125%\n",
            "GB | Epoch 1 | Loss: 1.4300624132156372 | Accuracy: 50.0%\n",
            "GB | Epoch 1 | Loss: 1.4352670907974243 | Accuracy: 46.875%\n",
            "GB | Epoch 1 | Loss: 1.4438966512680054 | Accuracy: 46.875%\n",
            "GB | Epoch 1 | Loss: 1.3299658298492432 | Accuracy: 59.375%\n",
            "GB | Epoch 1 | Loss: 1.498958945274353 | Accuracy: 50.0%\n",
            "GB | Epoch 1 | Loss: 1.3804601430892944 | Accuracy: 53.125%\n",
            "GB | Epoch 1 | Loss: 1.3987895250320435 | Accuracy: 51.5625%\n",
            "GB | Epoch 1 | Loss: 1.3974190950393677 | Accuracy: 48.4375%\n",
            "GB | Epoch 1 | Loss: 1.490118384361267 | Accuracy: 43.75%\n",
            "GB | Epoch 1 | Loss: 1.402746558189392 | Accuracy: 48.4375%\n"
          ]
        },
        {
          "output_type": "stream",
          "name": "stderr",
          "text": [
            "Epoch 1:  17%|█▋        | 126/751 [00:01<00:05, 114.97batch/s, accuracy=59.375%, loss=1.38] "
          ]
        },
        {
          "output_type": "stream",
          "name": "stdout",
          "text": [
            "GB | Epoch 1 | Loss: 1.4151016473770142 | Accuracy: 48.4375%\n",
            "GB | Epoch 1 | Loss: 1.4542393684387207 | Accuracy: 45.3125%\n",
            "GB | Epoch 1 | Loss: 1.4097028970718384 | Accuracy: 51.5625%\n",
            "GB | Epoch 1 | Loss: 1.5332287549972534 | Accuracy: 42.1875%\n",
            "GB | Epoch 1 | Loss: 1.4601272344589233 | Accuracy: 46.875%\n",
            "GB | Epoch 1 | Loss: 1.5338332653045654 | Accuracy: 34.375%\n",
            "GB | Epoch 1 | Loss: 1.3959687948226929 | Accuracy: 51.5625%\n",
            "GB | Epoch 1 | Loss: 1.3804150819778442 | Accuracy: 53.125%\n",
            "GB | Epoch 1 | Loss: 1.3956592082977295 | Accuracy: 50.0%\n",
            "GB | Epoch 1 | Loss: 1.5520159006118774 | Accuracy: 35.9375%\n",
            "GB | Epoch 1 | Loss: 1.3764289617538452 | Accuracy: 56.25%\n",
            "GB | Epoch 1 | Loss: 1.436384916305542 | Accuracy: 46.875%\n",
            "GB | Epoch 1 | Loss: 1.5683873891830444 | Accuracy: 39.0625%\n",
            "GB | Epoch 1 | Loss: 1.3279931545257568 | Accuracy: 56.25%\n",
            "GB | Epoch 1 | Loss: 1.340576171875 | Accuracy: 56.25%\n",
            "GB | Epoch 1 | Loss: 1.5725829601287842 | Accuracy: 43.75%\n",
            "GB | Epoch 1 | Loss: 1.5063951015472412 | Accuracy: 45.3125%\n",
            "GB | Epoch 1 | Loss: 1.3982218503952026 | Accuracy: 53.125%\n",
            "GB | Epoch 1 | Loss: 1.3227803707122803 | Accuracy: 51.5625%\n",
            "GB | Epoch 1 | Loss: 1.4211595058441162 | Accuracy: 45.3125%\n",
            "GB | Epoch 1 | Loss: 1.2689470052719116 | Accuracy: 64.0625%\n",
            "GB | Epoch 1 | Loss: 1.3805148601531982 | Accuracy: 59.375%\n"
          ]
        },
        {
          "output_type": "stream",
          "name": "stderr",
          "text": [
            "Epoch 1:  18%|█▊        | 138/751 [00:01<00:06, 92.86batch/s, accuracy=53.125%, loss=1.35]"
          ]
        },
        {
          "output_type": "stream",
          "name": "stdout",
          "text": [
            "GB | Epoch 1 | Loss: 1.5213558673858643 | Accuracy: 43.75%\n",
            "GB | Epoch 1 | Loss: 1.372890830039978 | Accuracy: 54.6875%\n",
            "GB | Epoch 1 | Loss: 1.5287656784057617 | Accuracy: 39.0625%\n",
            "GB | Epoch 1 | Loss: 1.554956078529358 | Accuracy: 39.0625%\n",
            "GB | Epoch 1 | Loss: 1.46045982837677 | Accuracy: 45.3125%\n",
            "GB | Epoch 1 | Loss: 1.3999216556549072 | Accuracy: 50.0%\n",
            "GB | Epoch 1 | Loss: 1.3525052070617676 | Accuracy: 53.125%\n"
          ]
        },
        {
          "output_type": "stream",
          "name": "stderr",
          "text": [
            "Epoch 1:  18%|█▊        | 138/751 [00:01<00:06, 92.86batch/s, accuracy=40.625%, loss=1.46]"
          ]
        },
        {
          "output_type": "stream",
          "name": "stdout",
          "text": [
            "GB | Epoch 1 | Loss: 1.502610683441162 | Accuracy: 42.1875%\n",
            "GB | Epoch 1 | Loss: 1.3985569477081299 | Accuracy: 51.5625%\n",
            "GB | Epoch 1 | Loss: 1.3357914686203003 | Accuracy: 59.375%\n",
            "GB | Epoch 1 | Loss: 1.4054239988327026 | Accuracy: 46.875%\n",
            "GB | Epoch 1 | Loss: 1.4104852676391602 | Accuracy: 53.125%\n",
            "GB | Epoch 1 | Loss: 1.425140619277954 | Accuracy: 46.875%\n",
            "GB | Epoch 1 | Loss: 1.3537557125091553 | Accuracy: 53.125%\n"
          ]
        },
        {
          "output_type": "stream",
          "name": "stderr",
          "text": [
            "Epoch 1:  21%|██        | 157/751 [00:02<00:09, 59.95batch/s, accuracy=53.125%, loss=1.33]"
          ]
        },
        {
          "output_type": "stream",
          "name": "stdout",
          "text": [
            "GB | Epoch 1 | Loss: 1.456352949142456 | Accuracy: 40.625%\n",
            "GB | Epoch 1 | Loss: 1.320135474205017 | Accuracy: 54.6875%\n",
            "GB | Epoch 1 | Loss: 1.408565878868103 | Accuracy: 51.5625%\n",
            "GB | Epoch 1 | Loss: 1.4439618587493896 | Accuracy: 51.5625%\n",
            "GB | Epoch 1 | Loss: 1.4357213973999023 | Accuracy: 42.1875%\n",
            "GB | Epoch 1 | Loss: 1.3626102209091187 | Accuracy: 51.5625%\n",
            "GB | Epoch 1 | Loss: 1.3928773403167725 | Accuracy: 53.125%\n",
            "GB | Epoch 1 | Loss: 1.2830153703689575 | Accuracy: 56.25%\n",
            "GB | Epoch 1 | Loss: 1.4252142906188965 | Accuracy: 46.875%\n",
            "GB | Epoch 1 | Loss: 1.5611419677734375 | Accuracy: 39.0625%\n",
            "GB | Epoch 1 | Loss: 1.4048306941986084 | Accuracy: 43.75%\n",
            "GB | Epoch 1 | Loss: 1.3537883758544922 | Accuracy: 53.125%\n",
            "GB | Epoch 1 | Loss: 1.3286283016204834 | Accuracy: 53.125%\n"
          ]
        },
        {
          "output_type": "stream",
          "name": "stderr",
          "text": [
            "Epoch 1:  23%|██▎       | 176/751 [00:02<00:07, 73.13batch/s, accuracy=54.6875%, loss=1.29]"
          ]
        },
        {
          "output_type": "stream",
          "name": "stdout",
          "text": [
            "GB | Epoch 1 | Loss: 1.4745700359344482 | Accuracy: 48.4375%\n",
            "GB | Epoch 1 | Loss: 1.3420541286468506 | Accuracy: 51.5625%\n",
            "GB | Epoch 1 | Loss: 1.492893934249878 | Accuracy: 46.875%\n",
            "GB | Epoch 1 | Loss: 1.4432754516601562 | Accuracy: 43.75%\n",
            "GB | Epoch 1 | Loss: 1.4453352689743042 | Accuracy: 46.875%\n",
            "GB | Epoch 1 | Loss: 1.3375771045684814 | Accuracy: 53.125%\n",
            "GB | Epoch 1 | Loss: 1.3520684242248535 | Accuracy: 60.9375%\n",
            "GB | Epoch 1 | Loss: 1.5110039710998535 | Accuracy: 43.75%\n",
            "GB | Epoch 1 | Loss: 1.3227635622024536 | Accuracy: 53.125%\n",
            "GB | Epoch 1 | Loss: 1.448367953300476 | Accuracy: 50.0%\n",
            "GB | Epoch 1 | Loss: 1.3974379301071167 | Accuracy: 53.125%\n",
            "GB | Epoch 1 | Loss: 1.4171602725982666 | Accuracy: 43.75%\n",
            "GB | Epoch 1 | Loss: 1.4757641553878784 | Accuracy: 43.75%\n",
            "GB | Epoch 1 | Loss: 1.495587706565857 | Accuracy: 42.1875%\n",
            "GB | Epoch 1 | Loss: 1.475633144378662 | Accuracy: 42.1875%\n",
            "GB | Epoch 1 | Loss: 1.3222155570983887 | Accuracy: 56.25%\n",
            "GB | Epoch 1 | Loss: 1.2655268907546997 | Accuracy: 59.375%\n",
            "GB | Epoch 1 | Loss: 1.3164870738983154 | Accuracy: 56.25%\n",
            "GB | Epoch 1 | Loss: 1.43577241897583 | Accuracy: 45.3125%\n",
            "GB | Epoch 1 | Loss: 1.4726234674453735 | Accuracy: 42.1875%\n",
            "GB | Epoch 1 | Loss: 1.3921064138412476 | Accuracy: 51.5625%\n"
          ]
        },
        {
          "output_type": "stream",
          "name": "stderr",
          "text": [
            "Epoch 1:  26%|██▋       | 199/751 [00:02<00:06, 88.93batch/s, accuracy=53.125%, loss=1.36]"
          ]
        },
        {
          "output_type": "stream",
          "name": "stdout",
          "text": [
            "GB | Epoch 1 | Loss: 1.2856537103652954 | Accuracy: 54.6875%\n",
            "GB | Epoch 1 | Loss: 1.5106000900268555 | Accuracy: 43.75%\n",
            "GB | Epoch 1 | Loss: 1.2461466789245605 | Accuracy: 62.5%\n",
            "GB | Epoch 1 | Loss: 1.4513638019561768 | Accuracy: 46.875%\n",
            "GB | Epoch 1 | Loss: 1.5900709629058838 | Accuracy: 34.375%\n",
            "GB | Epoch 1 | Loss: 1.4485876560211182 | Accuracy: 50.0%\n",
            "GB | Epoch 1 | Loss: 1.415024757385254 | Accuracy: 48.4375%\n",
            "GB | Epoch 1 | Loss: 1.4394561052322388 | Accuracy: 43.75%\n",
            "GB | Epoch 1 | Loss: 1.3565967082977295 | Accuracy: 53.125%\n",
            "GB | Epoch 1 | Loss: 1.370072364807129 | Accuracy: 51.5625%\n",
            "GB | Epoch 1 | Loss: 1.4243676662445068 | Accuracy: 45.3125%\n",
            "GB | Epoch 1 | Loss: 1.4271793365478516 | Accuracy: 42.1875%\n",
            "GB | Epoch 1 | Loss: 1.3234319686889648 | Accuracy: 57.8125%\n",
            "GB | Epoch 1 | Loss: 1.1894001960754395 | Accuracy: 67.1875%\n",
            "GB | Epoch 1 | Loss: 1.4313973188400269 | Accuracy: 42.1875%\n",
            "GB | Epoch 1 | Loss: 1.3440372943878174 | Accuracy: 51.5625%\n",
            "GB | Epoch 1 | Loss: 1.2910654544830322 | Accuracy: 56.25%\n",
            "GB | Epoch 1 | Loss: 1.5714613199234009 | Accuracy: 32.8125%\n",
            "GB | Epoch 1 | Loss: 1.3308796882629395 | Accuracy: 54.6875%\n",
            "GB | Epoch 1 | Loss: 1.268336296081543 | Accuracy: 59.375%\n",
            "GB | Epoch 1 | Loss: 1.4032261371612549 | Accuracy: 46.875%\n",
            "GB | Epoch 1 | Loss: 1.3616724014282227 | Accuracy: 53.125%\n"
          ]
        },
        {
          "output_type": "stream",
          "name": "stderr",
          "text": [
            "Epoch 1:  29%|██▉       | 219/751 [00:02<00:05, 89.04batch/s, accuracy=53.125%, loss=1.36] "
          ]
        },
        {
          "output_type": "stream",
          "name": "stdout",
          "text": [
            "GB | Epoch 1 | Loss: 1.3857663869857788 | Accuracy: 46.875%\n",
            "GB | Epoch 1 | Loss: 1.445231318473816 | Accuracy: 48.4375%\n",
            "GB | Epoch 1 | Loss: 1.4176172018051147 | Accuracy: 46.875%\n",
            "GB | Epoch 1 | Loss: 1.3562546968460083 | Accuracy: 51.5625%\n",
            "GB | Epoch 1 | Loss: 1.3886518478393555 | Accuracy: 50.0%\n",
            "GB | Epoch 1 | Loss: 1.452951192855835 | Accuracy: 40.625%\n",
            "GB | Epoch 1 | Loss: 1.2122708559036255 | Accuracy: 64.0625%\n",
            "GB | Epoch 1 | Loss: 1.4355744123458862 | Accuracy: 43.75%\n",
            "GB | Epoch 1 | Loss: 1.3353906869888306 | Accuracy: 57.8125%\n",
            "GB | Epoch 1 | Loss: 1.1984401941299438 | Accuracy: 70.3125%\n",
            "GB | Epoch 1 | Loss: 1.4199105501174927 | Accuracy: 51.5625%\n",
            "GB | Epoch 1 | Loss: 1.3440426588058472 | Accuracy: 53.125%\n",
            "GB | Epoch 1 | Loss: 1.5020509958267212 | Accuracy: 43.75%\n",
            "GB | Epoch 1 | Loss: 1.3845757246017456 | Accuracy: 48.4375%\n",
            "GB | Epoch 1 | Loss: 1.501928448677063 | Accuracy: 43.75%\n",
            "GB | Epoch 1 | Loss: 1.533393383026123 | Accuracy: 40.625%\n",
            "GB | Epoch 1 | Loss: 1.388515830039978 | Accuracy: 54.6875%\n",
            "GB | Epoch 1 | Loss: 1.3632029294967651 | Accuracy: 53.125%\n"
          ]
        },
        {
          "output_type": "stream",
          "name": "stderr",
          "text": [
            "Epoch 1:  32%|███▏      | 240/751 [00:02<00:05, 92.88batch/s, accuracy=50.0%, loss=1.37] "
          ]
        },
        {
          "output_type": "stream",
          "name": "stdout",
          "text": [
            "GB | Epoch 1 | Loss: 1.2950774431228638 | Accuracy: 57.8125%\n",
            "GB | Epoch 1 | Loss: 1.4512457847595215 | Accuracy: 50.0%\n",
            "GB | Epoch 1 | Loss: 1.4416139125823975 | Accuracy: 43.75%\n",
            "GB | Epoch 1 | Loss: 1.4908709526062012 | Accuracy: 42.1875%\n",
            "GB | Epoch 1 | Loss: 1.18091881275177 | Accuracy: 62.5%\n",
            "GB | Epoch 1 | Loss: 1.3733859062194824 | Accuracy: 51.5625%\n",
            "GB | Epoch 1 | Loss: 1.4626818895339966 | Accuracy: 45.3125%\n",
            "GB | Epoch 1 | Loss: 1.3374537229537964 | Accuracy: 53.125%\n",
            "GB | Epoch 1 | Loss: 1.3454269170761108 | Accuracy: 51.5625%\n",
            "GB | Epoch 1 | Loss: 1.3331631422042847 | Accuracy: 56.25%\n",
            "GB | Epoch 1 | Loss: 1.4263710975646973 | Accuracy: 42.1875%\n",
            "GB | Epoch 1 | Loss: 1.4049873352050781 | Accuracy: 50.0%\n",
            "GB | Epoch 1 | Loss: 1.383101224899292 | Accuracy: 45.3125%\n",
            "GB | Epoch 1 | Loss: 1.4556825160980225 | Accuracy: 45.3125%\n",
            "GB | Epoch 1 | Loss: 1.287499189376831 | Accuracy: 54.6875%\n",
            "GB | Epoch 1 | Loss: 1.4896236658096313 | Accuracy: 40.625%\n",
            "GB | Epoch 1 | Loss: 1.36093270778656 | Accuracy: 53.125%\n",
            "GB | Epoch 1 | Loss: 1.3382737636566162 | Accuracy: 53.125%\n",
            "GB | Epoch 1 | Loss: 1.4672809839248657 | Accuracy: 40.625%\n",
            "GB | Epoch 1 | Loss: 1.4000418186187744 | Accuracy: 46.875%\n",
            "GB | Epoch 1 | Loss: 1.3742157220840454 | Accuracy: 50.0%\n"
          ]
        },
        {
          "output_type": "stream",
          "name": "stderr",
          "text": [
            "Epoch 1:  35%|███▌      | 264/751 [00:03<00:04, 102.43batch/s, accuracy=37.5%, loss=1.56]   "
          ]
        },
        {
          "output_type": "stream",
          "name": "stdout",
          "text": [
            "GB | Epoch 1 | Loss: 1.343314528465271 | Accuracy: 50.0%\n",
            "GB | Epoch 1 | Loss: 1.3504631519317627 | Accuracy: 51.5625%\n",
            "GB | Epoch 1 | Loss: 1.4699597358703613 | Accuracy: 43.75%\n",
            "GB | Epoch 1 | Loss: 1.3939952850341797 | Accuracy: 53.125%\n",
            "GB | Epoch 1 | Loss: 1.3926525115966797 | Accuracy: 48.4375%\n",
            "GB | Epoch 1 | Loss: 1.3556383848190308 | Accuracy: 48.4375%\n",
            "GB | Epoch 1 | Loss: 1.3435531854629517 | Accuracy: 56.25%\n",
            "GB | Epoch 1 | Loss: 1.3485926389694214 | Accuracy: 48.4375%\n",
            "GB | Epoch 1 | Loss: 1.259909987449646 | Accuracy: 57.8125%\n",
            "GB | Epoch 1 | Loss: 1.3062262535095215 | Accuracy: 60.9375%\n",
            "GB | Epoch 1 | Loss: 1.266366720199585 | Accuracy: 54.6875%\n",
            "GB | Epoch 1 | Loss: 1.2764500379562378 | Accuracy: 59.375%\n",
            "GB | Epoch 1 | Loss: 1.3690162897109985 | Accuracy: 46.875%\n",
            "GB | Epoch 1 | Loss: 1.3785755634307861 | Accuracy: 51.5625%\n",
            "GB | Epoch 1 | Loss: 1.3012248277664185 | Accuracy: 50.0%\n",
            "GB | Epoch 1 | Loss: 1.3585809469223022 | Accuracy: 50.0%\n",
            "GB | Epoch 1 | Loss: 1.3500136137008667 | Accuracy: 56.25%\n",
            "GB | Epoch 1 | Loss: 1.3249624967575073 | Accuracy: 48.4375%\n",
            "GB | Epoch 1 | Loss: 1.348388671875 | Accuracy: 48.4375%\n",
            "GB | Epoch 1 | Loss: 1.6023221015930176 | Accuracy: 40.625%\n",
            "GB | Epoch 1 | Loss: 1.3191494941711426 | Accuracy: 56.25%\n",
            "GB | Epoch 1 | Loss: 1.4189934730529785 | Accuracy: 50.0%\n",
            "GB | Epoch 1 | Loss: 1.3213218450546265 | Accuracy: 51.5625%\n",
            "GB | Epoch 1 | Loss: 1.5583962202072144 | Accuracy: 37.5%\n"
          ]
        },
        {
          "output_type": "stream",
          "name": "stderr",
          "text": [
            "Epoch 1:  38%|███▊      | 289/751 [00:03<00:04, 109.47batch/s, accuracy=51.5625%, loss=1.3]"
          ]
        },
        {
          "output_type": "stream",
          "name": "stdout",
          "text": [
            "GB | Epoch 1 | Loss: 1.4015649557113647 | Accuracy: 43.75%\n",
            "GB | Epoch 1 | Loss: 1.3728551864624023 | Accuracy: 50.0%\n",
            "GB | Epoch 1 | Loss: 1.3467904329299927 | Accuracy: 51.5625%\n",
            "GB | Epoch 1 | Loss: 1.4739210605621338 | Accuracy: 48.4375%\n",
            "GB | Epoch 1 | Loss: 1.382856845855713 | Accuracy: 48.4375%\n",
            "GB | Epoch 1 | Loss: 1.285601019859314 | Accuracy: 59.375%\n",
            "GB | Epoch 1 | Loss: 1.2386813163757324 | Accuracy: 62.5%\n",
            "GB | Epoch 1 | Loss: 1.4225786924362183 | Accuracy: 42.1875%\n",
            "GB | Epoch 1 | Loss: 1.3619095087051392 | Accuracy: 53.125%\n",
            "GB | Epoch 1 | Loss: 1.3360919952392578 | Accuracy: 51.5625%\n",
            "GB | Epoch 1 | Loss: 1.3440841436386108 | Accuracy: 50.0%\n",
            "GB | Epoch 1 | Loss: 1.41703200340271 | Accuracy: 46.875%\n",
            "GB | Epoch 1 | Loss: 1.386897325515747 | Accuracy: 50.0%\n",
            "GB | Epoch 1 | Loss: 1.2493864297866821 | Accuracy: 59.375%\n",
            "GB | Epoch 1 | Loss: 1.4575937986373901 | Accuracy: 43.75%\n",
            "GB | Epoch 1 | Loss: 1.46199369430542 | Accuracy: 39.0625%\n",
            "GB | Epoch 1 | Loss: 1.3454906940460205 | Accuracy: 54.6875%\n",
            "GB | Epoch 1 | Loss: 1.3083845376968384 | Accuracy: 51.5625%\n",
            "GB | Epoch 1 | Loss: 1.3462343215942383 | Accuracy: 46.875%\n",
            "GB | Epoch 1 | Loss: 1.358291745185852 | Accuracy: 50.0%\n",
            "GB | Epoch 1 | Loss: 1.443792700767517 | Accuracy: 45.3125%\n",
            "GB | Epoch 1 | Loss: 1.3125423192977905 | Accuracy: 59.375%\n",
            "GB | Epoch 1 | Loss: 1.3241260051727295 | Accuracy: 54.6875%\n",
            "GB | Epoch 1 | Loss: 1.3680756092071533 | Accuracy: 53.125%\n"
          ]
        },
        {
          "output_type": "stream",
          "name": "stderr",
          "text": [
            "Epoch 1:  40%|████      | 301/751 [00:03<00:04, 110.35batch/s, accuracy=56.25%, loss=1.26]"
          ]
        },
        {
          "output_type": "stream",
          "name": "stdout",
          "text": [
            "GB | Epoch 1 | Loss: 1.3036006689071655 | Accuracy: 51.5625%\n",
            "GB | Epoch 1 | Loss: 1.2967560291290283 | Accuracy: 54.6875%\n",
            "GB | Epoch 1 | Loss: 1.3537051677703857 | Accuracy: 50.0%\n",
            "GB | Epoch 1 | Loss: 1.4377171993255615 | Accuracy: 40.625%\n",
            "GB | Epoch 1 | Loss: 1.399476408958435 | Accuracy: 43.75%\n",
            "GB | Epoch 1 | Loss: 1.5093353986740112 | Accuracy: 37.5%\n",
            "GB | Epoch 1 | Loss: 1.414453148841858 | Accuracy: 42.1875%\n",
            "GB | Epoch 1 | Loss: 1.4145113229751587 | Accuracy: 48.4375%\n",
            "GB | Epoch 1 | Loss: 1.3898673057556152 | Accuracy: 45.3125%\n",
            "GB | Epoch 1 | Loss: 1.446393370628357 | Accuracy: 45.3125%\n",
            "GB | Epoch 1 | Loss: 1.2787848711013794 | Accuracy: 60.9375%\n",
            "GB | Epoch 1 | Loss: 1.4360241889953613 | Accuracy: 48.4375%\n",
            "GB | Epoch 1 | Loss: 1.2044204473495483 | Accuracy: 57.8125%\n",
            "GB | Epoch 1 | Loss: 1.3676420450210571 | Accuracy: 45.3125%\n",
            "GB | Epoch 1 | Loss: 1.3290802240371704 | Accuracy: 53.125%\n",
            "GB | Epoch 1 | Loss: 1.434279441833496 | Accuracy: 42.1875%\n",
            "GB | Epoch 1 | Loss: 1.311772346496582 | Accuracy: 51.5625%\n",
            "GB | Epoch 1 | Loss: 1.3331810235977173 | Accuracy: 48.4375%\n",
            "GB | Epoch 1 | Loss: 1.205222487449646 | Accuracy: 56.25%\n",
            "GB | Epoch 1 | Loss: 1.2647202014923096 | Accuracy: 56.25%\n"
          ]
        },
        {
          "output_type": "stream",
          "name": "stderr",
          "text": [
            "Epoch 1:  43%|████▎     | 324/751 [00:03<00:04, 100.90batch/s, accuracy=42.1875%, loss=1.46]"
          ]
        },
        {
          "output_type": "stream",
          "name": "stdout",
          "text": [
            "GB | Epoch 1 | Loss: 1.3159656524658203 | Accuracy: 50.0%\n",
            "GB | Epoch 1 | Loss: 1.2670490741729736 | Accuracy: 48.4375%\n",
            "GB | Epoch 1 | Loss: 1.347265601158142 | Accuracy: 46.875%\n",
            "GB | Epoch 1 | Loss: 1.411479115486145 | Accuracy: 42.1875%\n",
            "GB | Epoch 1 | Loss: 1.4025835990905762 | Accuracy: 51.5625%\n",
            "GB | Epoch 1 | Loss: 1.4209790229797363 | Accuracy: 42.1875%\n",
            "GB | Epoch 1 | Loss: 1.3107962608337402 | Accuracy: 57.8125%\n",
            "GB | Epoch 1 | Loss: 1.479541540145874 | Accuracy: 35.9375%\n",
            "GB | Epoch 1 | Loss: 1.2839796543121338 | Accuracy: 56.25%\n",
            "GB | Epoch 1 | Loss: 1.3162779808044434 | Accuracy: 53.125%\n",
            "GB | Epoch 1 | Loss: 1.2377039194107056 | Accuracy: 60.9375%\n",
            "GB | Epoch 1 | Loss: 1.4916267395019531 | Accuracy: 40.625%\n",
            "GB | Epoch 1 | Loss: 1.41433584690094 | Accuracy: 40.625%\n",
            "GB | Epoch 1 | Loss: 1.2695567607879639 | Accuracy: 57.8125%\n",
            "GB | Epoch 1 | Loss: 1.3235836029052734 | Accuracy: 53.125%\n",
            "GB | Epoch 1 | Loss: 1.3816030025482178 | Accuracy: 45.3125%\n",
            "GB | Epoch 1 | Loss: 1.510258436203003 | Accuracy: 42.1875%\n",
            "GB | Epoch 1 | Loss: 1.342117428779602 | Accuracy: 46.875%\n",
            "GB | Epoch 1 | Loss: 1.4627885818481445 | Accuracy: 42.1875%\n"
          ]
        },
        {
          "output_type": "stream",
          "name": "stderr",
          "text": [
            "Epoch 1:  46%|████▌     | 345/751 [00:03<00:04, 96.33batch/s, accuracy=45.3125%, loss=1.39]"
          ]
        },
        {
          "output_type": "stream",
          "name": "stdout",
          "text": [
            "GB | Epoch 1 | Loss: 1.2589399814605713 | Accuracy: 56.25%\n",
            "GB | Epoch 1 | Loss: 1.3719903230667114 | Accuracy: 56.25%\n",
            "GB | Epoch 1 | Loss: 1.4163150787353516 | Accuracy: 43.75%\n",
            "GB | Epoch 1 | Loss: 1.3864909410476685 | Accuracy: 46.875%\n",
            "GB | Epoch 1 | Loss: 1.2735745906829834 | Accuracy: 57.8125%\n",
            "GB | Epoch 1 | Loss: 1.3330066204071045 | Accuracy: 51.5625%\n",
            "GB | Epoch 1 | Loss: 1.3672313690185547 | Accuracy: 48.4375%\n",
            "GB | Epoch 1 | Loss: 1.2538926601409912 | Accuracy: 56.25%\n",
            "GB | Epoch 1 | Loss: 1.3934532403945923 | Accuracy: 45.3125%\n",
            "GB | Epoch 1 | Loss: 1.1930146217346191 | Accuracy: 62.5%\n",
            "GB | Epoch 1 | Loss: 1.2758649587631226 | Accuracy: 50.0%\n",
            "GB | Epoch 1 | Loss: 1.3162829875946045 | Accuracy: 51.5625%\n",
            "GB | Epoch 1 | Loss: 1.3379058837890625 | Accuracy: 50.0%\n",
            "GB | Epoch 1 | Loss: 1.4153988361358643 | Accuracy: 42.1875%\n",
            "GB | Epoch 1 | Loss: 1.4147824048995972 | Accuracy: 39.0625%\n",
            "GB | Epoch 1 | Loss: 1.4229413270950317 | Accuracy: 42.1875%\n",
            "GB | Epoch 1 | Loss: 1.3951876163482666 | Accuracy: 43.75%\n",
            "GB | Epoch 1 | Loss: 1.2473078966140747 | Accuracy: 53.125%\n",
            "GB | Epoch 1 | Loss: 1.3903138637542725 | Accuracy: 45.3125%\n"
          ]
        },
        {
          "output_type": "stream",
          "name": "stderr",
          "text": [
            "Epoch 1:  49%|████▊     | 365/751 [00:04<00:04, 95.14batch/s, accuracy=57.8125%, loss=1.28]"
          ]
        },
        {
          "output_type": "stream",
          "name": "stdout",
          "text": [
            "GB | Epoch 1 | Loss: 1.3231765031814575 | Accuracy: 43.75%\n",
            "GB | Epoch 1 | Loss: 1.2765339612960815 | Accuracy: 57.8125%\n",
            "GB | Epoch 1 | Loss: 1.2873525619506836 | Accuracy: 54.6875%\n",
            "GB | Epoch 1 | Loss: 1.2384412288665771 | Accuracy: 60.9375%\n",
            "GB | Epoch 1 | Loss: 1.2957121133804321 | Accuracy: 56.25%\n",
            "GB | Epoch 1 | Loss: 1.2482246160507202 | Accuracy: 56.25%\n",
            "GB | Epoch 1 | Loss: 1.4460549354553223 | Accuracy: 39.0625%\n",
            "GB | Epoch 1 | Loss: 1.2529531717300415 | Accuracy: 56.25%\n",
            "GB | Epoch 1 | Loss: 1.405159592628479 | Accuracy: 45.3125%\n",
            "GB | Epoch 1 | Loss: 1.2626796960830688 | Accuracy: 54.6875%\n",
            "GB | Epoch 1 | Loss: 1.4260146617889404 | Accuracy: 46.875%\n",
            "GB | Epoch 1 | Loss: 1.2347087860107422 | Accuracy: 54.6875%\n",
            "GB | Epoch 1 | Loss: 1.1764936447143555 | Accuracy: 64.0625%\n",
            "GB | Epoch 1 | Loss: 1.4937433004379272 | Accuracy: 40.625%\n",
            "GB | Epoch 1 | Loss: 1.3070286512374878 | Accuracy: 56.25%\n",
            "GB | Epoch 1 | Loss: 1.332491159439087 | Accuracy: 48.4375%\n",
            "GB | Epoch 1 | Loss: 1.3444585800170898 | Accuracy: 48.4375%\n",
            "GB | Epoch 1 | Loss: 1.2064948081970215 | Accuracy: 64.0625%\n",
            "GB | Epoch 1 | Loss: 1.2459087371826172 | Accuracy: 57.8125%\n",
            "GB | Epoch 1 | Loss: 1.3405324220657349 | Accuracy: 46.875%\n",
            "GB | Epoch 1 | Loss: 1.2812167406082153 | Accuracy: 57.8125%\n"
          ]
        },
        {
          "output_type": "stream",
          "name": "stderr",
          "text": [
            "Epoch 1:  52%|█████▏    | 390/751 [00:04<00:03, 105.94batch/s, accuracy=45.3125%, loss=1.32]"
          ]
        },
        {
          "output_type": "stream",
          "name": "stdout",
          "text": [
            "GB | Epoch 1 | Loss: 1.3857417106628418 | Accuracy: 48.4375%\n",
            "GB | Epoch 1 | Loss: 1.3287832736968994 | Accuracy: 50.0%\n",
            "GB | Epoch 1 | Loss: 1.1563282012939453 | Accuracy: 68.75%\n",
            "GB | Epoch 1 | Loss: 1.4197651147842407 | Accuracy: 42.1875%\n",
            "GB | Epoch 1 | Loss: 1.3876785039901733 | Accuracy: 46.875%\n",
            "GB | Epoch 1 | Loss: 1.2310388088226318 | Accuracy: 56.25%\n",
            "GB | Epoch 1 | Loss: 1.3333659172058105 | Accuracy: 48.4375%\n",
            "GB | Epoch 1 | Loss: 1.2702810764312744 | Accuracy: 57.8125%\n",
            "GB | Epoch 1 | Loss: 1.3157647848129272 | Accuracy: 48.4375%\n",
            "GB | Epoch 1 | Loss: 1.2645388841629028 | Accuracy: 57.8125%\n",
            "GB | Epoch 1 | Loss: 1.2092082500457764 | Accuracy: 59.375%\n",
            "GB | Epoch 1 | Loss: 1.3364547491073608 | Accuracy: 50.0%\n",
            "GB | Epoch 1 | Loss: 1.3358409404754639 | Accuracy: 50.0%\n",
            "GB | Epoch 1 | Loss: 1.4653416872024536 | Accuracy: 37.5%\n",
            "GB | Epoch 1 | Loss: 1.1900370121002197 | Accuracy: 59.375%\n",
            "GB | Epoch 1 | Loss: 1.2757314443588257 | Accuracy: 51.5625%\n",
            "GB | Epoch 1 | Loss: 1.2448430061340332 | Accuracy: 51.5625%\n",
            "GB | Epoch 1 | Loss: 1.262176752090454 | Accuracy: 53.125%\n",
            "GB | Epoch 1 | Loss: 1.4832419157028198 | Accuracy: 37.5%\n",
            "GB | Epoch 1 | Loss: 1.318672776222229 | Accuracy: 53.125%\n",
            "GB | Epoch 1 | Loss: 1.3278186321258545 | Accuracy: 50.0%\n",
            "GB | Epoch 1 | Loss: 1.2853924036026 | Accuracy: 51.5625%\n",
            "GB | Epoch 1 | Loss: 1.3227392435073853 | Accuracy: 45.3125%\n"
          ]
        },
        {
          "output_type": "stream",
          "name": "stderr",
          "text": [
            "Epoch 1:  55%|█████▍    | 412/751 [00:04<00:03, 101.53batch/s, accuracy=56.25%, loss=1.13]  "
          ]
        },
        {
          "output_type": "stream",
          "name": "stdout",
          "text": [
            "GB | Epoch 1 | Loss: 1.2077133655548096 | Accuracy: 62.5%\n",
            "GB | Epoch 1 | Loss: 1.4067026376724243 | Accuracy: 42.1875%\n",
            "GB | Epoch 1 | Loss: 1.1437859535217285 | Accuracy: 64.0625%\n",
            "GB | Epoch 1 | Loss: 1.2927074432373047 | Accuracy: 50.0%\n",
            "GB | Epoch 1 | Loss: 1.3551400899887085 | Accuracy: 43.75%\n",
            "GB | Epoch 1 | Loss: 1.3015581369400024 | Accuracy: 51.5625%\n",
            "GB | Epoch 1 | Loss: 1.0783238410949707 | Accuracy: 67.1875%\n",
            "GB | Epoch 1 | Loss: 1.309444546699524 | Accuracy: 50.0%\n",
            "GB | Epoch 1 | Loss: 1.3074172735214233 | Accuracy: 48.4375%\n",
            "GB | Epoch 1 | Loss: 1.2643227577209473 | Accuracy: 50.0%\n",
            "GB | Epoch 1 | Loss: 1.2109543085098267 | Accuracy: 57.8125%\n",
            "GB | Epoch 1 | Loss: 1.185572862625122 | Accuracy: 56.25%\n",
            "GB | Epoch 1 | Loss: 1.3091338872909546 | Accuracy: 51.5625%\n",
            "GB | Epoch 1 | Loss: 1.3300836086273193 | Accuracy: 51.5625%\n",
            "GB | Epoch 1 | Loss: 1.2858610153198242 | Accuracy: 50.0%\n",
            "GB | Epoch 1 | Loss: 1.3792895078659058 | Accuracy: 48.4375%\n",
            "GB | Epoch 1 | Loss: 1.1218674182891846 | Accuracy: 65.625%\n",
            "GB | Epoch 1 | Loss: 1.366512656211853 | Accuracy: 46.875%\n",
            "GB | Epoch 1 | Loss: 1.3343324661254883 | Accuracy: 51.5625%\n",
            "GB | Epoch 1 | Loss: 1.1257054805755615 | Accuracy: 56.25%\n"
          ]
        },
        {
          "output_type": "stream",
          "name": "stderr",
          "text": [
            "Epoch 1:  56%|█████▋    | 423/751 [00:04<00:03, 96.41batch/s, accuracy=43.75%, loss=1.37] "
          ]
        },
        {
          "output_type": "stream",
          "name": "stdout",
          "text": [
            "GB | Epoch 1 | Loss: 1.257432460784912 | Accuracy: 53.125%\n",
            "GB | Epoch 1 | Loss: 1.2579221725463867 | Accuracy: 53.125%\n",
            "GB | Epoch 1 | Loss: 1.3272974491119385 | Accuracy: 46.875%\n",
            "GB | Epoch 1 | Loss: 1.4298744201660156 | Accuracy: 40.625%\n",
            "GB | Epoch 1 | Loss: 1.1533957719802856 | Accuracy: 54.6875%\n",
            "GB | Epoch 1 | Loss: 1.3040571212768555 | Accuracy: 50.0%\n",
            "GB | Epoch 1 | Loss: 1.373647689819336 | Accuracy: 45.3125%\n",
            "GB | Epoch 1 | Loss: 1.2227050065994263 | Accuracy: 56.25%\n",
            "GB | Epoch 1 | Loss: 1.2423566579818726 | Accuracy: 57.8125%\n",
            "GB | Epoch 1 | Loss: 1.2715007066726685 | Accuracy: 50.0%\n",
            "GB | Epoch 1 | Loss: 1.2614820003509521 | Accuracy: 56.25%\n",
            "GB | Epoch 1 | Loss: 1.2407461404800415 | Accuracy: 53.125%\n",
            "GB | Epoch 1 | Loss: 1.2749340534210205 | Accuracy: 48.4375%\n",
            "GB | Epoch 1 | Loss: 1.2875512838363647 | Accuracy: 50.0%\n",
            "GB | Epoch 1 | Loss: 1.3632317781448364 | Accuracy: 46.875%\n",
            "GB | Epoch 1 | Loss: 1.3029050827026367 | Accuracy: 53.125%\n",
            "GB | Epoch 1 | Loss: 1.1221896409988403 | Accuracy: 60.9375%\n",
            "GB | Epoch 1 | Loss: 1.2696605920791626 | Accuracy: 53.125%\n",
            "GB | Epoch 1 | Loss: 1.3701553344726562 | Accuracy: 43.75%\n"
          ]
        },
        {
          "output_type": "stream",
          "name": "stderr",
          "text": [
            "Epoch 1:  59%|█████▉    | 445/751 [00:04<00:02, 102.69batch/s, accuracy=50.0%, loss=1.26] "
          ]
        },
        {
          "output_type": "stream",
          "name": "stdout",
          "text": [
            "GB | Epoch 1 | Loss: 1.2312917709350586 | Accuracy: 53.125%\n",
            "GB | Epoch 1 | Loss: 1.188585877418518 | Accuracy: 59.375%\n",
            "GB | Epoch 1 | Loss: 1.2368026971817017 | Accuracy: 57.8125%\n",
            "GB | Epoch 1 | Loss: 1.299774169921875 | Accuracy: 51.5625%\n",
            "GB | Epoch 1 | Loss: 1.149646282196045 | Accuracy: 57.8125%\n",
            "GB | Epoch 1 | Loss: 1.3171318769454956 | Accuracy: 50.0%\n",
            "GB | Epoch 1 | Loss: 1.1489441394805908 | Accuracy: 60.9375%\n",
            "GB | Epoch 1 | Loss: 1.272585153579712 | Accuracy: 53.125%\n",
            "GB | Epoch 1 | Loss: 1.2769246101379395 | Accuracy: 51.5625%\n",
            "GB | Epoch 1 | Loss: 1.1537296772003174 | Accuracy: 54.6875%\n",
            "GB | Epoch 1 | Loss: 1.141149878501892 | Accuracy: 64.0625%\n",
            "GB | Epoch 1 | Loss: 1.294472575187683 | Accuracy: 48.4375%\n",
            "GB | Epoch 1 | Loss: 1.2528033256530762 | Accuracy: 51.5625%\n",
            "GB | Epoch 1 | Loss: 1.1098005771636963 | Accuracy: 62.5%\n",
            "GB | Epoch 1 | Loss: 1.2344789505004883 | Accuracy: 48.4375%\n",
            "GB | Epoch 1 | Loss: 1.1404038667678833 | Accuracy: 59.375%\n",
            "GB | Epoch 1 | Loss: 1.3002783060073853 | Accuracy: 46.875%\n",
            "GB | Epoch 1 | Loss: 1.259952187538147 | Accuracy: 53.125%\n",
            "GB | Epoch 1 | Loss: 1.3623955249786377 | Accuracy: 45.3125%\n",
            "GB | Epoch 1 | Loss: 1.31033194065094 | Accuracy: 45.3125%\n",
            "GB | Epoch 1 | Loss: 1.328852891921997 | Accuracy: 48.4375%\n",
            "GB | Epoch 1 | Loss: 1.3335388898849487 | Accuracy: 50.0%\n",
            "GB | Epoch 1 | Loss: 1.1543519496917725 | Accuracy: 56.25%\n"
          ]
        },
        {
          "output_type": "stream",
          "name": "stderr",
          "text": [
            "Epoch 1:  62%|██████▏   | 468/751 [00:05<00:02, 106.73batch/s, accuracy=56.25%, loss=1.18] "
          ]
        },
        {
          "output_type": "stream",
          "name": "stdout",
          "text": [
            "GB | Epoch 1 | Loss: 1.2570701837539673 | Accuracy: 50.0%\n",
            "GB | Epoch 1 | Loss: 1.0969834327697754 | Accuracy: 64.0625%\n",
            "GB | Epoch 1 | Loss: 1.1188770532608032 | Accuracy: 65.625%\n",
            "GB | Epoch 1 | Loss: 1.3120334148406982 | Accuracy: 48.4375%\n",
            "GB | Epoch 1 | Loss: 1.348312497138977 | Accuracy: 42.1875%\n",
            "GB | Epoch 1 | Loss: 1.2236671447753906 | Accuracy: 54.6875%\n",
            "GB | Epoch 1 | Loss: 1.1735575199127197 | Accuracy: 56.25%\n",
            "GB | Epoch 1 | Loss: 0.9699859619140625 | Accuracy: 67.1875%\n",
            "GB | Epoch 1 | Loss: 1.2597965002059937 | Accuracy: 48.4375%\n",
            "GB | Epoch 1 | Loss: 1.2461092472076416 | Accuracy: 51.5625%\n",
            "GB | Epoch 1 | Loss: 1.1928603649139404 | Accuracy: 62.5%\n",
            "GB | Epoch 1 | Loss: 1.186455249786377 | Accuracy: 57.8125%\n",
            "GB | Epoch 1 | Loss: 1.1962804794311523 | Accuracy: 54.6875%\n",
            "GB | Epoch 1 | Loss: 1.1992132663726807 | Accuracy: 54.6875%\n",
            "GB | Epoch 1 | Loss: 1.2849147319793701 | Accuracy: 56.25%\n",
            "GB | Epoch 1 | Loss: 1.3205381631851196 | Accuracy: 48.4375%\n",
            "GB | Epoch 1 | Loss: 1.139201045036316 | Accuracy: 60.9375%\n",
            "GB | Epoch 1 | Loss: 1.1336346864700317 | Accuracy: 56.25%\n",
            "GB | Epoch 1 | Loss: 0.9940289855003357 | Accuracy: 70.3125%\n",
            "GB | Epoch 1 | Loss: 1.2021734714508057 | Accuracy: 53.125%\n",
            "GB | Epoch 1 | Loss: 1.172560453414917 | Accuracy: 57.8125%\n",
            "GB | Epoch 1 | Loss: 1.1662356853485107 | Accuracy: 59.375%\n",
            "GB | Epoch 1 | Loss: 1.1767005920410156 | Accuracy: 56.25%\n"
          ]
        },
        {
          "output_type": "stream",
          "name": "stderr",
          "text": [
            "Epoch 1:  66%|██████▌   | 493/751 [00:05<00:02, 111.55batch/s, accuracy=60.9375%, loss=1.24]"
          ]
        },
        {
          "output_type": "stream",
          "name": "stdout",
          "text": [
            "GB | Epoch 1 | Loss: 1.1914459466934204 | Accuracy: 57.8125%\n",
            "GB | Epoch 1 | Loss: 1.1606749296188354 | Accuracy: 54.6875%\n",
            "GB | Epoch 1 | Loss: 1.2714370489120483 | Accuracy: 57.8125%\n",
            "GB | Epoch 1 | Loss: 1.1885018348693848 | Accuracy: 53.125%\n",
            "GB | Epoch 1 | Loss: 1.2096729278564453 | Accuracy: 53.125%\n",
            "GB | Epoch 1 | Loss: 1.3563443422317505 | Accuracy: 40.625%\n",
            "GB | Epoch 1 | Loss: 1.1524428129196167 | Accuracy: 60.9375%\n",
            "GB | Epoch 1 | Loss: 1.3284658193588257 | Accuracy: 48.4375%\n",
            "GB | Epoch 1 | Loss: 1.1955267190933228 | Accuracy: 57.8125%\n",
            "GB | Epoch 1 | Loss: 1.1699366569519043 | Accuracy: 50.0%\n",
            "GB | Epoch 1 | Loss: 1.2220300436019897 | Accuracy: 51.5625%\n",
            "GB | Epoch 1 | Loss: 1.3718007802963257 | Accuracy: 46.875%\n",
            "GB | Epoch 1 | Loss: 1.3059885501861572 | Accuracy: 45.3125%\n",
            "GB | Epoch 1 | Loss: 1.2768913507461548 | Accuracy: 46.875%\n",
            "GB | Epoch 1 | Loss: 1.1744437217712402 | Accuracy: 57.8125%\n",
            "GB | Epoch 1 | Loss: 1.1935776472091675 | Accuracy: 51.5625%\n",
            "GB | Epoch 1 | Loss: 1.1250665187835693 | Accuracy: 59.375%\n",
            "GB | Epoch 1 | Loss: 1.2981261014938354 | Accuracy: 46.875%\n",
            "GB | Epoch 1 | Loss: 1.2955440282821655 | Accuracy: 46.875%\n",
            "GB | Epoch 1 | Loss: 1.224797010421753 | Accuracy: 56.25%\n",
            "GB | Epoch 1 | Loss: 1.2256871461868286 | Accuracy: 56.25%\n",
            "GB | Epoch 1 | Loss: 1.2473291158676147 | Accuracy: 57.8125%\n"
          ]
        },
        {
          "output_type": "stream",
          "name": "stderr",
          "text": [
            "Epoch 1:  69%|██████▊   | 516/751 [00:05<00:02, 100.76batch/s, accuracy=45.3125%, loss=1.27]"
          ]
        },
        {
          "output_type": "stream",
          "name": "stdout",
          "text": [
            "GB | Epoch 1 | Loss: 1.2429132461547852 | Accuracy: 60.9375%\n",
            "GB | Epoch 1 | Loss: 1.2150717973709106 | Accuracy: 48.4375%\n",
            "GB | Epoch 1 | Loss: 1.2617647647857666 | Accuracy: 46.875%\n",
            "GB | Epoch 1 | Loss: 1.131178379058838 | Accuracy: 56.25%\n",
            "GB | Epoch 1 | Loss: 1.1284910440444946 | Accuracy: 62.5%\n",
            "GB | Epoch 1 | Loss: 1.0861961841583252 | Accuracy: 71.875%\n",
            "GB | Epoch 1 | Loss: 1.165404200553894 | Accuracy: 62.5%\n",
            "GB | Epoch 1 | Loss: 1.2117689847946167 | Accuracy: 56.25%\n",
            "GB | Epoch 1 | Loss: 1.1788454055786133 | Accuracy: 59.375%\n",
            "GB | Epoch 1 | Loss: 1.2059804201126099 | Accuracy: 51.5625%\n",
            "GB | Epoch 1 | Loss: 1.2305808067321777 | Accuracy: 48.4375%\n",
            "GB | Epoch 1 | Loss: 1.3750866651535034 | Accuracy: 43.75%\n",
            "GB | Epoch 1 | Loss: 1.022964358329773 | Accuracy: 65.625%\n",
            "GB | Epoch 1 | Loss: 1.1873735189437866 | Accuracy: 56.25%\n",
            "GB | Epoch 1 | Loss: 1.2042865753173828 | Accuracy: 57.8125%\n",
            "GB | Epoch 1 | Loss: 1.1432005167007446 | Accuracy: 54.6875%\n",
            "GB | Epoch 1 | Loss: 1.1649445295333862 | Accuracy: 53.125%\n",
            "GB | Epoch 1 | Loss: 1.0366394519805908 | Accuracy: 60.9375%\n",
            "GB | Epoch 1 | Loss: 1.2698619365692139 | Accuracy: 45.3125%\n"
          ]
        },
        {
          "output_type": "stream",
          "name": "stderr",
          "text": [
            "Epoch 1:  72%|███████▏  | 537/751 [00:05<00:02, 96.31batch/s, accuracy=71.875%, loss=0.95]"
          ]
        },
        {
          "output_type": "stream",
          "name": "stdout",
          "text": [
            "GB | Epoch 1 | Loss: 1.293814778327942 | Accuracy: 42.1875%\n",
            "GB | Epoch 1 | Loss: 1.2443950176239014 | Accuracy: 50.0%\n",
            "GB | Epoch 1 | Loss: 1.1045055389404297 | Accuracy: 64.0625%\n",
            "GB | Epoch 1 | Loss: 1.0979112386703491 | Accuracy: 60.9375%\n",
            "GB | Epoch 1 | Loss: 1.0773723125457764 | Accuracy: 67.1875%\n",
            "GB | Epoch 1 | Loss: 0.9735679030418396 | Accuracy: 67.1875%\n",
            "GB | Epoch 1 | Loss: 1.2418620586395264 | Accuracy: 54.6875%\n",
            "GB | Epoch 1 | Loss: 1.2571120262145996 | Accuracy: 48.4375%\n",
            "GB | Epoch 1 | Loss: 1.1562020778656006 | Accuracy: 53.125%\n",
            "GB | Epoch 1 | Loss: 1.160355806350708 | Accuracy: 54.6875%\n",
            "GB | Epoch 1 | Loss: 1.2005068063735962 | Accuracy: 56.25%\n",
            "GB | Epoch 1 | Loss: 1.126262903213501 | Accuracy: 59.375%\n",
            "GB | Epoch 1 | Loss: 1.2121824026107788 | Accuracy: 51.5625%\n",
            "GB | Epoch 1 | Loss: 1.2471237182617188 | Accuracy: 51.5625%\n",
            "GB | Epoch 1 | Loss: 1.1272841691970825 | Accuracy: 62.5%\n",
            "GB | Epoch 1 | Loss: 1.1258859634399414 | Accuracy: 56.25%\n",
            "GB | Epoch 1 | Loss: 1.0457097291946411 | Accuracy: 64.0625%\n",
            "GB | Epoch 1 | Loss: 1.1009341478347778 | Accuracy: 73.4375%\n",
            "GB | Epoch 1 | Loss: 0.9499697089195251 | Accuracy: 71.875%\n"
          ]
        },
        {
          "output_type": "stream",
          "name": "stderr",
          "text": [
            "Epoch 1:  73%|███████▎  | 547/751 [00:06<00:02, 93.22batch/s, accuracy=53.125%, loss=1.28] "
          ]
        },
        {
          "output_type": "stream",
          "name": "stdout",
          "text": [
            "GB | Epoch 1 | Loss: 1.2264894247055054 | Accuracy: 50.0%\n",
            "GB | Epoch 1 | Loss: 0.9828093647956848 | Accuracy: 64.0625%\n",
            "GB | Epoch 1 | Loss: 1.0660277605056763 | Accuracy: 62.5%\n",
            "GB | Epoch 1 | Loss: 1.1431231498718262 | Accuracy: 59.375%\n",
            "GB | Epoch 1 | Loss: 1.2063469886779785 | Accuracy: 59.375%\n",
            "GB | Epoch 1 | Loss: 1.1376136541366577 | Accuracy: 50.0%\n",
            "GB | Epoch 1 | Loss: 1.156512975692749 | Accuracy: 54.6875%\n",
            "GB | Epoch 1 | Loss: 1.2435646057128906 | Accuracy: 50.0%\n",
            "GB | Epoch 1 | Loss: 1.1606849431991577 | Accuracy: 60.9375%\n",
            "GB | Epoch 1 | Loss: 1.0368597507476807 | Accuracy: 64.0625%\n",
            "GB | Epoch 1 | Loss: 1.1723623275756836 | Accuracy: 54.6875%\n",
            "GB | Epoch 1 | Loss: 1.263689398765564 | Accuracy: 57.8125%\n",
            "GB | Epoch 1 | Loss: 1.1476854085922241 | Accuracy: 53.125%\n",
            "GB | Epoch 1 | Loss: 1.228211522102356 | Accuracy: 48.4375%\n",
            "GB | Epoch 1 | Loss: 1.042699933052063 | Accuracy: 59.375%\n",
            "GB | Epoch 1 | Loss: 1.0945336818695068 | Accuracy: 56.25%\n",
            "GB | Epoch 1 | Loss: 1.2869375944137573 | Accuracy: 45.3125%\n",
            "GB | Epoch 1 | Loss: 1.2760816812515259 | Accuracy: 53.125%\n"
          ]
        },
        {
          "output_type": "stream",
          "name": "stderr",
          "text": [
            "Epoch 1:  76%|███████▌  | 568/751 [00:06<00:01, 94.48batch/s, accuracy=59.375%, loss=1.07]"
          ]
        },
        {
          "output_type": "stream",
          "name": "stdout",
          "text": [
            "GB | Epoch 1 | Loss: 1.109601616859436 | Accuracy: 59.375%\n",
            "GB | Epoch 1 | Loss: 1.0612503290176392 | Accuracy: 64.0625%\n",
            "GB | Epoch 1 | Loss: 0.987083911895752 | Accuracy: 68.75%\n",
            "GB | Epoch 1 | Loss: 1.0010077953338623 | Accuracy: 65.625%\n",
            "GB | Epoch 1 | Loss: 1.069056510925293 | Accuracy: 59.375%\n",
            "GB | Epoch 1 | Loss: 1.0599634647369385 | Accuracy: 59.375%\n",
            "GB | Epoch 1 | Loss: 1.0461275577545166 | Accuracy: 60.9375%\n",
            "GB | Epoch 1 | Loss: 1.0579098463058472 | Accuracy: 57.8125%\n",
            "GB | Epoch 1 | Loss: 1.2437001466751099 | Accuracy: 53.125%\n",
            "GB | Epoch 1 | Loss: 0.998545229434967 | Accuracy: 64.0625%\n",
            "GB | Epoch 1 | Loss: 1.2216110229492188 | Accuracy: 51.5625%\n",
            "GB | Epoch 1 | Loss: 1.0430067777633667 | Accuracy: 59.375%\n",
            "GB | Epoch 1 | Loss: 0.9952644109725952 | Accuracy: 62.5%\n",
            "GB | Epoch 1 | Loss: 1.1326851844787598 | Accuracy: 54.6875%\n",
            "GB | Epoch 1 | Loss: 1.0922431945800781 | Accuracy: 53.125%\n",
            "GB | Epoch 1 | Loss: 1.0523488521575928 | Accuracy: 57.8125%\n",
            "GB | Epoch 1 | Loss: 1.04981529712677 | Accuracy: 65.625%\n",
            "GB | Epoch 1 | Loss: 1.2233930826187134 | Accuracy: 43.75%\n",
            "GB | Epoch 1 | Loss: 1.1023932695388794 | Accuracy: 53.125%\n",
            "GB | Epoch 1 | Loss: 1.1611870527267456 | Accuracy: 53.125%\n",
            "GB | Epoch 1 | Loss: 1.0313613414764404 | Accuracy: 59.375%\n"
          ]
        },
        {
          "output_type": "stream",
          "name": "stderr",
          "text": [
            "Epoch 1:  79%|███████▊  | 590/751 [00:06<00:01, 99.21batch/s, accuracy=68.75%, loss=0.948] "
          ]
        },
        {
          "output_type": "stream",
          "name": "stdout",
          "text": [
            "GB | Epoch 1 | Loss: 1.0733320713043213 | Accuracy: 59.375%\n",
            "GB | Epoch 1 | Loss: 0.9612687230110168 | Accuracy: 68.75%\n",
            "GB | Epoch 1 | Loss: 1.0961952209472656 | Accuracy: 59.375%\n",
            "GB | Epoch 1 | Loss: 1.1184911727905273 | Accuracy: 54.6875%\n",
            "GB | Epoch 1 | Loss: 1.048570990562439 | Accuracy: 59.375%\n",
            "GB | Epoch 1 | Loss: 0.9996123909950256 | Accuracy: 62.5%\n",
            "GB | Epoch 1 | Loss: 1.1032909154891968 | Accuracy: 59.375%\n",
            "GB | Epoch 1 | Loss: 1.0975843667984009 | Accuracy: 51.5625%\n",
            "GB | Epoch 1 | Loss: 1.0423005819320679 | Accuracy: 53.125%\n",
            "GB | Epoch 1 | Loss: 1.0619029998779297 | Accuracy: 57.8125%\n",
            "GB | Epoch 1 | Loss: 1.072079062461853 | Accuracy: 64.0625%\n",
            "GB | Epoch 1 | Loss: 1.0118240118026733 | Accuracy: 59.375%\n",
            "GB | Epoch 1 | Loss: 1.0907546281814575 | Accuracy: 54.6875%\n",
            "GB | Epoch 1 | Loss: 1.1435068845748901 | Accuracy: 51.5625%\n",
            "GB | Epoch 1 | Loss: 1.0348652601242065 | Accuracy: 65.625%\n",
            "GB | Epoch 1 | Loss: 1.0806798934936523 | Accuracy: 57.8125%\n",
            "GB | Epoch 1 | Loss: 1.0645725727081299 | Accuracy: 65.625%\n",
            "GB | Epoch 1 | Loss: 0.8874578475952148 | Accuracy: 70.3125%\n",
            "GB | Epoch 1 | Loss: 1.0894273519515991 | Accuracy: 54.6875%\n",
            "GB | Epoch 1 | Loss: 1.033801794052124 | Accuracy: 60.9375%\n"
          ]
        },
        {
          "output_type": "stream",
          "name": "stderr",
          "text": [
            "Epoch 1:  81%|████████  | 610/751 [00:06<00:01, 95.68batch/s, accuracy=53.125%, loss=1.1]"
          ]
        },
        {
          "output_type": "stream",
          "name": "stdout",
          "text": [
            "GB | Epoch 1 | Loss: 0.9484967589378357 | Accuracy: 68.75%\n",
            "GB | Epoch 1 | Loss: 1.1518189907073975 | Accuracy: 48.4375%\n",
            "GB | Epoch 1 | Loss: 1.130240559577942 | Accuracy: 50.0%\n",
            "GB | Epoch 1 | Loss: 1.034751534461975 | Accuracy: 59.375%\n",
            "GB | Epoch 1 | Loss: 0.9529619812965393 | Accuracy: 67.1875%\n",
            "GB | Epoch 1 | Loss: 1.1493711471557617 | Accuracy: 62.5%\n",
            "GB | Epoch 1 | Loss: 1.0088539123535156 | Accuracy: 65.625%\n",
            "GB | Epoch 1 | Loss: 1.0307646989822388 | Accuracy: 56.25%\n",
            "GB | Epoch 1 | Loss: 1.0244799852371216 | Accuracy: 56.25%\n",
            "GB | Epoch 1 | Loss: 0.9343177080154419 | Accuracy: 65.625%\n",
            "GB | Epoch 1 | Loss: 1.0474904775619507 | Accuracy: 54.6875%\n",
            "GB | Epoch 1 | Loss: 0.9856550693511963 | Accuracy: 57.8125%\n",
            "GB | Epoch 1 | Loss: 0.8757609724998474 | Accuracy: 67.1875%\n",
            "GB | Epoch 1 | Loss: 0.9532309174537659 | Accuracy: 65.625%\n",
            "GB | Epoch 1 | Loss: 0.9345232844352722 | Accuracy: 60.9375%\n",
            "GB | Epoch 1 | Loss: 1.1972116231918335 | Accuracy: 51.5625%\n",
            "GB | Epoch 1 | Loss: 1.0753310918807983 | Accuracy: 54.6875%\n",
            "GB | Epoch 1 | Loss: 1.0159201622009277 | Accuracy: 60.9375%\n",
            "GB | Epoch 1 | Loss: 1.0974560976028442 | Accuracy: 54.6875%\n",
            "GB | Epoch 1 | Loss: 1.0005013942718506 | Accuracy: 60.9375%\n",
            "GB | Epoch 1 | Loss: 1.0985122919082642 | Accuracy: 53.125%\n"
          ]
        },
        {
          "output_type": "stream",
          "name": "stderr",
          "text": [
            "Epoch 1:  85%|████████▍ | 635/751 [00:06<00:01, 106.28batch/s, accuracy=53.125%, loss=1.12] "
          ]
        },
        {
          "output_type": "stream",
          "name": "stdout",
          "text": [
            "GB | Epoch 1 | Loss: 0.9905713796615601 | Accuracy: 62.5%\n",
            "GB | Epoch 1 | Loss: 1.1155726909637451 | Accuracy: 54.6875%\n",
            "GB | Epoch 1 | Loss: 1.0679707527160645 | Accuracy: 56.25%\n",
            "GB | Epoch 1 | Loss: 0.9828852415084839 | Accuracy: 64.0625%\n",
            "GB | Epoch 1 | Loss: 1.1026601791381836 | Accuracy: 57.8125%\n",
            "GB | Epoch 1 | Loss: 0.894414484500885 | Accuracy: 68.75%\n",
            "GB | Epoch 1 | Loss: 0.9244709014892578 | Accuracy: 65.625%\n",
            "GB | Epoch 1 | Loss: 1.037790298461914 | Accuracy: 64.0625%\n",
            "GB | Epoch 1 | Loss: 1.021168828010559 | Accuracy: 56.25%\n",
            "GB | Epoch 1 | Loss: 1.007548451423645 | Accuracy: 64.0625%\n",
            "GB | Epoch 1 | Loss: 1.005681037902832 | Accuracy: 64.0625%\n",
            "GB | Epoch 1 | Loss: 0.882307767868042 | Accuracy: 68.75%\n",
            "GB | Epoch 1 | Loss: 1.0221452713012695 | Accuracy: 59.375%\n",
            "GB | Epoch 1 | Loss: 0.9211339950561523 | Accuracy: 65.625%\n",
            "GB | Epoch 1 | Loss: 0.8813905119895935 | Accuracy: 73.4375%\n",
            "GB | Epoch 1 | Loss: 1.1006214618682861 | Accuracy: 56.25%\n",
            "GB | Epoch 1 | Loss: 1.1100422143936157 | Accuracy: 54.6875%\n",
            "GB | Epoch 1 | Loss: 0.9587742686271667 | Accuracy: 60.9375%\n",
            "GB | Epoch 1 | Loss: 0.9237542152404785 | Accuracy: 67.1875%\n",
            "GB | Epoch 1 | Loss: 1.0356534719467163 | Accuracy: 57.8125%\n",
            "GB | Epoch 1 | Loss: 1.1780140399932861 | Accuracy: 56.25%\n",
            "GB | Epoch 1 | Loss: 0.8612925410270691 | Accuracy: 71.875%\n"
          ]
        },
        {
          "output_type": "stream",
          "name": "stderr",
          "text": [
            "Epoch 1:  88%|████████▊ | 658/751 [00:07<00:00, 107.73batch/s, accuracy=67.1875%, loss=0.848]"
          ]
        },
        {
          "output_type": "stream",
          "name": "stdout",
          "text": [
            "GB | Epoch 1 | Loss: 1.1184849739074707 | Accuracy: 53.125%\n",
            "GB | Epoch 1 | Loss: 0.960993766784668 | Accuracy: 68.75%\n",
            "GB | Epoch 1 | Loss: 0.9406629204750061 | Accuracy: 67.1875%\n",
            "GB | Epoch 1 | Loss: 0.9714483022689819 | Accuracy: 60.9375%\n",
            "GB | Epoch 1 | Loss: 0.9047703146934509 | Accuracy: 65.625%\n",
            "GB | Epoch 1 | Loss: 1.0177934169769287 | Accuracy: 57.8125%\n",
            "GB | Epoch 1 | Loss: 0.8582510948181152 | Accuracy: 67.1875%\n",
            "GB | Epoch 1 | Loss: 1.1346402168273926 | Accuracy: 48.4375%\n",
            "GB | Epoch 1 | Loss: 0.9259262681007385 | Accuracy: 64.0625%\n",
            "GB | Epoch 1 | Loss: 1.0197328329086304 | Accuracy: 56.25%\n",
            "GB | Epoch 1 | Loss: 0.9180170297622681 | Accuracy: 65.625%\n",
            "GB | Epoch 1 | Loss: 0.9396927952766418 | Accuracy: 57.8125%\n",
            "GB | Epoch 1 | Loss: 0.9593117833137512 | Accuracy: 60.9375%\n",
            "GB | Epoch 1 | Loss: 0.976665198802948 | Accuracy: 68.75%\n",
            "GB | Epoch 1 | Loss: 0.9681463241577148 | Accuracy: 57.8125%\n",
            "GB | Epoch 1 | Loss: 1.0782023668289185 | Accuracy: 59.375%\n",
            "GB | Epoch 1 | Loss: 0.9778435230255127 | Accuracy: 60.9375%\n",
            "GB | Epoch 1 | Loss: 1.0146539211273193 | Accuracy: 53.125%\n",
            "GB | Epoch 1 | Loss: 0.9422525763511658 | Accuracy: 62.5%\n",
            "GB | Epoch 1 | Loss: 0.9577259421348572 | Accuracy: 68.75%\n",
            "GB | Epoch 1 | Loss: 1.0341399908065796 | Accuracy: 59.375%\n",
            "GB | Epoch 1 | Loss: 1.0253450870513916 | Accuracy: 54.6875%\n",
            "GB | Epoch 1 | Loss: 0.8369870781898499 | Accuracy: 71.875%\n",
            "GB | Epoch 1 | Loss: 0.84800785779953 | Accuracy: 67.1875%\n"
          ]
        },
        {
          "output_type": "stream",
          "name": "stderr",
          "text": [
            "Epoch 1:  91%|█████████ | 684/751 [00:07<00:00, 115.09batch/s, accuracy=73.4375%, loss=0.897]"
          ]
        },
        {
          "output_type": "stream",
          "name": "stdout",
          "text": [
            "GB | Epoch 1 | Loss: 0.8966723680496216 | Accuracy: 68.75%\n",
            "GB | Epoch 1 | Loss: 0.8371530771255493 | Accuracy: 70.3125%\n",
            "GB | Epoch 1 | Loss: 0.9273567795753479 | Accuracy: 68.75%\n",
            "GB | Epoch 1 | Loss: 0.7291708588600159 | Accuracy: 76.5625%\n",
            "GB | Epoch 1 | Loss: 0.9285468459129333 | Accuracy: 59.375%\n",
            "GB | Epoch 1 | Loss: 0.8085767030715942 | Accuracy: 71.875%\n",
            "GB | Epoch 1 | Loss: 0.8236981630325317 | Accuracy: 71.875%\n",
            "GB | Epoch 1 | Loss: 0.9224165081977844 | Accuracy: 71.875%\n",
            "GB | Epoch 1 | Loss: 0.9879879355430603 | Accuracy: 59.375%\n",
            "GB | Epoch 1 | Loss: 1.0279396772384644 | Accuracy: 57.8125%\n",
            "GB | Epoch 1 | Loss: 1.0018351078033447 | Accuracy: 57.8125%\n",
            "GB | Epoch 1 | Loss: 0.9209161996841431 | Accuracy: 62.5%\n",
            "GB | Epoch 1 | Loss: 1.1303791999816895 | Accuracy: 56.25%\n",
            "GB | Epoch 1 | Loss: 0.7805648446083069 | Accuracy: 71.875%\n",
            "GB | Epoch 1 | Loss: 0.9009435772895813 | Accuracy: 64.0625%\n",
            "GB | Epoch 1 | Loss: 1.0345547199249268 | Accuracy: 62.5%\n",
            "GB | Epoch 1 | Loss: 0.9899460673332214 | Accuracy: 62.5%\n",
            "GB | Epoch 1 | Loss: 1.0803481340408325 | Accuracy: 53.125%\n",
            "GB | Epoch 1 | Loss: 1.0150344371795654 | Accuracy: 68.75%\n",
            "GB | Epoch 1 | Loss: 1.1150600910186768 | Accuracy: 56.25%\n",
            "GB | Epoch 1 | Loss: 0.9399076104164124 | Accuracy: 67.1875%\n",
            "GB | Epoch 1 | Loss: 0.8428122401237488 | Accuracy: 68.75%\n",
            "GB | Epoch 1 | Loss: 0.7924763560295105 | Accuracy: 70.3125%\n",
            "GB | Epoch 1 | Loss: 0.8971076011657715 | Accuracy: 73.4375%\n"
          ]
        },
        {
          "output_type": "stream",
          "name": "stderr",
          "text": [
            "Epoch 1:  93%|█████████▎| 696/751 [00:07<00:00, 106.63batch/s, accuracy=65.625%, loss=0.945]"
          ]
        },
        {
          "output_type": "stream",
          "name": "stdout",
          "text": [
            "GB | Epoch 1 | Loss: 0.9567296504974365 | Accuracy: 67.1875%\n",
            "GB | Epoch 1 | Loss: 0.9550131559371948 | Accuracy: 62.5%\n",
            "GB | Epoch 1 | Loss: 0.8965170383453369 | Accuracy: 67.1875%\n",
            "GB | Epoch 1 | Loss: 0.9341992735862732 | Accuracy: 64.0625%\n",
            "GB | Epoch 1 | Loss: 0.98641037940979 | Accuracy: 67.1875%\n",
            "GB | Epoch 1 | Loss: 0.8810392022132874 | Accuracy: 68.75%\n",
            "GB | Epoch 1 | Loss: 0.861990749835968 | Accuracy: 68.75%\n",
            "GB | Epoch 1 | Loss: 0.8510960340499878 | Accuracy: 67.1875%\n",
            "GB | Epoch 1 | Loss: 0.8363677859306335 | Accuracy: 68.75%\n",
            "GB | Epoch 1 | Loss: 0.845251202583313 | Accuracy: 67.1875%\n",
            "GB | Epoch 1 | Loss: 0.9365171790122986 | Accuracy: 67.1875%\n",
            "GB | Epoch 1 | Loss: 0.9285702109336853 | Accuracy: 68.75%\n",
            "GB | Epoch 1 | Loss: 0.8799890279769897 | Accuracy: 68.75%\n",
            "GB | Epoch 1 | Loss: 0.8152143955230713 | Accuracy: 64.0625%\n",
            "GB | Epoch 1 | Loss: 1.0853029489517212 | Accuracy: 51.5625%\n",
            "GB | Epoch 1 | Loss: 0.8947897553443909 | Accuracy: 64.0625%\n",
            "GB | Epoch 1 | Loss: 0.9203373193740845 | Accuracy: 64.0625%\n",
            "GB | Epoch 1 | Loss: 0.9454245567321777 | Accuracy: 65.625%\n"
          ]
        },
        {
          "output_type": "stream",
          "name": "stderr",
          "text": [
            "Epoch 1:  96%|█████████▌| 718/751 [00:07<00:00, 92.62batch/s, accuracy=60.9375%, loss=0.787]"
          ]
        },
        {
          "output_type": "stream",
          "name": "stdout",
          "text": [
            "GB | Epoch 1 | Loss: 0.746364951133728 | Accuracy: 79.6875%\n",
            "GB | Epoch 1 | Loss: 0.819888174533844 | Accuracy: 76.5625%\n",
            "GB | Epoch 1 | Loss: 0.803814709186554 | Accuracy: 76.5625%\n",
            "GB | Epoch 1 | Loss: 0.9460248351097107 | Accuracy: 62.5%\n",
            "GB | Epoch 1 | Loss: 0.9298000335693359 | Accuracy: 60.9375%\n",
            "GB | Epoch 1 | Loss: 0.9752441644668579 | Accuracy: 62.5%\n",
            "GB | Epoch 1 | Loss: 0.8529528975486755 | Accuracy: 67.1875%\n",
            "GB | Epoch 1 | Loss: 0.8058701753616333 | Accuracy: 71.875%\n",
            "GB | Epoch 1 | Loss: 0.6989773511886597 | Accuracy: 75.0%\n",
            "GB | Epoch 1 | Loss: 0.7764634490013123 | Accuracy: 76.5625%\n",
            "GB | Epoch 1 | Loss: 1.0347082614898682 | Accuracy: 57.8125%\n",
            "GB | Epoch 1 | Loss: 0.94846111536026 | Accuracy: 64.0625%\n",
            "GB | Epoch 1 | Loss: 0.9484419822692871 | Accuracy: 62.5%\n",
            "GB | Epoch 1 | Loss: 0.9354823231697083 | Accuracy: 64.0625%\n",
            "GB | Epoch 1 | Loss: 0.8254901170730591 | Accuracy: 73.4375%\n",
            "GB | Epoch 1 | Loss: 0.7870208024978638 | Accuracy: 60.9375%\n"
          ]
        },
        {
          "output_type": "stream",
          "name": "stderr",
          "text": [
            "Epoch 1:  98%|█████████▊| 737/751 [00:07<00:00, 83.07batch/s, accuracy=71.875%, loss=0.807]"
          ]
        },
        {
          "output_type": "stream",
          "name": "stdout",
          "text": [
            "GB | Epoch 1 | Loss: 0.7948182821273804 | Accuracy: 70.3125%\n",
            "GB | Epoch 1 | Loss: 0.9018595814704895 | Accuracy: 57.8125%\n",
            "GB | Epoch 1 | Loss: 0.8832966089248657 | Accuracy: 64.0625%\n",
            "GB | Epoch 1 | Loss: 0.8734531998634338 | Accuracy: 70.3125%\n",
            "GB | Epoch 1 | Loss: 0.9792589545249939 | Accuracy: 60.9375%\n",
            "GB | Epoch 1 | Loss: 0.8291438817977905 | Accuracy: 64.0625%\n",
            "GB | Epoch 1 | Loss: 0.7147319316864014 | Accuracy: 71.875%\n",
            "GB | Epoch 1 | Loss: 0.8569784164428711 | Accuracy: 75.0%\n",
            "GB | Epoch 1 | Loss: 0.8368365168571472 | Accuracy: 68.75%\n",
            "GB | Epoch 1 | Loss: 0.9404441118240356 | Accuracy: 57.8125%\n",
            "GB | Epoch 1 | Loss: 0.9175534844398499 | Accuracy: 70.3125%\n",
            "GB | Epoch 1 | Loss: 0.9518355131149292 | Accuracy: 65.625%\n",
            "GB | Epoch 1 | Loss: 0.7288907170295715 | Accuracy: 71.875%\n",
            "GB | Epoch 1 | Loss: 0.7420058846473694 | Accuracy: 73.4375%\n",
            "GB | Epoch 1 | Loss: 0.8070036172866821 | Accuracy: 71.875%\n"
          ]
        },
        {
          "output_type": "stream",
          "name": "stderr",
          "text": [
            "Epoch 1:  99%|█████████▉| 746/751 [00:08<00:00, 81.52batch/s, accuracy=50.0%, loss=1.15] "
          ]
        },
        {
          "output_type": "stream",
          "name": "stdout",
          "text": [
            "GB | Epoch 1 | Loss: 0.8241668343544006 | Accuracy: 70.3125%\n",
            "GB | Epoch 1 | Loss: 0.8418712615966797 | Accuracy: 68.75%\n",
            "GB | Epoch 1 | Loss: 0.8628482818603516 | Accuracy: 62.5%\n",
            "GB | Epoch 1 | Loss: 0.8193877339363098 | Accuracy: 64.0625%\n",
            "GB | Epoch 1 | Loss: 0.7766542434692383 | Accuracy: 70.3125%\n",
            "GB | Epoch 1 | Loss: 1.0448360443115234 | Accuracy: 56.25%\n",
            "GB | Epoch 1 | Loss: 0.9896889925003052 | Accuracy: 53.125%\n",
            "GB | Epoch 1 | Loss: 0.7592982053756714 | Accuracy: 70.3125%\n",
            "GB | Epoch 1 | Loss: 0.7798562049865723 | Accuracy: 76.5625%\n",
            "GB | Epoch 1 | Loss: 0.7269359827041626 | Accuracy: 73.4375%\n",
            "GB | Epoch 1 | Loss: 0.7790135145187378 | Accuracy: 70.3125%\n",
            "GB | Epoch 1 | Loss: 0.9573158621788025 | Accuracy: 59.375%\n",
            "GB | Epoch 1 | Loss: 0.8557685613632202 | Accuracy: 62.5%\n",
            "GB | Epoch 1 | Loss: 1.1518292427062988 | Accuracy: 50.0%\n"
          ]
        },
        {
          "output_type": "stream",
          "name": "stderr",
          "text": [
            "Epoch 1: 100%|██████████| 751/751 [00:08<00:00, 90.99batch/s, accuracy=50.0%, loss=1.15]\n",
            "Epoch 2:   1%|          | 9/751 [00:00<00:27, 26.86batch/s, accuracy=76.5625%, loss=0.644]"
          ]
        },
        {
          "output_type": "stream",
          "name": "stdout",
          "text": [
            "GB | Epoch 2 | Loss: 0.8240297436714172 | Accuracy: 75.0%\n",
            "GB | Epoch 2 | Loss: 0.890484631061554 | Accuracy: 71.875%\n",
            "GB | Epoch 2 | Loss: 0.7588478326797485 | Accuracy: 64.0625%\n",
            "GB | Epoch 2 | Loss: 0.8431881666183472 | Accuracy: 70.3125%\n",
            "GB | Epoch 2 | Loss: 0.771792471408844 | Accuracy: 75.0%\n",
            "GB | Epoch 2 | Loss: 0.9194937348365784 | Accuracy: 59.375%\n",
            "GB | Epoch 2 | Loss: 0.8743248581886292 | Accuracy: 68.75%\n",
            "GB | Epoch 2 | Loss: 0.7847505807876587 | Accuracy: 68.75%\n",
            "GB | Epoch 2 | Loss: 0.7128961682319641 | Accuracy: 73.4375%\n",
            "GB | Epoch 2 | Loss: 0.9303343296051025 | Accuracy: 64.0625%\n",
            "GB | Epoch 2 | Loss: 0.8458952903747559 | Accuracy: 65.625%\n",
            "GB | Epoch 2 | Loss: 0.7695751190185547 | Accuracy: 75.0%\n",
            "GB | Epoch 2 | Loss: 0.7567070722579956 | Accuracy: 71.875%\n",
            "GB | Epoch 2 | Loss: 0.9241357445716858 | Accuracy: 68.75%\n",
            "GB | Epoch 2 | Loss: 0.7485272288322449 | Accuracy: 71.875%\n",
            "GB | Epoch 2 | Loss: 0.8021383285522461 | Accuracy: 67.1875%\n",
            "GB | Epoch 2 | Loss: 0.6437190771102905 | Accuracy: 76.5625%\n"
          ]
        },
        {
          "output_type": "stream",
          "name": "stderr",
          "text": [
            "Epoch 2:   4%|▎         | 27/751 [00:00<00:12, 59.03batch/s, accuracy=75.0%, loss=0.746]   "
          ]
        },
        {
          "output_type": "stream",
          "name": "stdout",
          "text": [
            "GB | Epoch 2 | Loss: 0.7564951777458191 | Accuracy: 73.4375%\n",
            "GB | Epoch 2 | Loss: 0.6660271883010864 | Accuracy: 81.25%\n",
            "GB | Epoch 2 | Loss: 0.7218379974365234 | Accuracy: 81.25%\n",
            "GB | Epoch 2 | Loss: 0.7799902558326721 | Accuracy: 71.875%\n",
            "GB | Epoch 2 | Loss: 0.9061185717582703 | Accuracy: 57.8125%\n",
            "GB | Epoch 2 | Loss: 0.7808467149734497 | Accuracy: 70.3125%\n",
            "GB | Epoch 2 | Loss: 0.711499810218811 | Accuracy: 73.4375%\n",
            "GB | Epoch 2 | Loss: 0.6717164516448975 | Accuracy: 75.0%\n",
            "GB | Epoch 2 | Loss: 0.758124589920044 | Accuracy: 75.0%\n",
            "GB | Epoch 2 | Loss: 0.7801641225814819 | Accuracy: 73.4375%\n",
            "GB | Epoch 2 | Loss: 0.8408386707305908 | Accuracy: 68.75%\n",
            "GB | Epoch 2 | Loss: 0.7677290439605713 | Accuracy: 75.0%\n",
            "GB | Epoch 2 | Loss: 0.7346866726875305 | Accuracy: 76.5625%\n",
            "GB | Epoch 2 | Loss: 0.8645186424255371 | Accuracy: 70.3125%\n",
            "GB | Epoch 2 | Loss: 0.7456188201904297 | Accuracy: 70.3125%\n",
            "GB | Epoch 2 | Loss: 0.701714813709259 | Accuracy: 75.0%\n",
            "GB | Epoch 2 | Loss: 0.8745562434196472 | Accuracy: 70.3125%\n"
          ]
        },
        {
          "output_type": "stream",
          "name": "stderr",
          "text": [
            "Epoch 2:   6%|▌         | 44/751 [00:00<00:09, 70.71batch/s, accuracy=68.75%, loss=0.862]  "
          ]
        },
        {
          "output_type": "stream",
          "name": "stdout",
          "text": [
            "GB | Epoch 2 | Loss: 0.7457248568534851 | Accuracy: 75.0%\n",
            "GB | Epoch 2 | Loss: 0.6784842610359192 | Accuracy: 76.5625%\n",
            "GB | Epoch 2 | Loss: 0.6938101053237915 | Accuracy: 75.0%\n",
            "GB | Epoch 2 | Loss: 0.679630696773529 | Accuracy: 78.125%\n",
            "GB | Epoch 2 | Loss: 0.8095595836639404 | Accuracy: 65.625%\n",
            "GB | Epoch 2 | Loss: 0.8128687739372253 | Accuracy: 65.625%\n",
            "GB | Epoch 2 | Loss: 0.954444169998169 | Accuracy: 60.9375%\n",
            "GB | Epoch 2 | Loss: 0.8585696220397949 | Accuracy: 65.625%\n",
            "GB | Epoch 2 | Loss: 0.9318174719810486 | Accuracy: 60.9375%\n",
            "GB | Epoch 2 | Loss: 0.7181033492088318 | Accuracy: 76.5625%\n",
            "GB | Epoch 2 | Loss: 0.972768247127533 | Accuracy: 62.5%\n",
            "GB | Epoch 2 | Loss: 0.7698692083358765 | Accuracy: 75.0%\n",
            "GB | Epoch 2 | Loss: 0.7929171323776245 | Accuracy: 68.75%\n",
            "GB | Epoch 2 | Loss: 0.650746762752533 | Accuracy: 76.5625%\n",
            "GB | Epoch 2 | Loss: 0.7092351317405701 | Accuracy: 78.125%\n",
            "GB | Epoch 2 | Loss: 0.711658239364624 | Accuracy: 70.3125%\n",
            "GB | Epoch 2 | Loss: 0.7563304901123047 | Accuracy: 70.3125%\n",
            "GB | Epoch 2 | Loss: 0.8618622422218323 | Accuracy: 68.75%\n"
          ]
        },
        {
          "output_type": "stream",
          "name": "stderr",
          "text": [
            "Epoch 2:   8%|▊         | 62/751 [00:01<00:08, 78.24batch/s, accuracy=71.875%, loss=0.727]"
          ]
        },
        {
          "output_type": "stream",
          "name": "stdout",
          "text": [
            "GB | Epoch 2 | Loss: 0.7644264101982117 | Accuracy: 68.75%\n",
            "GB | Epoch 2 | Loss: 0.9093371033668518 | Accuracy: 60.9375%\n",
            "GB | Epoch 2 | Loss: 0.7326284646987915 | Accuracy: 70.3125%\n",
            "GB | Epoch 2 | Loss: 0.7575799822807312 | Accuracy: 71.875%\n",
            "GB | Epoch 2 | Loss: 0.7887521386146545 | Accuracy: 68.75%\n",
            "GB | Epoch 2 | Loss: 0.7085017561912537 | Accuracy: 75.0%\n",
            "GB | Epoch 2 | Loss: 0.719277024269104 | Accuracy: 70.3125%\n",
            "GB | Epoch 2 | Loss: 0.8389837145805359 | Accuracy: 59.375%\n",
            "GB | Epoch 2 | Loss: 0.9154501557350159 | Accuracy: 62.5%\n",
            "GB | Epoch 2 | Loss: 0.6449030041694641 | Accuracy: 75.0%\n",
            "GB | Epoch 2 | Loss: 0.6939975619316101 | Accuracy: 76.5625%\n",
            "GB | Epoch 2 | Loss: 0.9059330821037292 | Accuracy: 57.8125%\n",
            "GB | Epoch 2 | Loss: 0.7460111379623413 | Accuracy: 70.3125%\n",
            "GB | Epoch 2 | Loss: 0.660260021686554 | Accuracy: 78.125%\n",
            "GB | Epoch 2 | Loss: 0.5403186082839966 | Accuracy: 79.6875%\n",
            "GB | Epoch 2 | Loss: 0.7268620133399963 | Accuracy: 71.875%\n"
          ]
        },
        {
          "output_type": "stream",
          "name": "stderr",
          "text": [
            "Epoch 2:  11%|█         | 79/751 [00:01<00:09, 71.07batch/s, accuracy=75.0%, loss=0.717]   "
          ]
        },
        {
          "output_type": "stream",
          "name": "stdout",
          "text": [
            "GB | Epoch 2 | Loss: 0.6905767917633057 | Accuracy: 75.0%\n",
            "GB | Epoch 2 | Loss: 0.816698431968689 | Accuracy: 65.625%\n",
            "GB | Epoch 2 | Loss: 0.8720223307609558 | Accuracy: 60.9375%\n",
            "GB | Epoch 2 | Loss: 0.7427541613578796 | Accuracy: 71.875%\n",
            "GB | Epoch 2 | Loss: 0.7288033366203308 | Accuracy: 64.0625%\n",
            "GB | Epoch 2 | Loss: 0.8592497110366821 | Accuracy: 68.75%\n",
            "GB | Epoch 2 | Loss: 0.7249616980552673 | Accuracy: 78.125%\n",
            "GB | Epoch 2 | Loss: 0.8567925095558167 | Accuracy: 68.75%\n",
            "GB | Epoch 2 | Loss: 0.7118759155273438 | Accuracy: 75.0%\n",
            "GB | Epoch 2 | Loss: 0.9057477712631226 | Accuracy: 68.75%\n",
            "GB | Epoch 2 | Loss: 0.7207543849945068 | Accuracy: 70.3125%\n",
            "GB | Epoch 2 | Loss: 0.9096976518630981 | Accuracy: 65.625%\n",
            "GB | Epoch 2 | Loss: 0.7449464797973633 | Accuracy: 70.3125%\n",
            "GB | Epoch 2 | Loss: 0.7172959446907043 | Accuracy: 75.0%"
          ]
        },
        {
          "output_type": "stream",
          "name": "stderr",
          "text": [
            "Epoch 2:  13%|█▎        | 95/751 [00:01<00:09, 71.79batch/s, accuracy=76.5625%, loss=0.69]"
          ]
        },
        {
          "output_type": "stream",
          "name": "stdout",
          "text": [
            "\n",
            "GB | Epoch 2 | Loss: 0.69598788022995 | Accuracy: 70.3125%\n",
            "GB | Epoch 2 | Loss: 0.8363099098205566 | Accuracy: 71.875%\n",
            "GB | Epoch 2 | Loss: 0.5586473345756531 | Accuracy: 81.25%\n",
            "GB | Epoch 2 | Loss: 0.6883922815322876 | Accuracy: 82.8125%\n",
            "GB | Epoch 2 | Loss: 0.8036013245582581 | Accuracy: 64.0625%\n",
            "GB | Epoch 2 | Loss: 0.6051415801048279 | Accuracy: 75.0%\n",
            "GB | Epoch 2 | Loss: 0.6471768617630005 | Accuracy: 73.4375%\n",
            "GB | Epoch 2 | Loss: 0.7329532504081726 | Accuracy: 67.1875%\n",
            "GB | Epoch 2 | Loss: 1.14473557472229 | Accuracy: 57.8125%\n",
            "GB | Epoch 2 | Loss: 0.6694186329841614 | Accuracy: 78.125%\n",
            "GB | Epoch 2 | Loss: 0.7065150141716003 | Accuracy: 70.3125%\n",
            "GB | Epoch 2 | Loss: 0.7449182271957397 | Accuracy: 65.625%\n",
            "GB | Epoch 2 | Loss: 0.6197959184646606 | Accuracy: 85.9375%\n",
            "GB | Epoch 2 | Loss: 0.6903433799743652 | Accuracy: 76.5625%\n"
          ]
        },
        {
          "output_type": "stream",
          "name": "stderr",
          "text": [
            "Epoch 2:  15%|█▍        | 112/751 [00:01<00:08, 76.83batch/s, accuracy=76.5625%, loss=0.609]"
          ]
        },
        {
          "output_type": "stream",
          "name": "stdout",
          "text": [
            "GB | Epoch 2 | Loss: 0.6248347163200378 | Accuracy: 76.5625%\n",
            "GB | Epoch 2 | Loss: 0.6425542235374451 | Accuracy: 78.125%\n",
            "GB | Epoch 2 | Loss: 0.7664933800697327 | Accuracy: 75.0%\n",
            "GB | Epoch 2 | Loss: 0.8929762244224548 | Accuracy: 67.1875%\n",
            "GB | Epoch 2 | Loss: 0.8202527165412903 | Accuracy: 67.1875%\n",
            "GB | Epoch 2 | Loss: 0.768648624420166 | Accuracy: 70.3125%\n",
            "GB | Epoch 2 | Loss: 0.6274718046188354 | Accuracy: 81.25%\n",
            "GB | Epoch 2 | Loss: 0.7909914255142212 | Accuracy: 65.625%\n",
            "GB | Epoch 2 | Loss: 0.5502887964248657 | Accuracy: 82.8125%\n",
            "GB | Epoch 2 | Loss: 0.4953640401363373 | Accuracy: 87.5%\n",
            "GB | Epoch 2 | Loss: 0.6929462552070618 | Accuracy: 82.8125%\n",
            "GB | Epoch 2 | Loss: 0.619257926940918 | Accuracy: 73.4375%\n",
            "GB | Epoch 2 | Loss: 0.6239462494850159 | Accuracy: 78.125%\n",
            "GB | Epoch 2 | Loss: 0.7058631181716919 | Accuracy: 70.3125%\n",
            "GB | Epoch 2 | Loss: 0.6616408824920654 | Accuracy: 76.5625%\n",
            "GB | Epoch 2 | Loss: 0.6528444290161133 | Accuracy: 76.5625%\n",
            "GB | Epoch 2 | Loss: 0.6094447374343872 | Accuracy: 76.5625%\n"
          ]
        },
        {
          "output_type": "stream",
          "name": "stderr",
          "text": [
            "Epoch 2:  17%|█▋        | 131/751 [00:01<00:07, 84.30batch/s, accuracy=76.5625%, loss=0.676]"
          ]
        },
        {
          "output_type": "stream",
          "name": "stdout",
          "text": [
            "GB | Epoch 2 | Loss: 0.626527726650238 | Accuracy: 79.6875%\n",
            "GB | Epoch 2 | Loss: 0.6804791688919067 | Accuracy: 75.0%\n",
            "GB | Epoch 2 | Loss: 0.5980802774429321 | Accuracy: 79.6875%\n",
            "GB | Epoch 2 | Loss: 0.722802460193634 | Accuracy: 73.4375%\n",
            "GB | Epoch 2 | Loss: 0.7972972393035889 | Accuracy: 70.3125%\n",
            "GB | Epoch 2 | Loss: 0.5809415578842163 | Accuracy: 79.6875%\n",
            "GB | Epoch 2 | Loss: 0.7301398515701294 | Accuracy: 68.75%\n",
            "GB | Epoch 2 | Loss: 0.6629342436790466 | Accuracy: 78.125%\n",
            "GB | Epoch 2 | Loss: 0.571912944316864 | Accuracy: 73.4375%\n",
            "GB | Epoch 2 | Loss: 0.7670231461524963 | Accuracy: 70.3125%\n",
            "GB | Epoch 2 | Loss: 0.6623213887214661 | Accuracy: 76.5625%\n",
            "GB | Epoch 2 | Loss: 0.6801857948303223 | Accuracy: 75.0%\n",
            "GB | Epoch 2 | Loss: 1.002627968788147 | Accuracy: 59.375%\n",
            "GB | Epoch 2 | Loss: 0.9420521259307861 | Accuracy: 62.5%\n",
            "GB | Epoch 2 | Loss: 0.8086346387863159 | Accuracy: 65.625%\n",
            "GB | Epoch 2 | Loss: 0.6796560287475586 | Accuracy: 76.5625%\n",
            "GB | Epoch 2 | Loss: 0.6533644199371338 | Accuracy: 78.125%\n",
            "GB | Epoch 2 | Loss: 0.781711757183075 | Accuracy: 75.0%\n",
            "GB | Epoch 2 | Loss: 0.6760804653167725 | Accuracy: 76.5625%\n"
          ]
        },
        {
          "output_type": "stream",
          "name": "stderr",
          "text": [
            "Epoch 2:  20%|█▉        | 149/751 [00:02<00:07, 81.28batch/s, accuracy=81.25%, loss=0.562]"
          ]
        },
        {
          "output_type": "stream",
          "name": "stdout",
          "text": [
            "GB | Epoch 2 | Loss: 0.8282373547554016 | Accuracy: 67.1875%\n",
            "GB | Epoch 2 | Loss: 0.6698361039161682 | Accuracy: 68.75%\n",
            "GB | Epoch 2 | Loss: 0.865208625793457 | Accuracy: 71.875%\n",
            "GB | Epoch 2 | Loss: 0.6147425174713135 | Accuracy: 67.1875%\n",
            "GB | Epoch 2 | Loss: 0.6233044266700745 | Accuracy: 78.125%\n",
            "GB | Epoch 2 | Loss: 0.7850201725959778 | Accuracy: 64.0625%\n",
            "GB | Epoch 2 | Loss: 0.7271714806556702 | Accuracy: 73.4375%\n",
            "GB | Epoch 2 | Loss: 0.6374993920326233 | Accuracy: 71.875%\n",
            "GB | Epoch 2 | Loss: 0.6632462739944458 | Accuracy: 78.125%\n",
            "GB | Epoch 2 | Loss: 0.7102931141853333 | Accuracy: 70.3125%\n",
            "GB | Epoch 2 | Loss: 0.514716625213623 | Accuracy: 78.125%\n",
            "GB | Epoch 2 | Loss: 0.9191510677337646 | Accuracy: 62.5%\n",
            "GB | Epoch 2 | Loss: 0.5566014051437378 | Accuracy: 79.6875%\n",
            "GB | Epoch 2 | Loss: 0.8403449654579163 | Accuracy: 65.625%\n",
            "GB | Epoch 2 | Loss: 0.717624306678772 | Accuracy: 78.125%\n",
            "GB | Epoch 2 | Loss: 0.6782227158546448 | Accuracy: 78.125%\n",
            "GB | Epoch 2 | Loss: 0.5616243481636047 | Accuracy: 81.25%\n"
          ]
        },
        {
          "output_type": "stream",
          "name": "stderr",
          "text": [
            "Epoch 2:  21%|██        | 158/751 [00:02<00:07, 78.92batch/s, accuracy=79.6875%, loss=0.741]"
          ]
        },
        {
          "output_type": "stream",
          "name": "stdout",
          "text": [
            "GB | Epoch 2 | Loss: 0.579799473285675 | Accuracy: 75.0%\n",
            "GB | Epoch 2 | Loss: 0.6191006302833557 | Accuracy: 78.125%\n",
            "GB | Epoch 2 | Loss: 0.8050792217254639 | Accuracy: 70.3125%\n",
            "GB | Epoch 2 | Loss: 0.8111588954925537 | Accuracy: 71.875%\n",
            "GB | Epoch 2 | Loss: 0.5966874957084656 | Accuracy: 76.5625%\n",
            "GB | Epoch 2 | Loss: 0.7765119671821594 | Accuracy: 73.4375%\n",
            "GB | Epoch 2 | Loss: 0.7524712085723877 | Accuracy: 68.75%\n",
            "GB | Epoch 2 | Loss: 0.7455074787139893 | Accuracy: 62.5%\n",
            "GB | Epoch 2 | Loss: 0.5906684398651123 | Accuracy: 81.25%\n",
            "GB | Epoch 2 | Loss: 0.6841208934783936 | Accuracy: 73.4375%\n",
            "GB | Epoch 2 | Loss: 0.6402466893196106 | Accuracy: 78.125%\n",
            "GB | Epoch 2 | Loss: 0.47065696120262146 | Accuracy: 85.9375%\n",
            "GB | Epoch 2 | Loss: 0.6297577023506165 | Accuracy: 75.0%\n",
            "GB | Epoch 2 | Loss: 0.6393635272979736 | Accuracy: 76.5625%\n",
            "GB | Epoch 2 | Loss: 0.6765454411506653 | Accuracy: 70.3125%\n",
            "GB | Epoch 2 | Loss: 0.7406284809112549 | Accuracy: 79.6875%\n"
          ]
        },
        {
          "output_type": "stream",
          "name": "stderr",
          "text": [
            "Epoch 2:  23%|██▎       | 176/751 [00:02<00:07, 80.26batch/s, accuracy=71.875%, loss=0.694]"
          ]
        },
        {
          "output_type": "stream",
          "name": "stdout",
          "text": [
            "GB | Epoch 2 | Loss: 0.5313641428947449 | Accuracy: 79.6875%\n",
            "GB | Epoch 2 | Loss: 0.8132314085960388 | Accuracy: 68.75%\n",
            "GB | Epoch 2 | Loss: 0.713693380355835 | Accuracy: 71.875%\n",
            "GB | Epoch 2 | Loss: 0.5885517001152039 | Accuracy: 84.375%\n",
            "GB | Epoch 2 | Loss: 0.5921743512153625 | Accuracy: 79.6875%\n",
            "GB | Epoch 2 | Loss: 0.6239450573921204 | Accuracy: 78.125%\n",
            "GB | Epoch 2 | Loss: 0.6103570461273193 | Accuracy: 79.6875%\n",
            "GB | Epoch 2 | Loss: 0.7759475708007812 | Accuracy: 54.6875%\n",
            "GB | Epoch 2 | Loss: 0.6566481590270996 | Accuracy: 75.0%\n",
            "GB | Epoch 2 | Loss: 0.5945033431053162 | Accuracy: 76.5625%\n",
            "GB | Epoch 2 | Loss: 0.8292266726493835 | Accuracy: 70.3125%\n",
            "GB | Epoch 2 | Loss: 0.6947147250175476 | Accuracy: 68.75%\n",
            "GB | Epoch 2 | Loss: 0.7258159518241882 | Accuracy: 67.1875%\n",
            "GB | Epoch 2 | Loss: 0.5268615484237671 | Accuracy: 75.0%\n",
            "GB | Epoch 2 | Loss: 0.8267642259597778 | Accuracy: 68.75%\n",
            "GB | Epoch 2 | Loss: 0.63307124376297 | Accuracy: 79.6875%\n",
            "GB | Epoch 2 | Loss: 0.6459966897964478 | Accuracy: 71.875%\n",
            "GB | Epoch 2 | Loss: 0.6936261057853699 | Accuracy: 71.875%\n"
          ]
        },
        {
          "output_type": "stream",
          "name": "stderr",
          "text": [
            "Epoch 2:  26%|██▌       | 195/751 [00:02<00:06, 84.80batch/s, accuracy=75.0%, loss=0.585] "
          ]
        },
        {
          "output_type": "stream",
          "name": "stdout",
          "text": [
            "GB | Epoch 2 | Loss: 0.5356837511062622 | Accuracy: 82.8125%\n",
            "GB | Epoch 2 | Loss: 0.5595510601997375 | Accuracy: 81.25%\n",
            "GB | Epoch 2 | Loss: 0.665761411190033 | Accuracy: 78.125%\n",
            "GB | Epoch 2 | Loss: 0.6316224932670593 | Accuracy: 76.5625%\n",
            "GB | Epoch 2 | Loss: 0.5287743210792542 | Accuracy: 82.8125%\n",
            "GB | Epoch 2 | Loss: 0.5360572338104248 | Accuracy: 76.5625%\n",
            "GB | Epoch 2 | Loss: 0.5517061948776245 | Accuracy: 82.8125%\n",
            "GB | Epoch 2 | Loss: 0.644974410533905 | Accuracy: 78.125%\n",
            "GB | Epoch 2 | Loss: 0.6567915678024292 | Accuracy: 76.5625%\n",
            "GB | Epoch 2 | Loss: 0.4279453456401825 | Accuracy: 89.0625%\n",
            "GB | Epoch 2 | Loss: 0.7979046106338501 | Accuracy: 65.625%\n",
            "GB | Epoch 2 | Loss: 0.7121922969818115 | Accuracy: 70.3125%\n",
            "GB | Epoch 2 | Loss: 0.5468806028366089 | Accuracy: 79.6875%\n",
            "GB | Epoch 2 | Loss: 0.5655114054679871 | Accuracy: 76.5625%\n",
            "GB | Epoch 2 | Loss: 0.7683291435241699 | Accuracy: 70.3125%\n",
            "GB | Epoch 2 | Loss: 0.5717427134513855 | Accuracy: 75.0%\n",
            "GB | Epoch 2 | Loss: 0.6240489482879639 | Accuracy: 78.125%\n",
            "GB | Epoch 2 | Loss: 0.589509129524231 | Accuracy: 84.375%\n",
            "GB | Epoch 2 | Loss: 0.585074245929718 | Accuracy: 75.0%\n"
          ]
        },
        {
          "output_type": "stream",
          "name": "stderr",
          "text": [
            "Epoch 2:  28%|██▊       | 214/751 [00:03<00:06, 87.07batch/s, accuracy=87.5%, loss=0.479] "
          ]
        },
        {
          "output_type": "stream",
          "name": "stdout",
          "text": [
            "GB | Epoch 2 | Loss: 0.6801595091819763 | Accuracy: 75.0%\n",
            "GB | Epoch 2 | Loss: 0.52810138463974 | Accuracy: 85.9375%\n",
            "GB | Epoch 2 | Loss: 0.5367950201034546 | Accuracy: 76.5625%\n",
            "GB | Epoch 2 | Loss: 0.7520549893379211 | Accuracy: 65.625%\n",
            "GB | Epoch 2 | Loss: 0.7344229221343994 | Accuracy: 62.5%\n",
            "GB | Epoch 2 | Loss: 0.7462754845619202 | Accuracy: 73.4375%\n",
            "GB | Epoch 2 | Loss: 0.5715384483337402 | Accuracy: 76.5625%\n",
            "GB | Epoch 2 | Loss: 0.6222731471061707 | Accuracy: 79.6875%\n",
            "GB | Epoch 2 | Loss: 0.6669697761535645 | Accuracy: 71.875%\n",
            "GB | Epoch 2 | Loss: 0.49148449301719666 | Accuracy: 78.125%\n",
            "GB | Epoch 2 | Loss: 0.9211007952690125 | Accuracy: 70.3125%\n",
            "GB | Epoch 2 | Loss: 0.5174365043640137 | Accuracy: 79.6875%\n",
            "GB | Epoch 2 | Loss: 0.572826623916626 | Accuracy: 79.6875%\n",
            "GB | Epoch 2 | Loss: 0.5704168081283569 | Accuracy: 76.5625%\n",
            "GB | Epoch 2 | Loss: 0.5151348114013672 | Accuracy: 89.0625%\n",
            "GB | Epoch 2 | Loss: 0.6247638463973999 | Accuracy: 82.8125%\n",
            "GB | Epoch 2 | Loss: 0.6536819934844971 | Accuracy: 78.125%\n",
            "GB | Epoch 2 | Loss: 0.5546464920043945 | Accuracy: 81.25%\n"
          ]
        },
        {
          "output_type": "stream",
          "name": "stderr",
          "text": [
            "Epoch 2:  31%|███       | 232/751 [00:03<00:05, 86.74batch/s, accuracy=71.875%, loss=0.7]  "
          ]
        },
        {
          "output_type": "stream",
          "name": "stdout",
          "text": [
            "GB | Epoch 2 | Loss: 0.4793078601360321 | Accuracy: 87.5%\n",
            "GB | Epoch 2 | Loss: 0.6660527586936951 | Accuracy: 73.4375%\n",
            "GB | Epoch 2 | Loss: 0.579076886177063 | Accuracy: 79.6875%\n",
            "GB | Epoch 2 | Loss: 0.5691132545471191 | Accuracy: 76.5625%\n",
            "GB | Epoch 2 | Loss: 0.4947670102119446 | Accuracy: 85.9375%\n",
            "GB | Epoch 2 | Loss: 0.5729647874832153 | Accuracy: 79.6875%\n",
            "GB | Epoch 2 | Loss: 0.6645171046257019 | Accuracy: 76.5625%\n",
            "GB | Epoch 2 | Loss: 0.6280394196510315 | Accuracy: 76.5625%\n",
            "GB | Epoch 2 | Loss: 0.5087452530860901 | Accuracy: 81.25%\n",
            "GB | Epoch 2 | Loss: 0.5754402279853821 | Accuracy: 82.8125%\n",
            "GB | Epoch 2 | Loss: 0.6804871559143066 | Accuracy: 67.1875%\n",
            "GB | Epoch 2 | Loss: 0.6684877872467041 | Accuracy: 78.125%\n",
            "GB | Epoch 2 | Loss: 0.45933446288108826 | Accuracy: 84.375%\n",
            "GB | Epoch 2 | Loss: 0.48420414328575134 | Accuracy: 81.25%\n",
            "GB | Epoch 2 | Loss: 0.7041963338851929 | Accuracy: 75.0%\n",
            "GB | Epoch 2 | Loss: 0.5609745383262634 | Accuracy: 84.375%\n",
            "GB | Epoch 2 | Loss: 0.5621918439865112 | Accuracy: 78.125%\n",
            "GB | Epoch 2 | Loss: 0.700248122215271 | Accuracy: 71.875%\n"
          ]
        },
        {
          "output_type": "stream",
          "name": "stderr",
          "text": [
            "Epoch 2:  33%|███▎      | 250/751 [00:03<00:05, 84.55batch/s, accuracy=70.3125%, loss=0.739]"
          ]
        },
        {
          "output_type": "stream",
          "name": "stdout",
          "text": [
            "GB | Epoch 2 | Loss: 0.6958063244819641 | Accuracy: 71.875%\n",
            "GB | Epoch 2 | Loss: 0.7315219044685364 | Accuracy: 71.875%\n",
            "GB | Epoch 2 | Loss: 0.46195468306541443 | Accuracy: 84.375%\n",
            "GB | Epoch 2 | Loss: 0.543581485748291 | Accuracy: 76.5625%\n",
            "GB | Epoch 2 | Loss: 0.43873700499534607 | Accuracy: 85.9375%\n",
            "GB | Epoch 2 | Loss: 0.539962112903595 | Accuracy: 84.375%\n",
            "GB | Epoch 2 | Loss: 0.580936849117279 | Accuracy: 81.25%\n",
            "GB | Epoch 2 | Loss: 0.6402888894081116 | Accuracy: 79.6875%\n",
            "GB | Epoch 2 | Loss: 0.6315768957138062 | Accuracy: 76.5625%\n",
            "GB | Epoch 2 | Loss: 0.6958714127540588 | Accuracy: 79.6875%\n",
            "GB | Epoch 2 | Loss: 0.6162934899330139 | Accuracy: 78.125%\n",
            "GB | Epoch 2 | Loss: 0.533880889415741 | Accuracy: 81.25%\n",
            "GB | Epoch 2 | Loss: 0.5759257078170776 | Accuracy: 78.125%\n",
            "GB | Epoch 2 | Loss: 0.6353617310523987 | Accuracy: 73.4375%\n",
            "GB | Epoch 2 | Loss: 0.5930185914039612 | Accuracy: 81.25%\n",
            "GB | Epoch 2 | Loss: 0.7392502427101135 | Accuracy: 70.3125%\n"
          ]
        },
        {
          "output_type": "stream",
          "name": "stderr",
          "text": [
            "Epoch 2:  36%|███▌      | 268/751 [00:03<00:06, 77.89batch/s, accuracy=75.0%, loss=0.545]   "
          ]
        },
        {
          "output_type": "stream",
          "name": "stdout",
          "text": [
            "GB | Epoch 2 | Loss: 0.5027666687965393 | Accuracy: 84.375%\n",
            "GB | Epoch 2 | Loss: 0.6301189064979553 | Accuracy: 78.125%\n",
            "GB | Epoch 2 | Loss: 0.7144017815589905 | Accuracy: 73.4375%\n",
            "GB | Epoch 2 | Loss: 0.5114461779594421 | Accuracy: 82.8125%\n",
            "GB | Epoch 2 | Loss: 0.42112722992897034 | Accuracy: 92.1875%\n",
            "GB | Epoch 2 | Loss: 0.5608410239219666 | Accuracy: 76.5625%\n",
            "GB | Epoch 2 | Loss: 0.558182954788208 | Accuracy: 82.8125%\n",
            "GB | Epoch 2 | Loss: 0.6522351503372192 | Accuracy: 79.6875%\n",
            "GB | Epoch 2 | Loss: 0.5497786402702332 | Accuracy: 76.5625%\n",
            "GB | Epoch 2 | Loss: 0.5083160996437073 | Accuracy: 81.25%\n",
            "GB | Epoch 2 | Loss: 0.5950304269790649 | Accuracy: 76.5625%\n",
            "GB | Epoch 2 | Loss: 0.6304279565811157 | Accuracy: 75.0%\n",
            "GB | Epoch 2 | Loss: 0.43860894441604614 | Accuracy: 85.9375%\n",
            "GB | Epoch 2 | Loss: 0.4907872676849365 | Accuracy: 79.6875%\n",
            "GB | Epoch 2 | Loss: 0.5449742674827576 | Accuracy: 75.0%\n"
          ]
        },
        {
          "output_type": "stream",
          "name": "stderr",
          "text": [
            "Epoch 2:  38%|███▊      | 285/751 [00:03<00:05, 80.44batch/s, accuracy=73.4375%, loss=0.54]"
          ]
        },
        {
          "output_type": "stream",
          "name": "stdout",
          "text": [
            "GB | Epoch 2 | Loss: 0.3528609573841095 | Accuracy: 92.1875%\n",
            "GB | Epoch 2 | Loss: 0.5324337482452393 | Accuracy: 78.125%\n",
            "GB | Epoch 2 | Loss: 0.44601374864578247 | Accuracy: 87.5%\n",
            "GB | Epoch 2 | Loss: 0.6251251697540283 | Accuracy: 79.6875%\n",
            "GB | Epoch 2 | Loss: 0.5958587527275085 | Accuracy: 81.25%\n",
            "GB | Epoch 2 | Loss: 0.6468779444694519 | Accuracy: 76.5625%\n",
            "GB | Epoch 2 | Loss: 0.512631893157959 | Accuracy: 84.375%\n",
            "GB | Epoch 2 | Loss: 0.7810015678405762 | Accuracy: 75.0%\n",
            "GB | Epoch 2 | Loss: 0.6945722103118896 | Accuracy: 76.5625%\n",
            "GB | Epoch 2 | Loss: 0.6052004098892212 | Accuracy: 81.25%\n",
            "GB | Epoch 2 | Loss: 0.5879502296447754 | Accuracy: 79.6875%\n",
            "GB | Epoch 2 | Loss: 0.6126205325126648 | Accuracy: 73.4375%\n",
            "GB | Epoch 2 | Loss: 0.44025686383247375 | Accuracy: 84.375%\n",
            "GB | Epoch 2 | Loss: 0.4546143114566803 | Accuracy: 87.5%\n",
            "GB | Epoch 2 | Loss: 0.5155971646308899 | Accuracy: 78.125%\n",
            "GB | Epoch 2 | Loss: 0.5978425741195679 | Accuracy: 79.6875%\n",
            "GB | Epoch 2 | Loss: 0.5864905714988708 | Accuracy: 75.0%\n",
            "GB | Epoch 2 | Loss: 0.5398443937301636 | Accuracy: 73.4375%\n"
          ]
        },
        {
          "output_type": "stream",
          "name": "stderr",
          "text": [
            "Epoch 2:  41%|████      | 305/751 [00:04<00:05, 86.09batch/s, accuracy=89.0625%, loss=0.485]"
          ]
        },
        {
          "output_type": "stream",
          "name": "stdout",
          "text": [
            "GB | Epoch 2 | Loss: 0.4622603952884674 | Accuracy: 81.25%\n",
            "GB | Epoch 2 | Loss: 0.636420726776123 | Accuracy: 82.8125%\n",
            "GB | Epoch 2 | Loss: 0.5720505714416504 | Accuracy: 75.0%\n",
            "GB | Epoch 2 | Loss: 0.5119867324829102 | Accuracy: 81.25%\n",
            "GB | Epoch 2 | Loss: 0.5839841961860657 | Accuracy: 75.0%\n",
            "GB | Epoch 2 | Loss: 0.5815680027008057 | Accuracy: 82.8125%\n",
            "GB | Epoch 2 | Loss: 0.4370781183242798 | Accuracy: 84.375%\n",
            "GB | Epoch 2 | Loss: 0.48620671033859253 | Accuracy: 85.9375%\n",
            "GB | Epoch 2 | Loss: 0.5648642182350159 | Accuracy: 79.6875%\n",
            "GB | Epoch 2 | Loss: 0.6544582843780518 | Accuracy: 75.0%\n",
            "GB | Epoch 2 | Loss: 0.4643426537513733 | Accuracy: 82.8125%\n",
            "GB | Epoch 2 | Loss: 0.5290168523788452 | Accuracy: 85.9375%\n",
            "GB | Epoch 2 | Loss: 0.5885570049285889 | Accuracy: 78.125%\n",
            "GB | Epoch 2 | Loss: 0.5839903950691223 | Accuracy: 76.5625%\n",
            "GB | Epoch 2 | Loss: 0.6583259105682373 | Accuracy: 73.4375%\n",
            "GB | Epoch 2 | Loss: 0.6320056915283203 | Accuracy: 76.5625%\n",
            "GB | Epoch 2 | Loss: 0.6530247330665588 | Accuracy: 85.9375%\n",
            "GB | Epoch 2 | Loss: 0.4567725956439972 | Accuracy: 84.375%\n",
            "GB | Epoch 2 | Loss: 0.48500216007232666 | Accuracy: 89.0625%\n"
          ]
        },
        {
          "output_type": "stream",
          "name": "stderr",
          "text": [
            "Epoch 2:  43%|████▎     | 324/751 [00:04<00:05, 84.95batch/s, accuracy=81.25%, loss=0.492]"
          ]
        },
        {
          "output_type": "stream",
          "name": "stdout",
          "text": [
            "GB | Epoch 2 | Loss: 0.40130606293678284 | Accuracy: 85.9375%\n",
            "GB | Epoch 2 | Loss: 0.7485486268997192 | Accuracy: 75.0%\n",
            "GB | Epoch 2 | Loss: 0.6528775691986084 | Accuracy: 75.0%\n",
            "GB | Epoch 2 | Loss: 0.35735490918159485 | Accuracy: 85.9375%\n",
            "GB | Epoch 2 | Loss: 0.4973579943180084 | Accuracy: 82.8125%\n",
            "GB | Epoch 2 | Loss: 0.5752723813056946 | Accuracy: 73.4375%\n",
            "GB | Epoch 2 | Loss: 0.5723423957824707 | Accuracy: 75.0%\n",
            "GB | Epoch 2 | Loss: 0.5654131770133972 | Accuracy: 75.0%\n",
            "GB | Epoch 2 | Loss: 0.5901358127593994 | Accuracy: 82.8125%\n",
            "GB | Epoch 2 | Loss: 0.7080129981040955 | Accuracy: 81.25%\n",
            "GB | Epoch 2 | Loss: 0.5367174744606018 | Accuracy: 82.8125%\n",
            "GB | Epoch 2 | Loss: 0.6140454411506653 | Accuracy: 79.6875%\n",
            "GB | Epoch 2 | Loss: 0.4494215250015259 | Accuracy: 89.0625%\n",
            "GB | Epoch 2 | Loss: 0.4492465555667877 | Accuracy: 84.375%\n",
            "GB | Epoch 2 | Loss: 0.42883577942848206 | Accuracy: 89.0625%\n",
            "GB | Epoch 2 | Loss: 0.4321357011795044 | Accuracy: 84.375%\n",
            "GB | Epoch 2 | Loss: 0.5708433389663696 | Accuracy: 78.125%\n",
            "GB | Epoch 2 | Loss: 0.4922657608985901 | Accuracy: 81.25%\n"
          ]
        },
        {
          "output_type": "stream",
          "name": "stderr",
          "text": [
            "Epoch 2:  44%|████▍     | 333/751 [00:04<00:05, 83.32batch/s, accuracy=76.5625%, loss=0.598]"
          ]
        },
        {
          "output_type": "stream",
          "name": "stdout",
          "text": [
            "GB | Epoch 2 | Loss: 0.46338900923728943 | Accuracy: 81.25%\n",
            "GB | Epoch 2 | Loss: 0.36484667658805847 | Accuracy: 90.625%\n",
            "GB | Epoch 2 | Loss: 0.4393938183784485 | Accuracy: 81.25%\n",
            "GB | Epoch 2 | Loss: 0.6134869456291199 | Accuracy: 78.125%\n",
            "GB | Epoch 2 | Loss: 0.4201072156429291 | Accuracy: 82.8125%\n",
            "GB | Epoch 2 | Loss: 0.48967304825782776 | Accuracy: 85.9375%\n",
            "GB | Epoch 2 | Loss: 0.485824853181839 | Accuracy: 82.8125%\n",
            "GB | Epoch 2 | Loss: 0.4348510205745697 | Accuracy: 85.9375%\n",
            "GB | Epoch 2 | Loss: 0.42192354798316956 | Accuracy: 85.9375%\n",
            "GB | Epoch 2 | Loss: 0.3580091893672943 | Accuracy: 89.0625%\n",
            "GB | Epoch 2 | Loss: 0.4204854369163513 | Accuracy: 84.375%\n",
            "GB | Epoch 2 | Loss: 0.3747839629650116 | Accuracy: 89.0625%\n",
            "GB | Epoch 2 | Loss: 0.49411824345588684 | Accuracy: 85.9375%\n",
            "GB | Epoch 2 | Loss: 0.4814694821834564 | Accuracy: 84.375%\n",
            "GB | Epoch 2 | Loss: 0.4500351846218109 | Accuracy: 84.375%\n",
            "GB | Epoch 2 | Loss: 0.5980419516563416 | Accuracy: 76.5625%\n"
          ]
        },
        {
          "output_type": "stream",
          "name": "stderr",
          "text": [
            "Epoch 2:  47%|████▋     | 351/751 [00:04<00:04, 81.06batch/s, accuracy=85.9375%, loss=0.433]"
          ]
        },
        {
          "output_type": "stream",
          "name": "stdout",
          "text": [
            "GB | Epoch 2 | Loss: 0.5535491704940796 | Accuracy: 85.9375%\n",
            "GB | Epoch 2 | Loss: 0.4923444390296936 | Accuracy: 82.8125%\n",
            "GB | Epoch 2 | Loss: 0.4070363938808441 | Accuracy: 85.9375%\n",
            "GB | Epoch 2 | Loss: 0.5146884322166443 | Accuracy: 84.375%\n",
            "GB | Epoch 2 | Loss: 0.4648526906967163 | Accuracy: 87.5%\n",
            "GB | Epoch 2 | Loss: 0.44945627450942993 | Accuracy: 84.375%\n",
            "GB | Epoch 2 | Loss: 0.35774141550064087 | Accuracy: 95.3125%\n",
            "GB | Epoch 2 | Loss: 0.6215012669563293 | Accuracy: 76.5625%\n",
            "GB | Epoch 2 | Loss: 0.5235896110534668 | Accuracy: 79.6875%\n",
            "GB | Epoch 2 | Loss: 0.5661101341247559 | Accuracy: 76.5625%\n",
            "GB | Epoch 2 | Loss: 0.3465639352798462 | Accuracy: 89.0625%\n",
            "GB | Epoch 2 | Loss: 0.3509599566459656 | Accuracy: 85.9375%\n",
            "GB | Epoch 2 | Loss: 0.5009883046150208 | Accuracy: 76.5625%\n",
            "GB | Epoch 2 | Loss: 0.40246498584747314 | Accuracy: 87.5%\n",
            "GB | Epoch 2 | Loss: 0.5003517270088196 | Accuracy: 79.6875%\n",
            "GB | Epoch 2 | Loss: 0.2961406707763672 | Accuracy: 92.1875%\n",
            "GB | Epoch 2 | Loss: 0.4329585134983063 | Accuracy: 85.9375%\n"
          ]
        },
        {
          "output_type": "stream",
          "name": "stderr",
          "text": [
            "Epoch 2:  49%|████▉     | 369/751 [00:04<00:04, 82.74batch/s, accuracy=81.25%, loss=0.513]"
          ]
        },
        {
          "output_type": "stream",
          "name": "stdout",
          "text": [
            "GB | Epoch 2 | Loss: 0.5183663368225098 | Accuracy: 84.375%\n",
            "GB | Epoch 2 | Loss: 0.5797818899154663 | Accuracy: 79.6875%\n",
            "GB | Epoch 2 | Loss: 0.49727872014045715 | Accuracy: 81.25%\n",
            "GB | Epoch 2 | Loss: 0.4181247353553772 | Accuracy: 85.9375%\n",
            "GB | Epoch 2 | Loss: 0.42090657353401184 | Accuracy: 89.0625%\n",
            "GB | Epoch 2 | Loss: 0.3920239210128784 | Accuracy: 85.9375%\n",
            "GB | Epoch 2 | Loss: 0.6086254715919495 | Accuracy: 79.6875%\n",
            "GB | Epoch 2 | Loss: 0.5175777077674866 | Accuracy: 84.375%\n",
            "GB | Epoch 2 | Loss: 0.581929087638855 | Accuracy: 84.375%\n",
            "GB | Epoch 2 | Loss: 0.46984025835990906 | Accuracy: 87.5%\n",
            "GB | Epoch 2 | Loss: 0.34689825773239136 | Accuracy: 92.1875%\n",
            "GB | Epoch 2 | Loss: 0.5025203824043274 | Accuracy: 81.25%\n",
            "GB | Epoch 2 | Loss: 0.5046396255493164 | Accuracy: 82.8125%\n",
            "GB | Epoch 2 | Loss: 0.6684157848358154 | Accuracy: 76.5625%\n",
            "GB | Epoch 2 | Loss: 0.47310182452201843 | Accuracy: 84.375%\n",
            "GB | Epoch 2 | Loss: 0.37599265575408936 | Accuracy: 85.9375%\n",
            "GB | Epoch 2 | Loss: 0.3627227246761322 | Accuracy: 84.375%\n",
            "GB | Epoch 2 | Loss: 0.46806955337524414 | Accuracy: 81.25%\n",
            "GB | Epoch 2 | Loss: 0.5134130120277405 | Accuracy: 81.25%\n"
          ]
        },
        {
          "output_type": "stream",
          "name": "stderr",
          "text": [
            "Epoch 2:  52%|█████▏    | 389/751 [00:05<00:04, 86.80batch/s, accuracy=84.375%, loss=0.456] "
          ]
        },
        {
          "output_type": "stream",
          "name": "stdout",
          "text": [
            "GB | Epoch 2 | Loss: 0.5044887065887451 | Accuracy: 82.8125%\n",
            "GB | Epoch 2 | Loss: 0.577918291091919 | Accuracy: 84.375%\n",
            "GB | Epoch 2 | Loss: 0.5748929381370544 | Accuracy: 84.375%\n",
            "GB | Epoch 2 | Loss: 0.5244454741477966 | Accuracy: 79.6875%\n",
            "GB | Epoch 2 | Loss: 0.2605266869068146 | Accuracy: 95.3125%\n",
            "GB | Epoch 2 | Loss: 0.3069289028644562 | Accuracy: 90.625%\n",
            "GB | Epoch 2 | Loss: 0.613837718963623 | Accuracy: 81.25%\n",
            "GB | Epoch 2 | Loss: 0.4567388892173767 | Accuracy: 82.8125%\n",
            "GB | Epoch 2 | Loss: 0.6231403350830078 | Accuracy: 73.4375%\n",
            "GB | Epoch 2 | Loss: 0.486768901348114 | Accuracy: 81.25%\n",
            "GB | Epoch 2 | Loss: 0.3784961998462677 | Accuracy: 84.375%\n",
            "GB | Epoch 2 | Loss: 0.5970911383628845 | Accuracy: 79.6875%\n",
            "GB | Epoch 2 | Loss: 0.47715726494789124 | Accuracy: 82.8125%\n",
            "GB | Epoch 2 | Loss: 0.39654341340065 | Accuracy: 85.9375%\n",
            "GB | Epoch 2 | Loss: 0.5318275094032288 | Accuracy: 84.375%\n",
            "GB | Epoch 2 | Loss: 0.5768744945526123 | Accuracy: 79.6875%\n",
            "GB | Epoch 2 | Loss: 0.5354845523834229 | Accuracy: 79.6875%\n"
          ]
        },
        {
          "output_type": "stream",
          "name": "stderr",
          "text": [
            "Epoch 2:  54%|█████▍    | 407/751 [00:05<00:04, 79.25batch/s, accuracy=82.8125%, loss=0.536]"
          ]
        },
        {
          "output_type": "stream",
          "name": "stdout",
          "text": [
            "GB | Epoch 2 | Loss: 0.45629075169563293 | Accuracy: 84.375%\n",
            "GB | Epoch 2 | Loss: 0.46275919675827026 | Accuracy: 84.375%\n",
            "GB | Epoch 2 | Loss: 0.4720935523509979 | Accuracy: 81.25%\n",
            "GB | Epoch 2 | Loss: 0.48459866642951965 | Accuracy: 90.625%\n",
            "GB | Epoch 2 | Loss: 0.36908799409866333 | Accuracy: 87.5%\n",
            "GB | Epoch 2 | Loss: 0.3758569359779358 | Accuracy: 89.0625%\n",
            "GB | Epoch 2 | Loss: 0.38013267517089844 | Accuracy: 85.9375%\n",
            "GB | Epoch 2 | Loss: 0.38539010286331177 | Accuracy: 87.5%\n",
            "GB | Epoch 2 | Loss: 0.43855369091033936 | Accuracy: 89.0625%\n",
            "GB | Epoch 2 | Loss: 0.3720279335975647 | Accuracy: 90.625%\n",
            "GB | Epoch 2 | Loss: 0.3630705177783966 | Accuracy: 89.0625%\n",
            "GB | Epoch 2 | Loss: 0.6659924983978271 | Accuracy: 73.4375%\n",
            "GB | Epoch 2 | Loss: 0.9522755146026611 | Accuracy: 64.0625%\n",
            "GB | Epoch 2 | Loss: 0.5906553864479065 | Accuracy: 79.6875%\n",
            "GB | Epoch 2 | Loss: 0.5359465479850769 | Accuracy: 82.8125%\n"
          ]
        },
        {
          "output_type": "stream",
          "name": "stderr",
          "text": [
            "Epoch 2:  56%|█████▋    | 423/751 [00:05<00:04, 75.63batch/s, accuracy=85.9375%, loss=0.363]"
          ]
        },
        {
          "output_type": "stream",
          "name": "stdout",
          "text": [
            "GB | Epoch 2 | Loss: 0.4936383068561554 | Accuracy: 84.375%\n",
            "GB | Epoch 2 | Loss: 0.5525466203689575 | Accuracy: 84.375%\n",
            "GB | Epoch 2 | Loss: 0.41719165444374084 | Accuracy: 89.0625%\n",
            "GB | Epoch 2 | Loss: 0.39447852969169617 | Accuracy: 85.9375%\n",
            "GB | Epoch 2 | Loss: 0.4684576690196991 | Accuracy: 79.6875%\n",
            "GB | Epoch 2 | Loss: 0.6039751172065735 | Accuracy: 82.8125%\n",
            "GB | Epoch 2 | Loss: 0.3527041971683502 | Accuracy: 84.375%\n",
            "GB | Epoch 2 | Loss: 0.3965175747871399 | Accuracy: 85.9375%\n",
            "GB | Epoch 2 | Loss: 0.4202757775783539 | Accuracy: 89.0625%\n",
            "GB | Epoch 2 | Loss: 0.5735771656036377 | Accuracy: 82.8125%\n",
            "GB | Epoch 2 | Loss: 0.2578476071357727 | Accuracy: 95.3125%\n",
            "GB | Epoch 2 | Loss: 0.3456887900829315 | Accuracy: 89.0625%\n",
            "GB | Epoch 2 | Loss: 0.4459616541862488 | Accuracy: 85.9375%\n",
            "GB | Epoch 2 | Loss: 0.572364866733551 | Accuracy: 78.125%\n",
            "GB | Epoch 2 | Loss: 0.36281102895736694 | Accuracy: 85.9375%\n"
          ]
        },
        {
          "output_type": "stream",
          "name": "stderr",
          "text": [
            "Epoch 2:  59%|█████▊    | 441/751 [00:05<00:03, 81.00batch/s, accuracy=82.8125%, loss=0.446]"
          ]
        },
        {
          "output_type": "stream",
          "name": "stdout",
          "text": [
            "GB | Epoch 2 | Loss: 0.5035057067871094 | Accuracy: 81.25%\n",
            "GB | Epoch 2 | Loss: 0.41810157895088196 | Accuracy: 85.9375%\n",
            "GB | Epoch 2 | Loss: 0.5602904558181763 | Accuracy: 79.6875%\n",
            "GB | Epoch 2 | Loss: 0.38074877858161926 | Accuracy: 84.375%\n",
            "GB | Epoch 2 | Loss: 0.4910876154899597 | Accuracy: 82.8125%\n",
            "GB | Epoch 2 | Loss: 0.46913984417915344 | Accuracy: 85.9375%\n",
            "GB | Epoch 2 | Loss: 0.46634015440940857 | Accuracy: 82.8125%\n",
            "GB | Epoch 2 | Loss: 0.39855730533599854 | Accuracy: 89.0625%\n",
            "GB | Epoch 2 | Loss: 0.32191187143325806 | Accuracy: 93.75%\n",
            "GB | Epoch 2 | Loss: 0.34368979930877686 | Accuracy: 92.1875%\n",
            "GB | Epoch 2 | Loss: 0.36290016770362854 | Accuracy: 89.0625%\n",
            "GB | Epoch 2 | Loss: 0.515395998954773 | Accuracy: 84.375%\n",
            "GB | Epoch 2 | Loss: 0.40654459595680237 | Accuracy: 89.0625%\n",
            "GB | Epoch 2 | Loss: 0.5222242474555969 | Accuracy: 76.5625%\n",
            "GB | Epoch 2 | Loss: 0.43016350269317627 | Accuracy: 85.9375%\n",
            "GB | Epoch 2 | Loss: 0.5974066257476807 | Accuracy: 79.6875%\n",
            "GB | Epoch 2 | Loss: 0.41539424657821655 | Accuracy: 85.9375%\n",
            "GB | Epoch 2 | Loss: 0.44620367884635925 | Accuracy: 82.8125%\n"
          ]
        },
        {
          "output_type": "stream",
          "name": "stderr",
          "text": [
            "Epoch 2:  60%|█████▉    | 450/751 [00:05<00:03, 82.56batch/s, accuracy=89.0625%, loss=0.328]"
          ]
        },
        {
          "output_type": "stream",
          "name": "stdout",
          "text": [
            "GB | Epoch 2 | Loss: 0.44279181957244873 | Accuracy: 76.5625%\n",
            "GB | Epoch 2 | Loss: 0.33671778440475464 | Accuracy: 89.0625%\n",
            "GB | Epoch 2 | Loss: 0.4525739848613739 | Accuracy: 85.9375%\n",
            "GB | Epoch 2 | Loss: 0.6012136936187744 | Accuracy: 76.5625%\n",
            "GB | Epoch 2 | Loss: 0.44056764245033264 | Accuracy: 82.8125%\n",
            "GB | Epoch 2 | Loss: 0.41737428307533264 | Accuracy: 82.8125%\n",
            "GB | Epoch 2 | Loss: 0.44600817561149597 | Accuracy: 84.375%\n",
            "GB | Epoch 2 | Loss: 0.5377793908119202 | Accuracy: 84.375%\n",
            "GB | Epoch 2 | Loss: 0.3882620632648468 | Accuracy: 82.8125%\n",
            "GB | Epoch 2 | Loss: 0.46131840348243713 | Accuracy: 82.8125%\n",
            "GB | Epoch 2 | Loss: 0.447774201631546 | Accuracy: 78.125%\n",
            "GB | Epoch 2 | Loss: 0.40803858637809753 | Accuracy: 85.9375%\n",
            "GB | Epoch 2 | Loss: 0.3420233428478241 | Accuracy: 84.375%\n",
            "GB | Epoch 2 | Loss: 0.5749456882476807 | Accuracy: 75.0%\n",
            "GB | Epoch 2 | Loss: 0.37947914004325867 | Accuracy: 82.8125%\n",
            "GB | Epoch 2 | Loss: 0.3293618857860565 | Accuracy: 84.375%\n",
            "GB | Epoch 2 | Loss: 0.3284801244735718 | Accuracy: 89.0625%\n"
          ]
        },
        {
          "output_type": "stream",
          "name": "stderr",
          "text": [
            "Epoch 2:  62%|██████▏   | 468/751 [00:06<00:03, 81.33batch/s, accuracy=87.5%, loss=0.387]  "
          ]
        },
        {
          "output_type": "stream",
          "name": "stdout",
          "text": [
            "GB | Epoch 2 | Loss: 0.4810011684894562 | Accuracy: 79.6875%\n",
            "GB | Epoch 2 | Loss: 0.33940589427948 | Accuracy: 89.0625%\n",
            "GB | Epoch 2 | Loss: 0.37124741077423096 | Accuracy: 89.0625%\n",
            "GB | Epoch 2 | Loss: 0.5651469826698303 | Accuracy: 82.8125%\n",
            "GB | Epoch 2 | Loss: 0.3180495798587799 | Accuracy: 90.625%\n",
            "GB | Epoch 2 | Loss: 0.6361872553825378 | Accuracy: 78.125%\n",
            "GB | Epoch 2 | Loss: 0.365418404340744 | Accuracy: 89.0625%\n",
            "GB | Epoch 2 | Loss: 0.4225188195705414 | Accuracy: 84.375%\n",
            "GB | Epoch 2 | Loss: 0.27306631207466125 | Accuracy: 93.75%\n",
            "GB | Epoch 2 | Loss: 0.5874930024147034 | Accuracy: 78.125%\n",
            "GB | Epoch 2 | Loss: 0.40712273120880127 | Accuracy: 85.9375%\n",
            "GB | Epoch 2 | Loss: 0.30880028009414673 | Accuracy: 90.625%\n",
            "GB | Epoch 2 | Loss: 0.339796781539917 | Accuracy: 87.5%\n",
            "GB | Epoch 2 | Loss: 0.3519119918346405 | Accuracy: 90.625%\n",
            "GB | Epoch 2 | Loss: 0.4521177113056183 | Accuracy: 84.375%\n",
            "GB | Epoch 2 | Loss: 0.38652947545051575 | Accuracy: 87.5%\n"
          ]
        },
        {
          "output_type": "stream",
          "name": "stderr",
          "text": [
            "Epoch 2:  65%|██████▍   | 485/751 [00:06<00:03, 74.92batch/s, accuracy=90.625%, loss=0.339]"
          ]
        },
        {
          "output_type": "stream",
          "name": "stdout",
          "text": [
            "GB | Epoch 2 | Loss: 0.43984460830688477 | Accuracy: 85.9375%\n",
            "GB | Epoch 2 | Loss: 0.3537074327468872 | Accuracy: 85.9375%\n",
            "GB | Epoch 2 | Loss: 0.27884918451309204 | Accuracy: 90.625%\n",
            "GB | Epoch 2 | Loss: 0.32701441645622253 | Accuracy: 85.9375%\n",
            "GB | Epoch 2 | Loss: 0.5696731805801392 | Accuracy: 84.375%\n",
            "GB | Epoch 2 | Loss: 0.42302998900413513 | Accuracy: 85.9375%\n",
            "GB | Epoch 2 | Loss: 0.34146806597709656 | Accuracy: 92.1875%\n",
            "GB | Epoch 2 | Loss: 0.2720455229282379 | Accuracy: 92.1875%\n",
            "GB | Epoch 2 | Loss: 0.5244868993759155 | Accuracy: 76.5625%\n",
            "GB | Epoch 2 | Loss: 0.39293891191482544 | Accuracy: 89.0625%\n",
            "GB | Epoch 2 | Loss: 0.35539284348487854 | Accuracy: 87.5%\n",
            "GB | Epoch 2 | Loss: 0.22399698197841644 | Accuracy: 95.3125%\n",
            "GB | Epoch 2 | Loss: 0.48761481046676636 | Accuracy: 85.9375%\n",
            "GB | Epoch 2 | Loss: 0.47796493768692017 | Accuracy: 81.25%\n",
            "GB | Epoch 2 | Loss: 0.3392481207847595 | Accuracy: 90.625%\n"
          ]
        },
        {
          "output_type": "stream",
          "name": "stderr",
          "text": [
            "Epoch 2:  67%|██████▋   | 501/751 [00:06<00:03, 72.64batch/s, accuracy=90.625%, loss=0.326]"
          ]
        },
        {
          "output_type": "stream",
          "name": "stdout",
          "text": [
            "GB | Epoch 2 | Loss: 0.37759342789649963 | Accuracy: 87.5%\n",
            "GB | Epoch 2 | Loss: 0.5046530961990356 | Accuracy: 85.9375%\n",
            "GB | Epoch 2 | Loss: 0.4038284122943878 | Accuracy: 90.625%\n",
            "GB | Epoch 2 | Loss: 0.36272329092025757 | Accuracy: 84.375%\n",
            "GB | Epoch 2 | Loss: 0.3335738480091095 | Accuracy: 92.1875%\n",
            "GB | Epoch 2 | Loss: 0.4037100672721863 | Accuracy: 87.5%\n",
            "GB | Epoch 2 | Loss: 0.4658517837524414 | Accuracy: 81.25%\n",
            "GB | Epoch 2 | Loss: 0.3413909077644348 | Accuracy: 89.0625%\n",
            "GB | Epoch 2 | Loss: 0.3640562891960144 | Accuracy: 89.0625%\n",
            "GB | Epoch 2 | Loss: 0.4159010648727417 | Accuracy: 90.625%\n",
            "GB | Epoch 2 | Loss: 0.35188791155815125 | Accuracy: 87.5%\n",
            "GB | Epoch 2 | Loss: 0.4331289827823639 | Accuracy: 78.125%\n",
            "GB | Epoch 2 | Loss: 0.3196079432964325 | Accuracy: 90.625%\n",
            "GB | Epoch 2 | Loss: 0.4936189651489258 | Accuracy: 81.25%\n",
            "GB | Epoch 2 | Loss: 0.3260018527507782 | Accuracy: 90.625%\n"
          ]
        },
        {
          "output_type": "stream",
          "name": "stderr",
          "text": [
            "Epoch 2:  69%|██████▉   | 518/751 [00:06<00:03, 74.23batch/s, accuracy=73.4375%, loss=0.486]"
          ]
        },
        {
          "output_type": "stream",
          "name": "stdout",
          "text": [
            "GB | Epoch 2 | Loss: 0.45100969076156616 | Accuracy: 84.375%\n",
            "GB | Epoch 2 | Loss: 0.33337152004241943 | Accuracy: 87.5%\n",
            "GB | Epoch 2 | Loss: 0.5672842264175415 | Accuracy: 75.0%\n",
            "GB | Epoch 2 | Loss: 0.5398859977722168 | Accuracy: 78.125%\n",
            "GB | Epoch 2 | Loss: 0.36469510197639465 | Accuracy: 87.5%\n",
            "GB | Epoch 2 | Loss: 0.6354358792304993 | Accuracy: 79.6875%\n",
            "GB | Epoch 2 | Loss: 0.31425467133522034 | Accuracy: 87.5%\n",
            "GB | Epoch 2 | Loss: 0.31735002994537354 | Accuracy: 89.0625%\n",
            "GB | Epoch 2 | Loss: 0.44201692938804626 | Accuracy: 85.9375%\n",
            "GB | Epoch 2 | Loss: 0.37393176555633545 | Accuracy: 85.9375%\n",
            "GB | Epoch 2 | Loss: 0.3448290526866913 | Accuracy: 90.625%\n",
            "GB | Epoch 2 | Loss: 0.47811558842658997 | Accuracy: 82.8125%\n",
            "GB | Epoch 2 | Loss: 0.2799628674983978 | Accuracy: 89.0625%\n",
            "GB | Epoch 2 | Loss: 0.3546556234359741 | Accuracy: 87.5%\n",
            "GB | Epoch 2 | Loss: 0.3664214313030243 | Accuracy: 89.0625%\n",
            "GB | Epoch 2 | Loss: 0.4862068295478821 | Accuracy: 73.4375%\n"
          ]
        },
        {
          "output_type": "stream",
          "name": "stderr",
          "text": [
            "Epoch 2:  72%|███████▏  | 537/751 [00:06<00:02, 82.65batch/s, accuracy=87.5%, loss=0.422]   "
          ]
        },
        {
          "output_type": "stream",
          "name": "stdout",
          "text": [
            "GB | Epoch 2 | Loss: 0.41314154863357544 | Accuracy: 79.6875%\n",
            "GB | Epoch 2 | Loss: 0.39240404963493347 | Accuracy: 81.25%\n",
            "GB | Epoch 2 | Loss: 0.44747745990753174 | Accuracy: 84.375%\n",
            "GB | Epoch 2 | Loss: 0.2751607298851013 | Accuracy: 89.0625%\n",
            "GB | Epoch 2 | Loss: 0.26741257309913635 | Accuracy: 92.1875%\n",
            "GB | Epoch 2 | Loss: 0.387805312871933 | Accuracy: 82.8125%\n",
            "GB | Epoch 2 | Loss: 0.3464183211326599 | Accuracy: 89.0625%\n",
            "GB | Epoch 2 | Loss: 0.5551289916038513 | Accuracy: 79.6875%\n",
            "GB | Epoch 2 | Loss: 0.4951947033405304 | Accuracy: 76.5625%\n",
            "GB | Epoch 2 | Loss: 0.33312806487083435 | Accuracy: 93.75%\n",
            "GB | Epoch 2 | Loss: 0.3430447578430176 | Accuracy: 87.5%\n",
            "GB | Epoch 2 | Loss: 0.4315348267555237 | Accuracy: 84.375%\n",
            "GB | Epoch 2 | Loss: 0.3437948524951935 | Accuracy: 90.625%\n",
            "GB | Epoch 2 | Loss: 0.46431103348731995 | Accuracy: 82.8125%\n",
            "GB | Epoch 2 | Loss: 0.5958499312400818 | Accuracy: 82.8125%\n",
            "GB | Epoch 2 | Loss: 0.34909310936927795 | Accuracy: 90.625%\n",
            "GB | Epoch 2 | Loss: 0.38918185234069824 | Accuracy: 82.8125%\n",
            "GB | Epoch 2 | Loss: 0.4010155498981476 | Accuracy: 92.1875%\n",
            "GB | Epoch 2 | Loss: 0.42216604948043823 | Accuracy: 87.5%\n"
          ]
        },
        {
          "output_type": "stream",
          "name": "stderr",
          "text": [
            "Epoch 2:  73%|███████▎  | 546/751 [00:07<00:02, 82.43batch/s, accuracy=89.0625%, loss=0.341]"
          ]
        },
        {
          "output_type": "stream",
          "name": "stdout",
          "text": [
            "GB | Epoch 2 | Loss: 0.3251451849937439 | Accuracy: 95.3125%\n",
            "GB | Epoch 2 | Loss: 0.3800908327102661 | Accuracy: 87.5%\n",
            "GB | Epoch 2 | Loss: 0.45654579997062683 | Accuracy: 89.0625%\n",
            "GB | Epoch 2 | Loss: 0.23418818414211273 | Accuracy: 96.875%\n",
            "GB | Epoch 2 | Loss: 0.38586509227752686 | Accuracy: 81.25%\n",
            "GB | Epoch 2 | Loss: 0.252864807844162 | Accuracy: 95.3125%\n",
            "GB | Epoch 2 | Loss: 0.37360745668411255 | Accuracy: 85.9375%\n",
            "GB | Epoch 2 | Loss: 0.2958914041519165 | Accuracy: 87.5%\n",
            "GB | Epoch 2 | Loss: 0.2973984479904175 | Accuracy: 89.0625%\n",
            "GB | Epoch 2 | Loss: 0.2963390648365021 | Accuracy: 87.5%\n",
            "GB | Epoch 2 | Loss: 0.3608740270137787 | Accuracy: 89.0625%\n",
            "GB | Epoch 2 | Loss: 0.43820920586586 | Accuracy: 84.375%\n",
            "GB | Epoch 2 | Loss: 0.36052706837654114 | Accuracy: 89.0625%\n",
            "GB | Epoch 2 | Loss: 0.3640073239803314 | Accuracy: 87.5%\n",
            "GB | Epoch 2 | Loss: 0.3407546877861023 | Accuracy: 89.0625%\n"
          ]
        },
        {
          "output_type": "stream",
          "name": "stderr",
          "text": [
            "Epoch 2:  75%|███████▍  | 563/751 [00:07<00:02, 74.79batch/s, accuracy=84.375%, loss=0.492]"
          ]
        },
        {
          "output_type": "stream",
          "name": "stdout",
          "text": [
            "GB | Epoch 2 | Loss: 0.3460412621498108 | Accuracy: 89.0625%\n",
            "GB | Epoch 2 | Loss: 0.34111547470092773 | Accuracy: 85.9375%\n",
            "GB | Epoch 2 | Loss: 0.22352029383182526 | Accuracy: 90.625%\n",
            "GB | Epoch 2 | Loss: 0.42513126134872437 | Accuracy: 82.8125%\n",
            "GB | Epoch 2 | Loss: 0.31505975127220154 | Accuracy: 92.1875%\n",
            "GB | Epoch 2 | Loss: 0.4351184368133545 | Accuracy: 87.5%\n",
            "GB | Epoch 2 | Loss: 0.3584786653518677 | Accuracy: 90.625%\n",
            "GB | Epoch 2 | Loss: 0.4775453209877014 | Accuracy: 87.5%\n",
            "GB | Epoch 2 | Loss: 0.42791831493377686 | Accuracy: 87.5%\n",
            "GB | Epoch 2 | Loss: 0.32774215936660767 | Accuracy: 85.9375%\n",
            "GB | Epoch 2 | Loss: 0.3879323899745941 | Accuracy: 81.25%\n",
            "GB | Epoch 2 | Loss: 0.3456360399723053 | Accuracy: 84.375%\n",
            "GB | Epoch 2 | Loss: 0.493154913187027 | Accuracy: 84.375%\n",
            "GB | Epoch 2 | Loss: 0.3003106415271759 | Accuracy: 89.0625%\n",
            "GB | Epoch 2 | Loss: 0.4506545960903168 | Accuracy: 81.25%\n",
            "GB | Epoch 2 | Loss: 0.4915930926799774 | Accuracy: 84.375%\n"
          ]
        },
        {
          "output_type": "stream",
          "name": "stderr",
          "text": [
            "Epoch 2:  77%|███████▋  | 581/751 [00:07<00:02, 79.51batch/s, accuracy=87.5%, loss=0.364]"
          ]
        },
        {
          "output_type": "stream",
          "name": "stdout",
          "text": [
            "GB | Epoch 2 | Loss: 0.23229360580444336 | Accuracy: 90.625%\n",
            "GB | Epoch 2 | Loss: 0.2925507724285126 | Accuracy: 84.375%\n",
            "GB | Epoch 2 | Loss: 0.4310636520385742 | Accuracy: 87.5%\n",
            "GB | Epoch 2 | Loss: 0.31453609466552734 | Accuracy: 85.9375%\n",
            "GB | Epoch 2 | Loss: 0.27112632989883423 | Accuracy: 87.5%\n",
            "GB | Epoch 2 | Loss: 0.448652446269989 | Accuracy: 85.9375%\n",
            "GB | Epoch 2 | Loss: 0.367089182138443 | Accuracy: 90.625%\n",
            "GB | Epoch 2 | Loss: 0.300071656703949 | Accuracy: 90.625%\n",
            "GB | Epoch 2 | Loss: 0.4174206852912903 | Accuracy: 87.5%\n",
            "GB | Epoch 2 | Loss: 0.38157352805137634 | Accuracy: 87.5%\n",
            "GB | Epoch 2 | Loss: 0.34215885400772095 | Accuracy: 89.0625%\n",
            "GB | Epoch 2 | Loss: 0.3336963951587677 | Accuracy: 85.9375%\n",
            "GB | Epoch 2 | Loss: 0.4651486277580261 | Accuracy: 87.5%\n",
            "GB | Epoch 2 | Loss: 0.5015101432800293 | Accuracy: 82.8125%\n",
            "GB | Epoch 2 | Loss: 0.42278674244880676 | Accuracy: 79.6875%\n",
            "GB | Epoch 2 | Loss: 0.39399850368499756 | Accuracy: 89.0625%\n",
            "GB | Epoch 2 | Loss: 0.3837721645832062 | Accuracy: 87.5%\n",
            "GB | Epoch 2 | Loss: 0.3644454777240753 | Accuracy: 87.5%\n"
          ]
        },
        {
          "output_type": "stream",
          "name": "stderr",
          "text": [
            "Epoch 2:  80%|███████▉  | 599/751 [00:07<00:01, 80.52batch/s, accuracy=82.8125%, loss=0.457]"
          ]
        },
        {
          "output_type": "stream",
          "name": "stdout",
          "text": [
            "GB | Epoch 2 | Loss: 0.45701321959495544 | Accuracy: 84.375%\n",
            "GB | Epoch 2 | Loss: 0.4378536343574524 | Accuracy: 81.25%\n",
            "GB | Epoch 2 | Loss: 0.35889536142349243 | Accuracy: 87.5%\n",
            "GB | Epoch 2 | Loss: 0.417479932308197 | Accuracy: 81.25%\n",
            "GB | Epoch 2 | Loss: 0.39002808928489685 | Accuracy: 89.0625%\n",
            "GB | Epoch 2 | Loss: 0.23485209047794342 | Accuracy: 89.0625%\n",
            "GB | Epoch 2 | Loss: 0.37647950649261475 | Accuracy: 84.375%\n",
            "GB | Epoch 2 | Loss: 0.25996559858322144 | Accuracy: 92.1875%\n",
            "GB | Epoch 2 | Loss: 0.3198745846748352 | Accuracy: 89.0625%\n",
            "GB | Epoch 2 | Loss: 0.3162253499031067 | Accuracy: 89.0625%\n",
            "GB | Epoch 2 | Loss: 0.4319932460784912 | Accuracy: 84.375%\n",
            "GB | Epoch 2 | Loss: 0.3806860148906708 | Accuracy: 87.5%\n",
            "GB | Epoch 2 | Loss: 0.3320844769477844 | Accuracy: 90.625%\n",
            "GB | Epoch 2 | Loss: 0.3858932554721832 | Accuracy: 87.5%\n",
            "GB | Epoch 2 | Loss: 0.4916921555995941 | Accuracy: 78.125%\n",
            "GB | Epoch 2 | Loss: 0.45676183700561523 | Accuracy: 82.8125%\n"
          ]
        },
        {
          "output_type": "stream",
          "name": "stderr",
          "text": [
            "Epoch 2:  82%|████████▏ | 617/751 [00:08<00:01, 82.69batch/s, accuracy=89.0625%, loss=0.358]"
          ]
        },
        {
          "output_type": "stream",
          "name": "stdout",
          "text": [
            "GB | Epoch 2 | Loss: 0.3047889769077301 | Accuracy: 89.0625%\n",
            "GB | Epoch 2 | Loss: 0.45662960410118103 | Accuracy: 85.9375%\n",
            "GB | Epoch 2 | Loss: 0.6056070327758789 | Accuracy: 82.8125%\n",
            "GB | Epoch 2 | Loss: 0.4302038252353668 | Accuracy: 81.25%\n",
            "GB | Epoch 2 | Loss: 0.20732437074184418 | Accuracy: 95.3125%\n",
            "GB | Epoch 2 | Loss: 0.4171610176563263 | Accuracy: 82.8125%\n",
            "GB | Epoch 2 | Loss: 0.3304802477359772 | Accuracy: 95.3125%\n",
            "GB | Epoch 2 | Loss: 0.44762736558914185 | Accuracy: 84.375%\n",
            "GB | Epoch 2 | Loss: 0.38064324855804443 | Accuracy: 92.1875%\n",
            "GB | Epoch 2 | Loss: 0.346698135137558 | Accuracy: 87.5%\n",
            "GB | Epoch 2 | Loss: 0.465370774269104 | Accuracy: 89.0625%\n",
            "GB | Epoch 2 | Loss: 0.34115931391716003 | Accuracy: 90.625%\n",
            "GB | Epoch 2 | Loss: 0.4149954915046692 | Accuracy: 85.9375%\n",
            "GB | Epoch 2 | Loss: 0.28815940022468567 | Accuracy: 89.0625%\n",
            "GB | Epoch 2 | Loss: 0.3158659040927887 | Accuracy: 82.8125%\n",
            "GB | Epoch 2 | Loss: 0.3519791066646576 | Accuracy: 89.0625%\n",
            "GB | Epoch 2 | Loss: 0.37016811966896057 | Accuracy: 90.625%\n"
          ]
        },
        {
          "output_type": "stream",
          "name": "stderr",
          "text": [
            "Epoch 2:  85%|████████▍ | 635/751 [00:08<00:01, 80.34batch/s, accuracy=85.9375%, loss=0.389]"
          ]
        },
        {
          "output_type": "stream",
          "name": "stdout",
          "text": [
            "GB | Epoch 2 | Loss: 0.35777056217193604 | Accuracy: 89.0625%\n",
            "GB | Epoch 2 | Loss: 0.3055976629257202 | Accuracy: 85.9375%\n",
            "GB | Epoch 2 | Loss: 0.5040664672851562 | Accuracy: 84.375%\n",
            "GB | Epoch 2 | Loss: 0.1936795860528946 | Accuracy: 96.875%\n",
            "GB | Epoch 2 | Loss: 0.39236754179000854 | Accuracy: 81.25%\n",
            "GB | Epoch 2 | Loss: 0.3521392345428467 | Accuracy: 87.5%\n",
            "GB | Epoch 2 | Loss: 0.3666532635688782 | Accuracy: 90.625%\n",
            "GB | Epoch 2 | Loss: 0.568912923336029 | Accuracy: 84.375%\n",
            "GB | Epoch 2 | Loss: 0.2753486931324005 | Accuracy: 92.1875%\n",
            "GB | Epoch 2 | Loss: 0.2816101610660553 | Accuracy: 89.0625%\n",
            "GB | Epoch 2 | Loss: 0.3635924458503723 | Accuracy: 89.0625%\n",
            "GB | Epoch 2 | Loss: 0.4741959571838379 | Accuracy: 81.25%\n",
            "GB | Epoch 2 | Loss: 0.4184117615222931 | Accuracy: 79.6875%\n",
            "GB | Epoch 2 | Loss: 0.3450299799442291 | Accuracy: 85.9375%\n",
            "GB | Epoch 2 | Loss: 0.4807981252670288 | Accuracy: 85.9375%\n",
            "GB | Epoch 2 | Loss: 0.39112094044685364 | Accuracy: 85.9375%\n"
          ]
        },
        {
          "output_type": "stream",
          "name": "stderr",
          "text": [
            "Epoch 2:  86%|████████▌ | 644/751 [00:08<00:01, 76.63batch/s, accuracy=90.625%, loss=0.277]"
          ]
        },
        {
          "output_type": "stream",
          "name": "stdout",
          "text": [
            "GB | Epoch 2 | Loss: 0.3885131776332855 | Accuracy: 85.9375%\n",
            "GB | Epoch 2 | Loss: 0.3360365629196167 | Accuracy: 85.9375%\n",
            "GB | Epoch 2 | Loss: 0.40269604325294495 | Accuracy: 84.375%\n",
            "GB | Epoch 2 | Loss: 0.36974993348121643 | Accuracy: 90.625%\n",
            "GB | Epoch 2 | Loss: 0.32142630219459534 | Accuracy: 87.5%\n",
            "GB | Epoch 2 | Loss: 0.4330010414123535 | Accuracy: 89.0625%\n",
            "GB | Epoch 2 | Loss: 0.2983434498310089 | Accuracy: 89.0625%\n",
            "GB | Epoch 2 | Loss: 0.5033363699913025 | Accuracy: 78.125%\n",
            "GB | Epoch 2 | Loss: 0.3449097275733948 | Accuracy: 90.625%\n",
            "GB | Epoch 2 | Loss: 0.3278449773788452 | Accuracy: 89.0625%\n",
            "GB | Epoch 2 | Loss: 0.381876677274704 | Accuracy: 90.625%\n",
            "GB | Epoch 2 | Loss: 0.3478427827358246 | Accuracy: 90.625%\n",
            "GB | Epoch 2 | Loss: 0.34659430384635925 | Accuracy: 93.75%\n",
            "GB | Epoch 2 | Loss: 0.7633423805236816 | Accuracy: 81.25%\n",
            "GB | Epoch 2 | Loss: 0.2767442762851715 | Accuracy: 90.625%\n"
          ]
        },
        {
          "output_type": "stream",
          "name": "stderr",
          "text": [
            "Epoch 2:  89%|████████▉ | 670/751 [00:08<00:01, 79.54batch/s, accuracy=78.125%, loss=0.514]"
          ]
        },
        {
          "output_type": "stream",
          "name": "stdout",
          "text": [
            "GB | Epoch 2 | Loss: 0.34453368186950684 | Accuracy: 90.625%\n",
            "GB | Epoch 2 | Loss: 0.27025964856147766 | Accuracy: 95.3125%\n",
            "GB | Epoch 2 | Loss: 0.4178381562232971 | Accuracy: 85.9375%\n",
            "GB | Epoch 2 | Loss: 0.2682673931121826 | Accuracy: 93.75%\n",
            "GB | Epoch 2 | Loss: 0.25489798188209534 | Accuracy: 90.625%\n",
            "GB | Epoch 2 | Loss: 0.3066784143447876 | Accuracy: 93.75%\n",
            "GB | Epoch 2 | Loss: 0.4040292501449585 | Accuracy: 81.25%\n",
            "GB | Epoch 2 | Loss: 0.3242746591567993 | Accuracy: 90.625%\n",
            "GB | Epoch 2 | Loss: 0.3745361566543579 | Accuracy: 87.5%\n",
            "GB | Epoch 2 | Loss: 0.35813629627227783 | Accuracy: 84.375%\n",
            "GB | Epoch 2 | Loss: 0.27501362562179565 | Accuracy: 92.1875%\n",
            "GB | Epoch 2 | Loss: 0.3445904850959778 | Accuracy: 90.625%\n",
            "GB | Epoch 2 | Loss: 0.4279216527938843 | Accuracy: 87.5%\n",
            "GB | Epoch 2 | Loss: 0.33277788758277893 | Accuracy: 90.625%\n",
            "GB | Epoch 2 | Loss: 0.34645479917526245 | Accuracy: 90.625%\n",
            "GB | Epoch 2 | Loss: 0.27836841344833374 | Accuracy: 92.1875%\n",
            "GB | Epoch 2 | Loss: 0.20118433237075806 | Accuracy: 96.875%\n",
            "GB | Epoch 2 | Loss: 0.5144789218902588 | Accuracy: 78.125%\n"
          ]
        },
        {
          "output_type": "stream",
          "name": "stderr",
          "text": [
            "Epoch 2:  92%|█████████▏| 688/751 [00:08<00:00, 82.19batch/s, accuracy=92.1875%, loss=0.378]"
          ]
        },
        {
          "output_type": "stream",
          "name": "stdout",
          "text": [
            "GB | Epoch 2 | Loss: 0.24312031269073486 | Accuracy: 93.75%\n",
            "GB | Epoch 2 | Loss: 0.3937431275844574 | Accuracy: 93.75%\n",
            "GB | Epoch 2 | Loss: 0.47889265418052673 | Accuracy: 79.6875%\n",
            "GB | Epoch 2 | Loss: 0.2453160136938095 | Accuracy: 90.625%\n",
            "GB | Epoch 2 | Loss: 0.33718714118003845 | Accuracy: 85.9375%\n",
            "GB | Epoch 2 | Loss: 0.34496861696243286 | Accuracy: 87.5%\n",
            "GB | Epoch 2 | Loss: 0.27212467789649963 | Accuracy: 87.5%\n",
            "GB | Epoch 2 | Loss: 0.2582204043865204 | Accuracy: 93.75%\n",
            "GB | Epoch 2 | Loss: 0.2895985245704651 | Accuracy: 89.0625%\n",
            "GB | Epoch 2 | Loss: 0.2852158546447754 | Accuracy: 89.0625%\n",
            "GB | Epoch 2 | Loss: 0.4174906313419342 | Accuracy: 84.375%\n",
            "GB | Epoch 2 | Loss: 0.2447897493839264 | Accuracy: 92.1875%\n",
            "GB | Epoch 2 | Loss: 0.4028346538543701 | Accuracy: 84.375%\n",
            "GB | Epoch 2 | Loss: 0.3923400938510895 | Accuracy: 84.375%\n",
            "GB | Epoch 2 | Loss: 0.4761802852153778 | Accuracy: 84.375%\n",
            "GB | Epoch 2 | Loss: 0.39265066385269165 | Accuracy: 84.375%\n",
            "GB | Epoch 2 | Loss: 0.3327483534812927 | Accuracy: 87.5%\n",
            "GB | Epoch 2 | Loss: 0.3779776692390442 | Accuracy: 92.1875%\n"
          ]
        },
        {
          "output_type": "stream",
          "name": "stderr",
          "text": [
            "Epoch 2:  94%|█████████▍| 706/751 [00:09<00:00, 84.10batch/s, accuracy=95.3125%, loss=0.198]"
          ]
        },
        {
          "output_type": "stream",
          "name": "stdout",
          "text": [
            "GB | Epoch 2 | Loss: 0.3702004551887512 | Accuracy: 87.5%\n",
            "GB | Epoch 2 | Loss: 0.44141268730163574 | Accuracy: 81.25%\n",
            "GB | Epoch 2 | Loss: 0.35199204087257385 | Accuracy: 87.5%\n",
            "GB | Epoch 2 | Loss: 0.48249027132987976 | Accuracy: 76.5625%\n",
            "GB | Epoch 2 | Loss: 0.4118555784225464 | Accuracy: 87.5%\n",
            "GB | Epoch 2 | Loss: 0.25245168805122375 | Accuracy: 92.1875%\n",
            "GB | Epoch 2 | Loss: 0.3106550872325897 | Accuracy: 90.625%\n",
            "GB | Epoch 2 | Loss: 0.44020408391952515 | Accuracy: 90.625%\n",
            "GB | Epoch 2 | Loss: 0.31475889682769775 | Accuracy: 89.0625%\n",
            "GB | Epoch 2 | Loss: 0.34605705738067627 | Accuracy: 90.625%\n",
            "GB | Epoch 2 | Loss: 0.3305610120296478 | Accuracy: 89.0625%\n",
            "GB | Epoch 2 | Loss: 0.3863721191883087 | Accuracy: 92.1875%\n",
            "GB | Epoch 2 | Loss: 0.2103244811296463 | Accuracy: 93.75%\n",
            "GB | Epoch 2 | Loss: 0.2216661274433136 | Accuracy: 93.75%\n",
            "GB | Epoch 2 | Loss: 0.23916512727737427 | Accuracy: 95.3125%\n",
            "GB | Epoch 2 | Loss: 0.29425108432769775 | Accuracy: 90.625%\n",
            "GB | Epoch 2 | Loss: 0.3432855010032654 | Accuracy: 90.625%\n",
            "GB | Epoch 2 | Loss: 0.198033407330513 | Accuracy: 95.3125%\n"
          ]
        },
        {
          "output_type": "stream",
          "name": "stderr",
          "text": [
            "Epoch 2:  97%|█████████▋| 725/751 [00:09<00:00, 87.42batch/s, accuracy=84.375%, loss=0.395]"
          ]
        },
        {
          "output_type": "stream",
          "name": "stdout",
          "text": [
            "GB | Epoch 2 | Loss: 0.31962186098098755 | Accuracy: 87.5%\n",
            "GB | Epoch 2 | Loss: 0.2844752371311188 | Accuracy: 93.75%\n",
            "GB | Epoch 2 | Loss: 0.3065915107727051 | Accuracy: 89.0625%\n",
            "GB | Epoch 2 | Loss: 0.2768176198005676 | Accuracy: 87.5%\n",
            "GB | Epoch 2 | Loss: 0.4649576246738434 | Accuracy: 78.125%\n",
            "GB | Epoch 2 | Loss: 0.33065998554229736 | Accuracy: 87.5%\n",
            "GB | Epoch 2 | Loss: 0.21888965368270874 | Accuracy: 98.4375%\n",
            "GB | Epoch 2 | Loss: 0.21514661610126495 | Accuracy: 92.1875%\n",
            "GB | Epoch 2 | Loss: 0.2871207296848297 | Accuracy: 90.625%\n",
            "GB | Epoch 2 | Loss: 0.2648327648639679 | Accuracy: 95.3125%\n",
            "GB | Epoch 2 | Loss: 0.36701974272727966 | Accuracy: 89.0625%\n",
            "GB | Epoch 2 | Loss: 0.3193662464618683 | Accuracy: 90.625%\n",
            "GB | Epoch 2 | Loss: 0.22689291834831238 | Accuracy: 95.3125%\n",
            "GB | Epoch 2 | Loss: 0.41365212202072144 | Accuracy: 82.8125%\n",
            "GB | Epoch 2 | Loss: 0.32455167174339294 | Accuracy: 95.3125%\n",
            "GB | Epoch 2 | Loss: 0.22684355080127716 | Accuracy: 93.75%\n",
            "GB | Epoch 2 | Loss: 0.33103975653648376 | Accuracy: 89.0625%\n",
            "GB | Epoch 2 | Loss: 0.4143069088459015 | Accuracy: 85.9375%\n",
            "GB | Epoch 2 | Loss: 0.39470040798187256 | Accuracy: 84.375%\n"
          ]
        },
        {
          "output_type": "stream",
          "name": "stderr",
          "text": [
            "Epoch 2:  99%|█████████▉| 745/751 [00:09<00:00, 92.51batch/s, accuracy=84.375%, loss=0.32]  "
          ]
        },
        {
          "output_type": "stream",
          "name": "stdout",
          "text": [
            "GB | Epoch 2 | Loss: 0.5135445594787598 | Accuracy: 81.25%\n",
            "GB | Epoch 2 | Loss: 0.25483766198158264 | Accuracy: 92.1875%\n",
            "GB | Epoch 2 | Loss: 0.3411705195903778 | Accuracy: 90.625%\n",
            "GB | Epoch 2 | Loss: 0.27760571241378784 | Accuracy: 92.1875%\n",
            "GB | Epoch 2 | Loss: 0.319881796836853 | Accuracy: 90.625%\n",
            "GB | Epoch 2 | Loss: 0.2936853766441345 | Accuracy: 95.3125%\n",
            "GB | Epoch 2 | Loss: 0.2214394509792328 | Accuracy: 93.75%\n",
            "GB | Epoch 2 | Loss: 0.32814377546310425 | Accuracy: 84.375%\n",
            "GB | Epoch 2 | Loss: 0.24414315819740295 | Accuracy: 90.625%\n",
            "GB | Epoch 2 | Loss: 0.4324418604373932 | Accuracy: 82.8125%\n",
            "GB | Epoch 2 | Loss: 0.2895263433456421 | Accuracy: 90.625%\n",
            "GB | Epoch 2 | Loss: 0.3188769221305847 | Accuracy: 92.1875%\n",
            "GB | Epoch 2 | Loss: 0.38048240542411804 | Accuracy: 90.625%\n",
            "GB | Epoch 2 | Loss: 0.4395574927330017 | Accuracy: 84.375%\n",
            "GB | Epoch 2 | Loss: 0.3110685348510742 | Accuracy: 85.9375%\n",
            "GB | Epoch 2 | Loss: 0.26530104875564575 | Accuracy: 89.0625%\n",
            "GB | Epoch 2 | Loss: 0.25533437728881836 | Accuracy: 93.75%\n",
            "GB | Epoch 2 | Loss: 0.3360332250595093 | Accuracy: 89.0625%\n",
            "GB | Epoch 2 | Loss: 0.2409273087978363 | Accuracy: 95.3125%\n",
            "GB | Epoch 2 | Loss: 0.41656509041786194 | Accuracy: 79.6875%\n",
            "GB | Epoch 2 | Loss: 0.3199801445007324 | Accuracy: 84.375%\n"
          ]
        },
        {
          "output_type": "stream",
          "name": "stderr",
          "text": [
            "Epoch 2: 100%|██████████| 751/751 [00:09<00:00, 77.55batch/s, accuracy=100.0%, loss=0.06]\n"
          ]
        },
        {
          "output_type": "stream",
          "name": "stdout",
          "text": [
            "GB | Epoch 2 | Loss: 0.23576833307743073 | Accuracy: 89.0625%\n",
            "GB | Epoch 2 | Loss: 0.22748343646526337 | Accuracy: 93.75%\n",
            "GB | Epoch 2 | Loss: 0.25388678908348083 | Accuracy: 98.4375%\n",
            "GB | Epoch 2 | Loss: 0.34460607171058655 | Accuracy: 90.625%\n",
            "GB | Epoch 2 | Loss: 0.06003020703792572 | Accuracy: 100.0%\n"
          ]
        },
        {
          "output_type": "stream",
          "name": "stderr",
          "text": [
            "Epoch 3:   1%|▏         | 10/751 [00:00<00:20, 36.44batch/s, accuracy=87.5%, loss=0.392]  "
          ]
        },
        {
          "output_type": "stream",
          "name": "stdout",
          "text": [
            "GB | Epoch 3 | Loss: 0.20217403769493103 | Accuracy: 93.75%\n",
            "GB | Epoch 3 | Loss: 0.4065595269203186 | Accuracy: 87.5%\n",
            "GB | Epoch 3 | Loss: 0.32179152965545654 | Accuracy: 87.5%\n",
            "GB | Epoch 3 | Loss: 0.3014613389968872 | Accuracy: 89.0625%\n",
            "GB | Epoch 3 | Loss: 0.34406691789627075 | Accuracy: 89.0625%\n",
            "GB | Epoch 3 | Loss: 0.20735591650009155 | Accuracy: 95.3125%\n",
            "GB | Epoch 3 | Loss: 0.41924840211868286 | Accuracy: 84.375%\n",
            "GB | Epoch 3 | Loss: 0.20415639877319336 | Accuracy: 95.3125%\n",
            "GB | Epoch 3 | Loss: 0.3524182140827179 | Accuracy: 89.0625%\n",
            "GB | Epoch 3 | Loss: 0.32377317547798157 | Accuracy: 90.625%\n",
            "GB | Epoch 3 | Loss: 0.2582099437713623 | Accuracy: 93.75%\n",
            "GB | Epoch 3 | Loss: 0.3278290033340454 | Accuracy: 85.9375%\n",
            "GB | Epoch 3 | Loss: 0.2609381377696991 | Accuracy: 92.1875%\n",
            "GB | Epoch 3 | Loss: 0.31792765855789185 | Accuracy: 87.5%\n",
            "GB | Epoch 3 | Loss: 0.26679232716560364 | Accuracy: 93.75%\n",
            "GB | Epoch 3 | Loss: 0.2973981499671936 | Accuracy: 90.625%\n",
            "GB | Epoch 3 | Loss: 0.3919001519680023 | Accuracy: 87.5%\n"
          ]
        },
        {
          "output_type": "stream",
          "name": "stderr",
          "text": [
            "Epoch 3:   4%|▎         | 28/751 [00:00<00:11, 65.08batch/s, accuracy=84.375%, loss=0.44]  "
          ]
        },
        {
          "output_type": "stream",
          "name": "stdout",
          "text": [
            "GB | Epoch 3 | Loss: 0.2892412841320038 | Accuracy: 92.1875%\n",
            "GB | Epoch 3 | Loss: 0.6035950183868408 | Accuracy: 76.5625%\n",
            "GB | Epoch 3 | Loss: 0.21490350365638733 | Accuracy: 95.3125%\n",
            "GB | Epoch 3 | Loss: 0.42642417550086975 | Accuracy: 87.5%\n",
            "GB | Epoch 3 | Loss: 0.23949430882930756 | Accuracy: 90.625%\n",
            "GB | Epoch 3 | Loss: 0.25779974460601807 | Accuracy: 89.0625%\n",
            "GB | Epoch 3 | Loss: 0.22864648699760437 | Accuracy: 87.5%\n",
            "GB | Epoch 3 | Loss: 0.3823041021823883 | Accuracy: 92.1875%\n",
            "GB | Epoch 3 | Loss: 0.2936885356903076 | Accuracy: 87.5%\n",
            "GB | Epoch 3 | Loss: 0.2734783887863159 | Accuracy: 89.0625%\n",
            "GB | Epoch 3 | Loss: 0.3036319315433502 | Accuracy: 89.0625%\n",
            "GB | Epoch 3 | Loss: 0.2574624717235565 | Accuracy: 89.0625%\n",
            "GB | Epoch 3 | Loss: 0.28740739822387695 | Accuracy: 89.0625%\n",
            "GB | Epoch 3 | Loss: 0.29099375009536743 | Accuracy: 90.625%\n",
            "GB | Epoch 3 | Loss: 0.2581786513328552 | Accuracy: 90.625%\n",
            "GB | Epoch 3 | Loss: 0.3770366609096527 | Accuracy: 90.625%\n",
            "GB | Epoch 3 | Loss: 0.19505135715007782 | Accuracy: 95.3125%\n"
          ]
        },
        {
          "output_type": "stream",
          "name": "stderr",
          "text": [
            "Epoch 3:   6%|▌         | 44/751 [00:00<00:09, 72.43batch/s, accuracy=90.625%, loss=0.282] "
          ]
        },
        {
          "output_type": "stream",
          "name": "stdout",
          "text": [
            "GB | Epoch 3 | Loss: 0.44032591581344604 | Accuracy: 84.375%\n",
            "GB | Epoch 3 | Loss: 0.23023685812950134 | Accuracy: 95.3125%\n",
            "GB | Epoch 3 | Loss: 0.21797189116477966 | Accuracy: 92.1875%\n",
            "GB | Epoch 3 | Loss: 0.3024778664112091 | Accuracy: 87.5%\n",
            "GB | Epoch 3 | Loss: 0.478327214717865 | Accuracy: 76.5625%\n",
            "GB | Epoch 3 | Loss: 0.32898566126823425 | Accuracy: 85.9375%\n",
            "GB | Epoch 3 | Loss: 0.2320607304573059 | Accuracy: 90.625%\n",
            "GB | Epoch 3 | Loss: 0.25561630725860596 | Accuracy: 90.625%\n",
            "GB | Epoch 3 | Loss: 0.30075445771217346 | Accuracy: 90.625%\n",
            "GB | Epoch 3 | Loss: 0.3573858439922333 | Accuracy: 89.0625%\n",
            "GB | Epoch 3 | Loss: 0.3294910490512848 | Accuracy: 89.0625%\n",
            "GB | Epoch 3 | Loss: 0.25711899995803833 | Accuracy: 90.625%\n",
            "GB | Epoch 3 | Loss: 0.2469843626022339 | Accuracy: 87.5%\n",
            "GB | Epoch 3 | Loss: 0.5164391994476318 | Accuracy: 87.5%\n",
            "GB | Epoch 3 | Loss: 0.356629878282547 | Accuracy: 85.9375%\n",
            "GB | Epoch 3 | Loss: 0.3308197259902954 | Accuracy: 82.8125%\n",
            "GB | Epoch 3 | Loss: 0.48095351457595825 | Accuracy: 85.9375%\n",
            "GB | Epoch 3 | Loss: 0.2820601463317871 | Accuracy: 90.625%\n"
          ]
        },
        {
          "output_type": "stream",
          "name": "stderr",
          "text": [
            "Epoch 3:   8%|▊         | 62/751 [00:01<00:08, 80.29batch/s, accuracy=90.625%, loss=0.311]"
          ]
        },
        {
          "output_type": "stream",
          "name": "stdout",
          "text": [
            "GB | Epoch 3 | Loss: 0.24581152200698853 | Accuracy: 92.1875%\n",
            "GB | Epoch 3 | Loss: 0.4215722978115082 | Accuracy: 92.1875%\n",
            "GB | Epoch 3 | Loss: 0.3448697626590729 | Accuracy: 82.8125%\n",
            "GB | Epoch 3 | Loss: 0.44361355900764465 | Accuracy: 85.9375%\n",
            "GB | Epoch 3 | Loss: 0.5350063443183899 | Accuracy: 82.8125%\n",
            "GB | Epoch 3 | Loss: 0.269684761762619 | Accuracy: 92.1875%\n",
            "GB | Epoch 3 | Loss: 0.3189956545829773 | Accuracy: 90.625%\n",
            "GB | Epoch 3 | Loss: 0.3099609613418579 | Accuracy: 95.3125%\n",
            "GB | Epoch 3 | Loss: 0.2681906223297119 | Accuracy: 92.1875%\n",
            "GB | Epoch 3 | Loss: 0.302842915058136 | Accuracy: 89.0625%\n",
            "GB | Epoch 3 | Loss: 0.46984678506851196 | Accuracy: 84.375%\n",
            "GB | Epoch 3 | Loss: 0.3259216845035553 | Accuracy: 92.1875%\n",
            "GB | Epoch 3 | Loss: 0.46717000007629395 | Accuracy: 81.25%\n",
            "GB | Epoch 3 | Loss: 0.32523009181022644 | Accuracy: 90.625%\n",
            "GB | Epoch 3 | Loss: 0.22652500867843628 | Accuracy: 93.75%\n",
            "GB | Epoch 3 | Loss: 0.2743164002895355 | Accuracy: 92.1875%\n",
            "GB | Epoch 3 | Loss: 0.29878318309783936 | Accuracy: 90.625%\n",
            "GB | Epoch 3 | Loss: 0.34657377004623413 | Accuracy: 93.75%\n"
          ]
        },
        {
          "output_type": "stream",
          "name": "stderr",
          "text": [
            "Epoch 3:  11%|█         | 82/751 [00:01<00:07, 87.82batch/s, accuracy=90.625%, loss=0.398]"
          ]
        },
        {
          "output_type": "stream",
          "name": "stdout",
          "text": [
            "GB | Epoch 3 | Loss: 0.31134340167045593 | Accuracy: 90.625%\n",
            "GB | Epoch 3 | Loss: 0.2899306118488312 | Accuracy: 92.1875%\n",
            "GB | Epoch 3 | Loss: 0.3221549391746521 | Accuracy: 85.9375%\n",
            "GB | Epoch 3 | Loss: 0.26073169708251953 | Accuracy: 95.3125%\n",
            "GB | Epoch 3 | Loss: 0.234235018491745 | Accuracy: 92.1875%\n",
            "GB | Epoch 3 | Loss: 0.2633530795574188 | Accuracy: 96.875%\n",
            "GB | Epoch 3 | Loss: 0.20700117945671082 | Accuracy: 95.3125%\n",
            "GB | Epoch 3 | Loss: 0.3843647241592407 | Accuracy: 87.5%\n",
            "GB | Epoch 3 | Loss: 0.3727516531944275 | Accuracy: 84.375%\n",
            "GB | Epoch 3 | Loss: 0.26509717106819153 | Accuracy: 95.3125%\n",
            "GB | Epoch 3 | Loss: 0.2564964294433594 | Accuracy: 87.5%\n",
            "GB | Epoch 3 | Loss: 0.21868637204170227 | Accuracy: 93.75%\n",
            "GB | Epoch 3 | Loss: 0.3269036114215851 | Accuracy: 84.375%\n",
            "GB | Epoch 3 | Loss: 0.28407806158065796 | Accuracy: 90.625%\n",
            "GB | Epoch 3 | Loss: 0.16664424538612366 | Accuracy: 96.875%\n",
            "GB | Epoch 3 | Loss: 0.3991486430168152 | Accuracy: 79.6875%\n",
            "GB | Epoch 3 | Loss: 0.4996969699859619 | Accuracy: 82.8125%\n",
            "GB | Epoch 3 | Loss: 0.2748779058456421 | Accuracy: 95.3125%\n",
            "GB | Epoch 3 | Loss: 0.34501293301582336 | Accuracy: 87.5%\n",
            "GB | Epoch 3 | Loss: 0.23997746407985687 | Accuracy: 92.1875%\n",
            "GB | Epoch 3 | Loss: 0.39824390411376953 | Accuracy: 90.625%\n"
          ]
        },
        {
          "output_type": "stream",
          "name": "stderr",
          "text": [
            "Epoch 3:  14%|█▍        | 104/751 [00:01<00:06, 95.51batch/s, accuracy=93.75%, loss=0.217] "
          ]
        },
        {
          "output_type": "stream",
          "name": "stdout",
          "text": [
            "GB | Epoch 3 | Loss: 0.45685875415802 | Accuracy: 89.0625%\n",
            "GB | Epoch 3 | Loss: 0.3424813747406006 | Accuracy: 84.375%\n",
            "GB | Epoch 3 | Loss: 0.4157825708389282 | Accuracy: 85.9375%\n",
            "GB | Epoch 3 | Loss: 0.38485440611839294 | Accuracy: 84.375%\n",
            "GB | Epoch 3 | Loss: 0.4434187710285187 | Accuracy: 87.5%\n",
            "GB | Epoch 3 | Loss: 0.32265469431877136 | Accuracy: 90.625%\n",
            "GB | Epoch 3 | Loss: 0.33973097801208496 | Accuracy: 89.0625%\n",
            "GB | Epoch 3 | Loss: 0.22669218480587006 | Accuracy: 92.1875%\n",
            "GB | Epoch 3 | Loss: 0.30404776334762573 | Accuracy: 90.625%\n",
            "GB | Epoch 3 | Loss: 0.1958889663219452 | Accuracy: 96.875%\n",
            "GB | Epoch 3 | Loss: 0.24476319551467896 | Accuracy: 89.0625%\n",
            "GB | Epoch 3 | Loss: 0.21697013080120087 | Accuracy: 95.3125%\n",
            "GB | Epoch 3 | Loss: 0.22823354601860046 | Accuracy: 96.875%\n",
            "GB | Epoch 3 | Loss: 0.25242260098457336 | Accuracy: 90.625%\n",
            "GB | Epoch 3 | Loss: 0.256107896566391 | Accuracy: 90.625%\n",
            "GB | Epoch 3 | Loss: 0.21644504368305206 | Accuracy: 90.625%\n",
            "GB | Epoch 3 | Loss: 0.22384409606456757 | Accuracy: 92.1875%\n",
            "GB | Epoch 3 | Loss: 0.365644633769989 | Accuracy: 90.625%\n",
            "GB | Epoch 3 | Loss: 0.21716910600662231 | Accuracy: 93.75%\n"
          ]
        },
        {
          "output_type": "stream",
          "name": "stderr",
          "text": [
            "Epoch 3:  17%|█▋        | 124/751 [00:01<00:06, 91.35batch/s, accuracy=92.1875%, loss=0.274]"
          ]
        },
        {
          "output_type": "stream",
          "name": "stdout",
          "text": [
            "GB | Epoch 3 | Loss: 0.34044045209884644 | Accuracy: 84.375%\n",
            "GB | Epoch 3 | Loss: 0.2888152301311493 | Accuracy: 90.625%\n",
            "GB | Epoch 3 | Loss: 0.3119718134403229 | Accuracy: 87.5%\n",
            "GB | Epoch 3 | Loss: 0.21112696826457977 | Accuracy: 93.75%\n",
            "GB | Epoch 3 | Loss: 0.309486985206604 | Accuracy: 90.625%\n",
            "GB | Epoch 3 | Loss: 0.41823041439056396 | Accuracy: 89.0625%\n",
            "GB | Epoch 3 | Loss: 0.23863543570041656 | Accuracy: 92.1875%\n",
            "GB | Epoch 3 | Loss: 0.18764761090278625 | Accuracy: 96.875%\n",
            "GB | Epoch 3 | Loss: 0.36937862634658813 | Accuracy: 93.75%\n",
            "GB | Epoch 3 | Loss: 0.2282373160123825 | Accuracy: 95.3125%\n",
            "GB | Epoch 3 | Loss: 0.23651538789272308 | Accuracy: 95.3125%\n",
            "GB | Epoch 3 | Loss: 0.3778496980667114 | Accuracy: 82.8125%\n",
            "GB | Epoch 3 | Loss: 0.23577919602394104 | Accuracy: 92.1875%\n",
            "GB | Epoch 3 | Loss: 0.23867802321910858 | Accuracy: 89.0625%\n",
            "GB | Epoch 3 | Loss: 0.2737351059913635 | Accuracy: 90.625%\n",
            "GB | Epoch 3 | Loss: 0.16519229114055634 | Accuracy: 96.875%\n",
            "GB | Epoch 3 | Loss: 0.18769393861293793 | Accuracy: 93.75%\n",
            "GB | Epoch 3 | Loss: 0.19720134139060974 | Accuracy: 95.3125%\n",
            "GB | Epoch 3 | Loss: 0.27392640709877014 | Accuracy: 92.1875%\n"
          ]
        },
        {
          "output_type": "stream",
          "name": "stderr",
          "text": [
            "Epoch 3:  19%|█▉        | 144/751 [00:01<00:06, 94.08batch/s, accuracy=92.1875%, loss=0.29] "
          ]
        },
        {
          "output_type": "stream",
          "name": "stdout",
          "text": [
            "GB | Epoch 3 | Loss: 0.28328201174736023 | Accuracy: 89.0625%\n",
            "GB | Epoch 3 | Loss: 0.3090492784976959 | Accuracy: 90.625%\n",
            "GB | Epoch 3 | Loss: 0.2418888807296753 | Accuracy: 90.625%\n",
            "GB | Epoch 3 | Loss: 0.6135830283164978 | Accuracy: 82.8125%\n",
            "GB | Epoch 3 | Loss: 0.3054272532463074 | Accuracy: 90.625%\n",
            "GB | Epoch 3 | Loss: 0.23711687326431274 | Accuracy: 96.875%\n",
            "GB | Epoch 3 | Loss: 0.421684205532074 | Accuracy: 81.25%\n",
            "GB | Epoch 3 | Loss: 0.22034412622451782 | Accuracy: 96.875%\n",
            "GB | Epoch 3 | Loss: 0.4243810772895813 | Accuracy: 89.0625%\n",
            "GB | Epoch 3 | Loss: 0.21070095896720886 | Accuracy: 92.1875%\n",
            "GB | Epoch 3 | Loss: 0.16944268345832825 | Accuracy: 95.3125%\n",
            "GB | Epoch 3 | Loss: 0.17873777449131012 | Accuracy: 98.4375%\n",
            "GB | Epoch 3 | Loss: 0.21220429241657257 | Accuracy: 92.1875%\n",
            "GB | Epoch 3 | Loss: 0.28825029730796814 | Accuracy: 89.0625%\n",
            "GB | Epoch 3 | Loss: 0.18417687714099884 | Accuracy: 96.875%\n",
            "GB | Epoch 3 | Loss: 0.3244474232196808 | Accuracy: 87.5%\n",
            "GB | Epoch 3 | Loss: 0.20070163905620575 | Accuracy: 92.1875%\n",
            "GB | Epoch 3 | Loss: 0.14902788400650024 | Accuracy: 98.4375%\n",
            "GB | Epoch 3 | Loss: 0.13392922282218933 | Accuracy: 98.4375%\n",
            "GB | Epoch 3 | Loss: 0.36783480644226074 | Accuracy: 85.9375%\n",
            "GB | Epoch 3 | Loss: 0.29009461402893066 | Accuracy: 92.1875%\n"
          ]
        },
        {
          "output_type": "stream",
          "name": "stderr",
          "text": [
            "Epoch 3:  22%|██▏       | 167/751 [00:02<00:05, 101.41batch/s, accuracy=92.1875%, loss=0.27]"
          ]
        },
        {
          "output_type": "stream",
          "name": "stdout",
          "text": [
            "GB | Epoch 3 | Loss: 0.23627907037734985 | Accuracy: 92.1875%\n",
            "GB | Epoch 3 | Loss: 0.488229900598526 | Accuracy: 82.8125%\n",
            "GB | Epoch 3 | Loss: 0.32869869470596313 | Accuracy: 90.625%\n",
            "GB | Epoch 3 | Loss: 0.2344536930322647 | Accuracy: 90.625%\n",
            "GB | Epoch 3 | Loss: 0.3540668487548828 | Accuracy: 87.5%\n",
            "GB | Epoch 3 | Loss: 0.2757715582847595 | Accuracy: 92.1875%\n",
            "GB | Epoch 3 | Loss: 0.27656394243240356 | Accuracy: 90.625%\n",
            "GB | Epoch 3 | Loss: 0.2292919009923935 | Accuracy: 92.1875%\n",
            "GB | Epoch 3 | Loss: 0.2131364643573761 | Accuracy: 90.625%\n",
            "GB | Epoch 3 | Loss: 0.30211853981018066 | Accuracy: 90.625%\n",
            "GB | Epoch 3 | Loss: 0.21165786683559418 | Accuracy: 90.625%\n",
            "GB | Epoch 3 | Loss: 0.2789668142795563 | Accuracy: 90.625%\n",
            "GB | Epoch 3 | Loss: 0.23291540145874023 | Accuracy: 96.875%\n",
            "GB | Epoch 3 | Loss: 0.3122016489505768 | Accuracy: 92.1875%\n",
            "GB | Epoch 3 | Loss: 0.17691835761070251 | Accuracy: 95.3125%\n",
            "GB | Epoch 3 | Loss: 0.21157385408878326 | Accuracy: 96.875%\n",
            "GB | Epoch 3 | Loss: 0.2904062569141388 | Accuracy: 93.75%\n",
            "GB | Epoch 3 | Loss: 0.3332785665988922 | Accuracy: 84.375%\n",
            "GB | Epoch 3 | Loss: 0.20685438811779022 | Accuracy: 93.75%\n",
            "GB | Epoch 3 | Loss: 0.490835577249527 | Accuracy: 90.625%\n",
            "GB | Epoch 3 | Loss: 0.26955094933509827 | Accuracy: 92.1875%\n"
          ]
        },
        {
          "output_type": "stream",
          "name": "stderr",
          "text": [
            "Epoch 3:  25%|██▌       | 189/751 [00:02<00:05, 103.70batch/s, accuracy=98.4375%, loss=0.113]"
          ]
        },
        {
          "output_type": "stream",
          "name": "stdout",
          "text": [
            "GB | Epoch 3 | Loss: 0.2411966472864151 | Accuracy: 92.1875%\n",
            "GB | Epoch 3 | Loss: 0.4078626334667206 | Accuracy: 84.375%\n",
            "GB | Epoch 3 | Loss: 0.3169536590576172 | Accuracy: 90.625%\n",
            "GB | Epoch 3 | Loss: 0.25515660643577576 | Accuracy: 89.0625%\n",
            "GB | Epoch 3 | Loss: 0.26308611035346985 | Accuracy: 90.625%\n",
            "GB | Epoch 3 | Loss: 0.16260549426078796 | Accuracy: 95.3125%\n",
            "GB | Epoch 3 | Loss: 0.24983687698841095 | Accuracy: 90.625%\n",
            "GB | Epoch 3 | Loss: 0.22009052336215973 | Accuracy: 92.1875%\n",
            "GB | Epoch 3 | Loss: 0.26890698075294495 | Accuracy: 92.1875%\n",
            "GB | Epoch 3 | Loss: 0.2706974744796753 | Accuracy: 95.3125%\n",
            "GB | Epoch 3 | Loss: 0.2511819899082184 | Accuracy: 90.625%\n",
            "GB | Epoch 3 | Loss: 0.3229551911354065 | Accuracy: 90.625%\n",
            "GB | Epoch 3 | Loss: 0.23299270868301392 | Accuracy: 95.3125%\n",
            "GB | Epoch 3 | Loss: 0.18790483474731445 | Accuracy: 93.75%\n",
            "GB | Epoch 3 | Loss: 0.36162659525871277 | Accuracy: 85.9375%\n",
            "GB | Epoch 3 | Loss: 0.113136425614357 | Accuracy: 96.875%\n",
            "GB | Epoch 3 | Loss: 0.23444406688213348 | Accuracy: 89.0625%\n",
            "GB | Epoch 3 | Loss: 0.23257650434970856 | Accuracy: 93.75%\n",
            "GB | Epoch 3 | Loss: 0.23650135099887848 | Accuracy: 95.3125%\n",
            "GB | Epoch 3 | Loss: 0.29961374402046204 | Accuracy: 90.625%\n",
            "GB | Epoch 3 | Loss: 0.3381870985031128 | Accuracy: 89.0625%\n"
          ]
        },
        {
          "output_type": "stream",
          "name": "stderr",
          "text": [
            "Epoch 3:  28%|██▊       | 211/751 [00:02<00:05, 98.24batch/s, accuracy=93.75%, loss=0.243] "
          ]
        },
        {
          "output_type": "stream",
          "name": "stdout",
          "text": [
            "GB | Epoch 3 | Loss: 0.11277224868535995 | Accuracy: 98.4375%\n",
            "GB | Epoch 3 | Loss: 0.30132216215133667 | Accuracy: 93.75%\n",
            "GB | Epoch 3 | Loss: 0.4574868381023407 | Accuracy: 82.8125%\n",
            "GB | Epoch 3 | Loss: 0.20218470692634583 | Accuracy: 96.875%\n",
            "GB | Epoch 3 | Loss: 0.13304705917835236 | Accuracy: 96.875%\n",
            "GB | Epoch 3 | Loss: 0.3284805417060852 | Accuracy: 85.9375%\n",
            "GB | Epoch 3 | Loss: 0.13049927353858948 | Accuracy: 100.0%\n",
            "GB | Epoch 3 | Loss: 0.17376771569252014 | Accuracy: 95.3125%\n",
            "GB | Epoch 3 | Loss: 0.22912341356277466 | Accuracy: 93.75%\n",
            "GB | Epoch 3 | Loss: 0.3146182894706726 | Accuracy: 93.75%\n",
            "GB | Epoch 3 | Loss: 0.3075540363788605 | Accuracy: 95.3125%\n",
            "GB | Epoch 3 | Loss: 0.24922733008861542 | Accuracy: 93.75%\n",
            "GB | Epoch 3 | Loss: 0.23442038893699646 | Accuracy: 90.625%\n",
            "GB | Epoch 3 | Loss: 0.23485641181468964 | Accuracy: 90.625%\n",
            "GB | Epoch 3 | Loss: 0.19550667703151703 | Accuracy: 95.3125%\n",
            "GB | Epoch 3 | Loss: 0.26072925329208374 | Accuracy: 89.0625%\n",
            "GB | Epoch 3 | Loss: 0.17371265590190887 | Accuracy: 95.3125%\n",
            "GB | Epoch 3 | Loss: 0.14284902811050415 | Accuracy: 93.75%\n",
            "GB | Epoch 3 | Loss: 0.24252434074878693 | Accuracy: 93.75%\n"
          ]
        },
        {
          "output_type": "stream",
          "name": "stderr",
          "text": [
            "Epoch 3:  29%|██▉       | 221/751 [00:02<00:05, 94.36batch/s, accuracy=92.1875%, loss=0.277]"
          ]
        },
        {
          "output_type": "stream",
          "name": "stdout",
          "text": [
            "GB | Epoch 3 | Loss: 0.23806405067443848 | Accuracy: 92.1875%\n",
            "GB | Epoch 3 | Loss: 0.23912392556667328 | Accuracy: 93.75%\n",
            "GB | Epoch 3 | Loss: 0.2633443772792816 | Accuracy: 92.1875%\n",
            "GB | Epoch 3 | Loss: 0.34561774134635925 | Accuracy: 89.0625%\n",
            "GB | Epoch 3 | Loss: 0.3439027965068817 | Accuracy: 89.0625%\n",
            "GB | Epoch 3 | Loss: 0.1663540005683899 | Accuracy: 95.3125%\n",
            "GB | Epoch 3 | Loss: 0.20693084597587585 | Accuracy: 93.75%\n",
            "GB | Epoch 3 | Loss: 0.24249866604804993 | Accuracy: 92.1875%\n",
            "GB | Epoch 3 | Loss: 0.21394909918308258 | Accuracy: 96.875%\n",
            "GB | Epoch 3 | Loss: 0.22296300530433655 | Accuracy: 92.1875%\n",
            "GB | Epoch 3 | Loss: 0.27735966444015503 | Accuracy: 93.75%\n",
            "GB | Epoch 3 | Loss: 0.22293570637702942 | Accuracy: 92.1875%\n",
            "GB | Epoch 3 | Loss: 0.2449289858341217 | Accuracy: 92.1875%\n",
            "GB | Epoch 3 | Loss: 0.3036643862724304 | Accuracy: 85.9375%\n",
            "GB | Epoch 3 | Loss: 0.25227123498916626 | Accuracy: 89.0625%\n",
            "GB | Epoch 3 | Loss: 0.21020659804344177 | Accuracy: 95.3125%\n",
            "GB | Epoch 3 | Loss: 0.29967930912971497 | Accuracy: 89.0625%\n",
            "GB | Epoch 3 | Loss: 0.1519928276538849 | Accuracy: 98.4375%\n"
          ]
        },
        {
          "output_type": "stream",
          "name": "stderr",
          "text": [
            "Epoch 3:  32%|███▏      | 241/751 [00:02<00:05, 89.28batch/s, accuracy=90.625%, loss=0.288]"
          ]
        },
        {
          "output_type": "stream",
          "name": "stdout",
          "text": [
            "GB | Epoch 3 | Loss: 0.27685973048210144 | Accuracy: 92.1875%\n",
            "GB | Epoch 3 | Loss: 0.21931855380535126 | Accuracy: 93.75%\n",
            "GB | Epoch 3 | Loss: 0.2912898361682892 | Accuracy: 90.625%\n",
            "GB | Epoch 3 | Loss: 0.17372213304042816 | Accuracy: 92.1875%\n",
            "GB | Epoch 3 | Loss: 0.19864967465400696 | Accuracy: 89.0625%\n",
            "GB | Epoch 3 | Loss: 0.3644057810306549 | Accuracy: 90.625%\n",
            "GB | Epoch 3 | Loss: 0.16251227259635925 | Accuracy: 90.625%\n",
            "GB | Epoch 3 | Loss: 0.2869483232498169 | Accuracy: 92.1875%\n",
            "GB | Epoch 3 | Loss: 0.38002511858940125 | Accuracy: 89.0625%\n",
            "GB | Epoch 3 | Loss: 0.143606036901474 | Accuracy: 95.3125%\n",
            "GB | Epoch 3 | Loss: 0.2719632089138031 | Accuracy: 92.1875%\n",
            "GB | Epoch 3 | Loss: 0.2122773826122284 | Accuracy: 92.1875%\n",
            "GB | Epoch 3 | Loss: 0.1738472729921341 | Accuracy: 92.1875%\n",
            "GB | Epoch 3 | Loss: 0.26122480630874634 | Accuracy: 95.3125%\n",
            "GB | Epoch 3 | Loss: 0.15257050096988678 | Accuracy: 96.875%\n",
            "GB | Epoch 3 | Loss: 0.20435267686843872 | Accuracy: 93.75%\n",
            "GB | Epoch 3 | Loss: 0.287554532289505 | Accuracy: 90.625%\n"
          ]
        },
        {
          "output_type": "stream",
          "name": "stderr",
          "text": [
            "Epoch 3:  35%|███▍      | 260/751 [00:03<00:05, 89.41batch/s, accuracy=85.9375%, loss=0.305]"
          ]
        },
        {
          "output_type": "stream",
          "name": "stdout",
          "text": [
            "GB | Epoch 3 | Loss: 0.16343766450881958 | Accuracy: 96.875%\n",
            "GB | Epoch 3 | Loss: 0.2606372833251953 | Accuracy: 89.0625%\n",
            "GB | Epoch 3 | Loss: 0.2667922079563141 | Accuracy: 90.625%\n",
            "GB | Epoch 3 | Loss: 0.14416669309139252 | Accuracy: 96.875%\n",
            "GB | Epoch 3 | Loss: 0.21264050900936127 | Accuracy: 92.1875%\n",
            "GB | Epoch 3 | Loss: 0.13494201004505157 | Accuracy: 96.875%\n",
            "GB | Epoch 3 | Loss: 0.2045745551586151 | Accuracy: 92.1875%\n",
            "GB | Epoch 3 | Loss: 0.21514391899108887 | Accuracy: 95.3125%\n",
            "GB | Epoch 3 | Loss: 0.3111373782157898 | Accuracy: 87.5%\n",
            "GB | Epoch 3 | Loss: 0.2819739878177643 | Accuracy: 87.5%\n",
            "GB | Epoch 3 | Loss: 0.33187711238861084 | Accuracy: 89.0625%\n",
            "GB | Epoch 3 | Loss: 0.29242950677871704 | Accuracy: 92.1875%\n",
            "GB | Epoch 3 | Loss: 0.2728428840637207 | Accuracy: 87.5%\n",
            "GB | Epoch 3 | Loss: 0.2633965015411377 | Accuracy: 90.625%\n",
            "GB | Epoch 3 | Loss: 0.2000025361776352 | Accuracy: 90.625%\n",
            "GB | Epoch 3 | Loss: 0.23301051557064056 | Accuracy: 87.5%\n",
            "GB | Epoch 3 | Loss: 0.28316035866737366 | Accuracy: 89.0625%\n",
            "GB | Epoch 3 | Loss: 0.3047853112220764 | Accuracy: 85.9375%\n"
          ]
        },
        {
          "output_type": "stream",
          "name": "stderr",
          "text": [
            "Epoch 3:  37%|███▋      | 279/751 [00:03<00:05, 87.46batch/s, accuracy=92.1875%, loss=0.305]"
          ]
        },
        {
          "output_type": "stream",
          "name": "stdout",
          "text": [
            "GB | Epoch 3 | Loss: 0.2473958283662796 | Accuracy: 95.3125%\n",
            "GB | Epoch 3 | Loss: 0.2739322781562805 | Accuracy: 92.1875%\n",
            "GB | Epoch 3 | Loss: 0.22764569520950317 | Accuracy: 90.625%\n",
            "GB | Epoch 3 | Loss: 0.4026409387588501 | Accuracy: 87.5%\n",
            "GB | Epoch 3 | Loss: 0.29813751578330994 | Accuracy: 87.5%\n",
            "GB | Epoch 3 | Loss: 0.19978666305541992 | Accuracy: 92.1875%\n",
            "GB | Epoch 3 | Loss: 0.2988784909248352 | Accuracy: 92.1875%\n",
            "GB | Epoch 3 | Loss: 0.2328559309244156 | Accuracy: 93.75%\n",
            "GB | Epoch 3 | Loss: 0.1631917506456375 | Accuracy: 92.1875%\n",
            "GB | Epoch 3 | Loss: 0.17676053941249847 | Accuracy: 93.75%\n",
            "GB | Epoch 3 | Loss: 0.14396192133426666 | Accuracy: 96.875%\n",
            "GB | Epoch 3 | Loss: 0.21872970461845398 | Accuracy: 93.75%\n",
            "GB | Epoch 3 | Loss: 0.21909333765506744 | Accuracy: 93.75%\n",
            "GB | Epoch 3 | Loss: 0.18710577487945557 | Accuracy: 95.3125%\n",
            "GB | Epoch 3 | Loss: 0.18776699900627136 | Accuracy: 95.3125%\n",
            "GB | Epoch 3 | Loss: 0.14691895246505737 | Accuracy: 96.875%\n",
            "GB | Epoch 3 | Loss: 0.2611263394355774 | Accuracy: 96.875%\n",
            "GB | Epoch 3 | Loss: 0.17916999757289886 | Accuracy: 96.875%\n",
            "GB | Epoch 3 | Loss: 0.3048016428947449 | Accuracy: 92.1875%\n"
          ]
        },
        {
          "output_type": "stream",
          "name": "stderr",
          "text": [
            "Epoch 3:  40%|████      | 301/751 [00:03<00:04, 94.73batch/s, accuracy=92.1875%, loss=0.301]"
          ]
        },
        {
          "output_type": "stream",
          "name": "stdout",
          "text": [
            "GB | Epoch 3 | Loss: 0.1773776262998581 | Accuracy: 93.75%\n",
            "GB | Epoch 3 | Loss: 0.14568644762039185 | Accuracy: 95.3125%\n",
            "GB | Epoch 3 | Loss: 0.23129190504550934 | Accuracy: 92.1875%\n",
            "GB | Epoch 3 | Loss: 0.23052528500556946 | Accuracy: 92.1875%\n",
            "GB | Epoch 3 | Loss: 0.1638866513967514 | Accuracy: 96.875%\n",
            "GB | Epoch 3 | Loss: 0.18615391850471497 | Accuracy: 93.75%\n",
            "GB | Epoch 3 | Loss: 0.4361697733402252 | Accuracy: 92.1875%\n",
            "GB | Epoch 3 | Loss: 0.340489000082016 | Accuracy: 89.0625%\n",
            "GB | Epoch 3 | Loss: 0.1374785602092743 | Accuracy: 96.875%\n",
            "GB | Epoch 3 | Loss: 0.2500811219215393 | Accuracy: 92.1875%\n",
            "GB | Epoch 3 | Loss: 0.24149532616138458 | Accuracy: 92.1875%\n",
            "GB | Epoch 3 | Loss: 0.19470643997192383 | Accuracy: 96.875%\n",
            "GB | Epoch 3 | Loss: 0.23088259994983673 | Accuracy: 95.3125%\n",
            "GB | Epoch 3 | Loss: 0.16457252204418182 | Accuracy: 96.875%\n",
            "GB | Epoch 3 | Loss: 0.19883111119270325 | Accuracy: 90.625%\n",
            "GB | Epoch 3 | Loss: 0.13291123509407043 | Accuracy: 96.875%\n",
            "GB | Epoch 3 | Loss: 0.3182886838912964 | Accuracy: 92.1875%\n",
            "GB | Epoch 3 | Loss: 0.2256329506635666 | Accuracy: 93.75%\n",
            "GB | Epoch 3 | Loss: 0.2061212956905365 | Accuracy: 92.1875%\n",
            "GB | Epoch 3 | Loss: 0.2688647210597992 | Accuracy: 92.1875%\n"
          ]
        },
        {
          "output_type": "stream",
          "name": "stderr",
          "text": [
            "Epoch 3:  43%|████▎     | 323/751 [00:03<00:04, 99.96batch/s, accuracy=93.75%, loss=0.273]"
          ]
        },
        {
          "output_type": "stream",
          "name": "stdout",
          "text": [
            "GB | Epoch 3 | Loss: 0.3008068799972534 | Accuracy: 92.1875%\n",
            "GB | Epoch 3 | Loss: 0.1838391274213791 | Accuracy: 95.3125%\n",
            "GB | Epoch 3 | Loss: 0.2047920972108841 | Accuracy: 95.3125%\n",
            "GB | Epoch 3 | Loss: 0.1605244129896164 | Accuracy: 92.1875%\n",
            "GB | Epoch 3 | Loss: 0.26688870787620544 | Accuracy: 92.1875%\n",
            "GB | Epoch 3 | Loss: 0.3822340965270996 | Accuracy: 85.9375%\n",
            "GB | Epoch 3 | Loss: 0.21284650266170502 | Accuracy: 96.875%\n",
            "GB | Epoch 3 | Loss: 0.37765026092529297 | Accuracy: 90.625%\n",
            "GB | Epoch 3 | Loss: 0.26146429777145386 | Accuracy: 90.625%\n",
            "GB | Epoch 3 | Loss: 0.21243499219417572 | Accuracy: 90.625%\n",
            "GB | Epoch 3 | Loss: 0.3869219720363617 | Accuracy: 89.0625%\n",
            "GB | Epoch 3 | Loss: 0.2084255963563919 | Accuracy: 92.1875%\n",
            "GB | Epoch 3 | Loss: 0.4210661053657532 | Accuracy: 90.625%\n",
            "GB | Epoch 3 | Loss: 0.19263195991516113 | Accuracy: 93.75%\n",
            "GB | Epoch 3 | Loss: 0.15717244148254395 | Accuracy: 95.3125%\n",
            "GB | Epoch 3 | Loss: 0.2749303877353668 | Accuracy: 90.625%\n",
            "GB | Epoch 3 | Loss: 0.13500650227069855 | Accuracy: 96.875%\n",
            "GB | Epoch 3 | Loss: 0.1094479188323021 | Accuracy: 98.4375%\n",
            "GB | Epoch 3 | Loss: 0.2807171642780304 | Accuracy: 89.0625%\n",
            "GB | Epoch 3 | Loss: 0.18751223385334015 | Accuracy: 92.1875%\n",
            "GB | Epoch 3 | Loss: 0.2948783338069916 | Accuracy: 89.0625%\n",
            "GB | Epoch 3 | Loss: 0.2589666247367859 | Accuracy: 93.75%\n"
          ]
        },
        {
          "output_type": "stream",
          "name": "stderr",
          "text": [
            "Epoch 3:  46%|████▌     | 345/751 [00:03<00:04, 99.42batch/s, accuracy=89.0625%, loss=0.231] "
          ]
        },
        {
          "output_type": "stream",
          "name": "stdout",
          "text": [
            "GB | Epoch 3 | Loss: 0.27338939905166626 | Accuracy: 93.75%\n",
            "GB | Epoch 3 | Loss: 0.19979983568191528 | Accuracy: 96.875%\n",
            "GB | Epoch 3 | Loss: 0.36819228529930115 | Accuracy: 87.5%\n",
            "GB | Epoch 3 | Loss: 0.26731038093566895 | Accuracy: 90.625%\n",
            "GB | Epoch 3 | Loss: 0.1799548864364624 | Accuracy: 95.3125%\n",
            "GB | Epoch 3 | Loss: 0.29469433426856995 | Accuracy: 92.1875%\n",
            "GB | Epoch 3 | Loss: 0.2483450472354889 | Accuracy: 93.75%\n",
            "GB | Epoch 3 | Loss: 0.2172507643699646 | Accuracy: 96.875%\n",
            "GB | Epoch 3 | Loss: 0.2187267690896988 | Accuracy: 93.75%\n",
            "GB | Epoch 3 | Loss: 0.2947293817996979 | Accuracy: 92.1875%\n",
            "GB | Epoch 3 | Loss: 0.3177367150783539 | Accuracy: 92.1875%\n",
            "GB | Epoch 3 | Loss: 0.1787153035402298 | Accuracy: 95.3125%\n",
            "GB | Epoch 3 | Loss: 0.2148962914943695 | Accuracy: 90.625%\n",
            "GB | Epoch 3 | Loss: 0.3451796770095825 | Accuracy: 89.0625%\n",
            "GB | Epoch 3 | Loss: 0.23617945611476898 | Accuracy: 95.3125%\n",
            "GB | Epoch 3 | Loss: 0.23296573758125305 | Accuracy: 90.625%\n",
            "GB | Epoch 3 | Loss: 0.2532344162464142 | Accuracy: 92.1875%\n",
            "GB | Epoch 3 | Loss: 0.18657121062278748 | Accuracy: 93.75%\n",
            "GB | Epoch 3 | Loss: 0.3438769280910492 | Accuracy: 93.75%\n",
            "GB | Epoch 3 | Loss: 0.23134227097034454 | Accuracy: 89.0625%\n"
          ]
        },
        {
          "output_type": "stream",
          "name": "stderr",
          "text": [
            "Epoch 3:  47%|████▋     | 355/751 [00:04<00:04, 93.14batch/s, accuracy=87.5%, loss=0.409] "
          ]
        },
        {
          "output_type": "stream",
          "name": "stdout",
          "text": [
            "GB | Epoch 3 | Loss: 0.2734930217266083 | Accuracy: 89.0625%\n",
            "GB | Epoch 3 | Loss: 0.12867221236228943 | Accuracy: 96.875%\n",
            "GB | Epoch 3 | Loss: 0.34994927048683167 | Accuracy: 92.1875%\n",
            "GB | Epoch 3 | Loss: 0.19590885937213898 | Accuracy: 95.3125%\n",
            "GB | Epoch 3 | Loss: 0.18361006677150726 | Accuracy: 98.4375%\n",
            "GB | Epoch 3 | Loss: 0.16544121503829956 | Accuracy: 93.75%\n",
            "GB | Epoch 3 | Loss: 0.2371700406074524 | Accuracy: 93.75%\n",
            "GB | Epoch 3 | Loss: 0.3431934118270874 | Accuracy: 87.5%\n",
            "GB | Epoch 3 | Loss: 0.12373892217874527 | Accuracy: 100.0%\n",
            "GB | Epoch 3 | Loss: 0.2718707323074341 | Accuracy: 89.0625%\n",
            "GB | Epoch 3 | Loss: 0.21414071321487427 | Accuracy: 92.1875%\n",
            "GB | Epoch 3 | Loss: 0.2003268599510193 | Accuracy: 92.1875%\n",
            "GB | Epoch 3 | Loss: 0.18890319764614105 | Accuracy: 93.75%\n",
            "GB | Epoch 3 | Loss: 0.17047515511512756 | Accuracy: 95.3125%\n",
            "GB | Epoch 3 | Loss: 0.10735549032688141 | Accuracy: 96.875%\n",
            "GB | Epoch 3 | Loss: 0.2067718505859375 | Accuracy: 90.625%\n",
            "GB | Epoch 3 | Loss: 0.2905336320400238 | Accuracy: 93.75%\n",
            "GB | Epoch 3 | Loss: 0.40937891602516174 | Accuracy: 87.5%\n"
          ]
        },
        {
          "output_type": "stream",
          "name": "stderr",
          "text": [
            "Epoch 3:  50%|████▉     | 375/751 [00:04<00:03, 94.11batch/s, accuracy=90.625%, loss=0.233] "
          ]
        },
        {
          "output_type": "stream",
          "name": "stdout",
          "text": [
            "GB | Epoch 3 | Loss: 0.18294823169708252 | Accuracy: 95.3125%\n",
            "GB | Epoch 3 | Loss: 0.2912157475948334 | Accuracy: 87.5%\n",
            "GB | Epoch 3 | Loss: 0.23187284171581268 | Accuracy: 96.875%\n",
            "GB | Epoch 3 | Loss: 0.25320494174957275 | Accuracy: 92.1875%\n",
            "GB | Epoch 3 | Loss: 0.11558149009943008 | Accuracy: 95.3125%\n",
            "GB | Epoch 3 | Loss: 0.12011353671550751 | Accuracy: 98.4375%\n",
            "GB | Epoch 3 | Loss: 0.16343669593334198 | Accuracy: 96.875%\n",
            "GB | Epoch 3 | Loss: 0.311408668756485 | Accuracy: 90.625%\n",
            "GB | Epoch 3 | Loss: 0.27595922350883484 | Accuracy: 90.625%\n",
            "GB | Epoch 3 | Loss: 0.25585049390792847 | Accuracy: 89.0625%\n",
            "GB | Epoch 3 | Loss: 0.20968371629714966 | Accuracy: 93.75%\n",
            "GB | Epoch 3 | Loss: 0.13577795028686523 | Accuracy: 95.3125%\n",
            "GB | Epoch 3 | Loss: 0.2447039783000946 | Accuracy: 93.75%\n",
            "GB | Epoch 3 | Loss: 0.25579676032066345 | Accuracy: 90.625%\n",
            "GB | Epoch 3 | Loss: 0.1941443681716919 | Accuracy: 92.1875%\n",
            "GB | Epoch 3 | Loss: 0.25274747610092163 | Accuracy: 95.3125%\n",
            "GB | Epoch 3 | Loss: 0.30668097734451294 | Accuracy: 90.625%\n",
            "GB | Epoch 3 | Loss: 0.2110983282327652 | Accuracy: 95.3125%\n",
            "GB | Epoch 3 | Loss: 0.23341836035251617 | Accuracy: 90.625%\n"
          ]
        },
        {
          "output_type": "stream",
          "name": "stderr",
          "text": [
            "Epoch 3:  53%|█████▎    | 395/751 [00:04<00:04, 85.17batch/s, accuracy=89.0625%, loss=0.346]"
          ]
        },
        {
          "output_type": "stream",
          "name": "stdout",
          "text": [
            "GB | Epoch 3 | Loss: 0.2936815321445465 | Accuracy: 87.5%\n",
            "GB | Epoch 3 | Loss: 0.17214025557041168 | Accuracy: 93.75%\n",
            "GB | Epoch 3 | Loss: 0.21978305280208588 | Accuracy: 93.75%\n",
            "GB | Epoch 3 | Loss: 0.2864627540111542 | Accuracy: 90.625%\n",
            "GB | Epoch 3 | Loss: 0.10364903509616852 | Accuracy: 98.4375%\n",
            "GB | Epoch 3 | Loss: 0.12607541680335999 | Accuracy: 96.875%\n",
            "GB | Epoch 3 | Loss: 0.1931055337190628 | Accuracy: 93.75%\n",
            "GB | Epoch 3 | Loss: 0.14751483500003815 | Accuracy: 95.3125%\n",
            "GB | Epoch 3 | Loss: 0.3100017309188843 | Accuracy: 89.0625%\n",
            "GB | Epoch 3 | Loss: 0.19079291820526123 | Accuracy: 89.0625%\n",
            "GB | Epoch 3 | Loss: 0.24570581316947937 | Accuracy: 95.3125%\n",
            "GB | Epoch 3 | Loss: 0.12152069807052612 | Accuracy: 100.0%\n",
            "GB | Epoch 3 | Loss: 0.24587735533714294 | Accuracy: 93.75%\n",
            "GB | Epoch 3 | Loss: 0.5310906767845154 | Accuracy: 87.5%\n",
            "GB | Epoch 3 | Loss: 0.20887848734855652 | Accuracy: 93.75%\n",
            "GB | Epoch 3 | Loss: 0.1883457452058792 | Accuracy: 92.1875%\n"
          ]
        },
        {
          "output_type": "stream",
          "name": "stderr",
          "text": [
            "Epoch 3:  55%|█████▍    | 413/751 [00:04<00:03, 85.80batch/s, accuracy=93.75%, loss=0.195] "
          ]
        },
        {
          "output_type": "stream",
          "name": "stdout",
          "text": [
            "GB | Epoch 3 | Loss: 0.34595176577568054 | Accuracy: 89.0625%\n",
            "GB | Epoch 3 | Loss: 0.19207431375980377 | Accuracy: 90.625%\n",
            "GB | Epoch 3 | Loss: 0.17169520258903503 | Accuracy: 90.625%\n",
            "GB | Epoch 3 | Loss: 0.20402792096138 | Accuracy: 93.75%\n",
            "GB | Epoch 3 | Loss: 0.15781137347221375 | Accuracy: 96.875%\n",
            "GB | Epoch 3 | Loss: 0.1074269637465477 | Accuracy: 98.4375%\n",
            "GB | Epoch 3 | Loss: 0.2763121724128723 | Accuracy: 89.0625%\n",
            "GB | Epoch 3 | Loss: 0.3386198580265045 | Accuracy: 85.9375%\n",
            "GB | Epoch 3 | Loss: 0.16783733665943146 | Accuracy: 95.3125%\n",
            "GB | Epoch 3 | Loss: 0.11681570112705231 | Accuracy: 98.4375%\n",
            "GB | Epoch 3 | Loss: 0.19222795963287354 | Accuracy: 95.3125%\n",
            "GB | Epoch 3 | Loss: 0.13352574408054352 | Accuracy: 96.875%\n",
            "GB | Epoch 3 | Loss: 0.1954900175333023 | Accuracy: 96.875%\n",
            "GB | Epoch 3 | Loss: 0.242465540766716 | Accuracy: 92.1875%\n",
            "GB | Epoch 3 | Loss: 0.27910980582237244 | Accuracy: 92.1875%\n",
            "GB | Epoch 3 | Loss: 0.2203509658575058 | Accuracy: 92.1875%\n",
            "GB | Epoch 3 | Loss: 0.32104092836380005 | Accuracy: 84.375%\n"
          ]
        },
        {
          "output_type": "stream",
          "name": "stderr",
          "text": [
            "Epoch 3:  57%|█████▋    | 431/751 [00:04<00:03, 84.36batch/s, accuracy=93.75%, loss=0.188]"
          ]
        },
        {
          "output_type": "stream",
          "name": "stdout",
          "text": [
            "GB | Epoch 3 | Loss: 0.19503267109394073 | Accuracy: 93.75%\n",
            "GB | Epoch 3 | Loss: 0.2872813045978546 | Accuracy: 92.1875%\n",
            "GB | Epoch 3 | Loss: 0.306576669216156 | Accuracy: 85.9375%\n",
            "GB | Epoch 3 | Loss: 0.22743873298168182 | Accuracy: 92.1875%\n",
            "GB | Epoch 3 | Loss: 0.1776597648859024 | Accuracy: 93.75%\n",
            "GB | Epoch 3 | Loss: 0.1311597228050232 | Accuracy: 93.75%\n",
            "GB | Epoch 3 | Loss: 0.39661329984664917 | Accuracy: 89.0625%\n",
            "GB | Epoch 3 | Loss: 0.1756458431482315 | Accuracy: 92.1875%\n",
            "GB | Epoch 3 | Loss: 0.3173091411590576 | Accuracy: 89.0625%\n",
            "GB | Epoch 3 | Loss: 0.21446619927883148 | Accuracy: 95.3125%\n",
            "GB | Epoch 3 | Loss: 0.4254961907863617 | Accuracy: 89.0625%\n",
            "GB | Epoch 3 | Loss: 0.1790943741798401 | Accuracy: 93.75%\n",
            "GB | Epoch 3 | Loss: 0.2192513793706894 | Accuracy: 92.1875%\n",
            "GB | Epoch 3 | Loss: 0.20094171166419983 | Accuracy: 90.625%\n",
            "GB | Epoch 3 | Loss: 0.3005389869213104 | Accuracy: 92.1875%\n",
            "GB | Epoch 3 | Loss: 0.17288653552532196 | Accuracy: 95.3125%\n",
            "GB | Epoch 3 | Loss: 0.24469290673732758 | Accuracy: 93.75%\n",
            "GB | Epoch 3 | Loss: 0.18836984038352966 | Accuracy: 93.75%\n"
          ]
        },
        {
          "output_type": "stream",
          "name": "stderr",
          "text": [
            "Epoch 3:  60%|█████▉    | 450/751 [00:05<00:03, 86.41batch/s, accuracy=93.75%, loss=0.201]  "
          ]
        },
        {
          "output_type": "stream",
          "name": "stdout",
          "text": [
            "GB | Epoch 3 | Loss: 0.23531277477741241 | Accuracy: 92.1875%\n",
            "GB | Epoch 3 | Loss: 0.18954184651374817 | Accuracy: 93.75%\n",
            "GB | Epoch 3 | Loss: 0.21181489527225494 | Accuracy: 95.3125%\n",
            "GB | Epoch 3 | Loss: 0.14590036869049072 | Accuracy: 93.75%\n",
            "GB | Epoch 3 | Loss: 0.22815482318401337 | Accuracy: 90.625%\n",
            "GB | Epoch 3 | Loss: 0.2133280485868454 | Accuracy: 95.3125%\n",
            "GB | Epoch 3 | Loss: 0.3278554677963257 | Accuracy: 89.0625%\n",
            "GB | Epoch 3 | Loss: 0.23331816494464874 | Accuracy: 95.3125%\n",
            "GB | Epoch 3 | Loss: 0.18266211450099945 | Accuracy: 93.75%\n",
            "GB | Epoch 3 | Loss: 0.17177258431911469 | Accuracy: 93.75%\n",
            "GB | Epoch 3 | Loss: 0.2485172152519226 | Accuracy: 95.3125%\n",
            "GB | Epoch 3 | Loss: 0.19995178282260895 | Accuracy: 95.3125%\n",
            "GB | Epoch 3 | Loss: 0.09945951402187347 | Accuracy: 98.4375%\n",
            "GB | Epoch 3 | Loss: 0.1525557041168213 | Accuracy: 95.3125%\n",
            "GB | Epoch 3 | Loss: 0.15631742775440216 | Accuracy: 96.875%\n",
            "GB | Epoch 3 | Loss: 0.1511448323726654 | Accuracy: 95.3125%\n",
            "GB | Epoch 3 | Loss: 0.1940721720457077 | Accuracy: 96.875%\n",
            "GB | Epoch 3 | Loss: 0.20392075181007385 | Accuracy: 95.3125%\n"
          ]
        },
        {
          "output_type": "stream",
          "name": "stderr",
          "text": [
            "Epoch 3:  61%|██████▏   | 460/751 [00:05<00:03, 88.73batch/s, accuracy=98.4375%, loss=0.0897]"
          ]
        },
        {
          "output_type": "stream",
          "name": "stdout",
          "text": [
            "GB | Epoch 3 | Loss: 0.20091088116168976 | Accuracy: 93.75%\n",
            "GB | Epoch 3 | Loss: 0.14350701868534088 | Accuracy: 98.4375%\n",
            "GB | Epoch 3 | Loss: 0.2253647893667221 | Accuracy: 95.3125%\n",
            "GB | Epoch 3 | Loss: 0.22954747080802917 | Accuracy: 95.3125%\n",
            "GB | Epoch 3 | Loss: 0.26154252886772156 | Accuracy: 90.625%\n",
            "GB | Epoch 3 | Loss: 0.12546584010124207 | Accuracy: 95.3125%\n",
            "GB | Epoch 3 | Loss: 0.13189326226711273 | Accuracy: 98.4375%\n",
            "GB | Epoch 3 | Loss: 0.297560453414917 | Accuracy: 90.625%\n",
            "GB | Epoch 3 | Loss: 0.3281748294830322 | Accuracy: 93.75%\n",
            "GB | Epoch 3 | Loss: 0.1479167342185974 | Accuracy: 95.3125%\n",
            "GB | Epoch 3 | Loss: 0.3194400668144226 | Accuracy: 92.1875%\n",
            "GB | Epoch 3 | Loss: 0.27984189987182617 | Accuracy: 92.1875%\n",
            "GB | Epoch 3 | Loss: 0.22238384187221527 | Accuracy: 90.625%\n",
            "GB | Epoch 3 | Loss: 0.20244382321834564 | Accuracy: 92.1875%\n",
            "GB | Epoch 3 | Loss: 0.2341773957014084 | Accuracy: 95.3125%\n",
            "GB | Epoch 3 | Loss: 0.377775102853775 | Accuracy: 89.0625%\n",
            "GB | Epoch 3 | Loss: 0.19748926162719727 | Accuracy: 93.75%\n",
            "GB | Epoch 3 | Loss: 0.08969463407993317 | Accuracy: 98.4375%\n"
          ]
        },
        {
          "output_type": "stream",
          "name": "stderr",
          "text": [
            "Epoch 3:  65%|██████▍   | 488/751 [00:05<00:03, 87.06batch/s, accuracy=95.3125%, loss=0.171]"
          ]
        },
        {
          "output_type": "stream",
          "name": "stdout",
          "text": [
            "GB | Epoch 3 | Loss: 0.23638208210468292 | Accuracy: 93.75%\n",
            "GB | Epoch 3 | Loss: 0.2103213667869568 | Accuracy: 93.75%\n",
            "GB | Epoch 3 | Loss: 0.12272246927022934 | Accuracy: 98.4375%\n",
            "GB | Epoch 3 | Loss: 0.1913721263408661 | Accuracy: 93.75%\n",
            "GB | Epoch 3 | Loss: 0.41285520792007446 | Accuracy: 90.625%\n",
            "GB | Epoch 3 | Loss: 0.326106458902359 | Accuracy: 89.0625%\n",
            "GB | Epoch 3 | Loss: 0.3604447543621063 | Accuracy: 93.75%\n",
            "GB | Epoch 3 | Loss: 0.21877385675907135 | Accuracy: 98.4375%\n",
            "GB | Epoch 3 | Loss: 0.18145200610160828 | Accuracy: 92.1875%\n",
            "GB | Epoch 3 | Loss: 0.1849130392074585 | Accuracy: 96.875%\n",
            "GB | Epoch 3 | Loss: 0.204502135515213 | Accuracy: 93.75%\n",
            "GB | Epoch 3 | Loss: 0.07442884892225266 | Accuracy: 100.0%\n",
            "GB | Epoch 3 | Loss: 0.2533787190914154 | Accuracy: 95.3125%\n",
            "GB | Epoch 3 | Loss: 0.20123790204524994 | Accuracy: 92.1875%\n",
            "GB | Epoch 3 | Loss: 0.26424330472946167 | Accuracy: 92.1875%\n",
            "GB | Epoch 3 | Loss: 0.21112552285194397 | Accuracy: 96.875%\n",
            "GB | Epoch 3 | Loss: 0.1442529857158661 | Accuracy: 95.3125%\n",
            "GB | Epoch 3 | Loss: 0.08652299642562866 | Accuracy: 100.0%\n",
            "GB | Epoch 3 | Loss: 0.17079003155231476 | Accuracy: 95.3125%\n"
          ]
        },
        {
          "output_type": "stream",
          "name": "stderr",
          "text": [
            "Epoch 3:  66%|██████▋   | 499/751 [00:05<00:02, 92.59batch/s, accuracy=90.625%, loss=0.176] "
          ]
        },
        {
          "output_type": "stream",
          "name": "stdout",
          "text": [
            "GB | Epoch 3 | Loss: 0.3021051287651062 | Accuracy: 87.5%\n",
            "GB | Epoch 3 | Loss: 0.09988916665315628 | Accuracy: 96.875%\n",
            "GB | Epoch 3 | Loss: 0.15067769587039948 | Accuracy: 93.75%\n",
            "GB | Epoch 3 | Loss: 0.151840940117836 | Accuracy: 95.3125%\n",
            "GB | Epoch 3 | Loss: 0.2511753439903259 | Accuracy: 92.1875%\n",
            "GB | Epoch 3 | Loss: 0.23020684719085693 | Accuracy: 92.1875%\n",
            "GB | Epoch 3 | Loss: 0.30004966259002686 | Accuracy: 89.0625%\n",
            "GB | Epoch 3 | Loss: 0.14193099737167358 | Accuracy: 98.4375%\n",
            "GB | Epoch 3 | Loss: 0.11750563979148865 | Accuracy: 96.875%\n",
            "GB | Epoch 3 | Loss: 0.34591370820999146 | Accuracy: 90.625%\n",
            "GB | Epoch 3 | Loss: 0.15776561200618744 | Accuracy: 98.4375%\n",
            "GB | Epoch 3 | Loss: 0.21602928638458252 | Accuracy: 95.3125%\n",
            "GB | Epoch 3 | Loss: 0.27825096249580383 | Accuracy: 90.625%\n",
            "GB | Epoch 3 | Loss: 0.37366411089897156 | Accuracy: 92.1875%\n",
            "GB | Epoch 3 | Loss: 0.14928705990314484 | Accuracy: 95.3125%\n",
            "GB | Epoch 3 | Loss: 0.2649206519126892 | Accuracy: 93.75%\n",
            "GB | Epoch 3 | Loss: 0.33639654517173767 | Accuracy: 89.0625%\n",
            "GB | Epoch 3 | Loss: 0.14123068749904633 | Accuracy: 95.3125%\n",
            "GB | Epoch 3 | Loss: 0.3972230553627014 | Accuracy: 90.625%\n",
            "GB | Epoch 3 | Loss: 0.20362608134746552 | Accuracy: 90.625%\n",
            "GB | Epoch 3 | Loss: 0.09400719404220581 | Accuracy: 98.4375%\n",
            "GB | Epoch 3 | Loss: 0.17591191828250885 | Accuracy: 90.625%"
          ]
        },
        {
          "output_type": "stream",
          "name": "stderr",
          "text": [
            "Epoch 3:  69%|██████▉   | 520/751 [00:05<00:02, 96.38batch/s, accuracy=98.4375%, loss=0.169]"
          ]
        },
        {
          "output_type": "stream",
          "name": "stdout",
          "text": [
            "\n",
            "GB | Epoch 3 | Loss: 0.185411736369133 | Accuracy: 95.3125%\n",
            "GB | Epoch 3 | Loss: 0.1748182326555252 | Accuracy: 95.3125%\n",
            "GB | Epoch 3 | Loss: 0.16936904191970825 | Accuracy: 95.3125%\n",
            "GB | Epoch 3 | Loss: 0.18992015719413757 | Accuracy: 93.75%\n",
            "GB | Epoch 3 | Loss: 0.21607418358325958 | Accuracy: 93.75%\n",
            "GB | Epoch 3 | Loss: 0.13989757001399994 | Accuracy: 98.4375%\n",
            "GB | Epoch 3 | Loss: 0.2444307506084442 | Accuracy: 93.75%\n",
            "GB | Epoch 3 | Loss: 0.251435250043869 | Accuracy: 92.1875%\n",
            "GB | Epoch 3 | Loss: 0.2381480485200882 | Accuracy: 92.1875%\n",
            "GB | Epoch 3 | Loss: 0.23342452943325043 | Accuracy: 93.75%\n",
            "GB | Epoch 3 | Loss: 0.273946613073349 | Accuracy: 90.625%\n",
            "GB | Epoch 3 | Loss: 0.13219024240970612 | Accuracy: 96.875%\n",
            "GB | Epoch 3 | Loss: 0.1439245641231537 | Accuracy: 96.875%\n",
            "GB | Epoch 3 | Loss: 0.23427043855190277 | Accuracy: 90.625%\n",
            "GB | Epoch 3 | Loss: 0.16581979393959045 | Accuracy: 95.3125%\n",
            "GB | Epoch 3 | Loss: 0.20902033150196075 | Accuracy: 95.3125%\n",
            "GB | Epoch 3 | Loss: 0.19891899824142456 | Accuracy: 93.75%\n",
            "GB | Epoch 3 | Loss: 0.294924795627594 | Accuracy: 89.0625%\n",
            "GB | Epoch 3 | Loss: 0.15464593470096588 | Accuracy: 93.75%\n",
            "GB | Epoch 3 | Loss: 0.1691618263721466 | Accuracy: 98.4375%\n"
          ]
        },
        {
          "output_type": "stream",
          "name": "stderr",
          "text": [
            "Epoch 3:  72%|███████▏  | 541/751 [00:06<00:02, 97.32batch/s, accuracy=98.4375%, loss=0.106]"
          ]
        },
        {
          "output_type": "stream",
          "name": "stdout",
          "text": [
            "GB | Epoch 3 | Loss: 0.23522230982780457 | Accuracy: 90.625%\n",
            "GB | Epoch 3 | Loss: 0.23042094707489014 | Accuracy: 92.1875%\n",
            "GB | Epoch 3 | Loss: 0.22672490775585175 | Accuracy: 95.3125%\n",
            "GB | Epoch 3 | Loss: 0.08268042653799057 | Accuracy: 100.0%\n",
            "GB | Epoch 3 | Loss: 0.12171606719493866 | Accuracy: 98.4375%\n",
            "GB | Epoch 3 | Loss: 0.10541660338640213 | Accuracy: 96.875%\n",
            "GB | Epoch 3 | Loss: 0.17456680536270142 | Accuracy: 90.625%\n",
            "GB | Epoch 3 | Loss: 0.35225868225097656 | Accuracy: 85.9375%\n",
            "GB | Epoch 3 | Loss: 0.22669588029384613 | Accuracy: 92.1875%\n",
            "GB | Epoch 3 | Loss: 0.17685194313526154 | Accuracy: 95.3125%\n",
            "GB | Epoch 3 | Loss: 0.26837119460105896 | Accuracy: 93.75%\n",
            "GB | Epoch 3 | Loss: 0.20178452134132385 | Accuracy: 96.875%\n",
            "GB | Epoch 3 | Loss: 0.13517598807811737 | Accuracy: 96.875%\n",
            "GB | Epoch 3 | Loss: 0.16793419420719147 | Accuracy: 96.875%\n",
            "GB | Epoch 3 | Loss: 0.15453946590423584 | Accuracy: 98.4375%\n",
            "GB | Epoch 3 | Loss: 0.1314302533864975 | Accuracy: 98.4375%\n",
            "GB | Epoch 3 | Loss: 0.19408683478832245 | Accuracy: 95.3125%\n",
            "GB | Epoch 3 | Loss: 0.10457931458950043 | Accuracy: 98.4375%\n",
            "GB | Epoch 3 | Loss: 0.08624193072319031 | Accuracy: 98.4375%\n",
            "GB | Epoch 3 | Loss: 0.2723698616027832 | Accuracy: 89.0625%\n",
            "GB | Epoch 3 | Loss: 0.15957584977149963 | Accuracy: 96.875%\n",
            "GB | Epoch 3 | Loss: 0.10559868812561035 | Accuracy: 98.4375%\n"
          ]
        },
        {
          "output_type": "stream",
          "name": "stderr",
          "text": [
            "Epoch 3:  75%|███████▌  | 564/751 [00:06<00:01, 101.82batch/s, accuracy=96.875%, loss=0.158] "
          ]
        },
        {
          "output_type": "stream",
          "name": "stdout",
          "text": [
            "GB | Epoch 3 | Loss: 0.18426354229450226 | Accuracy: 95.3125%\n",
            "GB | Epoch 3 | Loss: 0.19036011397838593 | Accuracy: 95.3125%\n",
            "GB | Epoch 3 | Loss: 0.13388338685035706 | Accuracy: 96.875%\n",
            "GB | Epoch 3 | Loss: 0.18418939411640167 | Accuracy: 93.75%\n",
            "GB | Epoch 3 | Loss: 0.17282527685165405 | Accuracy: 95.3125%\n",
            "GB | Epoch 3 | Loss: 0.198259174823761 | Accuracy: 90.625%\n",
            "GB | Epoch 3 | Loss: 0.22418229281902313 | Accuracy: 93.75%\n",
            "GB | Epoch 3 | Loss: 0.15140849351882935 | Accuracy: 96.875%\n",
            "GB | Epoch 3 | Loss: 0.12419453263282776 | Accuracy: 95.3125%\n",
            "GB | Epoch 3 | Loss: 0.1108865886926651 | Accuracy: 96.875%\n",
            "GB | Epoch 3 | Loss: 0.1507701426744461 | Accuracy: 92.1875%\n",
            "GB | Epoch 3 | Loss: 0.1655348688364029 | Accuracy: 95.3125%\n",
            "GB | Epoch 3 | Loss: 0.16797228157520294 | Accuracy: 93.75%\n",
            "GB | Epoch 3 | Loss: 0.06669345498085022 | Accuracy: 100.0%\n",
            "GB | Epoch 3 | Loss: 0.45057404041290283 | Accuracy: 87.5%\n",
            "GB | Epoch 3 | Loss: 0.11122342199087143 | Accuracy: 100.0%\n",
            "GB | Epoch 3 | Loss: 0.13320107758045197 | Accuracy: 95.3125%\n",
            "GB | Epoch 3 | Loss: 0.10370088368654251 | Accuracy: 98.4375%\n",
            "GB | Epoch 3 | Loss: 0.15833865106105804 | Accuracy: 96.875%\n"
          ]
        },
        {
          "output_type": "stream",
          "name": "stderr",
          "text": [
            "Epoch 3:  78%|███████▊  | 585/751 [00:06<00:01, 96.38batch/s, accuracy=98.4375%, loss=0.123]"
          ]
        },
        {
          "output_type": "stream",
          "name": "stdout",
          "text": [
            "GB | Epoch 3 | Loss: 0.13521113991737366 | Accuracy: 95.3125%\n",
            "GB | Epoch 3 | Loss: 0.30821505188941956 | Accuracy: 95.3125%\n",
            "GB | Epoch 3 | Loss: 0.20858262479305267 | Accuracy: 92.1875%\n",
            "GB | Epoch 3 | Loss: 0.3690028190612793 | Accuracy: 92.1875%\n",
            "GB | Epoch 3 | Loss: 0.15852051973342896 | Accuracy: 93.75%\n",
            "GB | Epoch 3 | Loss: 0.19172295928001404 | Accuracy: 93.75%\n",
            "GB | Epoch 3 | Loss: 0.21636654436588287 | Accuracy: 90.625%\n",
            "GB | Epoch 3 | Loss: 0.2301097810268402 | Accuracy: 93.75%\n",
            "GB | Epoch 3 | Loss: 0.27387896180152893 | Accuracy: 92.1875%\n",
            "GB | Epoch 3 | Loss: 0.13175353407859802 | Accuracy: 95.3125%\n",
            "GB | Epoch 3 | Loss: 0.07441145926713943 | Accuracy: 100.0%\n",
            "GB | Epoch 3 | Loss: 0.2691451907157898 | Accuracy: 92.1875%\n",
            "GB | Epoch 3 | Loss: 0.14825871586799622 | Accuracy: 95.3125%\n",
            "GB | Epoch 3 | Loss: 0.1987408697605133 | Accuracy: 92.1875%\n",
            "GB | Epoch 3 | Loss: 0.18337157368659973 | Accuracy: 95.3125%\n",
            "GB | Epoch 3 | Loss: 0.4034343361854553 | Accuracy: 89.0625%\n",
            "GB | Epoch 3 | Loss: 0.2348964959383011 | Accuracy: 93.75%\n",
            "GB | Epoch 3 | Loss: 0.16529540717601776 | Accuracy: 95.3125%\n",
            "GB | Epoch 3 | Loss: 0.12342379242181778 | Accuracy: 98.4375%\n"
          ]
        },
        {
          "output_type": "stream",
          "name": "stderr",
          "text": [
            "Epoch 3:  81%|████████  | 605/751 [00:06<00:01, 91.23batch/s, accuracy=95.3125%, loss=0.185]"
          ]
        },
        {
          "output_type": "stream",
          "name": "stdout",
          "text": [
            "GB | Epoch 3 | Loss: 0.12987686693668365 | Accuracy: 100.0%\n",
            "GB | Epoch 3 | Loss: 0.13475818932056427 | Accuracy: 98.4375%\n",
            "GB | Epoch 3 | Loss: 0.19156473875045776 | Accuracy: 95.3125%\n",
            "GB | Epoch 3 | Loss: 0.2675856649875641 | Accuracy: 89.0625%\n",
            "GB | Epoch 3 | Loss: 0.18588680028915405 | Accuracy: 92.1875%\n",
            "GB | Epoch 3 | Loss: 0.14711618423461914 | Accuracy: 95.3125%\n",
            "GB | Epoch 3 | Loss: 0.1947358250617981 | Accuracy: 92.1875%\n",
            "GB | Epoch 3 | Loss: 0.13076801598072052 | Accuracy: 95.3125%\n",
            "GB | Epoch 3 | Loss: 0.16555556654930115 | Accuracy: 98.4375%\n",
            "GB | Epoch 3 | Loss: 0.15704603493213654 | Accuracy: 95.3125%\n",
            "GB | Epoch 3 | Loss: 0.2337563931941986 | Accuracy: 95.3125%\n",
            "GB | Epoch 3 | Loss: 0.1438351273536682 | Accuracy: 93.75%\n",
            "GB | Epoch 3 | Loss: 0.30940356850624084 | Accuracy: 92.1875%\n",
            "GB | Epoch 3 | Loss: 0.14485615491867065 | Accuracy: 90.625%\n",
            "GB | Epoch 3 | Loss: 0.18053624033927917 | Accuracy: 92.1875%\n",
            "GB | Epoch 3 | Loss: 0.1426367163658142 | Accuracy: 96.875%\n",
            "GB | Epoch 3 | Loss: 0.2201649248600006 | Accuracy: 92.1875%\n",
            "GB | Epoch 3 | Loss: 0.18480640649795532 | Accuracy: 95.3125%\n"
          ]
        },
        {
          "output_type": "stream",
          "name": "stderr",
          "text": [
            "Epoch 3:  83%|████████▎ | 625/751 [00:07<00:01, 87.07batch/s, accuracy=92.1875%, loss=0.296]"
          ]
        },
        {
          "output_type": "stream",
          "name": "stdout",
          "text": [
            "GB | Epoch 3 | Loss: 0.1565103530883789 | Accuracy: 96.875%\n",
            "GB | Epoch 3 | Loss: 0.11114072054624557 | Accuracy: 100.0%\n",
            "GB | Epoch 3 | Loss: 0.1565014272928238 | Accuracy: 93.75%\n",
            "GB | Epoch 3 | Loss: 0.1375807225704193 | Accuracy: 96.875%\n",
            "GB | Epoch 3 | Loss: 0.177542045712471 | Accuracy: 95.3125%\n",
            "GB | Epoch 3 | Loss: 0.14486949145793915 | Accuracy: 95.3125%\n",
            "GB | Epoch 3 | Loss: 0.15189474821090698 | Accuracy: 93.75%\n",
            "GB | Epoch 3 | Loss: 0.13412949442863464 | Accuracy: 95.3125%\n",
            "GB | Epoch 3 | Loss: 0.20934924483299255 | Accuracy: 93.75%\n",
            "GB | Epoch 3 | Loss: 0.21262000501155853 | Accuracy: 98.4375%\n",
            "GB | Epoch 3 | Loss: 0.1859695315361023 | Accuracy: 95.3125%\n",
            "GB | Epoch 3 | Loss: 0.18632590770721436 | Accuracy: 93.75%\n",
            "GB | Epoch 3 | Loss: 0.11110476404428482 | Accuracy: 96.875%\n",
            "GB | Epoch 3 | Loss: 0.1807626634836197 | Accuracy: 93.75%\n",
            "GB | Epoch 3 | Loss: 0.10437105596065521 | Accuracy: 98.4375%\n",
            "GB | Epoch 3 | Loss: 0.17881374061107635 | Accuracy: 93.75%\n",
            "GB | Epoch 3 | Loss: 0.2962104380130768 | Accuracy: 92.1875%\n"
          ]
        },
        {
          "output_type": "stream",
          "name": "stderr",
          "text": [
            "Epoch 3:  86%|████████▌ | 643/751 [00:07<00:01, 87.12batch/s, accuracy=95.3125%, loss=0.144]"
          ]
        },
        {
          "output_type": "stream",
          "name": "stdout",
          "text": [
            "GB | Epoch 3 | Loss: 0.4575977325439453 | Accuracy: 93.75%\n",
            "GB | Epoch 3 | Loss: 0.11620621383190155 | Accuracy: 96.875%\n",
            "GB | Epoch 3 | Loss: 0.1814233958721161 | Accuracy: 92.1875%\n",
            "GB | Epoch 3 | Loss: 0.20535042881965637 | Accuracy: 95.3125%\n",
            "GB | Epoch 3 | Loss: 0.2703397274017334 | Accuracy: 93.75%\n",
            "GB | Epoch 3 | Loss: 0.15116791427135468 | Accuracy: 95.3125%\n",
            "GB | Epoch 3 | Loss: 0.1857159435749054 | Accuracy: 95.3125%\n",
            "GB | Epoch 3 | Loss: 0.16229408979415894 | Accuracy: 95.3125%\n",
            "GB | Epoch 3 | Loss: 0.15370683372020721 | Accuracy: 96.875%\n",
            "GB | Epoch 3 | Loss: 0.19173596799373627 | Accuracy: 93.75%\n",
            "GB | Epoch 3 | Loss: 0.20437657833099365 | Accuracy: 90.625%\n",
            "GB | Epoch 3 | Loss: 0.20017924904823303 | Accuracy: 92.1875%\n",
            "GB | Epoch 3 | Loss: 0.14615997672080994 | Accuracy: 96.875%\n",
            "GB | Epoch 3 | Loss: 0.14669424295425415 | Accuracy: 96.875%\n",
            "GB | Epoch 3 | Loss: 0.1746443659067154 | Accuracy: 98.4375%\n",
            "GB | Epoch 3 | Loss: 0.12835779786109924 | Accuracy: 96.875%\n",
            "GB | Epoch 3 | Loss: 0.15180937945842743 | Accuracy: 98.4375%\n",
            "GB | Epoch 3 | Loss: 0.0869777649641037 | Accuracy: 100.0%\n"
          ]
        },
        {
          "output_type": "stream",
          "name": "stderr",
          "text": [
            "Epoch 3:  88%|████████▊ | 661/751 [00:07<00:01, 85.95batch/s, accuracy=90.625%, loss=0.227]"
          ]
        },
        {
          "output_type": "stream",
          "name": "stdout",
          "text": [
            "GB | Epoch 3 | Loss: 0.14402881264686584 | Accuracy: 95.3125%\n",
            "GB | Epoch 3 | Loss: 0.10988161712884903 | Accuracy: 95.3125%\n",
            "GB | Epoch 3 | Loss: 0.13363809883594513 | Accuracy: 98.4375%\n",
            "GB | Epoch 3 | Loss: 0.15207718312740326 | Accuracy: 96.875%\n",
            "GB | Epoch 3 | Loss: 0.06237243115901947 | Accuracy: 100.0%\n",
            "GB | Epoch 3 | Loss: 0.278536319732666 | Accuracy: 89.0625%\n",
            "GB | Epoch 3 | Loss: 0.09885682910680771 | Accuracy: 100.0%\n",
            "GB | Epoch 3 | Loss: 0.12763123214244843 | Accuracy: 96.875%\n",
            "GB | Epoch 3 | Loss: 0.0958789587020874 | Accuracy: 98.4375%\n",
            "GB | Epoch 3 | Loss: 0.13598749041557312 | Accuracy: 96.875%\n",
            "GB | Epoch 3 | Loss: 0.14473171532154083 | Accuracy: 98.4375%\n",
            "GB | Epoch 3 | Loss: 0.11407828330993652 | Accuracy: 95.3125%\n",
            "GB | Epoch 3 | Loss: 0.3404507040977478 | Accuracy: 87.5%\n",
            "GB | Epoch 3 | Loss: 0.15548497438430786 | Accuracy: 98.4375%\n",
            "GB | Epoch 3 | Loss: 0.25893858075141907 | Accuracy: 92.1875%\n",
            "GB | Epoch 3 | Loss: 0.0985121876001358 | Accuracy: 98.4375%\n",
            "GB | Epoch 3 | Loss: 0.3306525647640228 | Accuracy: 92.1875%\n",
            "GB | Epoch 3 | Loss: 0.22707122564315796 | Accuracy: 90.625%\n"
          ]
        },
        {
          "output_type": "stream",
          "name": "stderr",
          "text": [
            "Epoch 3:  89%|████████▉ | 672/751 [00:07<00:00, 90.28batch/s, accuracy=90.625%, loss=0.231]"
          ]
        },
        {
          "output_type": "stream",
          "name": "stdout",
          "text": [
            "GB | Epoch 3 | Loss: 0.23901106417179108 | Accuracy: 89.0625%\n",
            "GB | Epoch 3 | Loss: 0.21577875316143036 | Accuracy: 92.1875%\n",
            "GB | Epoch 3 | Loss: 0.058350570499897 | Accuracy: 100.0%\n",
            "GB | Epoch 3 | Loss: 0.2130567729473114 | Accuracy: 93.75%\n",
            "GB | Epoch 3 | Loss: 0.2833160161972046 | Accuracy: 90.625%\n",
            "GB | Epoch 3 | Loss: 0.14790433645248413 | Accuracy: 95.3125%\n",
            "GB | Epoch 3 | Loss: 0.13934816420078278 | Accuracy: 95.3125%\n",
            "GB | Epoch 3 | Loss: 0.1593790501356125 | Accuracy: 93.75%\n",
            "GB | Epoch 3 | Loss: 0.07767994701862335 | Accuracy: 96.875%\n",
            "GB | Epoch 3 | Loss: 0.0814630389213562 | Accuracy: 95.3125%\n",
            "GB | Epoch 3 | Loss: 0.24107836186885834 | Accuracy: 90.625%\n",
            "GB | Epoch 3 | Loss: 0.0722513273358345 | Accuracy: 98.4375%\n",
            "GB | Epoch 3 | Loss: 0.2171030193567276 | Accuracy: 93.75%\n",
            "GB | Epoch 3 | Loss: 0.10902606695890427 | Accuracy: 96.875%\n",
            "GB | Epoch 3 | Loss: 0.15568514168262482 | Accuracy: 95.3125%\n",
            "GB | Epoch 3 | Loss: 0.28186991810798645 | Accuracy: 95.3125%\n",
            "GB | Epoch 3 | Loss: 0.3761475086212158 | Accuracy: 92.1875%\n",
            "GB | Epoch 3 | Loss: 0.10238421708345413 | Accuracy: 98.4375%\n",
            "GB | Epoch 3 | Loss: 0.22020570933818817 | Accuracy: 93.75%\n",
            "GB | Epoch 3 | Loss: 0.14153170585632324 | Accuracy: 95.3125%\n",
            "GB | Epoch 3 | Loss: 0.11230424791574478 | Accuracy: 96.875%\n",
            "GB | Epoch 3 | Loss: 0.2313946783542633 | Accuracy: 90.625%\n"
          ]
        },
        {
          "output_type": "stream",
          "name": "stderr",
          "text": [
            "Epoch 3:  93%|█████████▎| 695/751 [00:07<00:00, 97.57batch/s, accuracy=96.875%, loss=0.112] "
          ]
        },
        {
          "output_type": "stream",
          "name": "stdout",
          "text": [
            "GB | Epoch 3 | Loss: 0.15728162229061127 | Accuracy: 96.875%\n",
            "GB | Epoch 3 | Loss: 0.15323171019554138 | Accuracy: 95.3125%\n",
            "GB | Epoch 3 | Loss: 0.1998770833015442 | Accuracy: 92.1875%\n",
            "GB | Epoch 3 | Loss: 0.15882274508476257 | Accuracy: 95.3125%\n",
            "GB | Epoch 3 | Loss: 0.2527446150779724 | Accuracy: 96.875%\n",
            "GB | Epoch 3 | Loss: 0.139643132686615 | Accuracy: 96.875%\n",
            "GB | Epoch 3 | Loss: 0.10443300753831863 | Accuracy: 98.4375%\n",
            "GB | Epoch 3 | Loss: 0.17129389941692352 | Accuracy: 93.75%\n",
            "GB | Epoch 3 | Loss: 0.23045627772808075 | Accuracy: 92.1875%\n",
            "GB | Epoch 3 | Loss: 0.1384940892457962 | Accuracy: 95.3125%\n",
            "GB | Epoch 3 | Loss: 0.20481033623218536 | Accuracy: 93.75%\n",
            "GB | Epoch 3 | Loss: 0.28876882791519165 | Accuracy: 90.625%\n",
            "GB | Epoch 3 | Loss: 0.1975395530462265 | Accuracy: 95.3125%\n",
            "GB | Epoch 3 | Loss: 0.2081654816865921 | Accuracy: 93.75%\n",
            "GB | Epoch 3 | Loss: 0.1706433892250061 | Accuracy: 98.4375%\n",
            "GB | Epoch 3 | Loss: 0.11581137031316757 | Accuracy: 96.875%\n",
            "GB | Epoch 3 | Loss: 0.14594176411628723 | Accuracy: 95.3125%\n",
            "GB | Epoch 3 | Loss: 0.09986771643161774 | Accuracy: 95.3125%\n",
            "GB | Epoch 3 | Loss: 0.19558395445346832 | Accuracy: 93.75%\n",
            "GB | Epoch 3 | Loss: 0.11161357909440994 | Accuracy: 96.875%\n",
            "GB | Epoch 3 | Loss: 0.1866500973701477 | Accuracy: 95.3125%\n"
          ]
        },
        {
          "output_type": "stream",
          "name": "stderr",
          "text": [
            "Epoch 3:  95%|█████████▌| 717/751 [00:08<00:00, 101.48batch/s, accuracy=98.4375%, loss=0.121]"
          ]
        },
        {
          "output_type": "stream",
          "name": "stdout",
          "text": [
            "GB | Epoch 3 | Loss: 0.11245354264974594 | Accuracy: 96.875%\n",
            "GB | Epoch 3 | Loss: 0.22409169375896454 | Accuracy: 95.3125%\n",
            "GB | Epoch 3 | Loss: 0.078965924680233 | Accuracy: 100.0%\n",
            "GB | Epoch 3 | Loss: 0.09422455728054047 | Accuracy: 98.4375%\n",
            "GB | Epoch 3 | Loss: 0.06824872642755508 | Accuracy: 100.0%\n",
            "GB | Epoch 3 | Loss: 0.1396992951631546 | Accuracy: 96.875%\n",
            "GB | Epoch 3 | Loss: 0.1231362372636795 | Accuracy: 98.4375%\n",
            "GB | Epoch 3 | Loss: 0.11266963928937912 | Accuracy: 96.875%\n",
            "GB | Epoch 3 | Loss: 0.10104385763406754 | Accuracy: 96.875%\n",
            "GB | Epoch 3 | Loss: 0.19390831887722015 | Accuracy: 93.75%\n",
            "GB | Epoch 3 | Loss: 0.22845429182052612 | Accuracy: 95.3125%\n",
            "GB | Epoch 3 | Loss: 0.17953291535377502 | Accuracy: 95.3125%\n",
            "GB | Epoch 3 | Loss: 0.16802150011062622 | Accuracy: 93.75%\n",
            "GB | Epoch 3 | Loss: 0.16943039000034332 | Accuracy: 93.75%\n",
            "GB | Epoch 3 | Loss: 0.12997651100158691 | Accuracy: 96.875%\n",
            "GB | Epoch 3 | Loss: 0.14585016667842865 | Accuracy: 96.875%\n",
            "GB | Epoch 3 | Loss: 0.1387450248003006 | Accuracy: 93.75%\n",
            "GB | Epoch 3 | Loss: 0.17474329471588135 | Accuracy: 96.875%\n",
            "GB | Epoch 3 | Loss: 0.13771599531173706 | Accuracy: 96.875%\n",
            "GB | Epoch 3 | Loss: 0.12117397785186768 | Accuracy: 98.4375%\n"
          ]
        },
        {
          "output_type": "stream",
          "name": "stderr",
          "text": [
            "Epoch 3:  98%|█████████▊| 739/751 [00:08<00:00, 99.94batch/s, accuracy=93.75%, loss=0.198]  "
          ]
        },
        {
          "output_type": "stream",
          "name": "stdout",
          "text": [
            "GB | Epoch 3 | Loss: 0.15371482074260712 | Accuracy: 93.75%\n",
            "GB | Epoch 3 | Loss: 0.2691338062286377 | Accuracy: 93.75%\n",
            "GB | Epoch 3 | Loss: 0.1435832381248474 | Accuracy: 93.75%\n",
            "GB | Epoch 3 | Loss: 0.26358187198638916 | Accuracy: 89.0625%\n",
            "GB | Epoch 3 | Loss: 0.16035299003124237 | Accuracy: 96.875%\n",
            "GB | Epoch 3 | Loss: 0.14301031827926636 | Accuracy: 93.75%\n",
            "GB | Epoch 3 | Loss: 0.10625258833169937 | Accuracy: 95.3125%\n",
            "GB | Epoch 3 | Loss: 0.15572986006736755 | Accuracy: 95.3125%\n",
            "GB | Epoch 3 | Loss: 0.16667000949382782 | Accuracy: 92.1875%\n",
            "GB | Epoch 3 | Loss: 0.1924779862165451 | Accuracy: 93.75%\n",
            "GB | Epoch 3 | Loss: 0.16765321791172028 | Accuracy: 93.75%\n",
            "GB | Epoch 3 | Loss: 0.20723652839660645 | Accuracy: 93.75%\n",
            "GB | Epoch 3 | Loss: 0.09490392357110977 | Accuracy: 100.0%\n",
            "GB | Epoch 3 | Loss: 0.19123095273971558 | Accuracy: 98.4375%\n",
            "GB | Epoch 3 | Loss: 0.07949154078960419 | Accuracy: 100.0%\n",
            "GB | Epoch 3 | Loss: 0.13364194333553314 | Accuracy: 98.4375%\n",
            "GB | Epoch 3 | Loss: 0.0967056006193161 | Accuracy: 98.4375%\n",
            "GB | Epoch 3 | Loss: 0.19774433970451355 | Accuracy: 93.75%\n",
            "GB | Epoch 3 | Loss: 0.08197172731161118 | Accuracy: 98.4375%\n",
            "GB | Epoch 3 | Loss: 0.09608517587184906 | Accuracy: 98.4375%\n",
            "GB | Epoch 3 | Loss: 0.19588202238082886 | Accuracy: 89.0625%\n",
            "GB | Epoch 3 | Loss: 0.17873245477676392 | Accuracy: 95.3125%\n",
            "GB | Epoch 3 | Loss: 0.12544657289981842 | Accuracy: 98.4375%\n"
          ]
        },
        {
          "output_type": "stream",
          "name": "stderr",
          "text": [
            "Epoch 3: 100%|██████████| 751/751 [00:08<00:00, 88.93batch/s, accuracy=100.0%, loss=0.144]\n"
          ]
        },
        {
          "output_type": "stream",
          "name": "stdout",
          "text": [
            "GB | Epoch 3 | Loss: 0.19800980389118195 | Accuracy: 93.75%\n",
            "GB | Epoch 3 | Loss: 0.12928982079029083 | Accuracy: 98.4375%\n",
            "GB | Epoch 3 | Loss: 0.20560653507709503 | Accuracy: 95.3125%\n",
            "GB | Epoch 3 | Loss: 0.14353762567043304 | Accuracy: 100.0%\n"
          ]
        },
        {
          "output_type": "stream",
          "name": "stderr",
          "text": [
            "Epoch 4:   2%|▏         | 18/751 [00:00<00:14, 50.54batch/s, accuracy=96.875%, loss=0.0897]"
          ]
        },
        {
          "output_type": "stream",
          "name": "stdout",
          "text": [
            "GB | Epoch 4 | Loss: 0.31262898445129395 | Accuracy: 92.1875%\n",
            "GB | Epoch 4 | Loss: 0.17249856889247894 | Accuracy: 93.75%\n",
            "GB | Epoch 4 | Loss: 0.1977211833000183 | Accuracy: 93.75%\n",
            "GB | Epoch 4 | Loss: 0.15228301286697388 | Accuracy: 96.875%\n",
            "GB | Epoch 4 | Loss: 0.16822491586208344 | Accuracy: 95.3125%\n",
            "GB | Epoch 4 | Loss: 0.12306852638721466 | Accuracy: 93.75%\n",
            "GB | Epoch 4 | Loss: 0.21822531521320343 | Accuracy: 89.0625%\n",
            "GB | Epoch 4 | Loss: 0.1484900861978531 | Accuracy: 95.3125%\n",
            "GB | Epoch 4 | Loss: 0.13551872968673706 | Accuracy: 98.4375%\n",
            "GB | Epoch 4 | Loss: 0.2349587082862854 | Accuracy: 96.875%\n",
            "GB | Epoch 4 | Loss: 0.1201392114162445 | Accuracy: 96.875%\n",
            "GB | Epoch 4 | Loss: 0.09117317199707031 | Accuracy: 98.4375%\n",
            "GB | Epoch 4 | Loss: 0.25778788328170776 | Accuracy: 93.75%\n",
            "GB | Epoch 4 | Loss: 0.12476585060358047 | Accuracy: 96.875%\n",
            "GB | Epoch 4 | Loss: 0.13361035287380219 | Accuracy: 93.75%\n",
            "GB | Epoch 4 | Loss: 0.13346844911575317 | Accuracy: 95.3125%\n",
            "GB | Epoch 4 | Loss: 0.10290653258562088 | Accuracy: 98.4375%\n",
            "GB | Epoch 4 | Loss: 0.08974717557430267 | Accuracy: 96.875%\n"
          ]
        },
        {
          "output_type": "stream",
          "name": "stderr",
          "text": [
            "Epoch 4:   4%|▎         | 28/751 [00:00<00:11, 63.76batch/s, accuracy=96.875%, loss=0.131] "
          ]
        },
        {
          "output_type": "stream",
          "name": "stdout",
          "text": [
            "GB | Epoch 4 | Loss: 0.08282691240310669 | Accuracy: 98.4375%\n",
            "GB | Epoch 4 | Loss: 0.12248856574296951 | Accuracy: 96.875%\n",
            "GB | Epoch 4 | Loss: 0.15494099259376526 | Accuracy: 95.3125%\n",
            "GB | Epoch 4 | Loss: 0.08110029995441437 | Accuracy: 98.4375%\n",
            "GB | Epoch 4 | Loss: 0.18421228229999542 | Accuracy: 96.875%\n",
            "GB | Epoch 4 | Loss: 0.2469193935394287 | Accuracy: 90.625%\n",
            "GB | Epoch 4 | Loss: 0.18046662211418152 | Accuracy: 95.3125%\n",
            "GB | Epoch 4 | Loss: 0.16155584156513214 | Accuracy: 96.875%\n",
            "GB | Epoch 4 | Loss: 0.2485700249671936 | Accuracy: 93.75%\n",
            "GB | Epoch 4 | Loss: 0.13821165263652802 | Accuracy: 98.4375%\n",
            "GB | Epoch 4 | Loss: 0.22507832944393158 | Accuracy: 93.75%\n",
            "GB | Epoch 4 | Loss: 0.1743983030319214 | Accuracy: 92.1875%\n",
            "GB | Epoch 4 | Loss: 0.2363266497850418 | Accuracy: 93.75%\n",
            "GB | Epoch 4 | Loss: 0.14466893672943115 | Accuracy: 96.875%\n",
            "GB | Epoch 4 | Loss: 0.11652051657438278 | Accuracy: 96.875%\n",
            "GB | Epoch 4 | Loss: 0.09202896058559418 | Accuracy: 96.875%\n",
            "GB | Epoch 4 | Loss: 0.17282205820083618 | Accuracy: 95.3125%\n"
          ]
        },
        {
          "output_type": "stream",
          "name": "stderr",
          "text": [
            "Epoch 4:   6%|▌         | 46/751 [00:00<00:09, 74.71batch/s, accuracy=95.3125%, loss=0.103]"
          ]
        },
        {
          "output_type": "stream",
          "name": "stdout",
          "text": [
            "GB | Epoch 4 | Loss: 0.1307370513677597 | Accuracy: 96.875%\n",
            "GB | Epoch 4 | Loss: 0.10310886800289154 | Accuracy: 98.4375%\n",
            "GB | Epoch 4 | Loss: 0.1206643134355545 | Accuracy: 95.3125%\n",
            "GB | Epoch 4 | Loss: 0.096250019967556 | Accuracy: 96.875%\n",
            "GB | Epoch 4 | Loss: 0.11739310622215271 | Accuracy: 96.875%\n",
            "GB | Epoch 4 | Loss: 0.11492901295423508 | Accuracy: 98.4375%\n",
            "GB | Epoch 4 | Loss: 0.05511680617928505 | Accuracy: 100.0%\n",
            "GB | Epoch 4 | Loss: 0.11235173791646957 | Accuracy: 96.875%\n",
            "GB | Epoch 4 | Loss: 0.119153693318367 | Accuracy: 93.75%\n",
            "GB | Epoch 4 | Loss: 0.167308509349823 | Accuracy: 95.3125%\n",
            "GB | Epoch 4 | Loss: 0.08273638784885406 | Accuracy: 98.4375%\n",
            "GB | Epoch 4 | Loss: 0.11879530549049377 | Accuracy: 96.875%\n",
            "GB | Epoch 4 | Loss: 0.10804250836372375 | Accuracy: 98.4375%\n",
            "GB | Epoch 4 | Loss: 0.1508047878742218 | Accuracy: 95.3125%\n",
            "GB | Epoch 4 | Loss: 0.15736037492752075 | Accuracy: 93.75%\n",
            "GB | Epoch 4 | Loss: 0.18237031996250153 | Accuracy: 96.875%\n",
            "GB | Epoch 4 | Loss: 0.1030987948179245 | Accuracy: 95.3125%\n"
          ]
        },
        {
          "output_type": "stream",
          "name": "stderr",
          "text": [
            "Epoch 4:   9%|▊         | 64/751 [00:01<00:08, 77.93batch/s, accuracy=96.875%, loss=0.167]  "
          ]
        },
        {
          "output_type": "stream",
          "name": "stdout",
          "text": [
            "GB | Epoch 4 | Loss: 0.08901361376047134 | Accuracy: 96.875%\n",
            "GB | Epoch 4 | Loss: 0.048983484506607056 | Accuracy: 100.0%\n",
            "GB | Epoch 4 | Loss: 0.05964842438697815 | Accuracy: 100.0%\n",
            "GB | Epoch 4 | Loss: 0.1457151621580124 | Accuracy: 95.3125%\n",
            "GB | Epoch 4 | Loss: 0.08276370912790298 | Accuracy: 100.0%\n",
            "GB | Epoch 4 | Loss: 0.14011964201927185 | Accuracy: 93.75%\n",
            "GB | Epoch 4 | Loss: 0.1255926936864853 | Accuracy: 98.4375%\n",
            "GB | Epoch 4 | Loss: 0.14970701932907104 | Accuracy: 96.875%\n",
            "GB | Epoch 4 | Loss: 0.10783977061510086 | Accuracy: 95.3125%\n",
            "GB | Epoch 4 | Loss: 0.10612871497869492 | Accuracy: 98.4375%\n",
            "GB | Epoch 4 | Loss: 0.10456932336091995 | Accuracy: 96.875%\n",
            "GB | Epoch 4 | Loss: 0.07281523942947388 | Accuracy: 100.0%\n",
            "GB | Epoch 4 | Loss: 0.0676746815443039 | Accuracy: 100.0%\n",
            "GB | Epoch 4 | Loss: 0.18801310658454895 | Accuracy: 93.75%\n",
            "GB | Epoch 4 | Loss: 0.10519978404045105 | Accuracy: 96.875%\n",
            "GB | Epoch 4 | Loss: 0.08658033609390259 | Accuracy: 98.4375%\n",
            "GB | Epoch 4 | Loss: 0.1668558567762375 | Accuracy: 96.875%\n"
          ]
        },
        {
          "output_type": "stream",
          "name": "stderr",
          "text": [
            "Epoch 4:  11%|█         | 81/751 [00:01<00:08, 74.48batch/s, accuracy=95.3125%, loss=0.164]"
          ]
        },
        {
          "output_type": "stream",
          "name": "stdout",
          "text": [
            "GB | Epoch 4 | Loss: 0.19044910371303558 | Accuracy: 93.75%\n",
            "GB | Epoch 4 | Loss: 0.09858307242393494 | Accuracy: 96.875%\n",
            "GB | Epoch 4 | Loss: 0.11103381961584091 | Accuracy: 95.3125%\n",
            "GB | Epoch 4 | Loss: 0.10959627479314804 | Accuracy: 96.875%\n",
            "GB | Epoch 4 | Loss: 0.17235645651817322 | Accuracy: 92.1875%\n",
            "GB | Epoch 4 | Loss: 0.1405322253704071 | Accuracy: 95.3125%\n",
            "GB | Epoch 4 | Loss: 0.16001662611961365 | Accuracy: 96.875%\n",
            "GB | Epoch 4 | Loss: 0.3156326711177826 | Accuracy: 95.3125%\n",
            "GB | Epoch 4 | Loss: 0.10691799968481064 | Accuracy: 95.3125%\n",
            "GB | Epoch 4 | Loss: 0.10747445374727249 | Accuracy: 98.4375%\n",
            "GB | Epoch 4 | Loss: 0.16633732616901398 | Accuracy: 96.875%\n",
            "GB | Epoch 4 | Loss: 0.13312244415283203 | Accuracy: 95.3125%\n",
            "GB | Epoch 4 | Loss: 0.08451292663812637 | Accuracy: 100.0%\n",
            "GB | Epoch 4 | Loss: 0.13016299903392792 | Accuracy: 98.4375%\n"
          ]
        },
        {
          "output_type": "stream",
          "name": "stderr",
          "text": [
            "Epoch 4:  13%|█▎        | 97/751 [00:01<00:08, 74.54batch/s, accuracy=96.875%, loss=0.09]  "
          ]
        },
        {
          "output_type": "stream",
          "name": "stdout",
          "text": [
            "GB | Epoch 4 | Loss: 0.16376939415931702 | Accuracy: 95.3125%\n",
            "GB | Epoch 4 | Loss: 0.05822962522506714 | Accuracy: 100.0%\n",
            "GB | Epoch 4 | Loss: 0.12944534420967102 | Accuracy: 96.875%\n",
            "GB | Epoch 4 | Loss: 0.13872969150543213 | Accuracy: 96.875%\n",
            "GB | Epoch 4 | Loss: 0.12103664875030518 | Accuracy: 98.4375%\n",
            "GB | Epoch 4 | Loss: 0.14918413758277893 | Accuracy: 96.875%\n",
            "GB | Epoch 4 | Loss: 0.1577291041612625 | Accuracy: 96.875%\n",
            "GB | Epoch 4 | Loss: 0.13810162246227264 | Accuracy: 96.875%\n",
            "GB | Epoch 4 | Loss: 0.14226262271404266 | Accuracy: 95.3125%\n",
            "GB | Epoch 4 | Loss: 0.1273321807384491 | Accuracy: 96.875%\n",
            "GB | Epoch 4 | Loss: 0.19909673929214478 | Accuracy: 95.3125%\n",
            "GB | Epoch 4 | Loss: 0.07011868059635162 | Accuracy: 100.0%\n",
            "GB | Epoch 4 | Loss: 0.13676351308822632 | Accuracy: 95.3125%\n",
            "GB | Epoch 4 | Loss: 0.12185179442167282 | Accuracy: 96.875%\n",
            "GB | Epoch 4 | Loss: 0.08280511200428009 | Accuracy: 96.875%\n",
            "GB | Epoch 4 | Loss: 0.13296712934970856 | Accuracy: 95.3125%\n"
          ]
        },
        {
          "output_type": "stream",
          "name": "stderr",
          "text": [
            "Epoch 4:  15%|█▌        | 116/751 [00:01<00:07, 81.99batch/s, accuracy=100.0%, loss=0.073] "
          ]
        },
        {
          "output_type": "stream",
          "name": "stdout",
          "text": [
            "GB | Epoch 4 | Loss: 0.08997845649719238 | Accuracy: 96.875%\n",
            "GB | Epoch 4 | Loss: 0.08896517753601074 | Accuracy: 98.4375%\n",
            "GB | Epoch 4 | Loss: 0.06418734788894653 | Accuracy: 98.4375%\n",
            "GB | Epoch 4 | Loss: 0.07681161910295486 | Accuracy: 100.0%\n",
            "GB | Epoch 4 | Loss: 0.043546080589294434 | Accuracy: 100.0%\n",
            "GB | Epoch 4 | Loss: 0.11707662045955658 | Accuracy: 96.875%\n",
            "GB | Epoch 4 | Loss: 0.15979015827178955 | Accuracy: 93.75%\n",
            "GB | Epoch 4 | Loss: 0.11549422144889832 | Accuracy: 96.875%\n",
            "GB | Epoch 4 | Loss: 0.10415834188461304 | Accuracy: 96.875%\n",
            "GB | Epoch 4 | Loss: 0.09255176782608032 | Accuracy: 96.875%\n",
            "GB | Epoch 4 | Loss: 0.22047607600688934 | Accuracy: 92.1875%\n",
            "GB | Epoch 4 | Loss: 0.11931012570858002 | Accuracy: 98.4375%\n",
            "GB | Epoch 4 | Loss: 0.25583478808403015 | Accuracy: 92.1875%\n",
            "GB | Epoch 4 | Loss: 0.13935747742652893 | Accuracy: 96.875%\n",
            "GB | Epoch 4 | Loss: 0.15546053647994995 | Accuracy: 93.75%\n",
            "GB | Epoch 4 | Loss: 0.14833606779575348 | Accuracy: 95.3125%\n",
            "GB | Epoch 4 | Loss: 0.21469281613826752 | Accuracy: 96.875%\n",
            "GB | Epoch 4 | Loss: 0.1726703941822052 | Accuracy: 96.875%\n",
            "GB | Epoch 4 | Loss: 0.07300613075494766 | Accuracy: 100.0%\n"
          ]
        },
        {
          "output_type": "stream",
          "name": "stderr",
          "text": [
            "Epoch 4:  18%|█▊        | 135/751 [00:01<00:07, 87.38batch/s, accuracy=95.3125%, loss=0.111]"
          ]
        },
        {
          "output_type": "stream",
          "name": "stdout",
          "text": [
            "GB | Epoch 4 | Loss: 0.14492976665496826 | Accuracy: 93.75%\n",
            "GB | Epoch 4 | Loss: 0.14342039823532104 | Accuracy: 96.875%\n",
            "GB | Epoch 4 | Loss: 0.3222130239009857 | Accuracy: 90.625%\n",
            "GB | Epoch 4 | Loss: 0.10828408598899841 | Accuracy: 96.875%\n",
            "GB | Epoch 4 | Loss: 0.11255034059286118 | Accuracy: 98.4375%\n",
            "GB | Epoch 4 | Loss: 0.08623316884040833 | Accuracy: 96.875%\n",
            "GB | Epoch 4 | Loss: 0.08515983819961548 | Accuracy: 96.875%\n",
            "GB | Epoch 4 | Loss: 0.2146022915840149 | Accuracy: 93.75%\n",
            "GB | Epoch 4 | Loss: 0.11043262481689453 | Accuracy: 95.3125%\n",
            "GB | Epoch 4 | Loss: 0.17198139429092407 | Accuracy: 93.75%\n",
            "GB | Epoch 4 | Loss: 0.09093806147575378 | Accuracy: 100.0%\n",
            "GB | Epoch 4 | Loss: 0.20964887738227844 | Accuracy: 95.3125%\n",
            "GB | Epoch 4 | Loss: 0.2542397379875183 | Accuracy: 89.0625%\n",
            "GB | Epoch 4 | Loss: 0.15623486042022705 | Accuracy: 96.875%\n",
            "GB | Epoch 4 | Loss: 0.2506432831287384 | Accuracy: 92.1875%\n",
            "GB | Epoch 4 | Loss: 0.08390703052282333 | Accuracy: 98.4375%\n",
            "GB | Epoch 4 | Loss: 0.13124509155750275 | Accuracy: 98.4375%\n",
            "GB | Epoch 4 | Loss: 0.28209546208381653 | Accuracy: 93.75%\n",
            "GB | Epoch 4 | Loss: 0.11129497736692429 | Accuracy: 95.3125%\n"
          ]
        },
        {
          "output_type": "stream",
          "name": "stderr",
          "text": [
            "Epoch 4:  20%|██        | 153/751 [00:02<00:07, 83.22batch/s, accuracy=96.875%, loss=0.103]"
          ]
        },
        {
          "output_type": "stream",
          "name": "stdout",
          "text": [
            "GB | Epoch 4 | Loss: 0.19592082500457764 | Accuracy: 92.1875%\n",
            "GB | Epoch 4 | Loss: 0.11793357878923416 | Accuracy: 96.875%\n",
            "GB | Epoch 4 | Loss: 0.1156800165772438 | Accuracy: 96.875%\n",
            "GB | Epoch 4 | Loss: 0.373843252658844 | Accuracy: 85.9375%\n",
            "GB | Epoch 4 | Loss: 0.10440393537282944 | Accuracy: 96.875%\n",
            "GB | Epoch 4 | Loss: 0.09318965673446655 | Accuracy: 98.4375%\n",
            "GB | Epoch 4 | Loss: 0.15777947008609772 | Accuracy: 96.875%\n",
            "GB | Epoch 4 | Loss: 0.1344401091337204 | Accuracy: 95.3125%\n",
            "GB | Epoch 4 | Loss: 0.16086715459823608 | Accuracy: 95.3125%\n",
            "GB | Epoch 4 | Loss: 0.24680262804031372 | Accuracy: 95.3125%\n",
            "GB | Epoch 4 | Loss: 0.07901625335216522 | Accuracy: 100.0%\n",
            "GB | Epoch 4 | Loss: 0.104063019156456 | Accuracy: 96.875%\n",
            "GB | Epoch 4 | Loss: 0.10643158853054047 | Accuracy: 96.875%\n",
            "GB | Epoch 4 | Loss: 0.06977739930152893 | Accuracy: 100.0%\n",
            "GB | Epoch 4 | Loss: 0.06370358914136887 | Accuracy: 98.4375%\n",
            "GB | Epoch 4 | Loss: 0.10848689824342728 | Accuracy: 93.75%\n",
            "GB | Epoch 4 | Loss: 0.10277566313743591 | Accuracy: 96.875%\n"
          ]
        },
        {
          "output_type": "stream",
          "name": "stderr",
          "text": [
            "Epoch 4:  22%|██▏       | 162/751 [00:02<00:07, 82.79batch/s, accuracy=90.625%, loss=0.241]"
          ]
        },
        {
          "output_type": "stream",
          "name": "stdout",
          "text": [
            "GB | Epoch 4 | Loss: 0.09753173589706421 | Accuracy: 98.4375%\n",
            "GB | Epoch 4 | Loss: 0.20556136965751648 | Accuracy: 95.3125%\n",
            "GB | Epoch 4 | Loss: 0.0899379774928093 | Accuracy: 100.0%\n",
            "GB | Epoch 4 | Loss: 0.22594086825847626 | Accuracy: 93.75%\n",
            "GB | Epoch 4 | Loss: 0.08872360736131668 | Accuracy: 98.4375%\n",
            "GB | Epoch 4 | Loss: 0.07904709130525589 | Accuracy: 96.875%\n",
            "GB | Epoch 4 | Loss: 0.1252763867378235 | Accuracy: 98.4375%\n",
            "GB | Epoch 4 | Loss: 0.19446079432964325 | Accuracy: 90.625%\n",
            "GB | Epoch 4 | Loss: 0.17876388132572174 | Accuracy: 95.3125%\n",
            "GB | Epoch 4 | Loss: 0.06406810879707336 | Accuracy: 100.0%\n",
            "GB | Epoch 4 | Loss: 0.1682138592004776 | Accuracy: 95.3125%\n",
            "GB | Epoch 4 | Loss: 0.09729669243097305 | Accuracy: 96.875%\n",
            "GB | Epoch 4 | Loss: 0.14894996583461761 | Accuracy: 93.75%\n",
            "GB | Epoch 4 | Loss: 0.07246021926403046 | Accuracy: 98.4375%\n",
            "GB | Epoch 4 | Loss: 0.06738119572401047 | Accuracy: 100.0%\n"
          ]
        },
        {
          "output_type": "stream",
          "name": "stderr",
          "text": [
            "Epoch 4:  24%|██▍       | 180/751 [00:02<00:06, 82.03batch/s, accuracy=93.75%, loss=0.158] "
          ]
        },
        {
          "output_type": "stream",
          "name": "stdout",
          "text": [
            "GB | Epoch 4 | Loss: 0.240869402885437 | Accuracy: 90.625%\n",
            "GB | Epoch 4 | Loss: 0.07095517218112946 | Accuracy: 98.4375%\n",
            "GB | Epoch 4 | Loss: 0.08331554383039474 | Accuracy: 100.0%\n",
            "GB | Epoch 4 | Loss: 0.07790466398000717 | Accuracy: 100.0%\n",
            "GB | Epoch 4 | Loss: 0.10432489216327667 | Accuracy: 100.0%\n",
            "GB | Epoch 4 | Loss: 0.1895885169506073 | Accuracy: 93.75%\n",
            "GB | Epoch 4 | Loss: 0.17371444404125214 | Accuracy: 96.875%\n",
            "GB | Epoch 4 | Loss: 0.10536079108715057 | Accuracy: 98.4375%\n",
            "GB | Epoch 4 | Loss: 0.16008269786834717 | Accuracy: 95.3125%\n",
            "GB | Epoch 4 | Loss: 0.12831313908100128 | Accuracy: 96.875%\n",
            "GB | Epoch 4 | Loss: 0.22422486543655396 | Accuracy: 95.3125%\n",
            "GB | Epoch 4 | Loss: 0.10720603913068771 | Accuracy: 96.875%\n",
            "GB | Epoch 4 | Loss: 0.10905905812978745 | Accuracy: 96.875%\n",
            "GB | Epoch 4 | Loss: 0.10093693435192108 | Accuracy: 98.4375%\n",
            "GB | Epoch 4 | Loss: 0.11926992237567902 | Accuracy: 96.875%\n",
            "GB | Epoch 4 | Loss: 0.18088717758655548 | Accuracy: 95.3125%\n",
            "GB | Epoch 4 | Loss: 0.06686745584011078 | Accuracy: 100.0%\n"
          ]
        },
        {
          "output_type": "stream",
          "name": "stderr",
          "text": [
            "Epoch 4:  26%|██▋       | 199/751 [00:02<00:06, 85.58batch/s, accuracy=96.875%, loss=0.128] "
          ]
        },
        {
          "output_type": "stream",
          "name": "stdout",
          "text": [
            "GB | Epoch 4 | Loss: 0.15798085927963257 | Accuracy: 93.75%\n",
            "GB | Epoch 4 | Loss: 0.12606903910636902 | Accuracy: 96.875%\n",
            "GB | Epoch 4 | Loss: 0.1021747887134552 | Accuracy: 98.4375%\n",
            "GB | Epoch 4 | Loss: 0.22707322239875793 | Accuracy: 93.75%\n",
            "GB | Epoch 4 | Loss: 0.13400909304618835 | Accuracy: 96.875%\n",
            "GB | Epoch 4 | Loss: 0.11715031415224075 | Accuracy: 96.875%\n",
            "GB | Epoch 4 | Loss: 0.09177258610725403 | Accuracy: 98.4375%\n",
            "GB | Epoch 4 | Loss: 0.12621568143367767 | Accuracy: 93.75%\n",
            "GB | Epoch 4 | Loss: 0.08640924096107483 | Accuracy: 98.4375%\n",
            "GB | Epoch 4 | Loss: 0.27250081300735474 | Accuracy: 92.1875%\n",
            "GB | Epoch 4 | Loss: 0.08658429980278015 | Accuracy: 100.0%\n",
            "GB | Epoch 4 | Loss: 0.07948122918605804 | Accuracy: 98.4375%\n",
            "GB | Epoch 4 | Loss: 0.13857412338256836 | Accuracy: 95.3125%\n",
            "GB | Epoch 4 | Loss: 0.06276651471853256 | Accuracy: 100.0%\n",
            "GB | Epoch 4 | Loss: 0.13762907683849335 | Accuracy: 95.3125%\n",
            "GB | Epoch 4 | Loss: 0.07906035333871841 | Accuracy: 98.4375%\n",
            "GB | Epoch 4 | Loss: 0.08707312494516373 | Accuracy: 98.4375%\n",
            "GB | Epoch 4 | Loss: 0.13140495121479034 | Accuracy: 98.4375%\n",
            "GB | Epoch 4 | Loss: 0.12777914106845856 | Accuracy: 96.875%\n"
          ]
        },
        {
          "output_type": "stream",
          "name": "stderr",
          "text": [
            "Epoch 4:  29%|██▉       | 217/751 [00:02<00:06, 84.01batch/s, accuracy=95.3125%, loss=0.131]"
          ]
        },
        {
          "output_type": "stream",
          "name": "stdout",
          "text": [
            "GB | Epoch 4 | Loss: 0.1282183676958084 | Accuracy: 98.4375%\n",
            "GB | Epoch 4 | Loss: 0.10540326684713364 | Accuracy: 95.3125%\n",
            "GB | Epoch 4 | Loss: 0.0605536587536335 | Accuracy: 98.4375%\n",
            "GB | Epoch 4 | Loss: 0.1406993567943573 | Accuracy: 93.75%\n",
            "GB | Epoch 4 | Loss: 0.10096457600593567 | Accuracy: 95.3125%\n",
            "GB | Epoch 4 | Loss: 0.19500131905078888 | Accuracy: 95.3125%\n",
            "GB | Epoch 4 | Loss: 0.08023630827665329 | Accuracy: 100.0%\n",
            "GB | Epoch 4 | Loss: 0.10861741751432419 | Accuracy: 96.875%\n",
            "GB | Epoch 4 | Loss: 0.09852907806634903 | Accuracy: 98.4375%\n",
            "GB | Epoch 4 | Loss: 0.16852806508541107 | Accuracy: 93.75%\n",
            "GB | Epoch 4 | Loss: 0.12113615870475769 | Accuracy: 95.3125%\n",
            "GB | Epoch 4 | Loss: 0.13553279638290405 | Accuracy: 95.3125%\n",
            "GB | Epoch 4 | Loss: 0.134322851896286 | Accuracy: 96.875%\n",
            "GB | Epoch 4 | Loss: 0.14031948149204254 | Accuracy: 96.875%\n",
            "GB | Epoch 4 | Loss: 0.055706437677145004 | Accuracy: 100.0%\n",
            "GB | Epoch 4 | Loss: 0.13058118522167206 | Accuracy: 95.3125%\n"
          ]
        },
        {
          "output_type": "stream",
          "name": "stderr",
          "text": [
            "Epoch 4:  31%|███▏      | 235/751 [00:03<00:06, 79.90batch/s, accuracy=98.4375%, loss=0.177]"
          ]
        },
        {
          "output_type": "stream",
          "name": "stdout",
          "text": [
            "GB | Epoch 4 | Loss: 0.09948201477527618 | Accuracy: 98.4375%\n",
            "GB | Epoch 4 | Loss: 0.09706319123506546 | Accuracy: 96.875%\n",
            "GB | Epoch 4 | Loss: 0.11220259964466095 | Accuracy: 96.875%\n",
            "GB | Epoch 4 | Loss: 0.11133303493261337 | Accuracy: 98.4375%\n",
            "GB | Epoch 4 | Loss: 0.07876427471637726 | Accuracy: 98.4375%\n",
            "GB | Epoch 4 | Loss: 0.18550415337085724 | Accuracy: 96.875%\n",
            "GB | Epoch 4 | Loss: 0.11708056926727295 | Accuracy: 96.875%\n",
            "GB | Epoch 4 | Loss: 0.07050963491201401 | Accuracy: 100.0%\n",
            "GB | Epoch 4 | Loss: 0.09666075557470322 | Accuracy: 96.875%\n",
            "GB | Epoch 4 | Loss: 0.09458114206790924 | Accuracy: 98.4375%\n",
            "GB | Epoch 4 | Loss: 0.12828125059604645 | Accuracy: 96.875%\n",
            "GB | Epoch 4 | Loss: 0.0554048977792263 | Accuracy: 100.0%\n",
            "GB | Epoch 4 | Loss: 0.06920766085386276 | Accuracy: 100.0%\n",
            "GB | Epoch 4 | Loss: 0.12783217430114746 | Accuracy: 98.4375%\n",
            "GB | Epoch 4 | Loss: 0.10069525241851807 | Accuracy: 96.875%\n",
            "GB | Epoch 4 | Loss: 0.17698930203914642 | Accuracy: 98.4375%\n"
          ]
        },
        {
          "output_type": "stream",
          "name": "stderr",
          "text": [
            "Epoch 4:  34%|███▎      | 252/751 [00:03<00:06, 79.68batch/s, accuracy=98.4375%, loss=0.0847]"
          ]
        },
        {
          "output_type": "stream",
          "name": "stdout",
          "text": [
            "GB | Epoch 4 | Loss: 0.17297449707984924 | Accuracy: 96.875%\n",
            "GB | Epoch 4 | Loss: 0.17338286340236664 | Accuracy: 95.3125%\n",
            "GB | Epoch 4 | Loss: 0.12577277421951294 | Accuracy: 96.875%\n",
            "GB | Epoch 4 | Loss: 0.24025575816631317 | Accuracy: 96.875%\n",
            "GB | Epoch 4 | Loss: 0.043013639748096466 | Accuracy: 100.0%\n",
            "GB | Epoch 4 | Loss: 0.07196924090385437 | Accuracy: 98.4375%\n",
            "GB | Epoch 4 | Loss: 0.11873681098222733 | Accuracy: 98.4375%\n",
            "GB | Epoch 4 | Loss: 0.08213546872138977 | Accuracy: 98.4375%\n",
            "GB | Epoch 4 | Loss: 0.1778545081615448 | Accuracy: 96.875%\n",
            "GB | Epoch 4 | Loss: 0.07003103196620941 | Accuracy: 96.875%\n",
            "GB | Epoch 4 | Loss: 0.18310795724391937 | Accuracy: 92.1875%\n",
            "GB | Epoch 4 | Loss: 0.11005142331123352 | Accuracy: 95.3125%\n",
            "GB | Epoch 4 | Loss: 0.11731255054473877 | Accuracy: 96.875%\n",
            "GB | Epoch 4 | Loss: 0.06934016942977905 | Accuracy: 100.0%\n",
            "GB | Epoch 4 | Loss: 0.1191539391875267 | Accuracy: 98.4375%\n",
            "GB | Epoch 4 | Loss: 0.13275845348834991 | Accuracy: 96.875%\n"
          ]
        },
        {
          "output_type": "stream",
          "name": "stderr",
          "text": [
            "Epoch 4:  36%|███▌      | 270/751 [00:03<00:05, 83.48batch/s, accuracy=95.3125%, loss=0.103]"
          ]
        },
        {
          "output_type": "stream",
          "name": "stdout",
          "text": [
            "GB | Epoch 4 | Loss: 0.08474722504615784 | Accuracy: 98.4375%\n",
            "GB | Epoch 4 | Loss: 0.07950115203857422 | Accuracy: 98.4375%\n",
            "GB | Epoch 4 | Loss: 0.1968354880809784 | Accuracy: 93.75%\n",
            "GB | Epoch 4 | Loss: 0.10175351798534393 | Accuracy: 96.875%\n",
            "GB | Epoch 4 | Loss: 0.09855762124061584 | Accuracy: 98.4375%\n",
            "GB | Epoch 4 | Loss: 0.09394414722919464 | Accuracy: 98.4375%\n",
            "GB | Epoch 4 | Loss: 0.1685660183429718 | Accuracy: 92.1875%\n",
            "GB | Epoch 4 | Loss: 0.2536642551422119 | Accuracy: 93.75%\n",
            "GB | Epoch 4 | Loss: 0.16533595323562622 | Accuracy: 95.3125%\n",
            "GB | Epoch 4 | Loss: 0.14738473296165466 | Accuracy: 92.1875%\n",
            "GB | Epoch 4 | Loss: 0.07766999304294586 | Accuracy: 98.4375%\n",
            "GB | Epoch 4 | Loss: 0.15260200202465057 | Accuracy: 93.75%\n",
            "GB | Epoch 4 | Loss: 0.15005606412887573 | Accuracy: 96.875%\n",
            "GB | Epoch 4 | Loss: 0.0569743849337101 | Accuracy: 98.4375%\n",
            "GB | Epoch 4 | Loss: 0.17750032246112823 | Accuracy: 92.1875%\n",
            "GB | Epoch 4 | Loss: 0.11433044821023941 | Accuracy: 98.4375%\n",
            "GB | Epoch 4 | Loss: 0.10200026631355286 | Accuracy: 96.875%\n",
            "GB | Epoch 4 | Loss: 0.10308688133955002 | Accuracy: 95.3125%\n"
          ]
        },
        {
          "output_type": "stream",
          "name": "stderr",
          "text": [
            "Epoch 4:  38%|███▊      | 288/751 [00:03<00:05, 83.36batch/s, accuracy=98.4375%, loss=0.108] "
          ]
        },
        {
          "output_type": "stream",
          "name": "stdout",
          "text": [
            "GB | Epoch 4 | Loss: 0.10464774817228317 | Accuracy: 96.875%\n",
            "GB | Epoch 4 | Loss: 0.11267159134149551 | Accuracy: 98.4375%\n",
            "GB | Epoch 4 | Loss: 0.10331889986991882 | Accuracy: 96.875%\n",
            "GB | Epoch 4 | Loss: 0.08070500940084457 | Accuracy: 98.4375%\n",
            "GB | Epoch 4 | Loss: 0.2383735328912735 | Accuracy: 98.4375%\n",
            "GB | Epoch 4 | Loss: 0.08157479763031006 | Accuracy: 98.4375%\n",
            "GB | Epoch 4 | Loss: 0.07978236675262451 | Accuracy: 98.4375%\n",
            "GB | Epoch 4 | Loss: 0.07771093398332596 | Accuracy: 98.4375%\n",
            "GB | Epoch 4 | Loss: 0.09188637882471085 | Accuracy: 96.875%\n",
            "GB | Epoch 4 | Loss: 0.08711481094360352 | Accuracy: 98.4375%\n",
            "GB | Epoch 4 | Loss: 0.10796687006950378 | Accuracy: 98.4375%\n",
            "GB | Epoch 4 | Loss: 0.056073762476444244 | Accuracy: 100.0%\n",
            "GB | Epoch 4 | Loss: 0.15939076244831085 | Accuracy: 98.4375%\n",
            "GB | Epoch 4 | Loss: 0.13773015141487122 | Accuracy: 98.4375%\n",
            "GB | Epoch 4 | Loss: 0.25760895013809204 | Accuracy: 93.75%\n",
            "GB | Epoch 4 | Loss: 0.09415600448846817 | Accuracy: 96.875%\n",
            "GB | Epoch 4 | Loss: 0.08738663792610168 | Accuracy: 98.4375%\n",
            "GB | Epoch 4 | Loss: 0.10849171876907349 | Accuracy: 98.4375%\n"
          ]
        },
        {
          "output_type": "stream",
          "name": "stderr",
          "text": [
            "Epoch 4:  40%|███▉      | 297/751 [00:03<00:05, 81.70batch/s, accuracy=100.0%, loss=0.0693]  "
          ]
        },
        {
          "output_type": "stream",
          "name": "stdout",
          "text": [
            "GB | Epoch 4 | Loss: 0.0729181244969368 | Accuracy: 98.4375%\n",
            "GB | Epoch 4 | Loss: 0.10225185006856918 | Accuracy: 95.3125%\n",
            "GB | Epoch 4 | Loss: 0.16840027272701263 | Accuracy: 95.3125%\n",
            "GB | Epoch 4 | Loss: 0.16941414773464203 | Accuracy: 96.875%\n",
            "GB | Epoch 4 | Loss: 0.09199676662683487 | Accuracy: 98.4375%\n",
            "GB | Epoch 4 | Loss: 0.2498941719532013 | Accuracy: 90.625%\n",
            "GB | Epoch 4 | Loss: 0.11400516331195831 | Accuracy: 98.4375%\n",
            "GB | Epoch 4 | Loss: 0.10551652312278748 | Accuracy: 98.4375%\n",
            "GB | Epoch 4 | Loss: 0.06397827714681625 | Accuracy: 96.875%\n",
            "GB | Epoch 4 | Loss: 0.12138223648071289 | Accuracy: 96.875%\n",
            "GB | Epoch 4 | Loss: 0.05127975344657898 | Accuracy: 100.0%\n",
            "GB | Epoch 4 | Loss: 0.11624683439731598 | Accuracy: 96.875%\n",
            "GB | Epoch 4 | Loss: 0.18938538432121277 | Accuracy: 93.75%\n",
            "GB | Epoch 4 | Loss: 0.18280191719532013 | Accuracy: 92.1875%\n",
            "GB | Epoch 4 | Loss: 0.13980861008167267 | Accuracy: 96.875%\n",
            "GB | Epoch 4 | Loss: 0.09081625193357468 | Accuracy: 98.4375%\n",
            "GB | Epoch 4 | Loss: 0.06929067522287369 | Accuracy: 100.0%\n"
          ]
        },
        {
          "output_type": "stream",
          "name": "stderr",
          "text": [
            "Epoch 4:  42%|████▏     | 315/751 [00:04<00:05, 78.71batch/s, accuracy=93.75%, loss=0.199]  "
          ]
        },
        {
          "output_type": "stream",
          "name": "stdout",
          "text": [
            "GB | Epoch 4 | Loss: 0.09786125272512436 | Accuracy: 98.4375%\n",
            "GB | Epoch 4 | Loss: 0.09397445619106293 | Accuracy: 98.4375%\n",
            "GB | Epoch 4 | Loss: 0.09379912912845612 | Accuracy: 96.875%\n",
            "GB | Epoch 4 | Loss: 0.08400557190179825 | Accuracy: 98.4375%\n",
            "GB | Epoch 4 | Loss: 0.06606227159500122 | Accuracy: 100.0%\n",
            "GB | Epoch 4 | Loss: 0.0774526298046112 | Accuracy: 98.4375%\n",
            "GB | Epoch 4 | Loss: 0.07164538651704788 | Accuracy: 100.0%\n",
            "GB | Epoch 4 | Loss: 0.08491877466440201 | Accuracy: 98.4375%\n",
            "GB | Epoch 4 | Loss: 0.11057549715042114 | Accuracy: 96.875%\n",
            "GB | Epoch 4 | Loss: 0.07242436707019806 | Accuracy: 98.4375%\n",
            "GB | Epoch 4 | Loss: 0.2121123969554901 | Accuracy: 90.625%\n",
            "GB | Epoch 4 | Loss: 0.048872627317905426 | Accuracy: 98.4375%\n",
            "GB | Epoch 4 | Loss: 0.07152718305587769 | Accuracy: 98.4375%\n",
            "GB | Epoch 4 | Loss: 0.10514847934246063 | Accuracy: 98.4375%\n",
            "GB | Epoch 4 | Loss: 0.1987270563840866 | Accuracy: 93.75%\n"
          ]
        },
        {
          "output_type": "stream",
          "name": "stderr",
          "text": [
            "Epoch 4:  44%|████▍     | 332/751 [00:04<00:05, 78.30batch/s, accuracy=98.4375%, loss=0.0799]"
          ]
        },
        {
          "output_type": "stream",
          "name": "stdout",
          "text": [
            "GB | Epoch 4 | Loss: 0.2018834799528122 | Accuracy: 96.875%\n",
            "GB | Epoch 4 | Loss: 0.05796815827488899 | Accuracy: 100.0%\n",
            "GB | Epoch 4 | Loss: 0.07840798795223236 | Accuracy: 96.875%\n",
            "GB | Epoch 4 | Loss: 0.044085945934057236 | Accuracy: 100.0%\n",
            "GB | Epoch 4 | Loss: 0.13599057495594025 | Accuracy: 93.75%\n",
            "GB | Epoch 4 | Loss: 0.08480961620807648 | Accuracy: 98.4375%\n",
            "GB | Epoch 4 | Loss: 0.3656201660633087 | Accuracy: 93.75%\n",
            "GB | Epoch 4 | Loss: 0.17181642353534698 | Accuracy: 93.75%\n",
            "GB | Epoch 4 | Loss: 0.049890801310539246 | Accuracy: 100.0%\n",
            "GB | Epoch 4 | Loss: 0.07997069507837296 | Accuracy: 98.4375%\n",
            "GB | Epoch 4 | Loss: 0.11023613065481186 | Accuracy: 96.875%\n",
            "GB | Epoch 4 | Loss: 0.07265481352806091 | Accuracy: 100.0%\n",
            "GB | Epoch 4 | Loss: 0.07142195105552673 | Accuracy: 98.4375%\n",
            "GB | Epoch 4 | Loss: 0.11430557817220688 | Accuracy: 95.3125%\n",
            "GB | Epoch 4 | Loss: 0.10053623467683792 | Accuracy: 96.875%\n",
            "GB | Epoch 4 | Loss: 0.07987996935844421 | Accuracy: 98.4375%\n"
          ]
        },
        {
          "output_type": "stream",
          "name": "stderr",
          "text": [
            "Epoch 4:  46%|████▋     | 349/751 [00:04<00:05, 79.72batch/s, accuracy=95.3125%, loss=0.177] "
          ]
        },
        {
          "output_type": "stream",
          "name": "stdout",
          "text": [
            "GB | Epoch 4 | Loss: 0.2070118933916092 | Accuracy: 95.3125%\n",
            "GB | Epoch 4 | Loss: 0.21423949301242828 | Accuracy: 92.1875%\n",
            "GB | Epoch 4 | Loss: 0.1667850762605667 | Accuracy: 95.3125%\n",
            "GB | Epoch 4 | Loss: 0.06349024921655655 | Accuracy: 100.0%\n",
            "GB | Epoch 4 | Loss: 0.1122509241104126 | Accuracy: 96.875%\n",
            "GB | Epoch 4 | Loss: 0.07191596925258636 | Accuracy: 98.4375%\n",
            "GB | Epoch 4 | Loss: 0.10676361620426178 | Accuracy: 96.875%\n",
            "GB | Epoch 4 | Loss: 0.1308669000864029 | Accuracy: 93.75%\n",
            "GB | Epoch 4 | Loss: 0.1027543917298317 | Accuracy: 96.875%\n",
            "GB | Epoch 4 | Loss: 0.11229974031448364 | Accuracy: 96.875%\n",
            "GB | Epoch 4 | Loss: 0.15746065974235535 | Accuracy: 90.625%\n",
            "GB | Epoch 4 | Loss: 0.2139192670583725 | Accuracy: 93.75%\n",
            "GB | Epoch 4 | Loss: 0.05961333587765694 | Accuracy: 98.4375%\n",
            "GB | Epoch 4 | Loss: 0.0774790421128273 | Accuracy: 100.0%\n",
            "GB | Epoch 4 | Loss: 0.08339819312095642 | Accuracy: 96.875%\n",
            "GB | Epoch 4 | Loss: 0.05671822652220726 | Accuracy: 98.4375%\n",
            "GB | Epoch 4 | Loss: 0.17682601511478424 | Accuracy: 95.3125%\n"
          ]
        },
        {
          "output_type": "stream",
          "name": "stderr",
          "text": [
            "Epoch 4:  49%|████▉     | 367/751 [00:04<00:04, 82.90batch/s, accuracy=90.625%, loss=0.221]  "
          ]
        },
        {
          "output_type": "stream",
          "name": "stdout",
          "text": [
            "GB | Epoch 4 | Loss: 0.143964484333992 | Accuracy: 95.3125%\n",
            "GB | Epoch 4 | Loss: 0.10032396763563156 | Accuracy: 96.875%\n",
            "GB | Epoch 4 | Loss: 0.12575390934944153 | Accuracy: 96.875%\n",
            "GB | Epoch 4 | Loss: 0.043555136770009995 | Accuracy: 100.0%\n",
            "GB | Epoch 4 | Loss: 0.16141416132450104 | Accuracy: 95.3125%\n",
            "GB | Epoch 4 | Loss: 0.05894476920366287 | Accuracy: 98.4375%\n",
            "GB | Epoch 4 | Loss: 0.05515507608652115 | Accuracy: 100.0%\n",
            "GB | Epoch 4 | Loss: 0.17104370892047882 | Accuracy: 96.875%\n",
            "GB | Epoch 4 | Loss: 0.21538345515727997 | Accuracy: 90.625%\n",
            "GB | Epoch 4 | Loss: 0.1411823183298111 | Accuracy: 96.875%\n",
            "GB | Epoch 4 | Loss: 0.08089961111545563 | Accuracy: 98.4375%\n",
            "GB | Epoch 4 | Loss: 0.25379064679145813 | Accuracy: 85.9375%\n",
            "GB | Epoch 4 | Loss: 0.06217331811785698 | Accuracy: 100.0%\n",
            "GB | Epoch 4 | Loss: 0.12471404671669006 | Accuracy: 98.4375%\n",
            "GB | Epoch 4 | Loss: 0.06731753051280975 | Accuracy: 98.4375%\n",
            "GB | Epoch 4 | Loss: 0.045929551124572754 | Accuracy: 98.4375%\n",
            "GB | Epoch 4 | Loss: 0.09915853291749954 | Accuracy: 98.4375%\n"
          ]
        },
        {
          "output_type": "stream",
          "name": "stderr",
          "text": [
            "Epoch 4:  51%|█████▏    | 385/751 [00:05<00:04, 79.28batch/s, accuracy=98.4375%, loss=0.0757]"
          ]
        },
        {
          "output_type": "stream",
          "name": "stdout",
          "text": [
            "GB | Epoch 4 | Loss: 0.22073733806610107 | Accuracy: 90.625%\n",
            "GB | Epoch 4 | Loss: 0.1918802708387375 | Accuracy: 92.1875%\n",
            "GB | Epoch 4 | Loss: 0.13317632675170898 | Accuracy: 96.875%\n",
            "GB | Epoch 4 | Loss: 0.15034089982509613 | Accuracy: 95.3125%\n",
            "GB | Epoch 4 | Loss: 0.06100368872284889 | Accuracy: 98.4375%\n",
            "GB | Epoch 4 | Loss: 0.13526496291160583 | Accuracy: 96.875%\n",
            "GB | Epoch 4 | Loss: 0.11502943933010101 | Accuracy: 98.4375%\n",
            "GB | Epoch 4 | Loss: 0.06909409910440445 | Accuracy: 96.875%\n",
            "GB | Epoch 4 | Loss: 0.05937253311276436 | Accuracy: 98.4375%\n",
            "GB | Epoch 4 | Loss: 0.1253124624490738 | Accuracy: 93.75%\n",
            "GB | Epoch 4 | Loss: 0.06810811161994934 | Accuracy: 98.4375%\n",
            "GB | Epoch 4 | Loss: 0.0518244169652462 | Accuracy: 98.4375%\n",
            "GB | Epoch 4 | Loss: 0.032156046479940414 | Accuracy: 100.0%\n",
            "GB | Epoch 4 | Loss: 0.09944488853216171 | Accuracy: 96.875%\n",
            "GB | Epoch 4 | Loss: 0.14940986037254333 | Accuracy: 95.3125%\n",
            "GB | Epoch 4 | Loss: 0.0756734311580658 | Accuracy: 98.4375%\n"
          ]
        },
        {
          "output_type": "stream",
          "name": "stderr",
          "text": [
            "Epoch 4:  53%|█████▎    | 401/751 [00:05<00:04, 73.18batch/s, accuracy=98.4375%, loss=0.0688]"
          ]
        },
        {
          "output_type": "stream",
          "name": "stdout",
          "text": [
            "GB | Epoch 4 | Loss: 0.12116807699203491 | Accuracy: 95.3125%\n",
            "GB | Epoch 4 | Loss: 0.11024627089500427 | Accuracy: 95.3125%\n",
            "GB | Epoch 4 | Loss: 0.06036662682890892 | Accuracy: 98.4375%\n",
            "GB | Epoch 4 | Loss: 0.08246570825576782 | Accuracy: 100.0%\n",
            "GB | Epoch 4 | Loss: 0.1488838493824005 | Accuracy: 96.875%\n",
            "GB | Epoch 4 | Loss: 0.06144259124994278 | Accuracy: 100.0%\n",
            "GB | Epoch 4 | Loss: 0.10426391661167145 | Accuracy: 95.3125%\n",
            "GB | Epoch 4 | Loss: 0.09749467670917511 | Accuracy: 96.875%\n",
            "GB | Epoch 4 | Loss: 0.06463111191987991 | Accuracy: 98.4375%\n",
            "GB | Epoch 4 | Loss: 0.17250627279281616 | Accuracy: 93.75%\n",
            "GB | Epoch 4 | Loss: 0.06099991872906685 | Accuracy: 98.4375%\n",
            "GB | Epoch 4 | Loss: 0.2545202076435089 | Accuracy: 92.1875%\n",
            "GB | Epoch 4 | Loss: 0.07228372246026993 | Accuracy: 100.0%\n",
            "GB | Epoch 4 | Loss: 0.06882110983133316 | Accuracy: 98.4375%\n"
          ]
        },
        {
          "output_type": "stream",
          "name": "stderr",
          "text": [
            "Epoch 4:  54%|█████▍    | 409/751 [00:05<00:04, 72.61batch/s, accuracy=96.875%, loss=0.0876]"
          ]
        },
        {
          "output_type": "stream",
          "name": "stdout",
          "text": [
            "GB | Epoch 4 | Loss: 0.04146846383810043 | Accuracy: 100.0%\n",
            "GB | Epoch 4 | Loss: 0.13890451192855835 | Accuracy: 95.3125%\n",
            "GB | Epoch 4 | Loss: 0.1441819667816162 | Accuracy: 98.4375%\n",
            "GB | Epoch 4 | Loss: 0.11362519860267639 | Accuracy: 98.4375%\n",
            "GB | Epoch 4 | Loss: 0.2753567099571228 | Accuracy: 95.3125%\n",
            "GB | Epoch 4 | Loss: 0.05891306698322296 | Accuracy: 100.0%\n",
            "GB | Epoch 4 | Loss: 0.06283033639192581 | Accuracy: 100.0%\n",
            "GB | Epoch 4 | Loss: 0.041503146290779114 | Accuracy: 100.0%\n",
            "GB | Epoch 4 | Loss: 0.07135076075792313 | Accuracy: 98.4375%\n",
            "GB | Epoch 4 | Loss: 0.09683319926261902 | Accuracy: 98.4375%\n",
            "GB | Epoch 4 | Loss: 0.05109856277704239 | Accuracy: 100.0%\n",
            "GB | Epoch 4 | Loss: 0.07842094451189041 | Accuracy: 96.875%\n",
            "GB | Epoch 4 | Loss: 0.11584793776273727 | Accuracy: 96.875%\n",
            "GB | Epoch 4 | Loss: 0.05983148142695427 | Accuracy: 98.4375%\n",
            "GB | Epoch 4 | Loss: 0.057375188916921616 | Accuracy: 100.0%\n"
          ]
        },
        {
          "output_type": "stream",
          "name": "stderr",
          "text": [
            "Epoch 4:  57%|█████▋    | 426/751 [00:05<00:04, 77.98batch/s, accuracy=100.0%, loss=0.0482]  "
          ]
        },
        {
          "output_type": "stream",
          "name": "stdout",
          "text": [
            "GB | Epoch 4 | Loss: 0.08763396739959717 | Accuracy: 96.875%\n",
            "GB | Epoch 4 | Loss: 0.06570437550544739 | Accuracy: 96.875%\n",
            "GB | Epoch 4 | Loss: 0.13342061638832092 | Accuracy: 96.875%\n",
            "GB | Epoch 4 | Loss: 0.05772503837943077 | Accuracy: 100.0%\n",
            "GB | Epoch 4 | Loss: 0.2073398232460022 | Accuracy: 93.75%\n",
            "GB | Epoch 4 | Loss: 0.09420335292816162 | Accuracy: 100.0%\n",
            "GB | Epoch 4 | Loss: 0.08616168051958084 | Accuracy: 96.875%\n",
            "GB | Epoch 4 | Loss: 0.04858960583806038 | Accuracy: 100.0%\n",
            "GB | Epoch 4 | Loss: 0.08164184540510178 | Accuracy: 96.875%\n",
            "GB | Epoch 4 | Loss: 0.0723411962389946 | Accuracy: 100.0%\n",
            "GB | Epoch 4 | Loss: 0.08182167261838913 | Accuracy: 96.875%\n",
            "GB | Epoch 4 | Loss: 0.06365784257650375 | Accuracy: 98.4375%\n",
            "GB | Epoch 4 | Loss: 0.054067857563495636 | Accuracy: 100.0%\n",
            "GB | Epoch 4 | Loss: 0.04642084240913391 | Accuracy: 100.0%\n",
            "GB | Epoch 4 | Loss: 0.09576293081045151 | Accuracy: 95.3125%\n",
            "GB | Epoch 4 | Loss: 0.20247109234333038 | Accuracy: 93.75%\n",
            "GB | Epoch 4 | Loss: 0.05733045935630798 | Accuracy: 98.4375%\n",
            "GB | Epoch 4 | Loss: 0.04824100062251091 | Accuracy: 100.0%\n"
          ]
        },
        {
          "output_type": "stream",
          "name": "stderr",
          "text": [
            "Epoch 4:  59%|█████▉    | 444/751 [00:05<00:03, 80.72batch/s, accuracy=98.4375%, loss=0.0871]"
          ]
        },
        {
          "output_type": "stream",
          "name": "stdout",
          "text": [
            "GB | Epoch 4 | Loss: 0.06311028450727463 | Accuracy: 100.0%\n",
            "GB | Epoch 4 | Loss: 0.04467759281396866 | Accuracy: 100.0%\n",
            "GB | Epoch 4 | Loss: 0.05562473088502884 | Accuracy: 100.0%\n",
            "GB | Epoch 4 | Loss: 0.04879983142018318 | Accuracy: 100.0%\n",
            "GB | Epoch 4 | Loss: 0.22644178569316864 | Accuracy: 93.75%\n",
            "GB | Epoch 4 | Loss: 0.12026751786470413 | Accuracy: 96.875%\n",
            "GB | Epoch 4 | Loss: 0.08141514658927917 | Accuracy: 96.875%\n",
            "GB | Epoch 4 | Loss: 0.11148139834403992 | Accuracy: 95.3125%\n",
            "GB | Epoch 4 | Loss: 0.06105978786945343 | Accuracy: 96.875%\n",
            "GB | Epoch 4 | Loss: 0.10135669261217117 | Accuracy: 100.0%\n",
            "GB | Epoch 4 | Loss: 0.09493237733840942 | Accuracy: 95.3125%\n",
            "GB | Epoch 4 | Loss: 0.0997205600142479 | Accuracy: 98.4375%\n",
            "GB | Epoch 4 | Loss: 0.10631522536277771 | Accuracy: 96.875%\n",
            "GB | Epoch 4 | Loss: 0.1309918612241745 | Accuracy: 98.4375%\n",
            "GB | Epoch 4 | Loss: 0.185326486825943 | Accuracy: 95.3125%\n",
            "GB | Epoch 4 | Loss: 0.04170965030789375 | Accuracy: 98.4375%\n",
            "GB | Epoch 4 | Loss: 0.06049210578203201 | Accuracy: 98.4375%\n",
            "GB | Epoch 4 | Loss: 0.08706635236740112 | Accuracy: 98.4375%\n"
          ]
        },
        {
          "output_type": "stream",
          "name": "stderr",
          "text": [
            "Epoch 4:  62%|██████▏   | 462/751 [00:06<00:03, 81.45batch/s, accuracy=100.0%, loss=0.0546]  "
          ]
        },
        {
          "output_type": "stream",
          "name": "stdout",
          "text": [
            "GB | Epoch 4 | Loss: 0.09116104990243912 | Accuracy: 96.875%\n",
            "GB | Epoch 4 | Loss: 0.09143280237913132 | Accuracy: 98.4375%\n",
            "GB | Epoch 4 | Loss: 0.1401124894618988 | Accuracy: 95.3125%\n",
            "GB | Epoch 4 | Loss: 0.25620874762535095 | Accuracy: 90.625%\n",
            "GB | Epoch 4 | Loss: 0.1343541443347931 | Accuracy: 96.875%\n",
            "GB | Epoch 4 | Loss: 0.12715773284435272 | Accuracy: 95.3125%\n",
            "GB | Epoch 4 | Loss: 0.07907623052597046 | Accuracy: 96.875%\n",
            "GB | Epoch 4 | Loss: 0.20949459075927734 | Accuracy: 95.3125%\n",
            "GB | Epoch 4 | Loss: 0.1020442321896553 | Accuracy: 93.75%\n",
            "GB | Epoch 4 | Loss: 0.09648776799440384 | Accuracy: 95.3125%\n",
            "GB | Epoch 4 | Loss: 0.10110274702310562 | Accuracy: 96.875%\n",
            "GB | Epoch 4 | Loss: 0.1731220781803131 | Accuracy: 92.1875%\n",
            "GB | Epoch 4 | Loss: 0.05762605741620064 | Accuracy: 100.0%\n",
            "GB | Epoch 4 | Loss: 0.06358625739812851 | Accuracy: 98.4375%\n",
            "GB | Epoch 4 | Loss: 0.054555438458919525 | Accuracy: 100.0%\n"
          ]
        },
        {
          "output_type": "stream",
          "name": "stderr",
          "text": [
            "Epoch 4:  64%|██████▍   | 479/751 [00:06<00:03, 75.90batch/s, accuracy=96.875%, loss=0.1] "
          ]
        },
        {
          "output_type": "stream",
          "name": "stdout",
          "text": [
            "GB | Epoch 4 | Loss: 0.10035800188779831 | Accuracy: 96.875%\n",
            "GB | Epoch 4 | Loss: 0.1117405891418457 | Accuracy: 95.3125%\n",
            "GB | Epoch 4 | Loss: 0.09994474798440933 | Accuracy: 98.4375%\n",
            "GB | Epoch 4 | Loss: 0.10001859068870544 | Accuracy: 95.3125%\n",
            "GB | Epoch 4 | Loss: 0.1695641428232193 | Accuracy: 92.1875%\n",
            "GB | Epoch 4 | Loss: 0.1269468069076538 | Accuracy: 95.3125%\n",
            "GB | Epoch 4 | Loss: 0.07573753595352173 | Accuracy: 98.4375%\n",
            "GB | Epoch 4 | Loss: 0.0644388347864151 | Accuracy: 100.0%\n",
            "GB | Epoch 4 | Loss: 0.0687514990568161 | Accuracy: 100.0%\n",
            "GB | Epoch 4 | Loss: 0.26761171221733093 | Accuracy: 93.75%\n",
            "GB | Epoch 4 | Loss: 0.11855731904506683 | Accuracy: 96.875%\n",
            "GB | Epoch 4 | Loss: 0.10753335803747177 | Accuracy: 98.4375%\n",
            "GB | Epoch 4 | Loss: 0.0678817629814148 | Accuracy: 98.4375%\n",
            "GB | Epoch 4 | Loss: 0.23414337635040283 | Accuracy: 93.75%\n",
            "GB | Epoch 4 | Loss: 0.10006815195083618 | Accuracy: 96.875%\n"
          ]
        },
        {
          "output_type": "stream",
          "name": "stderr",
          "text": [
            "Epoch 4:  66%|██████▌   | 496/751 [00:06<00:03, 78.70batch/s, accuracy=96.875%, loss=0.1]    "
          ]
        },
        {
          "output_type": "stream",
          "name": "stdout",
          "text": [
            "GB | Epoch 4 | Loss: 0.3152941167354584 | Accuracy: 93.75%\n",
            "GB | Epoch 4 | Loss: 0.039717551320791245 | Accuracy: 98.4375%\n",
            "GB | Epoch 4 | Loss: 0.12915417551994324 | Accuracy: 95.3125%\n",
            "GB | Epoch 4 | Loss: 0.08491161465644836 | Accuracy: 96.875%\n",
            "GB | Epoch 4 | Loss: 0.05372724309563637 | Accuracy: 98.4375%\n",
            "GB | Epoch 4 | Loss: 0.12900477647781372 | Accuracy: 93.75%\n",
            "GB | Epoch 4 | Loss: 0.061023179441690445 | Accuracy: 100.0%\n",
            "GB | Epoch 4 | Loss: 0.03830916807055473 | Accuracy: 100.0%\n",
            "GB | Epoch 4 | Loss: 0.1795506477355957 | Accuracy: 96.875%\n",
            "GB | Epoch 4 | Loss: 0.15258151292800903 | Accuracy: 95.3125%\n",
            "GB | Epoch 4 | Loss: 0.20032019913196564 | Accuracy: 96.875%\n",
            "GB | Epoch 4 | Loss: 0.043797966092824936 | Accuracy: 100.0%\n",
            "GB | Epoch 4 | Loss: 0.05530276894569397 | Accuracy: 100.0%\n",
            "GB | Epoch 4 | Loss: 0.15319284796714783 | Accuracy: 95.3125%\n",
            "GB | Epoch 4 | Loss: 0.06977838277816772 | Accuracy: 98.4375%\n",
            "GB | Epoch 4 | Loss: 0.08185373246669769 | Accuracy: 95.3125%\n",
            "GB | Epoch 4 | Loss: 0.1002957746386528 | Accuracy: 96.875%\n"
          ]
        },
        {
          "output_type": "stream",
          "name": "stderr",
          "text": [
            "Epoch 4:  69%|██████▊   | 515/751 [00:06<00:02, 85.36batch/s, accuracy=98.4375%, loss=0.0704]"
          ]
        },
        {
          "output_type": "stream",
          "name": "stdout",
          "text": [
            "GB | Epoch 4 | Loss: 0.08435464650392532 | Accuracy: 96.875%\n",
            "GB | Epoch 4 | Loss: 0.14345204830169678 | Accuracy: 96.875%\n",
            "GB | Epoch 4 | Loss: 0.05745481327176094 | Accuracy: 98.4375%\n",
            "GB | Epoch 4 | Loss: 0.08588770776987076 | Accuracy: 96.875%\n",
            "GB | Epoch 4 | Loss: 0.06166735291481018 | Accuracy: 98.4375%\n",
            "GB | Epoch 4 | Loss: 0.05616438388824463 | Accuracy: 100.0%\n",
            "GB | Epoch 4 | Loss: 0.08680383116006851 | Accuracy: 96.875%\n",
            "GB | Epoch 4 | Loss: 0.10187335312366486 | Accuracy: 96.875%\n",
            "GB | Epoch 4 | Loss: 0.039445824921131134 | Accuracy: 100.0%\n",
            "GB | Epoch 4 | Loss: 0.10149571299552917 | Accuracy: 98.4375%\n",
            "GB | Epoch 4 | Loss: 0.05069167912006378 | Accuracy: 100.0%\n",
            "GB | Epoch 4 | Loss: 0.08174775540828705 | Accuracy: 98.4375%\n",
            "GB | Epoch 4 | Loss: 0.05922938510775566 | Accuracy: 98.4375%\n",
            "GB | Epoch 4 | Loss: 0.11002670228481293 | Accuracy: 95.3125%\n",
            "GB | Epoch 4 | Loss: 0.07731795310974121 | Accuracy: 98.4375%\n",
            "GB | Epoch 4 | Loss: 0.09872119873762131 | Accuracy: 98.4375%\n",
            "GB | Epoch 4 | Loss: 0.06958933919668198 | Accuracy: 96.875%\n",
            "GB | Epoch 4 | Loss: 0.061912212520837784 | Accuracy: 98.4375%\n",
            "GB | Epoch 4 | Loss: 0.06167692691087723 | Accuracy: 100.0%\n",
            "GB | Epoch 4 | Loss: 0.07035177946090698 | Accuracy: 98.4375%\n"
          ]
        },
        {
          "output_type": "stream",
          "name": "stderr",
          "text": [
            "Epoch 4:  71%|███████   | 534/751 [00:06<00:02, 86.13batch/s, accuracy=100.0%, loss=0.043] "
          ]
        },
        {
          "output_type": "stream",
          "name": "stdout",
          "text": [
            "GB | Epoch 4 | Loss: 0.05504278466105461 | Accuracy: 98.4375%\n",
            "GB | Epoch 4 | Loss: 0.09152961522340775 | Accuracy: 96.875%\n",
            "GB | Epoch 4 | Loss: 0.044774990528821945 | Accuracy: 100.0%\n",
            "GB | Epoch 4 | Loss: 0.16846662759780884 | Accuracy: 92.1875%\n",
            "GB | Epoch 4 | Loss: 0.03998657315969467 | Accuracy: 100.0%\n",
            "GB | Epoch 4 | Loss: 0.049068477004766464 | Accuracy: 98.4375%\n",
            "GB | Epoch 4 | Loss: 0.0377320758998394 | Accuracy: 100.0%\n",
            "GB | Epoch 4 | Loss: 0.057853277772665024 | Accuracy: 100.0%\n",
            "GB | Epoch 4 | Loss: 0.16160863637924194 | Accuracy: 93.75%\n",
            "GB | Epoch 4 | Loss: 0.11389700323343277 | Accuracy: 96.875%\n",
            "GB | Epoch 4 | Loss: 0.05056868866086006 | Accuracy: 98.4375%\n",
            "GB | Epoch 4 | Loss: 0.043572794646024704 | Accuracy: 98.4375%\n",
            "GB | Epoch 4 | Loss: 0.09199891239404678 | Accuracy: 98.4375%\n",
            "GB | Epoch 4 | Loss: 0.05977749451994896 | Accuracy: 98.4375%\n",
            "GB | Epoch 4 | Loss: 0.07141008228063583 | Accuracy: 98.4375%\n",
            "GB | Epoch 4 | Loss: 0.08114980161190033 | Accuracy: 98.4375%\n",
            "GB | Epoch 4 | Loss: 0.058533892035484314 | Accuracy: 100.0%\n",
            "GB | Epoch 4 | Loss: 0.04295555129647255 | Accuracy: 100.0%\n"
          ]
        },
        {
          "output_type": "stream",
          "name": "stderr",
          "text": [
            "Epoch 4:  74%|███████▎  | 552/751 [00:07<00:02, 86.06batch/s, accuracy=100.0%, loss=0.0438]"
          ]
        },
        {
          "output_type": "stream",
          "name": "stdout",
          "text": [
            "GB | Epoch 4 | Loss: 0.053246285766363144 | Accuracy: 100.0%\n",
            "GB | Epoch 4 | Loss: 0.07678066939115524 | Accuracy: 96.875%\n",
            "GB | Epoch 4 | Loss: 0.10898095369338989 | Accuracy: 98.4375%\n",
            "GB | Epoch 4 | Loss: 0.190957710146904 | Accuracy: 93.75%\n",
            "GB | Epoch 4 | Loss: 0.14118263125419617 | Accuracy: 96.875%\n",
            "GB | Epoch 4 | Loss: 0.03465558588504791 | Accuracy: 100.0%\n",
            "GB | Epoch 4 | Loss: 0.10369144380092621 | Accuracy: 96.875%\n",
            "GB | Epoch 4 | Loss: 0.03550256788730621 | Accuracy: 100.0%\n",
            "GB | Epoch 4 | Loss: 0.18658649921417236 | Accuracy: 95.3125%\n",
            "GB | Epoch 4 | Loss: 0.12673918902873993 | Accuracy: 96.875%\n",
            "GB | Epoch 4 | Loss: 0.07955107092857361 | Accuracy: 96.875%\n",
            "GB | Epoch 4 | Loss: 0.15953363478183746 | Accuracy: 92.1875%\n",
            "GB | Epoch 4 | Loss: 0.08189717680215836 | Accuracy: 96.875%\n",
            "GB | Epoch 4 | Loss: 0.05920419469475746 | Accuracy: 100.0%\n",
            "GB | Epoch 4 | Loss: 0.10746021568775177 | Accuracy: 98.4375%\n",
            "GB | Epoch 4 | Loss: 0.18787021934986115 | Accuracy: 95.3125%\n",
            "GB | Epoch 4 | Loss: 0.13009876012802124 | Accuracy: 93.75%\n",
            "GB | Epoch 4 | Loss: 0.04384223371744156 | Accuracy: 100.0%\n"
          ]
        },
        {
          "output_type": "stream",
          "name": "stderr",
          "text": [
            "Epoch 4:  76%|███████▌  | 570/751 [00:07<00:02, 85.82batch/s, accuracy=100.0%, loss=0.0576]  "
          ]
        },
        {
          "output_type": "stream",
          "name": "stdout",
          "text": [
            "GB | Epoch 4 | Loss: 0.09357321262359619 | Accuracy: 96.875%\n",
            "GB | Epoch 4 | Loss: 0.030641842633485794 | Accuracy: 100.0%\n",
            "GB | Epoch 4 | Loss: 0.19642449915409088 | Accuracy: 95.3125%\n",
            "GB | Epoch 4 | Loss: 0.07050848007202148 | Accuracy: 98.4375%\n",
            "GB | Epoch 4 | Loss: 0.039264775812625885 | Accuracy: 100.0%\n",
            "GB | Epoch 4 | Loss: 0.1847756803035736 | Accuracy: 95.3125%\n",
            "GB | Epoch 4 | Loss: 0.08610828220844269 | Accuracy: 95.3125%\n",
            "GB | Epoch 4 | Loss: 0.3545931279659271 | Accuracy: 95.3125%\n",
            "GB | Epoch 4 | Loss: 0.10816547274589539 | Accuracy: 95.3125%\n",
            "GB | Epoch 4 | Loss: 0.044344499707221985 | Accuracy: 100.0%\n",
            "GB | Epoch 4 | Loss: 0.09143317490816116 | Accuracy: 96.875%\n",
            "GB | Epoch 4 | Loss: 0.08266524970531464 | Accuracy: 95.3125%\n",
            "GB | Epoch 4 | Loss: 0.12238786369562149 | Accuracy: 98.4375%\n",
            "GB | Epoch 4 | Loss: 0.07656095176935196 | Accuracy: 98.4375%\n",
            "GB | Epoch 4 | Loss: 0.03248927369713783 | Accuracy: 100.0%\n",
            "GB | Epoch 4 | Loss: 0.10711093246936798 | Accuracy: 98.4375%\n",
            "GB | Epoch 4 | Loss: 0.07792679965496063 | Accuracy: 98.4375%\n",
            "GB | Epoch 4 | Loss: 0.057567257434129715 | Accuracy: 100.0%\n"
          ]
        },
        {
          "output_type": "stream",
          "name": "stderr",
          "text": [
            "Epoch 4:  78%|███████▊  | 589/751 [00:07<00:01, 87.26batch/s, accuracy=98.4375%, loss=0.0529]"
          ]
        },
        {
          "output_type": "stream",
          "name": "stdout",
          "text": [
            "GB | Epoch 4 | Loss: 0.06729286909103394 | Accuracy: 98.4375%\n",
            "GB | Epoch 4 | Loss: 0.08971861004829407 | Accuracy: 98.4375%\n",
            "GB | Epoch 4 | Loss: 0.07390286028385162 | Accuracy: 98.4375%\n",
            "GB | Epoch 4 | Loss: 0.03486218303442001 | Accuracy: 100.0%\n",
            "GB | Epoch 4 | Loss: 0.06557054072618484 | Accuracy: 98.4375%\n",
            "GB | Epoch 4 | Loss: 0.10000782459974289 | Accuracy: 96.875%\n",
            "GB | Epoch 4 | Loss: 0.051130712032318115 | Accuracy: 98.4375%\n",
            "GB | Epoch 4 | Loss: 0.06470012664794922 | Accuracy: 98.4375%\n",
            "GB | Epoch 4 | Loss: 0.048352330923080444 | Accuracy: 100.0%\n",
            "GB | Epoch 4 | Loss: 0.041282620280981064 | Accuracy: 100.0%\n",
            "GB | Epoch 4 | Loss: 0.09350068867206573 | Accuracy: 96.875%\n",
            "GB | Epoch 4 | Loss: 0.06931301951408386 | Accuracy: 98.4375%\n",
            "GB | Epoch 4 | Loss: 0.04767598211765289 | Accuracy: 98.4375%\n",
            "GB | Epoch 4 | Loss: 0.07286200672388077 | Accuracy: 96.875%\n",
            "GB | Epoch 4 | Loss: 0.10463066399097443 | Accuracy: 96.875%\n",
            "GB | Epoch 4 | Loss: 0.08473965525627136 | Accuracy: 98.4375%\n",
            "GB | Epoch 4 | Loss: 0.13527770340442657 | Accuracy: 96.875%\n",
            "GB | Epoch 4 | Loss: 0.19024260342121124 | Accuracy: 96.875%\n",
            "GB | Epoch 4 | Loss: 0.05287759006023407 | Accuracy: 98.4375%\n"
          ]
        },
        {
          "output_type": "stream",
          "name": "stderr",
          "text": [
            "Epoch 4:  81%|████████  | 609/751 [00:07<00:01, 90.73batch/s, accuracy=98.4375%, loss=0.0768]"
          ]
        },
        {
          "output_type": "stream",
          "name": "stdout",
          "text": [
            "GB | Epoch 4 | Loss: 0.0516456700861454 | Accuracy: 98.4375%\n",
            "GB | Epoch 4 | Loss: 0.07614491879940033 | Accuracy: 98.4375%\n",
            "GB | Epoch 4 | Loss: 0.07505336403846741 | Accuracy: 96.875%\n",
            "GB | Epoch 4 | Loss: 0.06060534715652466 | Accuracy: 98.4375%\n",
            "GB | Epoch 4 | Loss: 0.0824647843837738 | Accuracy: 96.875%\n",
            "GB | Epoch 4 | Loss: 0.061522647738456726 | Accuracy: 100.0%\n",
            "GB | Epoch 4 | Loss: 0.04619424790143967 | Accuracy: 100.0%\n",
            "GB | Epoch 4 | Loss: 0.12418794631958008 | Accuracy: 95.3125%\n",
            "GB | Epoch 4 | Loss: 0.06626416742801666 | Accuracy: 98.4375%\n",
            "GB | Epoch 4 | Loss: 0.05411338806152344 | Accuracy: 98.4375%\n",
            "GB | Epoch 4 | Loss: 0.07385723292827606 | Accuracy: 98.4375%\n",
            "GB | Epoch 4 | Loss: 0.17835800349712372 | Accuracy: 96.875%\n",
            "GB | Epoch 4 | Loss: 0.06707993894815445 | Accuracy: 98.4375%\n",
            "GB | Epoch 4 | Loss: 0.07246355712413788 | Accuracy: 98.4375%\n",
            "GB | Epoch 4 | Loss: 0.05544259026646614 | Accuracy: 100.0%\n",
            "GB | Epoch 4 | Loss: 0.029907748103141785 | Accuracy: 100.0%\n",
            "GB | Epoch 4 | Loss: 0.21071846783161163 | Accuracy: 95.3125%\n",
            "GB | Epoch 4 | Loss: 0.10900858044624329 | Accuracy: 96.875%\n",
            "GB | Epoch 4 | Loss: 0.17657285928726196 | Accuracy: 95.3125%\n",
            "GB | Epoch 4 | Loss: 0.07678918540477753 | Accuracy: 98.4375%"
          ]
        },
        {
          "output_type": "stream",
          "name": "stderr",
          "text": [
            "Epoch 4:  84%|████████▍ | 629/751 [00:07<00:01, 88.97batch/s, accuracy=100.0%, loss=0.0478]"
          ]
        },
        {
          "output_type": "stream",
          "name": "stdout",
          "text": [
            "\n",
            "GB | Epoch 4 | Loss: 0.07490263879299164 | Accuracy: 98.4375%\n",
            "GB | Epoch 4 | Loss: 0.06625453382730484 | Accuracy: 100.0%\n",
            "GB | Epoch 4 | Loss: 0.05695649981498718 | Accuracy: 98.4375%\n",
            "GB | Epoch 4 | Loss: 0.03457364812493324 | Accuracy: 100.0%\n",
            "GB | Epoch 4 | Loss: 0.14574401080608368 | Accuracy: 96.875%\n",
            "GB | Epoch 4 | Loss: 0.09201642870903015 | Accuracy: 98.4375%\n",
            "GB | Epoch 4 | Loss: 0.2252962738275528 | Accuracy: 95.3125%\n",
            "GB | Epoch 4 | Loss: 0.06888634711503983 | Accuracy: 98.4375%\n",
            "GB | Epoch 4 | Loss: 0.04831218719482422 | Accuracy: 100.0%\n",
            "GB | Epoch 4 | Loss: 0.03779732063412666 | Accuracy: 100.0%\n",
            "GB | Epoch 4 | Loss: 0.05769609659910202 | Accuracy: 98.4375%\n",
            "GB | Epoch 4 | Loss: 0.05976145341992378 | Accuracy: 98.4375%\n",
            "GB | Epoch 4 | Loss: 0.02735636942088604 | Accuracy: 100.0%\n",
            "GB | Epoch 4 | Loss: 0.06792990118265152 | Accuracy: 98.4375%\n",
            "GB | Epoch 4 | Loss: 0.10301434248685837 | Accuracy: 98.4375%\n",
            "GB | Epoch 4 | Loss: 0.21392998099327087 | Accuracy: 95.3125%\n",
            "GB | Epoch 4 | Loss: 0.047815460711717606 | Accuracy: 100.0%\n"
          ]
        },
        {
          "output_type": "stream",
          "name": "stderr",
          "text": [
            "Epoch 4:  85%|████████▍ | 638/751 [00:08<00:01, 78.80batch/s, accuracy=98.4375%, loss=0.0647]"
          ]
        },
        {
          "output_type": "stream",
          "name": "stdout",
          "text": [
            "GB | Epoch 4 | Loss: 0.06341429799795151 | Accuracy: 98.4375%\n",
            "GB | Epoch 4 | Loss: 0.09294649213552475 | Accuracy: 98.4375%\n",
            "GB | Epoch 4 | Loss: 0.09480436891317368 | Accuracy: 98.4375%\n",
            "GB | Epoch 4 | Loss: 0.04611672833561897 | Accuracy: 100.0%\n",
            "GB | Epoch 4 | Loss: 0.12666283547878265 | Accuracy: 95.3125%\n",
            "GB | Epoch 4 | Loss: 0.08625593036413193 | Accuracy: 98.4375%\n",
            "GB | Epoch 4 | Loss: 0.09421190619468689 | Accuracy: 98.4375%\n",
            "GB | Epoch 4 | Loss: 0.0731562152504921 | Accuracy: 98.4375%\n",
            "GB | Epoch 4 | Loss: 0.03645724803209305 | Accuracy: 100.0%\n",
            "GB | Epoch 4 | Loss: 0.08884629607200623 | Accuracy: 98.4375%\n",
            "GB | Epoch 4 | Loss: 0.07725411653518677 | Accuracy: 96.875%\n",
            "GB | Epoch 4 | Loss: 0.045556746423244476 | Accuracy: 100.0%\n",
            "GB | Epoch 4 | Loss: 0.037638355046510696 | Accuracy: 100.0%\n",
            "GB | Epoch 4 | Loss: 0.07747328281402588 | Accuracy: 98.4375%\n",
            "GB | Epoch 4 | Loss: 0.054979801177978516 | Accuracy: 100.0%\n",
            "GB | Epoch 4 | Loss: 0.06473488360643387 | Accuracy: 98.4375%"
          ]
        },
        {
          "output_type": "stream",
          "name": "stderr",
          "text": [
            "Epoch 4:  87%|████████▋ | 657/751 [00:08<00:01, 84.11batch/s, accuracy=100.0%, loss=0.0369]  "
          ]
        },
        {
          "output_type": "stream",
          "name": "stdout",
          "text": [
            "\n",
            "GB | Epoch 4 | Loss: 0.09858644753694534 | Accuracy: 96.875%\n",
            "GB | Epoch 4 | Loss: 0.1269744336605072 | Accuracy: 96.875%\n",
            "GB | Epoch 4 | Loss: 0.19135184586048126 | Accuracy: 96.875%\n",
            "GB | Epoch 4 | Loss: 0.14607033133506775 | Accuracy: 93.75%\n",
            "GB | Epoch 4 | Loss: 0.08099242299795151 | Accuracy: 98.4375%\n",
            "GB | Epoch 4 | Loss: 0.07822778075933456 | Accuracy: 96.875%\n",
            "GB | Epoch 4 | Loss: 0.054104018956422806 | Accuracy: 100.0%\n",
            "GB | Epoch 4 | Loss: 0.05098642036318779 | Accuracy: 100.0%\n",
            "GB | Epoch 4 | Loss: 0.1118539571762085 | Accuracy: 96.875%\n",
            "GB | Epoch 4 | Loss: 0.09285245835781097 | Accuracy: 96.875%\n",
            "GB | Epoch 4 | Loss: 0.10367734730243683 | Accuracy: 98.4375%\n",
            "GB | Epoch 4 | Loss: 0.11133025586605072 | Accuracy: 95.3125%\n",
            "GB | Epoch 4 | Loss: 0.04760034382343292 | Accuracy: 100.0%\n",
            "GB | Epoch 4 | Loss: 0.05991164967417717 | Accuracy: 100.0%\n",
            "GB | Epoch 4 | Loss: 0.07851007580757141 | Accuracy: 96.875%\n",
            "GB | Epoch 4 | Loss: 0.06889481097459793 | Accuracy: 98.4375%\n",
            "GB | Epoch 4 | Loss: 0.036864351481199265 | Accuracy: 100.0%\n"
          ]
        },
        {
          "output_type": "stream",
          "name": "stderr",
          "text": [
            "Epoch 4:  90%|████████▉ | 675/751 [00:08<00:00, 83.79batch/s, accuracy=100.0%, loss=0.0709]"
          ]
        },
        {
          "output_type": "stream",
          "name": "stdout",
          "text": [
            "GB | Epoch 4 | Loss: 0.13009418547153473 | Accuracy: 95.3125%\n",
            "GB | Epoch 4 | Loss: 0.06646556407213211 | Accuracy: 96.875%\n",
            "GB | Epoch 4 | Loss: 0.059924207627773285 | Accuracy: 100.0%\n",
            "GB | Epoch 4 | Loss: 0.02633950673043728 | Accuracy: 100.0%\n",
            "GB | Epoch 4 | Loss: 0.22163650393486023 | Accuracy: 96.875%\n",
            "GB | Epoch 4 | Loss: 0.05295779928565025 | Accuracy: 98.4375%\n",
            "GB | Epoch 4 | Loss: 0.10225994884967804 | Accuracy: 98.4375%\n",
            "GB | Epoch 4 | Loss: 0.055275559425354004 | Accuracy: 100.0%\n",
            "GB | Epoch 4 | Loss: 0.029600810259580612 | Accuracy: 100.0%\n",
            "GB | Epoch 4 | Loss: 0.045931048691272736 | Accuracy: 100.0%\n",
            "GB | Epoch 4 | Loss: 0.11056133359670639 | Accuracy: 96.875%\n",
            "GB | Epoch 4 | Loss: 0.07369658350944519 | Accuracy: 98.4375%\n",
            "GB | Epoch 4 | Loss: 0.08898743242025375 | Accuracy: 96.875%\n",
            "GB | Epoch 4 | Loss: 0.060806307941675186 | Accuracy: 98.4375%\n",
            "GB | Epoch 4 | Loss: 0.07702414691448212 | Accuracy: 98.4375%\n",
            "GB | Epoch 4 | Loss: 0.07081428915262222 | Accuracy: 98.4375%\n",
            "GB | Epoch 4 | Loss: 0.06385470181703568 | Accuracy: 100.0%\n",
            "GB | Epoch 4 | Loss: 0.07085053622722626 | Accuracy: 100.0%\n"
          ]
        },
        {
          "output_type": "stream",
          "name": "stderr",
          "text": [
            "Epoch 4:  93%|█████████▎| 695/751 [00:08<00:00, 87.15batch/s, accuracy=98.4375%, loss=0.0945]"
          ]
        },
        {
          "output_type": "stream",
          "name": "stdout",
          "text": [
            "GB | Epoch 4 | Loss: 0.058919548988342285 | Accuracy: 96.875%\n",
            "GB | Epoch 4 | Loss: 0.04820513352751732 | Accuracy: 100.0%\n",
            "GB | Epoch 4 | Loss: 0.027669399976730347 | Accuracy: 100.0%\n",
            "GB | Epoch 4 | Loss: 0.05718172714114189 | Accuracy: 98.4375%\n",
            "GB | Epoch 4 | Loss: 0.06705913692712784 | Accuracy: 98.4375%\n",
            "GB | Epoch 4 | Loss: 0.057266294956207275 | Accuracy: 98.4375%\n",
            "GB | Epoch 4 | Loss: 0.11554372310638428 | Accuracy: 96.875%\n",
            "GB | Epoch 4 | Loss: 0.12739801406860352 | Accuracy: 98.4375%\n",
            "GB | Epoch 4 | Loss: 0.04700847715139389 | Accuracy: 98.4375%\n",
            "GB | Epoch 4 | Loss: 0.0647985115647316 | Accuracy: 98.4375%\n",
            "GB | Epoch 4 | Loss: 0.06678446382284164 | Accuracy: 98.4375%\n",
            "GB | Epoch 4 | Loss: 0.06973569095134735 | Accuracy: 100.0%\n",
            "GB | Epoch 4 | Loss: 0.06950408220291138 | Accuracy: 98.4375%\n",
            "GB | Epoch 4 | Loss: 0.07066404819488525 | Accuracy: 96.875%\n",
            "GB | Epoch 4 | Loss: 0.1536942571401596 | Accuracy: 93.75%\n",
            "GB | Epoch 4 | Loss: 0.14241111278533936 | Accuracy: 95.3125%\n",
            "GB | Epoch 4 | Loss: 0.061637282371520996 | Accuracy: 100.0%\n",
            "GB | Epoch 4 | Loss: 0.0847206711769104 | Accuracy: 98.4375%\n",
            "GB | Epoch 4 | Loss: 0.09450775384902954 | Accuracy: 98.4375%\n"
          ]
        },
        {
          "output_type": "stream",
          "name": "stderr",
          "text": [
            "Epoch 4:  95%|█████████▌| 716/751 [00:08<00:00, 84.05batch/s, accuracy=98.4375%, loss=0.0881]"
          ]
        },
        {
          "output_type": "stream",
          "name": "stdout",
          "text": [
            "GB | Epoch 4 | Loss: 0.1860542744398117 | Accuracy: 96.875%\n",
            "GB | Epoch 4 | Loss: 0.1324894279241562 | Accuracy: 98.4375%\n",
            "GB | Epoch 4 | Loss: 0.021144339814782143 | Accuracy: 100.0%\n",
            "GB | Epoch 4 | Loss: 0.07998098433017731 | Accuracy: 98.4375%\n",
            "GB | Epoch 4 | Loss: 0.0552559532225132 | Accuracy: 100.0%\n",
            "GB | Epoch 4 | Loss: 0.058728788048028946 | Accuracy: 98.4375%\n",
            "GB | Epoch 4 | Loss: 0.040670450776815414 | Accuracy: 100.0%\n",
            "GB | Epoch 4 | Loss: 0.07659879326820374 | Accuracy: 98.4375%\n",
            "GB | Epoch 4 | Loss: 0.051597632467746735 | Accuracy: 98.4375%\n",
            "GB | Epoch 4 | Loss: 0.04762629047036171 | Accuracy: 98.4375%\n",
            "GB | Epoch 4 | Loss: 0.06611239165067673 | Accuracy: 100.0%\n",
            "GB | Epoch 4 | Loss: 0.05431915447115898 | Accuracy: 98.4375%\n",
            "GB | Epoch 4 | Loss: 0.05898580327630043 | Accuracy: 96.875%\n",
            "GB | Epoch 4 | Loss: 0.09478641301393509 | Accuracy: 98.4375%\n",
            "GB | Epoch 4 | Loss: 0.033052776008844376 | Accuracy: 98.4375%\n",
            "GB | Epoch 4 | Loss: 0.08274330198764801 | Accuracy: 98.4375%\n",
            "GB | Epoch 4 | Loss: 0.08811497688293457 | Accuracy: 98.4375%\n"
          ]
        },
        {
          "output_type": "stream",
          "name": "stderr",
          "text": [
            "Epoch 4:  97%|█████████▋| 725/751 [00:09<00:00, 80.40batch/s, accuracy=100.0%, loss=0.037] "
          ]
        },
        {
          "output_type": "stream",
          "name": "stdout",
          "text": [
            "GB | Epoch 4 | Loss: 0.0397779606282711 | Accuracy: 100.0%\n",
            "GB | Epoch 4 | Loss: 0.10860896110534668 | Accuracy: 98.4375%\n",
            "GB | Epoch 4 | Loss: 0.09544990211725235 | Accuracy: 96.875%\n",
            "GB | Epoch 4 | Loss: 0.0915767177939415 | Accuracy: 98.4375%\n",
            "GB | Epoch 4 | Loss: 0.10879448056221008 | Accuracy: 98.4375%\n",
            "GB | Epoch 4 | Loss: 0.06523404270410538 | Accuracy: 98.4375%\n",
            "GB | Epoch 4 | Loss: 0.0452587716281414 | Accuracy: 100.0%\n",
            "GB | Epoch 4 | Loss: 0.08383892476558685 | Accuracy: 96.875%\n",
            "GB | Epoch 4 | Loss: 0.1699066460132599 | Accuracy: 92.1875%\n",
            "GB | Epoch 4 | Loss: 0.09199982136487961 | Accuracy: 96.875%\n",
            "GB | Epoch 4 | Loss: 0.05705476552248001 | Accuracy: 98.4375%\n",
            "GB | Epoch 4 | Loss: 0.02510874718427658 | Accuracy: 100.0%\n",
            "GB | Epoch 4 | Loss: 0.03189743310213089 | Accuracy: 100.0%\n",
            "GB | Epoch 4 | Loss: 0.046577088534832 | Accuracy: 100.0%\n",
            "GB | Epoch 4 | Loss: 0.03697161003947258 | Accuracy: 100.0%\n"
          ]
        },
        {
          "output_type": "stream",
          "name": "stderr",
          "text": [
            "Epoch 4:  99%|█████████▉| 742/751 [00:09<00:00, 74.90batch/s, accuracy=96.875%, loss=0.104]"
          ]
        },
        {
          "output_type": "stream",
          "name": "stdout",
          "text": [
            "GB | Epoch 4 | Loss: 0.09179700165987015 | Accuracy: 98.4375%\n",
            "GB | Epoch 4 | Loss: 0.06392479687929153 | Accuracy: 98.4375%\n",
            "GB | Epoch 4 | Loss: 0.18769553303718567 | Accuracy: 96.875%\n",
            "GB | Epoch 4 | Loss: 0.12668417394161224 | Accuracy: 98.4375%\n",
            "GB | Epoch 4 | Loss: 0.052590325474739075 | Accuracy: 100.0%\n",
            "GB | Epoch 4 | Loss: 0.05056992545723915 | Accuracy: 100.0%\n",
            "GB | Epoch 4 | Loss: 0.0693192407488823 | Accuracy: 96.875%\n",
            "GB | Epoch 4 | Loss: 0.048803314566612244 | Accuracy: 98.4375%\n",
            "GB | Epoch 4 | Loss: 0.06739330291748047 | Accuracy: 98.4375%\n",
            "GB | Epoch 4 | Loss: 0.08812544494867325 | Accuracy: 96.875%\n",
            "GB | Epoch 4 | Loss: 0.0647636130452156 | Accuracy: 98.4375%\n",
            "GB | Epoch 4 | Loss: 0.0440247468650341 | Accuracy: 100.0%\n",
            "GB | Epoch 4 | Loss: 0.05742432922124863 | Accuracy: 100.0%\n",
            "GB | Epoch 4 | Loss: 0.029554810374975204 | Accuracy: 100.0%\n",
            "GB | Epoch 4 | Loss: 0.09698530286550522 | Accuracy: 96.875%\n",
            "GB | Epoch 4 | Loss: 0.10438621044158936 | Accuracy: 96.875%\n"
          ]
        },
        {
          "output_type": "stream",
          "name": "stderr",
          "text": [
            "Epoch 4:  99%|█████████▉| 742/751 [00:09<00:00, 74.90batch/s, accuracy=100.0%, loss=0.00303] "
          ]
        },
        {
          "output_type": "stream",
          "name": "stdout",
          "text": [
            "GB | Epoch 4 | Loss: 0.08184538781642914 | Accuracy: 96.875%\n",
            "GB | Epoch 4 | Loss: 0.061326418071985245 | Accuracy: 98.4375%\n",
            "GB | Epoch 4 | Loss: 0.06582687795162201 | Accuracy: 98.4375%\n",
            "GB | Epoch 4 | Loss: 0.0030291778966784477 | Accuracy: 100.0%\n"
          ]
        },
        {
          "output_type": "stream",
          "name": "stderr",
          "text": [
            "\rEpoch 4: 100%|██████████| 751/751 [00:09<00:00, 77.56batch/s, accuracy=100.0%, loss=0.00303]\n"
          ]
        }
      ],
      "source": [
        "from torch.optim import SGD\n",
        "from spuco.robust_train import GroupBalanceBatchERM\n",
        "from spuco.models import model_factory\n",
        "\n",
        "model = model_factory(\"lenet\", trainset[0][0].shape, trainset.num_classes).to(device)\n",
        "group_balance_erm = GroupBalanceBatchERM(\n",
        "    model=model,\n",
        "    num_epochs=5,\n",
        "    trainset=trainset,\n",
        "    group_partition=group_partition,\n",
        "    batch_size=64,\n",
        "    optimizer=SGD(model.parameters(), lr=1e-3, weight_decay=5e-4, momentum=0.9, nesterov=True),\n",
        "    device=device,\n",
        "    verbose=True\n",
        ")\n",
        "group_balance_erm.train()"
      ]
    },
    {
      "cell_type": "code",
      "execution_count": 19,
      "metadata": {
        "colab": {
          "base_uri": "https://localhost:8080/"
        },
        "id": "cym468CocxA7",
        "outputId": "e253b1dc-31ff-45a1-aa7b-2ee45c834918"
      },
      "outputs": [
        {
          "output_type": "stream",
          "name": "stderr",
          "text": [
            "Evaluating group-wise accuracy:   4%|▍         | 1/25 [00:00<00:13,  1.72it/s]"
          ]
        },
        {
          "output_type": "stream",
          "name": "stdout",
          "text": [
            "Group (0, 0) Accuracy: 99.52718676122932\n"
          ]
        },
        {
          "output_type": "stream",
          "name": "stderr",
          "text": [
            "\rEvaluating group-wise accuracy:   8%|▊         | 2/25 [00:01<00:12,  1.78it/s]"
          ]
        },
        {
          "output_type": "stream",
          "name": "stdout",
          "text": [
            "Group (0, 1) Accuracy: 70.44917257683215\n"
          ]
        },
        {
          "output_type": "stream",
          "name": "stderr",
          "text": [
            "\rEvaluating group-wise accuracy:  12%|█▏        | 3/25 [00:01<00:12,  1.79it/s]"
          ]
        },
        {
          "output_type": "stream",
          "name": "stdout",
          "text": [
            "Group (0, 2) Accuracy: 84.39716312056737\n"
          ]
        },
        {
          "output_type": "stream",
          "name": "stderr",
          "text": [
            "\rEvaluating group-wise accuracy:  16%|█▌        | 4/25 [00:02<00:11,  1.79it/s]"
          ]
        },
        {
          "output_type": "stream",
          "name": "stdout",
          "text": [
            "Group (0, 3) Accuracy: 81.56028368794327\n"
          ]
        },
        {
          "output_type": "stream",
          "name": "stderr",
          "text": [
            "\rEvaluating group-wise accuracy:  20%|██        | 5/25 [00:02<00:10,  1.93it/s]"
          ]
        },
        {
          "output_type": "stream",
          "name": "stdout",
          "text": [
            "Group (0, 4) Accuracy: 84.86997635933807\n"
          ]
        },
        {
          "output_type": "stream",
          "name": "stderr",
          "text": [
            "\rEvaluating group-wise accuracy:  24%|██▍       | 6/25 [00:03<00:08,  2.15it/s]"
          ]
        },
        {
          "output_type": "stream",
          "name": "stdout",
          "text": [
            "Group (1, 0) Accuracy: 79.46210268948656\n"
          ]
        },
        {
          "output_type": "stream",
          "name": "stderr",
          "text": [
            "\rEvaluating group-wise accuracy:  28%|██▊       | 7/25 [00:03<00:07,  2.33it/s]"
          ]
        },
        {
          "output_type": "stream",
          "name": "stdout",
          "text": [
            "Group (1, 1) Accuracy: 96.82151589242054\n"
          ]
        },
        {
          "output_type": "stream",
          "name": "stderr",
          "text": [
            "\rEvaluating group-wise accuracy:  32%|███▏      | 8/25 [00:03<00:06,  2.53it/s]"
          ]
        },
        {
          "output_type": "stream",
          "name": "stdout",
          "text": [
            "Group (1, 2) Accuracy: 72.54901960784314\n"
          ]
        },
        {
          "output_type": "stream",
          "name": "stderr",
          "text": [
            "\rEvaluating group-wise accuracy:  36%|███▌      | 9/25 [00:04<00:06,  2.64it/s]"
          ]
        },
        {
          "output_type": "stream",
          "name": "stdout",
          "text": [
            "Group (1, 3) Accuracy: 67.8921568627451\n"
          ]
        },
        {
          "output_type": "stream",
          "name": "stderr",
          "text": [
            "\rEvaluating group-wise accuracy:  40%|████      | 10/25 [00:04<00:05,  2.74it/s]"
          ]
        },
        {
          "output_type": "stream",
          "name": "stdout",
          "text": [
            "Group (1, 4) Accuracy: 51.71568627450981\n"
          ]
        },
        {
          "output_type": "stream",
          "name": "stderr",
          "text": [
            "\rEvaluating group-wise accuracy:  44%|████▍     | 11/25 [00:04<00:04,  2.86it/s]"
          ]
        },
        {
          "output_type": "stream",
          "name": "stdout",
          "text": [
            "Group (2, 0) Accuracy: 61.6\n"
          ]
        },
        {
          "output_type": "stream",
          "name": "stderr",
          "text": [
            "\rEvaluating group-wise accuracy:  48%|████▊     | 12/25 [00:05<00:04,  2.87it/s]"
          ]
        },
        {
          "output_type": "stream",
          "name": "stdout",
          "text": [
            "Group (2, 1) Accuracy: 64.26666666666667\n"
          ]
        },
        {
          "output_type": "stream",
          "name": "stderr",
          "text": [
            "\rEvaluating group-wise accuracy:  52%|█████▏    | 13/25 [00:05<00:04,  2.94it/s]"
          ]
        },
        {
          "output_type": "stream",
          "name": "stdout",
          "text": [
            "Group (2, 2) Accuracy: 92.53333333333333\n"
          ]
        },
        {
          "output_type": "stream",
          "name": "stderr",
          "text": [
            "\rEvaluating group-wise accuracy:  56%|█████▌    | 14/25 [00:05<00:03,  3.00it/s]"
          ]
        },
        {
          "output_type": "stream",
          "name": "stdout",
          "text": [
            "Group (2, 3) Accuracy: 42.93333333333333\n"
          ]
        },
        {
          "output_type": "stream",
          "name": "stderr",
          "text": [
            "\rEvaluating group-wise accuracy:  60%|██████    | 15/25 [00:06<00:03,  2.98it/s]"
          ]
        },
        {
          "output_type": "stream",
          "name": "stdout",
          "text": [
            "Group (2, 4) Accuracy: 36.36363636363637\n"
          ]
        },
        {
          "output_type": "stream",
          "name": "stderr",
          "text": [
            "\rEvaluating group-wise accuracy:  64%|██████▍   | 16/25 [00:06<00:03,  3.00it/s]"
          ]
        },
        {
          "output_type": "stream",
          "name": "stdout",
          "text": [
            "Group (3, 0) Accuracy: 74.87437185929649\n"
          ]
        },
        {
          "output_type": "stream",
          "name": "stderr",
          "text": [
            "\rEvaluating group-wise accuracy:  68%|██████▊   | 17/25 [00:06<00:02,  3.02it/s]"
          ]
        },
        {
          "output_type": "stream",
          "name": "stdout",
          "text": [
            "Group (3, 1) Accuracy: 47.858942065491185\n"
          ]
        },
        {
          "output_type": "stream",
          "name": "stderr",
          "text": [
            "\rEvaluating group-wise accuracy:  72%|███████▏  | 18/25 [00:07<00:02,  3.02it/s]"
          ]
        },
        {
          "output_type": "stream",
          "name": "stdout",
          "text": [
            "Group (3, 2) Accuracy: 76.82619647355163\n"
          ]
        },
        {
          "output_type": "stream",
          "name": "stderr",
          "text": [
            "\rEvaluating group-wise accuracy:  76%|███████▌  | 19/25 [00:07<00:02,  2.97it/s]"
          ]
        },
        {
          "output_type": "stream",
          "name": "stdout",
          "text": [
            "Group (3, 3) Accuracy: 96.72544080604534\n"
          ]
        },
        {
          "output_type": "stream",
          "name": "stderr",
          "text": [
            "\rEvaluating group-wise accuracy:  80%|████████  | 20/25 [00:07<00:01,  3.00it/s]"
          ]
        },
        {
          "output_type": "stream",
          "name": "stdout",
          "text": [
            "Group (3, 4) Accuracy: 64.73551637279597\n"
          ]
        },
        {
          "output_type": "stream",
          "name": "stderr",
          "text": [
            "\rEvaluating group-wise accuracy:  84%|████████▍ | 21/25 [00:08<00:01,  3.02it/s]"
          ]
        },
        {
          "output_type": "stream",
          "name": "stdout",
          "text": [
            "Group (4, 0) Accuracy: 80.10075566750629\n"
          ]
        },
        {
          "output_type": "stream",
          "name": "stderr",
          "text": [
            "\rEvaluating group-wise accuracy:  88%|████████▊ | 22/25 [00:08<00:01,  2.97it/s]"
          ]
        },
        {
          "output_type": "stream",
          "name": "stdout",
          "text": [
            "Group (4, 1) Accuracy: 64.48362720403023\n"
          ]
        },
        {
          "output_type": "stream",
          "name": "stderr",
          "text": [
            "\rEvaluating group-wise accuracy:  92%|█████████▏| 23/25 [00:08<00:00,  2.98it/s]"
          ]
        },
        {
          "output_type": "stream",
          "name": "stdout",
          "text": [
            "Group (4, 2) Accuracy: 77.8337531486146\n"
          ]
        },
        {
          "output_type": "stream",
          "name": "stderr",
          "text": [
            "\rEvaluating group-wise accuracy:  96%|█████████▌| 24/25 [00:09<00:00,  2.99it/s]"
          ]
        },
        {
          "output_type": "stream",
          "name": "stdout",
          "text": [
            "Group (4, 3) Accuracy: 86.36363636363636\n"
          ]
        },
        {
          "output_type": "stream",
          "name": "stderr",
          "text": [
            "Evaluating group-wise accuracy: 100%|██████████| 25/25 [00:09<00:00,  2.65it/s]"
          ]
        },
        {
          "output_type": "stream",
          "name": "stdout",
          "text": [
            "Group (4, 4) Accuracy: 98.98989898989899\n"
          ]
        },
        {
          "output_type": "stream",
          "name": "stderr",
          "text": [
            "\n"
          ]
        },
        {
          "output_type": "execute_result",
          "data": {
            "text/plain": [
              "{(0, 0): 99.52718676122932,\n",
              " (0, 1): 70.44917257683215,\n",
              " (0, 2): 84.39716312056737,\n",
              " (0, 3): 81.56028368794327,\n",
              " (0, 4): 84.86997635933807,\n",
              " (1, 0): 79.46210268948656,\n",
              " (1, 1): 96.82151589242054,\n",
              " (1, 2): 72.54901960784314,\n",
              " (1, 3): 67.8921568627451,\n",
              " (1, 4): 51.71568627450981,\n",
              " (2, 0): 61.6,\n",
              " (2, 1): 64.26666666666667,\n",
              " (2, 2): 92.53333333333333,\n",
              " (2, 3): 42.93333333333333,\n",
              " (2, 4): 36.36363636363637,\n",
              " (3, 0): 74.87437185929649,\n",
              " (3, 1): 47.858942065491185,\n",
              " (3, 2): 76.82619647355163,\n",
              " (3, 3): 96.72544080604534,\n",
              " (3, 4): 64.73551637279597,\n",
              " (4, 0): 80.10075566750629,\n",
              " (4, 1): 64.48362720403023,\n",
              " (4, 2): 77.8337531486146,\n",
              " (4, 3): 86.36363636363636,\n",
              " (4, 4): 98.98989898989899}"
            ]
          },
          "metadata": {},
          "execution_count": 19
        }
      ],
      "source": [
        "from spuco.evaluate import Evaluator\n",
        "\n",
        "evaluator = Evaluator(\n",
        "    testset=testset,\n",
        "    group_partition=testset.group_partition,\n",
        "    group_weights=trainset.group_weights,\n",
        "    batch_size=64,\n",
        "    model=model,\n",
        "    device=device,\n",
        "    verbose=True\n",
        ")\n",
        "evaluator.evaluate()"
      ]
    },
    {
      "cell_type": "code",
      "execution_count": 20,
      "metadata": {
        "colab": {
          "base_uri": "https://localhost:8080/"
        },
        "id": "JHnqUosGcxA7",
        "outputId": "8630820a-d7d6-4d2c-ec29-63f490f998bf"
      },
      "outputs": [
        {
          "output_type": "execute_result",
          "data": {
            "text/plain": [
              "((2, 4), 36.36363636363637)"
            ]
          },
          "metadata": {},
          "execution_count": 20
        }
      ],
      "source": [
        "evaluator.worst_group_accuracy"
      ]
    },
    {
      "cell_type": "code",
      "execution_count": 21,
      "metadata": {
        "colab": {
          "base_uri": "https://localhost:8080/"
        },
        "id": "-auEedSIcxA7",
        "outputId": "c3639ba8-da7b-4c9b-a5c0-51e968bfd638"
      },
      "outputs": [
        {
          "output_type": "execute_result",
          "data": {
            "text/plain": [
              "96.85477778145331"
            ]
          },
          "metadata": {},
          "execution_count": 21
        }
      ],
      "source": [
        "evaluator.average_accuracy"
      ]
    },
    {
      "cell_type": "code",
      "execution_count": 22,
      "metadata": {
        "colab": {
          "base_uri": "https://localhost:8080/"
        },
        "id": "Jk13OFvzcxA7",
        "outputId": "edaa16c9-c35f-4bf3-a7c6-4f5dde60badd"
      },
      "outputs": [
        {
          "output_type": "execute_result",
          "data": {
            "text/plain": [
              "19.4"
            ]
          },
          "metadata": {},
          "execution_count": 22
        }
      ],
      "source": [
        "evaluator.evaluate_spurious_attribute_prediction()"
      ]
    }
  ],
  "metadata": {
    "kernelspec": {
      "display_name": "Python 3",
      "name": "python3"
    },
    "language_info": {
      "codemirror_mode": {
        "name": "ipython",
        "version": 3
      },
      "file_extension": ".py",
      "mimetype": "text/x-python",
      "name": "python",
      "nbconvert_exporter": "python",
      "pygments_lexer": "ipython3",
      "version": "3.12.4"
    },
    "colab": {
      "provenance": [],
      "gpuType": "T4"
    },
    "accelerator": "GPU"
  },
  "nbformat": 4,
  "nbformat_minor": 0
}